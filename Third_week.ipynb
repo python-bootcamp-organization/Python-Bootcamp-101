{
 "cells": [
  {
   "cell_type": "markdown",
   "metadata": {},
   "source": [
    "In this Week, we'll see a new data type called **“lists”** and a new\n",
    "concept called **“loops.”** Lists will give us the ability to store large sets of data, while loops\n",
    "will allow us to rerun sections of our code."
   ]
  },
  {
   "cell_type": "markdown",
   "metadata": {},
   "source": [
    "# Monday: Lists"
   ]
  },
  {
   "cell_type": "markdown",
   "metadata": {},
   "source": [
    "1) What Are Lists?   \n",
    "A **list** is a data structure in Python that is a **mutable**, **ordered sequence** of elements.\n",
    "Mutable means that you can change the items inside, while ordered sequence is in\n",
    "reference to index location. The first element in a list will always be located at index 0.\n",
    "Each element or value that is inside of a list is called an item. Just as strings are defined\n",
    "as characters between quotes, lists are defined by having different data types between\n",
    "square brackets [ ]. Also, like strings, each item within a list is assigned an index,\n",
    "or location, for where that item is saved in memory. Lists are also known as a data\n",
    "collection. Data collections are simply data types that can store multiple items. We’ll see\n",
    "other **data collections**, like **dictionaries** and **tuples**, in later chapters."
   ]
  },
  {
   "cell_type": "markdown",
   "metadata": {},
   "source": [
    "2) Declaring a List of Numbers"
   ]
  },
  {
   "cell_type": "code",
   "execution_count": 1,
   "metadata": {},
   "outputs": [
    {
     "name": "stdout",
     "output_type": "stream",
     "text": [
      "[1, 2, 0.5, 10]\n"
     ]
    }
   ],
   "source": [
    "# declaring a list of numbers\n",
    "nums = [1, 2, 0.5, 10]\n",
    "print(nums)"
   ]
  },
  {
   "cell_type": "markdown",
   "metadata": {},
   "source": [
    "3) Accessing Elements Within a Lis"
   ]
  },
  {
   "cell_type": "markdown",
   "metadata": {},
   "source": [
    "Note : When we declare our list variable, each item is given an index.   \n",
    "Remember that indexing in Python starts at zero and is used with brackets."
   ]
  },
  {
   "cell_type": "code",
   "execution_count": 4,
   "metadata": {},
   "outputs": [
    {
     "name": "stdout",
     "output_type": "stream",
     "text": [
      "2\n",
      "0.5\n"
     ]
    }
   ],
   "source": [
    "# accessing elements within a list\n",
    "print(nums[1]) # will output the value at index 1\n",
    "num = nums[2] #saves index value 2 into num\n",
    "print(num) #prints value assingned to num"
   ]
  },
  {
   "cell_type": "markdown",
   "metadata": {},
   "source": [
    "4) Declaring a List of Mixed Data Types\n",
    "\n",
    "Note : Lists can hold any data type, even other lists."
   ]
  },
  {
   "cell_type": "code",
   "execution_count": 6,
   "metadata": {},
   "outputs": [
    {
     "name": "stdout",
     "output_type": "stream",
     "text": [
      "[True, 4.3, 'word']\n"
     ]
    }
   ],
   "source": [
    "# declaring a list of mixed data types\n",
    "num = 4.3\n",
    "data = [True, num, \"word\"] # the power of data collection\n",
    "print(data)"
   ]
  },
  {
   "cell_type": "markdown",
   "metadata": {},
   "source": [
    "5) Lists Within Lists"
   ]
  },
  {
   "cell_type": "code",
   "execution_count": 7,
   "metadata": {},
   "outputs": [
    {
     "name": "stdout",
     "output_type": "stream",
     "text": [
      "[5, 'book', [34, 'hello'], True]\n",
      "[34, 'hello']\n"
     ]
    }
   ],
   "source": [
    "# understanding lists within lists\n",
    "data = [5, \"book\", [34, \"hello\"], True] # lists can hold any type\n",
    "print(data)\n",
    "print(data[2])"
   ]
  },
  {
   "cell_type": "markdown",
   "metadata": {},
   "source": [
    "6) Accessing Lists Within Lists\n",
    "\n",
    "Note : When that item is\n",
    "another list, you simply add a second set of brackets after the first set."
   ]
  },
  {
   "cell_type": "code",
   "execution_count": 9,
   "metadata": {},
   "outputs": [
    {
     "name": "stdout",
     "output_type": "stream",
     "text": [
      "34\n",
      "hello\n"
     ]
    }
   ],
   "source": [
    "# using double bracket notation to access lists within lists\n",
    "print(data[2][0])\n",
    "inner_list = data[2] # inner list will equal [34, 'hello']\n",
    "print(inner_list[1])"
   ]
  },
  {
   "cell_type": "markdown",
   "metadata": {},
   "source": [
    "To get a little bit more understanding of how multi-indexing works,\n",
    "check out the next Table."
   ]
  },
  {
   "cell_type": "code",
   "execution_count": 10,
   "metadata": {},
   "outputs": [
    {
     "data": {
      "image/png": "[encoded data removed]",
      "text/plain": [
       "<IPython.core.display.Image object>"
      ]
     },
     "execution_count": 10,
     "metadata": {},
     "output_type": "execute_result"
    }
   ],
   "source": [
    "from IPython.display import Image\n",
    "Image(filename='images_projects/image_project_week3_01.png')"
   ]
  },
  {
   "cell_type": "raw",
   "metadata": {},
   "source": [
    "Notice that strings can also be index further. If you wanted to only print out the “b” in “book,” you would simply write the following:\n",
    ">>> print( data[ 1 ][ 0 ] ) # will output 'b"
   ]
  },
  {
   "cell_type": "markdown",
   "metadata": {},
   "source": [
    "7) Changing Values in a List"
   ]
  },
  {
   "cell_type": "code",
   "execution_count": 11,
   "metadata": {},
   "outputs": [
    {
     "name": "stdout",
     "output_type": "stream",
     "text": [
      "[5, 10, 15, 20]\n",
      "[100, 10, 15, 20]\n"
     ]
    }
   ],
   "source": [
    "# changing values in a list through index\n",
    "data = [5, 10, 15, 20]\n",
    "print(data)\n",
    "data[0] = 100 # change the value at index 0 - (5 to 100)\n",
    "print(data)"
   ]
  },
  {
   "cell_type": "markdown",
   "metadata": {},
   "source": [
    "8) Variable Storage   \n",
    "\n",
    "When variables are declared, the value assigned is put into a location in memory. These locations have a specific reference ID. It’s not often you’ll need to check the ID of a variable, but for educational purposes, it’s good to know how storage works. We would use the id() function to check the storage location in memory for a variable:"
   ]
  },
  {
   "cell_type": "code",
   "execution_count": 12,
   "metadata": {},
   "outputs": [
    {
     "name": "stdout",
     "output_type": "stream",
     "text": [
      "33829211272\n"
     ]
    }
   ],
   "source": [
    "a = [5, 0.9]\n",
    "print(id(a)) # large number represents location in memory"
   ]
  },
  {
   "cell_type": "markdown",
   "metadata": {},
   "source": [
    "When a list is stored in memory, each item is given its own location. Changing the\n",
    "value using index notation will change the value stored within that memory block. Now,\n",
    "if a variable’s value is another variable, like so:"
   ]
  },
  {
   "cell_type": "code",
   "execution_count": 32,
   "metadata": {},
   "outputs": [
    {
     "name": "stdout",
     "output_type": "stream",
     "text": [
      "Location a:  33829203272\n",
      "Location b:  33829203272\n",
      "Location a[0]:  140732133450256\n",
      "Location b[0]:  140732133450256\n"
     ]
    }
   ],
   "source": [
    "a = [5, 0.9]\n",
    "b = a\n",
    "print('Location a: ',id(a))\n",
    "print('Location b: ',id(b))\n",
    "print('Location a[0]: ',id(a[0]))\n",
    "print('Location b[0]: ',id(b[0]))"
   ]
  },
  {
   "cell_type": "markdown",
   "metadata": {},
   "source": [
    "Note : Changing the value at a specific index will change the value for both lists.  \n",
    "Let’s see an example:"
   ]
  },
  {
   "cell_type": "code",
   "execution_count": 24,
   "metadata": {},
   "outputs": [
    {
     "name": "stdout",
     "output_type": "stream",
     "text": [
      "a: [5, 10]\t b: [5, 10]\n",
      "Location a[0]: 140732133450256\t Location b[0]: 140732133450256\n",
      "a: [20, 10]\t b: [20, 10]\n",
      "Location a[0]: 140732133450736\t Location b[0]: 140732133450736\n"
     ]
    }
   ],
   "source": [
    "# understanding how lists are stored\n",
    "a = [5, 10]\n",
    "b = a\n",
    "print( \"a: {}\\t b: {}\".format(a, b) )\n",
    "print( \"Location a[0]: {}\\t Location b[0]: {}\".format( id(a[0]), id(b[0]) ) )\n",
    "a[0] = 20 # re-declaring the value of a[0] also changes b[0]\n",
    "print( \"a: {}\\t b: {}\".format(a, b) )\n",
    "print( \"Location a[0]: {}\\t Location b[0]: {}\".format( id(a[0]), id(b[0]) ) )"
   ]
  },
  {
   "cell_type": "markdown",
   "metadata": {},
   "source": [
    "Copying a List  \n",
    "\n",
    "So how do you create a similar list without altering the original? You copy it! Let’s see\n",
    "how:"
   ]
  },
  {
   "cell_type": "code",
   "execution_count": 33,
   "metadata": {},
   "outputs": [
    {
     "name": "stdout",
     "output_type": "stream",
     "text": [
      "data: [50, 10, 15, 20]\t data_copy: [5, 10, 15, 20]\n"
     ]
    }
   ],
   "source": [
    "# using [:] to copy a list\n",
    "data = [5, 10, 15, 20]\n",
    "data_copy = data[:] # a single colon copies the list\n",
    "data[0] = 50\n",
    "print( \"data: {}\\t data_copy: {}\".format(data, data_copy))"
   ]
  },
  {
   "cell_type": "markdown",
   "metadata": {},
   "source": [
    "-----> With the method .copy( )"
   ]
  },
  {
   "cell_type": "code",
   "execution_count": 34,
   "metadata": {},
   "outputs": [
    {
     "name": "stdout",
     "output_type": "stream",
     "text": [
      "data: [50, 10, 15, 20]\t data_copy: [100, 10, 15, 20]\n"
     ]
    }
   ],
   "source": [
    "# using [:] to copy a list\n",
    "data = [100, 10, 15, 20]\n",
    "data_copy = data.copy() # a single colon copies the list\n",
    "data[0] = 50\n",
    "print( \"data: {}\\t data_copy: {}\".format(data, data_copy))"
   ]
  },
  {
   "cell_type": "markdown",
   "metadata": {},
   "source": [
    "# MONDAY EXERCISES"
   ]
  },
  {
   "cell_type": "raw",
   "metadata": {},
   "source": [
    "1. Sports: define a list of strings, where each string is a sport. then output each\n",
    "sport with the following line “I like to play {}”…"
   ]
  },
  {
   "cell_type": "code",
   "execution_count": 43,
   "metadata": {},
   "outputs": [
    {
     "name": "stdout",
     "output_type": "stream",
     "text": [
      "I like to play baseball\n",
      "I like to play boxing\n",
      "I like to play golf\n",
      "I like to play football\n",
      "I like to play Bullfighting\n",
      "I like to play Cricket\n",
      "I like to play figure skating\n"
     ]
    }
   ],
   "source": [
    "sports = [\"baseball\", \"boxing\", \"golf\", \"football\", \"Bullfighting\", \"Cricket\", \"figure skating\"]\n",
    "print('I like to play {}'.format(sports[0]))\n",
    "print('I like to play {}'.format(sports[1]))\n",
    "print('I like to play {}'.format(sports[2]))\n",
    "print('I like to play {}'.format(sports[3]))\n",
    "print('I like to play {}'.format(sports[4]))\n",
    "print('I like to play {}'.format(sports[5]))\n",
    "print('I like to play {}'.format(sports[6]))"
   ]
  },
  {
   "cell_type": "raw",
   "metadata": {},
   "source": [
    "2. First Character: For the following list, print out each item’s first letter. (output\n",
    "should be ‘J’, ‘A’, ‘S’, ‘K’)\n",
    "names = [‘John’, ‘Abraham’, ‘Sam’, ‘Kelly’]"
   ]
  },
  {
   "cell_type": "code",
   "execution_count": 42,
   "metadata": {},
   "outputs": [
    {
     "name": "stdout",
     "output_type": "stream",
     "text": [
      "The first letter of John is : J\n",
      "The first letter of Abraham is : A\n",
      "The first letter of Sam is : S\n",
      "The first letter of Kelly is : K\n"
     ]
    }
   ],
   "source": [
    "names = ['John', 'Abraham', 'Sam', 'Kelly']\n",
    "\n",
    "print('The first letter of {} is : {}'.format(names[0], names[0][0]))\n",
    "print('The first letter of {} is : {}'.format(names[1], names[1][0]))\n",
    "print('The first letter of {} is : {}'.format(names[2], names[2][0]))\n",
    "print('The first letter of {} is : {}'.format(names[3], names[3][0]))"
   ]
  },
  {
   "cell_type": "markdown",
   "metadata": {},
   "source": [
    "# Tuesday: For Loops"
   ]
  },
  {
   "cell_type": "markdown",
   "metadata": {},
   "source": [
    "Rather than writing the same lines of code several times, we use loops.   \n",
    "In Python there are two types of loops, **For Loops** and **While Loops**."
   ]
  },
  {
   "cell_type": "markdown",
   "metadata": {},
   "source": [
    "1) How Loops Work \n",
    "\n",
    "Loops are how programmers rerun the same lines of code several times. Loops will always run until a condition is met. Take a first-person shooter, the game will continue to run until either you’ve won, or your health reaches zero. Once either of those conditions occur, the game ends."
   ]
  },
  {
   "cell_type": "markdown",
   "metadata": {},
   "source": [
    "2) Writing a For Loop   \n",
    "\n",
    "For loops are primarily used to loop a set number of times. Take folowing Figure, for instance,\n",
    "this syntax suggests that the loop will run five times. Let’s break this down further. Every\n",
    "for loop begins with the keyword **“for”**. Then you define a temporary variable, sometimes\n",
    "known as a counter or index. Next is the **“in”** keyword, followed by the range function. Lastly, we have a colon to end the statement. All for loops\n",
    "will follow this exact structure of keyword, variable, keyword, function, and colon."
   ]
  },
  {
   "cell_type": "code",
   "execution_count": 45,
   "metadata": {},
   "outputs": [
    {
     "data": {
      "image/png": "[encoded data removed]",
      "text/plain": [
       "<IPython.core.display.Image object>"
      ]
     },
     "execution_count": 45,
     "metadata": {},
     "output_type": "execute_result"
    }
   ],
   "source": [
    "from IPython.display import Image\n",
    "Image(filename='images_projects/image_project_week3_02.png')"
   ]
  },
  {
   "cell_type": "code",
   "execution_count": 48,
   "metadata": {},
   "outputs": [
    {
     "name": "stdout",
     "output_type": "stream",
     "text": [
      "Value: 0\n",
      "Value: 1\n",
      "Value: 2\n",
      "Value: 3\n",
      "Value: 4\n"
     ]
    }
   ],
   "source": [
    "# writing your first for loop using range\n",
    "for num in range(5):\n",
    "    print(\"Value: {}\".format(num))"
   ]
  },
  {
   "cell_type": "markdown",
   "metadata": {},
   "source": [
    "Note : When the for loop is created, the range function begins at zero by default and\n",
    "assigns the value of zero into our temporary variable num."
   ]
  },
  {
   "cell_type": "markdown",
   "metadata": {},
   "source": [
    "3) Range( )   \n",
    "\n",
    "Range allows us to count from one number to another while being able to define where to start and end and how much we increment or decrement by. "
   ]
  },
  {
   "cell_type": "code",
   "execution_count": 51,
   "metadata": {},
   "outputs": [
    {
     "name": "stdout",
     "output_type": "stream",
     "text": [
      "Value: 2\n",
      "Value: 4\n",
      "Value: 6\n",
      "Value: 8\n"
     ]
    }
   ],
   "source": [
    "# providing the start, stop, and step for the range function\n",
    "for num in range(2, 10, 2): # start = 2, stop = 10, and step = 2\n",
    "    print(\"Value: {}\".format(num) ) # will print all evens between 2 and 10"
   ]
  },
  {
   "cell_type": "markdown",
   "metadata": {},
   "source": [
    "4) Looping by Element"
   ]
  },
  {
   "cell_type": "code",
   "execution_count": 52,
   "metadata": {},
   "outputs": [
    {
     "name": "stdout",
     "output_type": "stream",
     "text": [
      "Value: J\n",
      "Value: o\n",
      "Value: h\n",
      "Value: n\n",
      "Value:  \n",
      "Value: S\n",
      "Value: m\n",
      "Value: i\n",
      "Value: t\n",
      "Value: h\n"
     ]
    }
   ],
   "source": [
    "# printing all characters in a name using the 'in' keyword\n",
    "name = \"John Smith\"\n",
    "for letter in name:\n",
    "    print(\"Value: {}\".format(letter))"
   ]
  },
  {
   "cell_type": "markdown",
   "metadata": {},
   "source": [
    "5) Continue Statement"
   ]
  },
  {
   "cell_type": "code",
   "execution_count": 55,
   "metadata": {},
   "outputs": [
    {
     "name": "stdout",
     "output_type": "stream",
     "text": [
      "0\n",
      "1\n",
      "2\n",
      "4\n"
     ]
    }
   ],
   "source": [
    "# suing the continue statement within a foor loop\n",
    "for num in range(5):\n",
    "    if num == 3:\n",
    "        continue\n",
    "    print(num)"
   ]
  },
  {
   "cell_type": "markdown",
   "metadata": {},
   "source": [
    "Note : Once a continue statement is hit, the current iteration stops and goes back to the top of the loop. "
   ]
  },
  {
   "cell_type": "markdown",
   "metadata": {},
   "source": [
    "6) Break Statement"
   ]
  },
  {
   "cell_type": "code",
   "execution_count": 59,
   "metadata": {},
   "outputs": [
    {
     "name": "stdout",
     "output_type": "stream",
     "text": [
      "0\n",
      "1\n",
      "2\n"
     ]
    }
   ],
   "source": [
    "# breaking out of a loop using the 'break' keyword\n",
    "for num in range(5):\n",
    "    if num == 3:\n",
    "        break\n",
    "    print(num)"
   ]
  },
  {
   "cell_type": "markdown",
   "metadata": {},
   "source": [
    "Note : It allows us to break out of a loop at any point in time."
   ]
  },
  {
   "cell_type": "markdown",
   "metadata": {},
   "source": [
    "7) Pass Statement   \n",
    "\n",
    "The pass statement is simply just a placeholder\n",
    "so that the program doesn’t break."
   ]
  },
  {
   "cell_type": "code",
   "execution_count": 60,
   "metadata": {},
   "outputs": [],
   "source": [
    "# setting a placeholder using the 'pass' keyword\n",
    "for i in range(5):\n",
    "    # TODO: add code to print number\n",
    "    pass"
   ]
  },
  {
   "cell_type": "markdown",
   "metadata": {},
   "source": [
    "# TUESDAY EXERCISES"
   ]
  },
  {
   "cell_type": "raw",
   "metadata": {},
   "source": [
    "1. Divisible by Three: Write a for loop that prints out all numbers from 1 to 100\n",
    "that are divisible by three"
   ]
  },
  {
   "cell_type": "code",
   "execution_count": 62,
   "metadata": {},
   "outputs": [
    {
     "name": "stdout",
     "output_type": "stream",
     "text": [
      "0\n",
      "3\n",
      "6\n",
      "9\n",
      "12\n",
      "15\n",
      "18\n",
      "21\n",
      "24\n",
      "27\n",
      "30\n",
      "33\n",
      "36\n",
      "39\n",
      "42\n",
      "45\n",
      "48\n",
      "51\n",
      "54\n",
      "57\n",
      "60\n",
      "63\n",
      "66\n",
      "69\n",
      "72\n",
      "75\n",
      "78\n",
      "81\n",
      "84\n",
      "87\n",
      "90\n",
      "93\n",
      "96\n",
      "99\n"
     ]
    }
   ],
   "source": [
    "for number in range(100):\n",
    "    if number % 3 == 0:\n",
    "        print(number)"
   ]
  },
  {
   "cell_type": "raw",
   "metadata": {},
   "source": [
    "2. Only Vowels: Ask for user input, and write a for loop that will output all the\n",
    "vowels within it. For example:\n",
    ">>> \"Hello\" ➔ \"eo\""
   ]
  },
  {
   "cell_type": "code",
   "execution_count": 66,
   "metadata": {},
   "outputs": [
    {
     "name": "stdout",
     "output_type": "stream",
     "text": [
      "Give me a Word : mustafa\n",
      "u\n",
      "a\n",
      "a\n"
     ]
    }
   ],
   "source": [
    "# the Vowels are : A, E, I, O, U, and Y.\n",
    "word = input(\"Give me a Word : \")\n",
    "for letter in word:\n",
    "    if letter in [\"a\", \"e\", \"i\", \"o\", \"u\", \"y\"]:\n",
    "        print(letter)"
   ]
  }
 ],
 "metadata": {
  "kernelspec": {
   "display_name": "Python 3",
   "language": "python",
   "name": "python3"
  },
  "language_info": {
   "codemirror_mode": {
    "name": "ipython",
    "version": 3
   },
   "file_extension": ".py",
   "mimetype": "text/x-python",
   "name": "python",
   "nbconvert_exporter": "python",
   "pygments_lexer": "ipython3",
   "version": "3.7.6"
  }
 },
 "nbformat": 4,
 "nbformat_minor": 4
}
