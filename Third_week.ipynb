{
 "cells": [
  {
   "cell_type": "markdown",
   "metadata": {},
   "source": [
    "In this Week, we'll see a new data type called **“lists”** and a new\n",
    "concept called **“loops.”** Lists will give us the ability to store large sets of data, while loops\n",
    "will allow us to rerun sections of our code."
   ]
  },
  {
   "cell_type": "markdown",
   "metadata": {},
   "source": [
    "# Monday: Lists"
   ]
  },
  {
   "cell_type": "markdown",
   "metadata": {},
   "source": [
    "1) What Are Lists?   \n",
    "A **list** is a data structure in Python that is a **mutable**, **ordered sequence** of elements.\n",
    "Mutable means that you can change the items inside, while ordered sequence is in\n",
    "reference to index location. The first element in a list will always be located at index 0.\n",
    "Each element or value that is inside of a list is called an item. Just as strings are defined\n",
    "as characters between quotes, lists are defined by having different data types between\n",
    "square brackets [ ]. Also, like strings, each item within a list is assigned an index,\n",
    "or location, for where that item is saved in memory. Lists are also known as a data\n",
    "collection. Data collections are simply data types that can store multiple items. We’ll see\n",
    "other **data collections**, like **dictionaries** and **tuples**, in later chapters."
   ]
  },
  {
   "cell_type": "markdown",
   "metadata": {},
   "source": [
    "2) Declaring a List of Numbers"
   ]
  },
  {
   "cell_type": "code",
   "execution_count": 1,
   "metadata": {},
   "outputs": [
    {
     "name": "stdout",
     "output_type": "stream",
     "text": [
      "[1, 2, 0.5, 10]\n"
     ]
    }
   ],
   "source": [
    "# declaring a list of numbers\n",
    "nums = [1, 2, 0.5, 10]\n",
    "print(nums)"
   ]
  },
  {
   "cell_type": "markdown",
   "metadata": {},
   "source": [
    "3) Accessing Elements Within a Lis"
   ]
  },
  {
   "cell_type": "markdown",
   "metadata": {},
   "source": [
    "Note : When we declare our list variable, each item is given an index.   \n",
    "Remember that indexing in Python starts at zero and is used with brackets."
   ]
  },
  {
   "cell_type": "code",
   "execution_count": 4,
   "metadata": {},
   "outputs": [
    {
     "name": "stdout",
     "output_type": "stream",
     "text": [
      "2\n",
      "0.5\n"
     ]
    }
   ],
   "source": [
    "# accessing elements within a list\n",
    "print(nums[1]) # will output the value at index 1\n",
    "num = nums[2] #saves index value 2 into num\n",
    "print(num) #prints value assingned to num"
   ]
  },
  {
   "cell_type": "markdown",
   "metadata": {},
   "source": [
    "4) Declaring a List of Mixed Data Types\n",
    "\n",
    "Note : Lists can hold any data type, even other lists."
   ]
  },
  {
   "cell_type": "code",
   "execution_count": 6,
   "metadata": {},
   "outputs": [
    {
     "name": "stdout",
     "output_type": "stream",
     "text": [
      "[True, 4.3, 'word']\n"
     ]
    }
   ],
   "source": [
    "# declaring a list of mixed data types\n",
    "num = 4.3\n",
    "data = [True, num, \"word\"] # the power of data collection\n",
    "print(data)"
   ]
  },
  {
   "cell_type": "markdown",
   "metadata": {},
   "source": [
    "5) Lists Within Lists"
   ]
  },
  {
   "cell_type": "code",
   "execution_count": 7,
   "metadata": {},
   "outputs": [
    {
     "name": "stdout",
     "output_type": "stream",
     "text": [
      "[5, 'book', [34, 'hello'], True]\n",
      "[34, 'hello']\n"
     ]
    }
   ],
   "source": [
    "# understanding lists within lists\n",
    "data = [5, \"book\", [34, \"hello\"], True] # lists can hold any type\n",
    "print(data)\n",
    "print(data[2])"
   ]
  },
  {
   "cell_type": "markdown",
   "metadata": {},
   "source": [
    "6) Accessing Lists Within Lists\n",
    "\n",
    "Note : When that item is\n",
    "another list, you simply add a second set of brackets after the first set."
   ]
  },
  {
   "cell_type": "code",
   "execution_count": 9,
   "metadata": {},
   "outputs": [
    {
     "name": "stdout",
     "output_type": "stream",
     "text": [
      "34\n",
      "hello\n"
     ]
    }
   ],
   "source": [
    "# using double bracket notation to access lists within lists\n",
    "print(data[2][0])\n",
    "inner_list = data[2] # inner list will equal [34, 'hello']\n",
    "print(inner_list[1])"
   ]
  },
  {
   "cell_type": "markdown",
   "metadata": {},
   "source": [
    "To get a little bit more understanding of how multi-indexing works,\n",
    "check out the next Table."
   ]
  },
  {
   "cell_type": "code",
   "execution_count": 10,
   "metadata": {},
   "outputs": [
    {
     "data": {
      "image/png": "[encoded data removed]",
      "text/plain": [
       "<IPython.core.display.Image object>"
      ]
     },
     "execution_count": 10,
     "metadata": {},
     "output_type": "execute_result"
    }
   ],
   "source": [
    "from IPython.display import Image\n",
    "Image(filename='images_projects/image_project_week3_01.png')"
   ]
  },
  {
   "cell_type": "raw",
   "metadata": {},
   "source": [
    "Notice that strings can also be index further. If you wanted to only print out the “b” in “book,” you would simply write the following:\n",
    ">>> print( data[ 1 ][ 0 ] ) # will output 'b"
   ]
  },
  {
   "cell_type": "markdown",
   "metadata": {},
   "source": [
    "7) Changing Values in a List"
   ]
  },
  {
   "cell_type": "code",
   "execution_count": 11,
   "metadata": {},
   "outputs": [
    {
     "name": "stdout",
     "output_type": "stream",
     "text": [
      "[5, 10, 15, 20]\n",
      "[100, 10, 15, 20]\n"
     ]
    }
   ],
   "source": [
    "# changing values in a list through index\n",
    "data = [5, 10, 15, 20]\n",
    "print(data)\n",
    "data[0] = 100 # change the value at index 0 - (5 to 100)\n",
    "print(data)"
   ]
  },
  {
   "cell_type": "markdown",
   "metadata": {},
   "source": [
    "8) Variable Storage   \n",
    "\n",
    "When variables are declared, the value assigned is put into a location in memory. These locations have a specific reference ID. It’s not often you’ll need to check the ID of a variable, but for educational purposes, it’s good to know how storage works. We would use the id() function to check the storage location in memory for a variable:"
   ]
  },
  {
   "cell_type": "code",
   "execution_count": 12,
   "metadata": {},
   "outputs": [
    {
     "name": "stdout",
     "output_type": "stream",
     "text": [
      "33829211272\n"
     ]
    }
   ],
   "source": [
    "a = [5, 0.9]\n",
    "print(id(a)) # large number represents location in memory"
   ]
  },
  {
   "cell_type": "markdown",
   "metadata": {},
   "source": [
    "When a list is stored in memory, each item is given its own location. Changing the\n",
    "value using index notation will change the value stored within that memory block. Now,\n",
    "if a variable’s value is another variable, like so:"
   ]
  },
  {
   "cell_type": "code",
   "execution_count": 32,
   "metadata": {},
   "outputs": [
    {
     "name": "stdout",
     "output_type": "stream",
     "text": [
      "Location a:  33829203272\n",
      "Location b:  33829203272\n",
      "Location a[0]:  140732133450256\n",
      "Location b[0]:  140732133450256\n"
     ]
    }
   ],
   "source": [
    "a = [5, 0.9]\n",
    "b = a\n",
    "print('Location a: ',id(a))\n",
    "print('Location b: ',id(b))\n",
    "print('Location a[0]: ',id(a[0]))\n",
    "print('Location b[0]: ',id(b[0]))"
   ]
  },
  {
   "cell_type": "markdown",
   "metadata": {},
   "source": [
    "Note : Changing the value at a specific index will change the value for both lists.  \n",
    "Let’s see an example:"
   ]
  },
  {
   "cell_type": "code",
   "execution_count": 24,
   "metadata": {},
   "outputs": [
    {
     "name": "stdout",
     "output_type": "stream",
     "text": [
      "a: [5, 10]\t b: [5, 10]\n",
      "Location a[0]: 140732133450256\t Location b[0]: 140732133450256\n",
      "a: [20, 10]\t b: [20, 10]\n",
      "Location a[0]: 140732133450736\t Location b[0]: 140732133450736\n"
     ]
    }
   ],
   "source": [
    "# understanding how lists are stored\n",
    "a = [5, 10]\n",
    "b = a\n",
    "print( \"a: {}\\t b: {}\".format(a, b) )\n",
    "print( \"Location a[0]: {}\\t Location b[0]: {}\".format( id(a[0]), id(b[0]) ) )\n",
    "a[0] = 20 # re-declaring the value of a[0] also changes b[0]\n",
    "print( \"a: {}\\t b: {}\".format(a, b) )\n",
    "print( \"Location a[0]: {}\\t Location b[0]: {}\".format( id(a[0]), id(b[0]) ) )"
   ]
  },
  {
   "cell_type": "markdown",
   "metadata": {},
   "source": [
    "Copying a List  \n",
    "\n",
    "So how do you create a similar list without altering the original? You copy it! Let’s see\n",
    "how:"
   ]
  },
  {
   "cell_type": "code",
   "execution_count": 33,
   "metadata": {},
   "outputs": [
    {
     "name": "stdout",
     "output_type": "stream",
     "text": [
      "data: [50, 10, 15, 20]\t data_copy: [5, 10, 15, 20]\n"
     ]
    }
   ],
   "source": [
    "# using [:] to copy a list\n",
    "data = [5, 10, 15, 20]\n",
    "data_copy = data[:] # a single colon copies the list\n",
    "data[0] = 50\n",
    "print( \"data: {}\\t data_copy: {}\".format(data, data_copy))"
   ]
  },
  {
   "cell_type": "markdown",
   "metadata": {},
   "source": [
    "-----> With the method .copy( )"
   ]
  },
  {
   "cell_type": "code",
   "execution_count": 34,
   "metadata": {},
   "outputs": [
    {
     "name": "stdout",
     "output_type": "stream",
     "text": [
      "data: [50, 10, 15, 20]\t data_copy: [100, 10, 15, 20]\n"
     ]
    }
   ],
   "source": [
    "# using [:] to copy a list\n",
    "data = [100, 10, 15, 20]\n",
    "data_copy = data.copy() # a single colon copies the list\n",
    "data[0] = 50\n",
    "print( \"data: {}\\t data_copy: {}\".format(data, data_copy))"
   ]
  },
  {
   "cell_type": "markdown",
   "metadata": {},
   "source": [
    "# MONDAY EXERCISES"
   ]
  },
  {
   "cell_type": "raw",
   "metadata": {},
   "source": [
    "1. Sports: define a list of strings, where each string is a sport. then output each\n",
    "sport with the following line “I like to play {}”…"
   ]
  },
  {
   "cell_type": "code",
   "execution_count": 43,
   "metadata": {},
   "outputs": [
    {
     "name": "stdout",
     "output_type": "stream",
     "text": [
      "I like to play baseball\n",
      "I like to play boxing\n",
      "I like to play golf\n",
      "I like to play football\n",
      "I like to play Bullfighting\n",
      "I like to play Cricket\n",
      "I like to play figure skating\n"
     ]
    }
   ],
   "source": [
    "sports = [\"baseball\", \"boxing\", \"golf\", \"football\", \"Bullfighting\", \"Cricket\", \"figure skating\"]\n",
    "print('I like to play {}'.format(sports[0]))\n",
    "print('I like to play {}'.format(sports[1]))\n",
    "print('I like to play {}'.format(sports[2]))\n",
    "print('I like to play {}'.format(sports[3]))\n",
    "print('I like to play {}'.format(sports[4]))\n",
    "print('I like to play {}'.format(sports[5]))\n",
    "print('I like to play {}'.format(sports[6]))"
   ]
  },
  {
   "cell_type": "raw",
   "metadata": {},
   "source": [
    "2. First Character: For the following list, print out each item’s first letter. (output\n",
    "should be ‘J’, ‘A’, ‘S’, ‘K’)\n",
    "names = [‘John’, ‘Abraham’, ‘Sam’, ‘Kelly’]"
   ]
  },
  {
   "cell_type": "code",
   "execution_count": 42,
   "metadata": {},
   "outputs": [
    {
     "name": "stdout",
     "output_type": "stream",
     "text": [
      "The first letter of John is : J\n",
      "The first letter of Abraham is : A\n",
      "The first letter of Sam is : S\n",
      "The first letter of Kelly is : K\n"
     ]
    }
   ],
   "source": [
    "names = ['John', 'Abraham', 'Sam', 'Kelly']\n",
    "\n",
    "print('The first letter of {} is : {}'.format(names[0], names[0][0]))\n",
    "print('The first letter of {} is : {}'.format(names[1], names[1][0]))\n",
    "print('The first letter of {} is : {}'.format(names[2], names[2][0]))\n",
    "print('The first letter of {} is : {}'.format(names[3], names[3][0]))"
   ]
  },
  {
   "cell_type": "markdown",
   "metadata": {},
   "source": [
    "# Tuesday: For Loops"
   ]
  },
  {
   "cell_type": "markdown",
   "metadata": {},
   "source": [
    "Rather than writing the same lines of code several times, we use loops.   \n",
    "In Python there are two types of loops, **For Loops** and **While Loops**."
   ]
  },
  {
   "cell_type": "markdown",
   "metadata": {},
   "source": [
    "1) How Loops Work \n",
    "\n",
    "Loops are how programmers rerun the same lines of code several times. Loops will always run until a condition is met. Take a first-person shooter, the game will continue to run until either you’ve won, or your health reaches zero. Once either of those conditions occur, the game ends."
   ]
  },
  {
   "cell_type": "markdown",
   "metadata": {},
   "source": [
    "2) Writing a For Loop   \n",
    "\n",
    "For loops are primarily used to loop a set number of times. Take folowing Figure, for instance,\n",
    "this syntax suggests that the loop will run five times. Let’s break this down further. Every\n",
    "for loop begins with the keyword **“for”**. Then you define a temporary variable, sometimes\n",
    "known as a counter or index. Next is the **“in”** keyword, followed by the range function. Lastly, we have a colon to end the statement. All for loops\n",
    "will follow this exact structure of keyword, variable, keyword, function, and colon."
   ]
  },
  {
   "cell_type": "code",
   "execution_count": 45,
   "metadata": {},
   "outputs": [
    {
     "data": {
      "image/png": "[encoded data removed]",
      "text/plain": [
       "<IPython.core.display.Image object>"
      ]
     },
     "execution_count": 45,
     "metadata": {},
     "output_type": "execute_result"
    }
   ],
   "source": [
    "from IPython.display import Image\n",
    "Image(filename='images_projects/image_project_week3_02.png')"
   ]
  },
  {
   "cell_type": "code",
   "execution_count": 48,
   "metadata": {},
   "outputs": [
    {
     "name": "stdout",
     "output_type": "stream",
     "text": [
      "Value: 0\n",
      "Value: 1\n",
      "Value: 2\n",
      "Value: 3\n",
      "Value: 4\n"
     ]
    }
   ],
   "source": [
    "# writing your first for loop using range\n",
    "for num in range(5):\n",
    "    print(\"Value: {}\".format(num))"
   ]
  },
  {
   "cell_type": "markdown",
   "metadata": {},
   "source": [
    "Note : When the for loop is created, the range function begins at zero by default and\n",
    "assigns the value of zero into our temporary variable num."
   ]
  },
  {
   "cell_type": "markdown",
   "metadata": {},
   "source": [
    "3) Range( )   \n",
    "\n",
    "Range allows us to count from one number to another while being able to define where to start and end and how much we increment or decrement by. "
   ]
  },
  {
   "cell_type": "code",
   "execution_count": 51,
   "metadata": {},
   "outputs": [
    {
     "name": "stdout",
     "output_type": "stream",
     "text": [
      "Value: 2\n",
      "Value: 4\n",
      "Value: 6\n",
      "Value: 8\n"
     ]
    }
   ],
   "source": [
    "# providing the start, stop, and step for the range function\n",
    "for num in range(2, 10, 2): # start = 2, stop = 10, and step = 2\n",
    "    print(\"Value: {}\".format(num) ) # will print all evens between 2 and 10"
   ]
  },
  {
   "cell_type": "markdown",
   "metadata": {},
   "source": [
    "4) Looping by Element"
   ]
  },
  {
   "cell_type": "code",
   "execution_count": 52,
   "metadata": {},
   "outputs": [
    {
     "name": "stdout",
     "output_type": "stream",
     "text": [
      "Value: J\n",
      "Value: o\n",
      "Value: h\n",
      "Value: n\n",
      "Value:  \n",
      "Value: S\n",
      "Value: m\n",
      "Value: i\n",
      "Value: t\n",
      "Value: h\n"
     ]
    }
   ],
   "source": [
    "# printing all characters in a name using the 'in' keyword\n",
    "name = \"John Smith\"\n",
    "for letter in name:\n",
    "    print(\"Value: {}\".format(letter))"
   ]
  },
  {
   "cell_type": "markdown",
   "metadata": {},
   "source": [
    "5) Continue Statement"
   ]
  },
  {
   "cell_type": "code",
   "execution_count": 55,
   "metadata": {},
   "outputs": [
    {
     "name": "stdout",
     "output_type": "stream",
     "text": [
      "0\n",
      "1\n",
      "2\n",
      "4\n"
     ]
    }
   ],
   "source": [
    "# suing the continue statement within a foor loop\n",
    "for num in range(5):\n",
    "    if num == 3:\n",
    "        continue\n",
    "    print(num)"
   ]
  },
  {
   "cell_type": "markdown",
   "metadata": {},
   "source": [
    "Note : Once a continue statement is hit, the current iteration stops and goes back to the top of the loop. "
   ]
  },
  {
   "cell_type": "markdown",
   "metadata": {},
   "source": [
    "6) Break Statement"
   ]
  },
  {
   "cell_type": "code",
   "execution_count": 59,
   "metadata": {},
   "outputs": [
    {
     "name": "stdout",
     "output_type": "stream",
     "text": [
      "0\n",
      "1\n",
      "2\n"
     ]
    }
   ],
   "source": [
    "# breaking out of a loop using the 'break' keyword\n",
    "for num in range(5):\n",
    "    if num == 3:\n",
    "        break\n",
    "    print(num)"
   ]
  },
  {
   "cell_type": "markdown",
   "metadata": {},
   "source": [
    "Note : It allows us to break out of a loop at any point in time."
   ]
  },
  {
   "cell_type": "markdown",
   "metadata": {},
   "source": [
    "7) Pass Statement   \n",
    "\n",
    "The pass statement is simply just a placeholder\n",
    "so that the program doesn’t break."
   ]
  },
  {
   "cell_type": "code",
   "execution_count": 60,
   "metadata": {},
   "outputs": [],
   "source": [
    "# setting a placeholder using the 'pass' keyword\n",
    "for i in range(5):\n",
    "    # TODO: add code to print number\n",
    "    pass"
   ]
  },
  {
   "cell_type": "markdown",
   "metadata": {},
   "source": [
    "# TUESDAY EXERCISES"
   ]
  },
  {
   "cell_type": "raw",
   "metadata": {},
   "source": [
    "1. Divisible by Three: Write a for loop that prints out all numbers from 1 to 100\n",
    "that are divisible by three"
   ]
  },
  {
   "cell_type": "code",
   "execution_count": 62,
   "metadata": {},
   "outputs": [
    {
     "name": "stdout",
     "output_type": "stream",
     "text": [
      "0\n",
      "3\n",
      "6\n",
      "9\n",
      "12\n",
      "15\n",
      "18\n",
      "21\n",
      "24\n",
      "27\n",
      "30\n",
      "33\n",
      "36\n",
      "39\n",
      "42\n",
      "45\n",
      "48\n",
      "51\n",
      "54\n",
      "57\n",
      "60\n",
      "63\n",
      "66\n",
      "69\n",
      "72\n",
      "75\n",
      "78\n",
      "81\n",
      "84\n",
      "87\n",
      "90\n",
      "93\n",
      "96\n",
      "99\n"
     ]
    }
   ],
   "source": [
    "for number in range(100):\n",
    "    if number % 3 == 0:\n",
    "        print(number)"
   ]
  },
  {
   "cell_type": "raw",
   "metadata": {},
   "source": [
    "2. Only Vowels: Ask for user input, and write a for loop that will output all the\n",
    "vowels within it. For example:\n",
    ">>> \"Hello\" ➔ \"eo\""
   ]
  },
  {
   "cell_type": "code",
   "execution_count": null,
   "metadata": {},
   "outputs": [],
   "source": [
    "# the Vowels are : A, E, I, O, U, and Y.\n",
    "word = input(\"Give me a Word : \")\n",
    "for letter in word:\n",
    "    if letter in [\"a\", \"e\", \"i\", \"o\", \"u\", \"y\"]:\n",
    "        print(letter)"
   ]
  },
  {
   "cell_type": "markdown",
   "metadata": {},
   "source": [
    "# Wednesday: While Loops"
   ]
  },
  {
   "cell_type": "markdown",
   "metadata": {},
   "source": [
    "1- Writing a While Loop"
   ]
  },
  {
   "cell_type": "code",
   "execution_count": 4,
   "metadata": {},
   "outputs": [
    {
     "name": "stdout",
     "output_type": "stream",
     "text": [
      "10\n",
      "9\n",
      "8\n",
      "7\n",
      "6\n",
      "5\n",
      "4\n",
      "3\n",
      "2\n",
      "1\n"
     ]
    }
   ],
   "source": [
    "#writing your first while loop\n",
    "health = 10\n",
    "while health > 0:\n",
    "    print(health)\n",
    "    health -= 1    # forgetting this line will result in infinite loop"
   ]
  },
  {
   "cell_type": "markdown",
   "metadata": {},
   "source": [
    "2-Infinite Loops\n",
    "if want to run the code in the image bellow this cell you'll  get an infinite while loop. To break just try to shutdown."
   ]
  },
  {
   "cell_type": "code",
   "execution_count": 5,
   "metadata": {},
   "outputs": [
    {
     "data": {
      "image/png": "[encoded data removed]",
      "text/plain": [
       "<IPython.core.display.Image object>"
      ]
     },
     "execution_count": 5,
     "metadata": {},
     "output_type": "execute_result"
    }
   ],
   "source": [
    "from IPython.display import Image\n",
    "Image(filename='images_projects/Image_project_week3b.png')from IPython.display import Image\n",
    "Image(filename='images_projects/Image_project_week3b.png')"
   ]
  },
  {
   "cell_type": "markdown",
   "metadata": {},
   "source": [
    "2-Nested Loops"
   ]
  },
  {
   "cell_type": "code",
   "execution_count": 11,
   "metadata": {},
   "outputs": [
    {
     "name": "stdout",
     "output_type": "stream",
     "text": [
      "0 0 3\n",
      "0 1 3\n",
      "0 2 3\n",
      "1 0 3\n",
      "1 1 3\n",
      "1 2 3\n"
     ]
    }
   ],
   "source": [
    "#Using two or more loops together is called nested loop\n",
    "for i in range(2):\n",
    "    for j in range(3):\n",
    "        print(i, j, k)"
   ]
  },
  {
   "cell_type": "markdown",
   "metadata": {},
   "source": [
    "Go ahead and run that cell. At first, this may seem a bit confusing, since there’s a lot\n",
    "going on here. Let’s break the output down with Table 4-4."
   ]
  },
  {
   "cell_type": "code",
   "execution_count": 10,
   "metadata": {},
   "outputs": [
    {
     "data": {
      "image/png": "[encoded data removed]",
      "text/plain": [
       "<IPython.core.display.Image object>"
      ]
     },
     "execution_count": 10,
     "metadata": {},
     "output_type": "execute_result"
    }
   ],
   "source": [
    "from IPython.display import Image\n",
    "Image(filename='images_projects/Image_project_week3c.png')"
   ]
  },
  {
   "cell_type": "markdown",
   "metadata": {},
   "source": [
    "# WEDNESDAY EXERCISES"
   ]
  },
  {
   "cell_type": "markdown",
   "metadata": {},
   "source": [
    "1. User Input: Write a while loop that continues to ask for user input and runs\n",
    "until they type “quit”."
   ]
  },
  {
   "cell_type": "code",
   "execution_count": null,
   "metadata": {},
   "outputs": [],
   "source": [
    "# while True:\n",
    "    word = input(\"enter something: \")\n",
    "    if word == 'quit':\n",
    "        break"
   ]
  },
  {
   "cell_type": "markdown",
   "metadata": {},
   "source": [
    "2. Double Loop: Write a for loop within a while loop that will count from 0 to 5,\n",
    "but when it reaches 3, it sets a game_over variable to True and breaks out of\n",
    "the loop. The while loop should continue to loop until game_over is True. The\n",
    "output should only be 0, 1, 2."
   ]
  },
  {
   "cell_type": "code",
   "execution_count": 22,
   "metadata": {},
   "outputs": [
    {
     "name": "stdout",
     "output_type": "stream",
     "text": [
      "0\n",
      "1\n",
      "2\n"
     ]
    }
   ],
   "source": [
    "game_over = False\n",
    "\n",
    "while game_over == False:\n",
    "    for i in range(5):\n",
    "        if i == 3:\n",
    "            game_over = True\n",
    "            break\n",
    "        else:\n",
    "            print(i)\n",
    "    "
   ]
  },
  {
   "cell_type": "markdown",
   "metadata": {},
   "source": [
    "# Thursday: Working with Lists"
   ]
  },
  {
   "cell_type": "markdown",
   "metadata": {},
   "source": [
    "1. Checking Length\n",
    "Often, we’ll need to know how many items are within a list. To do so, we use the len()\n",
    "function:"
   ]
  },
  {
   "cell_type": "code",
   "execution_count": 23,
   "metadata": {},
   "outputs": [
    {
     "name": "stdout",
     "output_type": "stream",
     "text": [
      "3\n"
     ]
    }
   ],
   "source": [
    "# checking the number of items within a list\n",
    "nums = [5, 10, 15]\n",
    "length = len(nums) # len() returns an integer\n",
    "print(length)"
   ]
  },
  {
   "cell_type": "markdown",
   "metadata": {},
   "source": [
    "2. Slicing Lists"
   ]
  },
  {
   "cell_type": "code",
   "execution_count": 25,
   "metadata": {},
   "outputs": [
    {
     "name": "stdout",
     "output_type": "stream",
     "text": [
      "[10, 15]\n",
      "[5, 10]\n",
      "[5, 15]\n",
      "[10, 15]\n"
     ]
    }
   ],
   "source": [
    "# accessing specific items of a list with slices\n",
    "print( nums[ 1 : 3 ] ) # will output items in index 1 and 2\n",
    "print( nums[ : 2 ] ) # will output items in index 0 and 1\n",
    "print( nums[ : : 2 ] ) # will print every other index - 0, 2, 4, etc.\n",
    "print( nums[ -2 : ] ) # will output the last two items in list"
   ]
  },
  {
   "cell_type": "markdown",
   "metadata": {},
   "source": [
    "2. Adding Items, .append( ) Append will always add the value within the parenthesis to the back of the list. Let’s see:"
   ]
  },
  {
   "cell_type": "code",
   "execution_count": 26,
   "metadata": {},
   "outputs": [
    {
     "name": "stdout",
     "output_type": "stream",
     "text": [
      "[10, 20, 5]\n"
     ]
    }
   ],
   "source": [
    "# adding an item to the back of a list using append\n",
    "nums = [10, 20]\n",
    "nums.append(5)\n",
    "print(nums)    # outputs [10, 20, 5]"
   ]
  },
  {
   "cell_type": "markdown",
   "metadata": {},
   "source": [
    ".insert( )\n",
    "The second method to add items to a list is using insert. This method requires an index\n",
    "to insert a value into a specific location. Let’s see an example:"
   ]
  },
  {
   "cell_type": "code",
   "execution_count": 30,
   "metadata": {},
   "outputs": [
    {
     "name": "stdout",
     "output_type": "stream",
     "text": [
      "None\n"
     ]
    }
   ],
   "source": [
    "# adding a value to the beginning of the list\n",
    "words = [ \"ball\", \"base\" ]\n",
    "words.insert(0, \"glove\") # first number is the index, second is the value"
   ]
  },
  {
   "cell_type": "markdown",
   "metadata": {},
   "source": [
    "3.Removing Items\n",
    "There are several ways to remove items from a list, the following are the main two\n",
    "methods.\n",
    "pop()"
   ]
  },
  {
   "cell_type": "code",
   "execution_count": 32,
   "metadata": {},
   "outputs": [
    {
     "name": "stdout",
     "output_type": "stream",
     "text": [
      "5 \n",
      " ['ball']\n"
     ]
    }
   ],
   "source": [
    "# using pop to remove items and saving to a variable to use later\n",
    "items = [5, \"ball\", True]\n",
    "items.pop()          # pop() by default remove the last item \n",
    "removed_item = items.pop(0)      # removes 5 and saves it into the variable\n",
    "print(removed_item, \"\\n\", items)"
   ]
  },
  {
   "cell_type": "markdown",
   "metadata": {},
   "source": [
    "3. remove( )\n",
    "The remove method allows us to remove items from a list based on their given value:3."
   ]
  },
  {
   "cell_type": "code",
   "execution_count": 34,
   "metadata": {},
   "outputs": [
    {
     "name": "stdout",
     "output_type": "stream",
     "text": [
      "['baseball', 'football', 'hockey']\n"
     ]
    }
   ],
   "source": [
    "# using the remove method with a try and except\n",
    "sports = ['baseball', 'soccer', 'football', 'hockey']\n",
    "try:\n",
    "    sports.remove(\"soccer\")\n",
    "except:\n",
    "    print(\"That item does not exist in the list\")\n",
    "print(sports)"
   ]
  },
  {
   "cell_type": "markdown",
   "metadata": {},
   "source": [
    "4. Working with Numerical List Data\n",
    "Python provides a few functions for us to use on lists of numerical data, such as min,\n",
    "max, and sum. There are several more that we can use, though these are used most\n",
    "frequently:"
   ]
  },
  {
   "cell_type": "code",
   "execution_count": 35,
   "metadata": {},
   "outputs": [
    {
     "name": "stdout",
     "output_type": "stream",
     "text": [
      "3\n",
      "9\n",
      "17\n"
     ]
    }
   ],
   "source": [
    "# using min, max, and sum\n",
    "nums = [5, 3, 9]\n",
    "\n",
    "print(min(nums))       # will find the lowest number in the list\n",
    "print(max(nums))       # will find the highest number in the list\n",
    "print(sum(nums))       # will add all numbers in the list and return the sum"
   ]
  },
  {
   "cell_type": "markdown",
   "metadata": {},
   "source": [
    "5. Sorting a List"
   ]
  },
  {
   "cell_type": "markdown",
   "metadata": {},
   "source": [
    "sorted( )\n",
    "The sorted function will work on either numerical or alphabetical lists, but not one that is\n",
    "mixed. Sorted also returns a copy of the list, so it doesn’t alter the original. Usually if you\n",
    "need to keep the original intact, be sure to use this function:"
   ]
  },
  {
   "cell_type": "code",
   "execution_count": 36,
   "metadata": {},
   "outputs": [
    {
     "name": "stdout",
     "output_type": "stream",
     "text": [
      "[5, 8, 0, 2] [0, 2, 5, 8]\n"
     ]
    }
   ],
   "source": [
    "# using sorted on lists for numerical and alphabetical data\n",
    "nums = [5, 8, 0, 2]\n",
    "sorted_nums = sorted(nums) # save to a new variable to use later\n",
    "print(nums, sorted_nums) # the original list is in tact"
   ]
  },
  {
   "cell_type": "markdown",
   "metadata": {},
   "source": [
    ".sort( )\n",
    "The sort method is used for the same purpose that our previous sorted function is used\n",
    "for; however, it will change the original list directly:"
   ]
  },
  {
   "cell_type": "code",
   "execution_count": 38,
   "metadata": {},
   "outputs": [
    {
     "name": "stdout",
     "output_type": "stream",
     "text": [
      "[0, 2, 5, 8]\n"
     ]
    }
   ],
   "source": [
    "# sorting a list with .sort() in-place\n",
    "nums = [5, 0, 8, 2]\n",
    "nums.sort()\n",
    "print(nums)"
   ]
  },
  {
   "cell_type": "markdown",
   "metadata": {},
   "source": [
    "6. Conditionals and Lists"
   ]
  },
  {
   "cell_type": "markdown",
   "metadata": {},
   "source": [
    "Using “in” and “not in” Keywords"
   ]
  },
  {
   "cell_type": "code",
   "execution_count": 47,
   "metadata": {},
   "outputs": [
    {
     "name": "stdout",
     "output_type": "stream",
     "text": [
      "Found\n",
      "Not found\n"
     ]
    }
   ],
   "source": [
    "# using conditional statements on a list\n",
    "names = ['Jack', 'Robert', 'Marry']\n",
    "if 'Marry' in names:\n",
    "    print(\"Found\")\n",
    "if 'James' not in names:\n",
    "    print(\"Not found\")"
   ]
  },
  {
   "cell_type": "markdown",
   "metadata": {},
   "source": [
    "7.Checking an Empty List\n",
    "There are so many reasons to need to check for an empty list. It’s usually to ensure you\n",
    "don’t cause any errors in your program, so let’s see how we can check:"
   ]
  },
  {
   "cell_type": "code",
   "execution_count": 48,
   "metadata": {},
   "outputs": [
    {
     "name": "stdout",
     "output_type": "stream",
     "text": [
      "empty\n"
     ]
    }
   ],
   "source": [
    "# using conditionals to see if a list is empty\n",
    "nums = []\n",
    "if not nums:\n",
    "    print('empty')"
   ]
  },
  {
   "cell_type": "markdown",
   "metadata": {},
   "source": [
    "7. Loops and Lists"
   ]
  },
  {
   "cell_type": "markdown",
   "metadata": {},
   "source": [
    "Using For Loops: When iterating over a list with a for loop, the syntax looks like when we used the range\n",
    "function previously; however, this time we use a temporary variable, the in keyword,\n",
    "and the name of the list. For each iteration, the temporary variable is assigned the item’s\n",
    "value. Let’s try it out:"
   ]
  },
  {
   "cell_type": "code",
   "execution_count": 50,
   "metadata": {},
   "outputs": [
    {
     "name": "stdout",
     "output_type": "stream",
     "text": [
      "Baseball\n",
      "Hockey\n",
      "Football\n",
      "Basketball\n"
     ]
    }
   ],
   "source": [
    "# using a for loop to print all items in a list\n",
    "sports = [ \"Baseball\", \"Hockey\", \"Football\", \"Basketball\" ]\n",
    "for i in sports:\n",
    "    print(i)\n",
    "    "
   ]
  },
  {
   "cell_type": "markdown",
   "metadata": {},
   "source": [
    "Using While Loops\n",
    "While loops are always used for conditional looping. One great use case for a while loop\n",
    "with lists is removing an item. There are so many uses, this is just one of them:"
   ]
  },
  {
   "cell_type": "code",
   "execution_count": 52,
   "metadata": {},
   "outputs": [
    {
     "name": "stdout",
     "output_type": "stream",
     "text": [
      "['Jack', 'Rob', 'Robert']\n"
     ]
    }
   ],
   "source": [
    "# using the while loop to remove a certain value\n",
    "names = [ \"Bob\", \"Jack\", \"Rob\", \"Bob\", \"Robert\" ]\n",
    "while \"Bob\" in names:\n",
    "    names.remove(\"Bob\") # removes all instances of 'Bob'\n",
    "print(names)"
   ]
  },
  {
   "cell_type": "markdown",
   "metadata": {},
   "source": [
    "# THURSDAY EXERCISES"
   ]
  },
  {
   "cell_type": "markdown",
   "metadata": {},
   "source": [
    "1. Remove Duplicates: Remove all duplicates from the list below. Hint: Use the\n",
    ".count( ) method. The output should be [‘Bob’, ‘Kenny’, ‘Amanda’]\n",
    "names = ['Bob', 'Kenny', 'Amanda', 'Bob', 'Kenny']"
   ]
  },
  {
   "cell_type": "code",
   "execution_count": 54,
   "metadata": {},
   "outputs": [
    {
     "name": "stdout",
     "output_type": "stream",
     "text": [
      "['Amanda', 'Bob', 'Kenny']\n"
     ]
    }
   ],
   "source": [
    "names = [\"Bob\", \"Kenny\", \"Amanda\", \"Bob\", \"Kenny\"]\n",
    "\n",
    "for name in names:\n",
    "    while names.count(name) > 1:\n",
    "        names.remove(name)\n",
    "        \n",
    "print(names)"
   ]
  },
  {
   "cell_type": "markdown",
   "metadata": {},
   "source": [
    "2. User Input: Use a while loop to continually ask the user to input a word, until\n",
    "they type “quit ”. Once they type a word in, add it to a list. Once they quit the\n",
    "loop, use a for loop to output all items within the list."
   ]
  },
  {
   "cell_type": "code",
   "execution_count": 55,
   "metadata": {},
   "outputs": [
    {
     "name": "stdout",
     "output_type": "stream",
     "text": [
      "Enter a word: badr\n",
      "Enter a word: quit\n",
      "badr\n"
     ]
    }
   ],
   "source": [
    "done = False\n",
    "words = []\n",
    "\n",
    "while done == False:\n",
    "    ans = input('Enter a word: ')\n",
    "    \n",
    "    if ans.lower() == 'quit':\n",
    "        done = True\n",
    "    else:\n",
    "        words.append(ans)\n",
    "        \n",
    "for word in words:\n",
    "    print(word)"
   ]
  },
  {
   "cell_type": "code",
   "execution_count": 6,
   "metadata": {},
   "outputs": [
    {
     "name": "stdout",
     "output_type": "stream",
     "text": [
      "['Bob', 'Kenny', 'Amanda', 'Bob', 'Kenny']\n",
      "['Bob', 'Kenny', 'Amanda']\n"
     ]
    }
   ],
   "source": [
    "names = [\"Bob\", \"Kenny\", \"Amanda\", \"Bob\", \"Kenny\"]\n",
    "final_names= list(dict.fromkeys(names))\n",
    "print(names)\n",
    "print(final_names)"
   ]
  },
  {
   "cell_type": "code",
   "execution_count": null,
   "metadata": {},
   "outputs": [],
   "source": []
  }
 ],
 "metadata": {
  "kernelspec": {
   "display_name": "Python 3",
   "language": "python",
   "name": "python3"
  },
  "language_info": {
   "codemirror_mode": {
    "name": "ipython",
    "version": 3
   },
   "file_extension": ".py",
   "mimetype": "text/x-python",
   "name": "python",
   "nbconvert_exporter": "python",
   "pygments_lexer": "ipython3",
   "version": "3.9.5"
  }
 },
 "nbformat": 4,
 "nbformat_minor": 4
}
