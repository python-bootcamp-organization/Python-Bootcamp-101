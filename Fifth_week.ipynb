{
 "cells": [
  {
   "cell_type": "markdown",
   "id": "e914677f",
   "metadata": {},
   "source": [
    "# Data Collections and Files"
   ]
  },
  {
   "cell_type": "markdown",
   "id": "894415ec",
   "metadata": {},
   "source": [
    "# Monday: Dictionaries"
   ]
  },
  {
   "cell_type": "markdown",
   "id": "5ac43eed",
   "metadata": {},
   "source": [
    "**What Are Dictionaries?**\n",
    "A dictionary is a collection of unordered data, which is stored in key-value pairs. What\n",
    "is meant by “unordered” is the way it is stored in memory. It is not accessible through\n",
    "an index, rather it is accessed through a key. Lists are known as ordered data collections\n",
    "because each item is assigned a specific location. Dictionaries work like a real-life\n",
    "dictionary, where the key is the word and the values are the definition. Dictionaries are\n",
    "useful for working with large data, mapped data, CSV files, APIs, sending or receiving\n",
    "data, and much more."
   ]
  },
  {
   "cell_type": "markdown",
   "id": "b583aecf",
   "metadata": {},
   "source": [
    "**Declaring a Dictionary**"
   ]
  },
  {
   "cell_type": "code",
   "execution_count": 4,
   "id": "36cd5204",
   "metadata": {},
   "outputs": [
    {
     "name": "stdout",
     "output_type": "stream",
     "text": [
      "{'name': 'Morty', 'age': 26}\n"
     ]
    }
   ],
   "source": [
    "#declaring a dictionary variable\n",
    "empty = {}\n",
    "person = {\"name\": \"John Smith\"}\n",
    "    # dictionary with one key/value pair\n",
    "customer = {\n",
    "    \"name\": \"Morty\",\n",
    "    \"age\" : 26\n",
    "}    # dictionary with two key/value pairs\n",
    "print(customer)"
   ]
  },
  {
   "cell_type": "markdown",
   "id": "66b4a579",
   "metadata": {},
   "source": [
    "**Accessing Dictionary Information**"
   ]
  },
  {
   "cell_type": "code",
   "execution_count": 6,
   "id": "0583b3a2",
   "metadata": {},
   "outputs": [
    {
     "name": "stdout",
     "output_type": "stream",
     "text": [
      "John\n"
     ]
    }
   ],
   "source": [
    "#Accessing dictionary information through key\n",
    "person = { \"name\": \"John\" }\n",
    "print( person[ \"name\" ] ) # access information through the key"
   ]
  },
  {
   "cell_type": "markdown",
   "id": "7a43c98d",
   "metadata": {},
   "source": [
    "**Using the Get Method**"
   ]
  },
  {
   "cell_type": "code",
   "execution_count": 2,
   "id": "1215483b",
   "metadata": {},
   "outputs": [
    {
     "name": "stdout",
     "output_type": "stream",
     "text": [
      "John\n",
      "Age is not available.\n"
     ]
    }
   ],
   "source": [
    "#Using the get method to acess dictionary information\n",
    "person = {'name':'John'}\n",
    "print(person.get(\"name\"))       # retrieves value of name key as before\n",
    "print(person.get(\"age\",\"Age is not available.\"))            # get is a secureway to retrieve information"
   ]
  },
  {
   "cell_type": "markdown",
   "id": "e723cff8",
   "metadata": {},
   "source": [
    "**Dictionaries with Lists**"
   ]
  },
  {
   "cell_type": "code",
   "execution_count": 8,
   "id": "dd2b56f1",
   "metadata": {},
   "outputs": [
    {
     "name": "stdout",
     "output_type": "stream",
     "text": [
      "baseball\n"
     ]
    }
   ],
   "source": [
    "# storing a list within a dictionary and accessing it\n",
    "data = {\"sports\": [\"baseball\", \"football\", \"hockey\", \"soccer\"]}\n",
    "print(data[\"sports\"][0]) # first access the key, then the index"
   ]
  },
  {
   "cell_type": "code",
   "execution_count": 13,
   "id": "306720e1",
   "metadata": {},
   "outputs": [
    {
     "ename": "ValueError",
     "evalue": "dictionary update sequence element #0 has length 8; 2 is required",
     "output_type": "error",
     "traceback": [
      "\u001b[1;31m---------------------------------------------------------------------------\u001b[0m",
      "\u001b[1;31mValueError\u001b[0m                                Traceback (most recent call last)",
      "\u001b[1;32m<ipython-input-13-82cf8a0237a2>\u001b[0m in \u001b[0;36m<module>\u001b[1;34m\u001b[0m\n\u001b[0;32m      1\u001b[0m \u001b[1;31m# improperly storing a list within a dictionary\u001b[0m\u001b[1;33m\u001b[0m\u001b[1;33m\u001b[0m\u001b[1;33m\u001b[0m\u001b[0m\n\u001b[0;32m      2\u001b[0m \u001b[0msports\u001b[0m \u001b[1;33m=\u001b[0m \u001b[1;33m[\u001b[0m \u001b[1;34m\"baseball\"\u001b[0m\u001b[1;33m,\u001b[0m \u001b[1;34m\"football\"\u001b[0m\u001b[1;33m,\u001b[0m \u001b[1;34m\"hockey\"\u001b[0m\u001b[1;33m,\u001b[0m \u001b[1;34m\"soccer\"\u001b[0m \u001b[1;33m]\u001b[0m\u001b[1;33m\u001b[0m\u001b[1;33m\u001b[0m\u001b[0m\n\u001b[1;32m----> 3\u001b[1;33m \u001b[0msports_dict\u001b[0m \u001b[1;33m=\u001b[0m \u001b[0mdict\u001b[0m\u001b[1;33m(\u001b[0m \u001b[0msports\u001b[0m \u001b[1;33m)\u001b[0m \u001b[1;31m# will produce error, no key\u001b[0m\u001b[1;33m\u001b[0m\u001b[1;33m\u001b[0m\u001b[0m\n\u001b[0m",
      "\u001b[1;31mValueError\u001b[0m: dictionary update sequence element #0 has length 8; 2 is required"
     ]
    }
   ],
   "source": [
    "# improperly storing a list within a dictionary\n",
    "sports = [ \"baseball\", \"football\", \"hockey\", \"soccer\" ]\n",
    "sports_dict = dict( sports ) # will produce error, no key\n"
   ]
  },
  {
   "cell_type": "code",
   "execution_count": 12,
   "id": "6af0471a",
   "metadata": {},
   "outputs": [
    {
     "name": "stdout",
     "output_type": "stream",
     "text": [
      "{'sports': ['baseball', 'football', 'hockey', 'soccer']}\n"
     ]
    }
   ],
   "source": [
    "# improperly storing a list within a dictionary\n",
    "sports = [ \"baseball\", \"football\", \"hockey\", \"soccer\" ]\n",
    "sports_dict1 = dict( { \"sports\" : sports } ) #will run\n",
    "print(sports_dict1)"
   ]
  },
  {
   "cell_type": "markdown",
   "id": "3176944c",
   "metadata": {},
   "source": [
    "**Lists with Dictionaries**"
   ]
  },
  {
   "cell_type": "code",
   "execution_count": 15,
   "id": "66e405f6",
   "metadata": {},
   "outputs": [
    {
     "name": "stdout",
     "output_type": "stream",
     "text": [
      "{'name': 'Kirsten '}\n",
      "Kirsten \n"
     ]
    }
   ],
   "source": [
    "#sorting a dictoinary within a list and accessing it\n",
    "data = [\"John\", \"Dennis\",{\"name\": \"Kirsten \"}]\n",
    "print(data[2])            # the dictionary is in index 2\n",
    "print(data[2][\"name\"])    # first access the index, then access the key"
   ]
  },
  {
   "cell_type": "markdown",
   "id": "fc7692a8",
   "metadata": {},
   "source": [
    "**Dictionaries with Dictionaries**"
   ]
  },
  {
   "cell_type": "code",
   "execution_count": 21,
   "id": "b2b6a97e",
   "metadata": {},
   "outputs": [
    {
     "name": "stdout",
     "output_type": "stream",
     "text": [
      "{'2018': 108, '2017': 93}\n",
      "108\n"
     ]
    }
   ],
   "source": [
    "# storing a dictionary within a dictionary and accessing it\n",
    "data = {\n",
    "\"team\":\"Boston Red Sox\",\n",
    "\"wins\":{\"2018\":108,\"2017\":93}\n",
    "}\n",
    "print( data[\"wins\"] )          #will output the dictoinary within the wins key\n",
    "print(data[\"wins\"][\"2018\"])    # first access the wins key, then the next key"
   ]
  },
  {
   "cell_type": "code",
   "execution_count": 17,
   "id": "786323ed",
   "metadata": {},
   "outputs": [
    {
     "name": "stdout",
     "output_type": "stream",
     "text": [
      "{'2018': 108, '2017': 93}\n",
      "108\n"
     ]
    }
   ],
   "source": [
    "# storing a dictionary within a dictionary and accessing it\n",
    "data = {\n",
    "\"team\": \"Boston Red Sox\",\n",
    "\"wins\": { \"2018\": 108, \"2017\": 93 }\n",
    "}\n",
    "print( data[\"wins\"] ) # will output the dictionary within the wins key\n",
    "print( data[\"wins\"][\"2018\"] ) # first access the wins key, then the next key"
   ]
  },
  {
   "cell_type": "markdown",
   "id": "10106b3b",
   "metadata": {},
   "source": [
    "# MONDAY EXERCISES"
   ]
  },
  {
   "cell_type": "markdown",
   "id": "f1043cf0",
   "metadata": {},
   "source": [
    "**User Input**: Ask the user for their name and age, and then create a dictionary\n",
    "with those key-value pairs. Output the dictionary once created."
   ]
  },
  {
   "cell_type": "code",
   "execution_count": 22,
   "id": "b2bcabaf",
   "metadata": {},
   "outputs": [
    {
     "name": "stdout",
     "output_type": "stream",
     "text": [
      "What is  your name: Badr\n",
      "What your age: 27\n",
      "{'name': 'Badr', 'age': 27}\n"
     ]
    }
   ],
   "source": [
    "name = input(\"What is  your name: \")\n",
    "age = int(input(\"What your age: \"))\n",
    "name_and_age = {\"name\": name, \"age\": age}\n",
    "print(name_and_age)\n",
    "\n"
   ]
  },
  {
   "cell_type": "markdown",
   "id": "6a425af1",
   "metadata": {},
   "source": [
    "**User Input** : Ask the user for their name and age, and then create a dictionary\n",
    "with those key-value pairs. Output the dictionary once created.\n",
    "\n",
    "<p>\n",
    ">>> pizza = { <br>\n",
    ">>> &nbsp;&nbsp;&nbsp;&nbsp;&nbsp;'ingredients' : ['cheese', 'sausage', 'peppers'] <br>\n",
    ">>> }\n",
    "</p"
   ]
  },
  {
   "cell_type": "code",
   "execution_count": 24,
   "id": "12533cd1",
   "metadata": {},
   "outputs": [
    {
     "name": "stdout",
     "output_type": "stream",
     "text": [
      "cheese\n",
      "sausage\n",
      "peppers\n"
     ]
    }
   ],
   "source": [
    "pizza = {\n",
    "    \"ingredients\":['cheese','sausage', 'peppers']\n",
    "}\n",
    "for i in pizza['ingredients']:\n",
    "    print(i)"
   ]
  },
  {
   "cell_type": "markdown",
   "id": "dde5819e",
   "metadata": {},
   "source": [
    "# Tuesday: Working with Dictionaries"
   ]
  },
  {
   "cell_type": "markdown",
   "id": "ec975a20",
   "metadata": {},
   "source": [
    "**Adding New Information**: You’ll often need to add new key-value pairs after declaring a dictionary. Let’s see how:"
   ]
  },
  {
   "cell_type": "code",
   "execution_count": 38,
   "id": "ea77ff35",
   "metadata": {},
   "outputs": [
    {
     "name": "stdout",
     "output_type": "stream",
     "text": [
      "Year: 2018\tColor: Blue\n"
     ]
    }
   ],
   "source": [
    "#adding new key/value pairs to a dictionary\n",
    "car = {\"year\":2018}\n",
    "car[\"color\"] = \"Blue\"\n",
    "print(f\"Year: {car['year'] }\\tColor: {car['color']}\") "
   ]
  },
  {
   "cell_type": "code",
   "execution_count": 39,
   "id": "c51fc8b2",
   "metadata": {},
   "outputs": [
    {
     "name": "stdout",
     "output_type": "stream",
     "text": [
      "Year: 2018\tColor: Red\n"
     ]
    }
   ],
   "source": [
    "#Changing Information\n",
    "# updating a value for a key/value pair that already exists\n",
    "\n",
    "car = { 'year' : 2018, 'color' : 'Blue' }\n",
    "\n",
    "car['color'] = 'Red'\n",
    "\n",
    "print(f\"Year: {car['year']}\\tColor: {car['color']}\")"
   ]
  },
  {
   "cell_type": "markdown",
   "id": "83e08778",
   "metadata": {},
   "source": [
    "**Deleting Information**: Sometimes you’ll need to remove a certain pair. To do so, you’ll need to use the **del**\n",
    "function"
   ]
  },
  {
   "cell_type": "code",
   "execution_count": 40,
   "id": "904330b1",
   "metadata": {},
   "outputs": [
    {
     "name": "stdout",
     "output_type": "stream",
     "text": [
      "{}\n"
     ]
    }
   ],
   "source": [
    "# deleting a key/value pair from a dictionary\n",
    "car = { \"year\": 2018 }\n",
    "try:\n",
    "    del car[\"year\"]\n",
    "    print(car)\n",
    "except:\n",
    "    print(\"That key does not exist\")"
   ]
  },
  {
   "cell_type": "markdown",
   "id": "882cc1a7",
   "metadata": {},
   "source": [
    "**Looping a Dictionary**"
   ]
  },
  {
   "cell_type": "markdown",
   "id": "eddac9d2",
   "metadata": {},
   "source": [
    "**1.Looping Only Keys**: To iterate through a dictionary while only accessing the keys, you’ll use the **.keys()** method"
   ]
  },
  {
   "cell_type": "code",
   "execution_count": 43,
   "id": "94d3d30e",
   "metadata": {},
   "outputs": [
    {
     "name": "stdout",
     "output_type": "stream",
     "text": [
      "John\n",
      "name\n",
      "26\n",
      "age\n"
     ]
    }
   ],
   "source": [
    "#Looping over a dictionary via the keys\n",
    "person ={\"name\":\"John\", \"age\":26}\n",
    "for key in person.keys():\n",
    "    print(person[key])     # will output the value at the current key\n",
    "    print(key)"
   ]
  },
  {
   "cell_type": "markdown",
   "id": "9748e0d2",
   "metadata": {},
   "source": [
    "**2.Looping Only Values**:\n",
    "When you don’t need to access the keys, using the **.values( )** method is best:"
   ]
  },
  {
   "cell_type": "code",
   "execution_count": 44,
   "id": "f0c709f1",
   "metadata": {},
   "outputs": [
    {
     "name": "stdout",
     "output_type": "stream",
     "text": [
      "John\n",
      "26\n"
     ]
    }
   ],
   "source": [
    "# looping over a dictionary via the values\n",
    "person = { \"name\": \"John\", \"age\": 26 }\n",
    "for value in person.values( ):\n",
    "      print(value)"
   ]
  },
  {
   "cell_type": "markdown",
   "id": "86a72010",
   "metadata": {},
   "source": [
    "**3.Looping Key-Value Pairs**: If you need the ability to access both the key and value, then you’ll want to use the\n",
    "**.items()** method. This approach will assign two temporary variables instead of one:"
   ]
  },
  {
   "cell_type": "code",
   "execution_count": 45,
   "id": "adf399c6",
   "metadata": {},
   "outputs": [
    {
     "name": "stdout",
     "output_type": "stream",
     "text": [
      "name: John\n",
      "age: 26\n"
     ]
    }
   ],
   "source": [
    "# looping over a dictionary via the key/value pair\n",
    "person = { \"name\": \"John\", \"age\": 26 }\n",
    "for key, value in person.items( ):\n",
    "     print( f\"{ key}: { value}\" )"
   ]
  },
  {
   "cell_type": "markdown",
   "id": "3469a74b",
   "metadata": {},
   "source": [
    "# TUESDAY EXERCISES"
   ]
  },
  {
   "cell_type": "markdown",
   "id": "0403951c",
   "metadata": {},
   "source": [
    "1.**User Input:** Declare an empty dictionary. Ask the user for their name, address,\n",
    "and number. Add that information to the dictionary and iterate over it to show\n",
    "the user"
   ]
  },
  {
   "cell_type": "code",
   "execution_count": 52,
   "id": "a20f0180",
   "metadata": {},
   "outputs": [
    {
     "name": "stdout",
     "output_type": "stream",
     "text": [
      "What is your name? ..\n",
      "What is your address? ..\n",
      "What is your number? ..\n",
      "name:..\n",
      "address:..\n",
      "number:..\n"
     ]
    }
   ],
   "source": [
    "name = input('What is your name? ')\n",
    "address = input('What is your address? ')\n",
    "number = input('What is your number? ')\n",
    "\n",
    "person_info = {}\n",
    "\n",
    "person_info['name'] = name\n",
    "person_info['address'] = address\n",
    "person_info['number'] = number\n",
    "\n",
    "\n",
    "for key, value in person_info.items():\n",
    "    print(f\"{key}:{value}\")"
   ]
  },
  {
   "cell_type": "code",
   "execution_count": 1,
   "id": "f4cf622d",
   "metadata": {},
   "outputs": [
    {
     "name": "stdout",
     "output_type": "stream",
     "text": [
      "What is your name? ..\n",
      "What is your address? ..\n",
      "What is your number? ..\n",
      "name:..\n",
      "address:..\n",
      "number:..\n"
     ]
    }
   ],
   "source": [
    "name = input('What is your name? ')\n",
    "address = input('What is your address? ')\n",
    "number = input('What is your number? ')\n",
    "\n",
    "person_info = {}\n",
    "\n",
    "person_info['name'] = name\n",
    "person_info['address'] = address\n",
    "person_info['number'] = number\n",
    "\n",
    "\n",
    "for key, value in person_info.items():\n",
    "    print(f\"{key}:{value}\")"
   ]
  },
  {
   "cell_type": "code",
   "execution_count": null,
   "id": "56f3f824",
   "metadata": {},
   "outputs": [],
   "source": []
  }
 ],
 "metadata": {
  "kernelspec": {
   "display_name": "Python 3",
   "language": "python",
   "name": "python3"
  },
  "language_info": {
   "codemirror_mode": {
    "name": "ipython",
    "version": 3
   },
   "file_extension": ".py",
   "mimetype": "text/x-python",
   "name": "python",
   "nbconvert_exporter": "python",
   "pygments_lexer": "ipython3",
   "version": "3.9.5"
  }
 },
 "nbformat": 4,
 "nbformat_minor": 5
}
