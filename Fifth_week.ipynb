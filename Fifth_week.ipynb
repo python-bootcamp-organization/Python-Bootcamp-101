{
 "cells": [
  {
   "cell_type": "markdown",
   "metadata": {},
   "source": [
    "# Data Collections and Files"
   ]
  },
  {
   "cell_type": "markdown",
   "metadata": {},
   "source": [
    "# Monday: Dictionaries"
   ]
  },
  {
   "cell_type": "markdown",
   "metadata": {},
   "source": [
    "**What Are Dictionaries?**\n",
    "A dictionary is a collection of unordered data, which is stored in key-value pairs. What\n",
    "is meant by “unordered” is the way it is stored in memory. It is not accessible through\n",
    "an index, rather it is accessed through a key. Lists are known as ordered data collections\n",
    "because each item is assigned a specific location. Dictionaries work like a real-life\n",
    "dictionary, where the key is the word and the values are the definition. Dictionaries are\n",
    "useful for working with large data, mapped data, CSV files, APIs, sending or receiving\n",
    "data, and much more."
   ]
  },
  {
   "cell_type": "markdown",
   "metadata": {},
   "source": [
    "**Declaring a Dictionary**"
   ]
  },
  {
   "cell_type": "code",
   "execution_count": 4,
   "metadata": {},
   "outputs": [
    {
     "name": "stdout",
     "output_type": "stream",
     "text": [
      "{'name': 'Morty', 'age': 26}\n"
     ]
    }
   ],
   "source": [
    "#declaring a dictionary variable\n",
    "empty = {}\n",
    "person = {\"name\": \"John Smith\"}\n",
    "    # dictionary with one key/value pair\n",
    "customer = {\n",
    "    \"name\": \"Morty\",\n",
    "    \"age\" : 26\n",
    "}    # dictionary with two key/value pairs\n",
    "print(customer)"
   ]
  },
  {
   "cell_type": "markdown",
   "metadata": {},
   "source": [
    "**Accessing Dictionary Information**"
   ]
  },
  {
   "cell_type": "code",
   "execution_count": 6,
   "metadata": {},
   "outputs": [
    {
     "name": "stdout",
     "output_type": "stream",
     "text": [
      "John\n"
     ]
    }
   ],
   "source": [
    "#Accessing dictionary information through key\n",
    "person = { \"name\": \"John\" }\n",
    "print( person[ \"name\" ] ) # access information through the key"
   ]
  },
  {
   "cell_type": "markdown",
   "metadata": {},
   "source": [
    "**Using the Get Method**"
   ]
  },
  {
   "cell_type": "code",
   "execution_count": 2,
   "metadata": {},
   "outputs": [
    {
     "name": "stdout",
     "output_type": "stream",
     "text": [
      "John\n",
      "Age is not available.\n"
     ]
    }
   ],
   "source": [
    "#Using the get method to acess dictionary information\n",
    "person = {'name':'John'}\n",
    "print(person.get(\"name\"))       # retrieves value of name key as before\n",
    "print(person.get(\"age\",\"Age is not available.\"))            # get is a secureway to retrieve information"
   ]
  },
  {
   "cell_type": "markdown",
   "metadata": {},
   "source": [
    "**Dictionaries with Lists**"
   ]
  },
  {
   "cell_type": "code",
   "execution_count": 8,
   "metadata": {},
   "outputs": [
    {
     "name": "stdout",
     "output_type": "stream",
     "text": [
      "baseball\n"
     ]
    }
   ],
   "source": [
    "# storing a list within a dictionary and accessing it\n",
    "data = {\"sports\": [\"baseball\", \"football\", \"hockey\", \"soccer\"]}\n",
    "print(data[\"sports\"][0]) # first access the key, then the index"
   ]
  },
  {
   "cell_type": "code",
   "execution_count": 13,
   "metadata": {},
   "outputs": [
    {
     "ename": "ValueError",
     "evalue": "dictionary update sequence element #0 has length 8; 2 is required",
     "output_type": "error",
     "traceback": [
      "\u001b[1;31m---------------------------------------------------------------------------\u001b[0m",
      "\u001b[1;31mValueError\u001b[0m                                Traceback (most recent call last)",
      "\u001b[1;32m<ipython-input-13-82cf8a0237a2>\u001b[0m in \u001b[0;36m<module>\u001b[1;34m\u001b[0m\n\u001b[0;32m      1\u001b[0m \u001b[1;31m# improperly storing a list within a dictionary\u001b[0m\u001b[1;33m\u001b[0m\u001b[1;33m\u001b[0m\u001b[1;33m\u001b[0m\u001b[0m\n\u001b[0;32m      2\u001b[0m \u001b[0msports\u001b[0m \u001b[1;33m=\u001b[0m \u001b[1;33m[\u001b[0m \u001b[1;34m\"baseball\"\u001b[0m\u001b[1;33m,\u001b[0m \u001b[1;34m\"football\"\u001b[0m\u001b[1;33m,\u001b[0m \u001b[1;34m\"hockey\"\u001b[0m\u001b[1;33m,\u001b[0m \u001b[1;34m\"soccer\"\u001b[0m \u001b[1;33m]\u001b[0m\u001b[1;33m\u001b[0m\u001b[1;33m\u001b[0m\u001b[0m\n\u001b[1;32m----> 3\u001b[1;33m \u001b[0msports_dict\u001b[0m \u001b[1;33m=\u001b[0m \u001b[0mdict\u001b[0m\u001b[1;33m(\u001b[0m \u001b[0msports\u001b[0m \u001b[1;33m)\u001b[0m \u001b[1;31m# will produce error, no key\u001b[0m\u001b[1;33m\u001b[0m\u001b[1;33m\u001b[0m\u001b[0m\n\u001b[0m",
      "\u001b[1;31mValueError\u001b[0m: dictionary update sequence element #0 has length 8; 2 is required"
     ]
    }
   ],
   "source": [
    "# improperly storing a list within a dictionary\n",
    "sports = [ \"baseball\", \"football\", \"hockey\", \"soccer\" ]\n",
    "sports_dict = dict( sports ) # will produce error, no key\n"
   ]
  },
  {
   "cell_type": "code",
   "execution_count": 12,
   "metadata": {},
   "outputs": [
    {
     "name": "stdout",
     "output_type": "stream",
     "text": [
      "{'sports': ['baseball', 'football', 'hockey', 'soccer']}\n"
     ]
    }
   ],
   "source": [
    "# improperly storing a list within a dictionary\n",
    "sports = [ \"baseball\", \"football\", \"hockey\", \"soccer\" ]\n",
    "sports_dict1 = dict( { \"sports\" : sports } ) #will run\n",
    "print(sports_dict1)"
   ]
  },
  {
   "cell_type": "markdown",
   "metadata": {},
   "source": [
    "**Lists with Dictionaries**"
   ]
  },
  {
   "cell_type": "code",
   "execution_count": 15,
   "metadata": {},
   "outputs": [
    {
     "name": "stdout",
     "output_type": "stream",
     "text": [
      "{'name': 'Kirsten '}\n",
      "Kirsten \n"
     ]
    }
   ],
   "source": [
    "#sorting a dictoinary within a list and accessing it\n",
    "data = [\"John\", \"Dennis\",{\"name\": \"Kirsten \"}]\n",
    "print(data[2])            # the dictionary is in index 2\n",
    "print(data[2][\"name\"])    # first access the index, then access the key"
   ]
  },
  {
   "cell_type": "markdown",
   "metadata": {},
   "source": [
    "**Dictionaries with Dictionaries**"
   ]
  },
  {
   "cell_type": "code",
   "execution_count": 21,
   "metadata": {},
   "outputs": [
    {
     "name": "stdout",
     "output_type": "stream",
     "text": [
      "{'2018': 108, '2017': 93}\n",
      "108\n"
     ]
    }
   ],
   "source": [
    "# storing a dictionary within a dictionary and accessing it\n",
    "data = {\n",
    "\"team\":\"Boston Red Sox\",\n",
    "\"wins\":{\"2018\":108,\"2017\":93}\n",
    "}\n",
    "print( data[\"wins\"] )          #will output the dictoinary within the wins key\n",
    "print(data[\"wins\"][\"2018\"])    # first access the wins key, then the next key"
   ]
  },
  {
   "cell_type": "code",
   "execution_count": 17,
   "metadata": {},
   "outputs": [
    {
     "name": "stdout",
     "output_type": "stream",
     "text": [
      "{'2018': 108, '2017': 93}\n",
      "108\n"
     ]
    }
   ],
   "source": [
    "# storing a dictionary within a dictionary and accessing it\n",
    "data = {\n",
    "\"team\": \"Boston Red Sox\",\n",
    "\"wins\": { \"2018\": 108, \"2017\": 93 }\n",
    "}\n",
    "print( data[\"wins\"] ) # will output the dictionary within the wins key\n",
    "print( data[\"wins\"][\"2018\"] ) # first access the wins key, then the next key"
   ]
  },
  {
   "cell_type": "markdown",
   "metadata": {},
   "source": [
    "# MONDAY EXERCISES"
   ]
  },
  {
   "cell_type": "markdown",
   "metadata": {},
   "source": [
    "**User Input**: Ask the user for their name and age, and then create a dictionary\n",
    "with those key-value pairs. Output the dictionary once created."
   ]
  },
  {
   "cell_type": "code",
   "execution_count": 22,
   "metadata": {},
   "outputs": [
    {
     "name": "stdout",
     "output_type": "stream",
     "text": [
      "What is  your name: Badr\n",
      "What your age: 27\n",
      "{'name': 'Badr', 'age': 27}\n"
     ]
    }
   ],
   "source": [
    "name = input(\"What is  your name: \")\n",
    "age = int(input(\"What your age: \"))\n",
    "name_and_age = {\"name\": name, \"age\": age}\n",
    "print(name_and_age)\n",
    "\n"
   ]
  },
  {
   "cell_type": "markdown",
   "metadata": {},
   "source": [
    "**User Input** : Ask the user for their name and age, and then create a dictionary\n",
    "with those key-value pairs. Output the dictionary once created.\n",
    "\n",
    "<p>\n",
    ">>> pizza = { <br>\n",
    ">>> &nbsp;&nbsp;&nbsp;&nbsp;&nbsp;'ingredients' : ['cheese', 'sausage', 'peppers'] <br>\n",
    ">>> }\n",
    "</p"
   ]
  },
  {
   "cell_type": "code",
   "execution_count": 24,
   "metadata": {},
   "outputs": [
    {
     "name": "stdout",
     "output_type": "stream",
     "text": [
      "cheese\n",
      "sausage\n",
      "peppers\n"
     ]
    }
   ],
   "source": [
    "pizza = {\n",
    "    \"ingredients\":['cheese','sausage', 'peppers']\n",
    "}\n",
    "for i in pizza['ingredients']:\n",
    "    print(i)"
   ]
  },
  {
   "cell_type": "markdown",
   "metadata": {},
   "source": [
    "# Tuesday: Working with Dictionaries"
   ]
  },
  {
   "cell_type": "markdown",
   "metadata": {},
   "source": [
    "**Adding New Information**: You’ll often need to add new key-value pairs after declaring a dictionary. Let’s see how:"
   ]
  },
  {
   "cell_type": "code",
   "execution_count": 38,
   "metadata": {},
   "outputs": [
    {
     "name": "stdout",
     "output_type": "stream",
     "text": [
      "Year: 2018\tColor: Blue\n"
     ]
    }
   ],
   "source": [
    "#adding new key/value pairs to a dictionary\n",
    "car = {\"year\":2018}\n",
    "car[\"color\"] = \"Blue\"\n",
    "print(f\"Year: {car['year'] }\\tColor: {car['color']}\") "
   ]
  },
  {
   "cell_type": "code",
   "execution_count": 39,
   "metadata": {},
   "outputs": [
    {
     "name": "stdout",
     "output_type": "stream",
     "text": [
      "Year: 2018\tColor: Red\n"
     ]
    }
   ],
   "source": [
    "#Changing Information\n",
    "# updating a value for a key/value pair that already exists\n",
    "\n",
    "car = { 'year' : 2018, 'color' : 'Blue' }\n",
    "\n",
    "car['color'] = 'Red'\n",
    "\n",
    "print(f\"Year: {car['year']}\\tColor: {car['color']}\")"
   ]
  },
  {
   "cell_type": "markdown",
   "metadata": {},
   "source": [
    "**Deleting Information**: Sometimes you’ll need to remove a certain pair. To do so, you’ll need to use the **del**\n",
    "function"
   ]
  },
  {
   "cell_type": "code",
   "execution_count": 40,
   "metadata": {},
   "outputs": [
    {
     "name": "stdout",
     "output_type": "stream",
     "text": [
      "{}\n"
     ]
    }
   ],
   "source": [
    "# deleting a key/value pair from a dictionary\n",
    "car = { \"year\": 2018 }\n",
    "try:\n",
    "    del car[\"year\"]\n",
    "    print(car)\n",
    "except:\n",
    "    print(\"That key does not exist\")"
   ]
  },
  {
   "cell_type": "markdown",
   "metadata": {},
   "source": [
    "**Looping a Dictionary**"
   ]
  },
  {
   "cell_type": "markdown",
   "metadata": {},
   "source": [
    "**1.Looping Only Keys**: To iterate through a dictionary while only accessing the keys, you’ll use the **.keys()** method"
   ]
  },
  {
   "cell_type": "code",
   "execution_count": 43,
   "metadata": {},
   "outputs": [
    {
     "name": "stdout",
     "output_type": "stream",
     "text": [
      "John\n",
      "name\n",
      "26\n",
      "age\n"
     ]
    }
   ],
   "source": [
    "#Looping over a dictionary via the keys\n",
    "person ={\"name\":\"John\", \"age\":26}\n",
    "for key in person.keys():\n",
    "    print(person[key])     # will output the value at the current key\n",
    "    print(key)"
   ]
  },
  {
   "cell_type": "markdown",
   "metadata": {},
   "source": [
    "**2.Looping Only Values**:\n",
    "When you don’t need to access the keys, using the **.values( )** method is best:"
   ]
  },
  {
   "cell_type": "code",
   "execution_count": 44,
   "metadata": {},
   "outputs": [
    {
     "name": "stdout",
     "output_type": "stream",
     "text": [
      "John\n",
      "26\n"
     ]
    }
   ],
   "source": [
    "# looping over a dictionary via the values\n",
    "person = { \"name\": \"John\", \"age\": 26 }\n",
    "for value in person.values( ):\n",
    "      print(value)"
   ]
  },
  {
   "cell_type": "markdown",
   "metadata": {},
   "source": [
    "**3.Looping Key-Value Pairs**: If you need the ability to access both the key and value, then you’ll want to use the\n",
    "**.items()** method. This approach will assign two temporary variables instead of one:"
   ]
  },
  {
   "cell_type": "code",
   "execution_count": 45,
   "metadata": {},
   "outputs": [
    {
     "name": "stdout",
     "output_type": "stream",
     "text": [
      "name: John\n",
      "age: 26\n"
     ]
    }
   ],
   "source": [
    "# looping over a dictionary via the key/value pair\n",
    "person = { \"name\": \"John\", \"age\": 26 }\n",
    "for key, value in person.items( ):\n",
    "     print( f\"{ key}: { value}\" )"
   ]
  },
  {
   "cell_type": "markdown",
   "metadata": {},
   "source": [
    "# TUESDAY EXERCISES"
   ]
  },
  {
   "cell_type": "markdown",
   "metadata": {},
   "source": [
    "1.**User Input:** Declare an empty dictionary. Ask the user for their name, address,\n",
    "and number. Add that information to the dictionary and iterate over it to show\n",
    "the user"
   ]
  },
  {
   "cell_type": "code",
   "execution_count": 52,
   "metadata": {},
   "outputs": [
    {
     "name": "stdout",
     "output_type": "stream",
     "text": [
      "What is your name? ..\n",
      "What is your address? ..\n",
      "What is your number? ..\n",
      "name:..\n",
      "address:..\n",
      "number:..\n"
     ]
    }
   ],
   "source": [
    "name = input('What is your name? ')\n",
    "address = input('What is your address? ')\n",
    "number = input('What is your number? ')\n",
    "\n",
    "person_info = {}\n",
    "\n",
    "person_info['name'] = name\n",
    "person_info['address'] = address\n",
    "person_info['number'] = number\n",
    "\n",
    "\n",
    "for key, value in person_info.items():\n",
    "    print(f\"{key}:{value}\")"
   ]
  },
  {
   "cell_type": "raw",
   "metadata": {},
   "source": [
    "2. Problem Solving: What is wrong with the following code:\n",
    "\n",
    ">>> person = { 'name', 'John Smith' }\n",
    ">>> print(person['name'])"
   ]
  },
  {
   "cell_type": "code",
   "execution_count": 10,
   "metadata": {},
   "outputs": [
    {
     "name": "stdout",
     "output_type": "stream",
     "text": [
      "John Smith\n"
     ]
    }
   ],
   "source": [
    "# the name key and John Smith value should be separated by a colon, not comma. Like this:\n",
    "person = { 'name': 'John Smith' }\n",
    "print(person['name'])"
   ]
  },
  {
   "cell_type": "markdown",
   "metadata": {},
   "source": [
    "# Wednesday: Tuples, Sets, Frozensets"
   ]
  },
  {
   "cell_type": "markdown",
   "metadata": {},
   "source": [
    "Python includes several other data collections that all have their own features. Today,\n",
    "we’ll look at another three that can be useful at times."
   ]
  },
  {
   "cell_type": "markdown",
   "metadata": {},
   "source": [
    "**What Are Tuples?**   \n",
    "A tuple is identical to a list, except it is **immutable**. When something is immutable, it means that it cannot be altered once declared. Tuples are useful for storing information that you don’t want to change. They’re **ordered** like lists, so you can iterate through them using an index."
   ]
  },
  {
   "cell_type": "markdown",
   "metadata": {},
   "source": [
    "**Declaring a Tuple**   \n",
    "To declare a tuple, you use a comma to separate two or more items. Lists are denoted by their square brackets on the outside, whereas **tuples** can be declared with **optional parenthesis**. It’s more likely they’re declared with parenthesis as it’s easier to read."
   ]
  },
  {
   "cell_type": "code",
   "execution_count": 1,
   "metadata": {},
   "outputs": [
    {
     "name": "stdout",
     "output_type": "stream",
     "text": [
      "<class 'tuple'> <class 'tuple'>\n"
     ]
    },
    {
     "ename": "TypeError",
     "evalue": "'tuple' object does not support item assignment",
     "output_type": "error",
     "traceback": [
      "\u001b[1;31m---------------------------------------------------------------------------\u001b[0m",
      "\u001b[1;31mTypeError\u001b[0m                                 Traceback (most recent call last)",
      "\u001b[1;32m<ipython-input-1-80fbda71461b>\u001b[0m in \u001b[0;36m<module>\u001b[1;34m\u001b[0m\n\u001b[0;32m      3\u001b[0m \u001b[0mt2\u001b[0m \u001b[1;33m=\u001b[0m \u001b[1;32mTrue\u001b[0m\u001b[1;33m,\u001b[0m \u001b[1;36m1\u001b[0m \u001b[1;31m# without parens\u001b[0m\u001b[1;33m\u001b[0m\u001b[1;33m\u001b[0m\u001b[0m\n\u001b[0;32m      4\u001b[0m \u001b[0mprint\u001b[0m\u001b[1;33m(\u001b[0m \u001b[0mtype\u001b[0m\u001b[1;33m(\u001b[0m\u001b[0mt1\u001b[0m\u001b[1;33m)\u001b[0m\u001b[1;33m,\u001b[0m \u001b[0mtype\u001b[0m\u001b[1;33m(\u001b[0m\u001b[0mt2\u001b[0m\u001b[1;33m)\u001b[0m \u001b[1;33m)\u001b[0m \u001b[1;31m# both are tuples\u001b[0m\u001b[1;33m\u001b[0m\u001b[1;33m\u001b[0m\u001b[0m\n\u001b[1;32m----> 5\u001b[1;33m \u001b[0mt1\u001b[0m\u001b[1;33m[\u001b[0m\u001b[1;36m0\u001b[0m\u001b[1;33m]\u001b[0m \u001b[1;33m=\u001b[0m \u001b[1;36m1\u001b[0m \u001b[1;31m# will crash, tuples are immutable once declared\u001b[0m\u001b[1;33m\u001b[0m\u001b[1;33m\u001b[0m\u001b[0m\n\u001b[0m",
      "\u001b[1;31mTypeError\u001b[0m: 'tuple' object does not support item assignment"
     ]
    }
   ],
   "source": [
    "# declaring a tuple\n",
    "t1 = (\"hello\", 2, \"hello\") # with parens\n",
    "t2 = True, 1 # without parens\n",
    "print( type(t1), type(t2) ) # both are tuples\n",
    "t1[0] = 1 # will crash, tuples are immutable once declared"
   ]
  },
  {
   "cell_type": "markdown",
   "metadata": {},
   "source": [
    "**What Are Sets?**   \n",
    "Sets share the same characteristics of lists and dictionaries. A set is a collection of\n",
    "information like a list; however, like a key in a dictionary, sets can only contain **unique\n",
    "values**. They are also an **unordered collection**. **This means that they cannot be accessed\n",
    "by index but rather by the value itself like dictionary keys**. They can be iterated through\n",
    "though, like how dictionary keys can be looped over. Sets are practical in situations of\n",
    "storing unique items."
   ]
  },
  {
   "cell_type": "markdown",
   "metadata": {},
   "source": [
    "**Declaring a Set**"
   ]
  },
  {
   "cell_type": "code",
   "execution_count": 6,
   "metadata": {},
   "outputs": [
    {
     "name": "stdout",
     "output_type": "stream",
     "text": [
      "<class 'set'> <class 'set'>\n",
      "{2, 3, 5}\n"
     ]
    }
   ],
   "source": [
    "# declaring a set\n",
    "s1 = set([1, 2, 3, 1]) # uses the set keyword and square brackets\n",
    "s2 = {4, 4, 5} # uses curly brackets, like dictionary\n",
    "print(type(s1), type(s2))\n",
    "s1.add(5) # using the add method to add new items to a set\n",
    "s1.remove(1) # using the remove method to get rid of the value 1\n",
    "print(s1) # notice when printed it removed the second \"1\" at the end"
   ]
  },
  {
   "cell_type": "markdown",
   "metadata": {},
   "source": [
    "**What Are Frozensets?**  \n",
    "**Frozensets** are essentially the combination of a set and a tuple. They are **immutable**,\n",
    "**unordered**, and **unique**. These are perfect for sensitive information like bank account\n",
    "numbers, as you wouldn’t want to alter those. They can be iterated over, but not indexed"
   ]
  },
  {
   "cell_type": "markdown",
   "metadata": {},
   "source": [
    "**Declaring a Frozenset**"
   ]
  },
  {
   "cell_type": "code",
   "execution_count": 11,
   "metadata": {},
   "outputs": [
    {
     "name": "stdout",
     "output_type": "stream",
     "text": [
      "<class 'frozenset'>\n"
     ]
    }
   ],
   "source": [
    "# declaring a frozenset\n",
    "fset = frozenset([1, 2, 3, 4])\n",
    "print(type(fset))"
   ]
  },
  {
   "cell_type": "markdown",
   "metadata": {},
   "source": [
    "**Data Collection Differences**   \n",
    "The next table shows a summary of the differences between each collection"
   ]
  },
  {
   "cell_type": "code",
   "execution_count": 5,
   "metadata": {},
   "outputs": [
    {
     "data": {
      "image/png": "[encoded data removed]",
      "text/plain": [
       "<IPython.core.display.Image object>"
      ]
     },
     "execution_count": 5,
     "metadata": {},
     "output_type": "execute_result"
    }
   ],
   "source": [
    "from IPython.display import Image\n",
    "Image(filename='images_projects/image_project_week5_01.png')"
   ]
  },
  {
   "cell_type": "markdown",
   "metadata": {},
   "source": [
    "### WEDNESDAY EXERCISES"
   ]
  },
  {
   "cell_type": "raw",
   "metadata": {},
   "source": [
    "1. User Input: ask the user to input as many bank account numbers as they’d\n",
    "like, and store them within a list initially. once the user is done entering\n",
    "information, convert the list to a frozenset and print it out."
   ]
  },
  {
   "cell_type": "code",
   "execution_count": 14,
   "metadata": {},
   "outputs": [
    {
     "name": "stdout",
     "output_type": "stream",
     "text": [
      "How many bank acount number you want to stor :4\n",
      "Enter the 1 acount :0\n",
      "Enter the 2 acount :1\n",
      "Enter the 3 acount :2\n",
      "Enter the 4 acount :3\n",
      "frozenset({0, 1, 2, 3})\n",
      "<class 'frozenset'>\n"
     ]
    }
   ],
   "source": [
    "acounts = [] # or acounts = list()\n",
    "numbers_acount = int(input(\"How many bank acount number you want to stor :\"))\n",
    "for number_acount in range(numbers_acount):\n",
    "    acount = int(input(\"Enter the {} acount :\".format(number_acount+1)))\n",
    "    acounts.append(acount)\n",
    "\n",
    "frozenset_conv = frozenset(acounts)\n",
    "print(frozenset_conv)\n",
    "print(type(frozenset_conv))"
   ]
  },
  {
   "cell_type": "raw",
   "metadata": {},
   "source": [
    "2. Conversion: Convert the following list into a set of unique values. print it out\n",
    "after to check there are no duplicates:\n",
    ">>> nums = [3, 4, 3, 7, 10]"
   ]
  },
  {
   "cell_type": "code",
   "execution_count": 21,
   "metadata": {},
   "outputs": [
    {
     "name": "stdout",
     "output_type": "stream",
     "text": [
      "{10, 3, 4, 7}\n",
      "<class 'set'>\n"
     ]
    }
   ],
   "source": [
    "nums = [3, 4, 3, 7, 10]\n",
    "list_into_set = set(nums)\n",
    "print(list_into_set)\n",
    "print(type(list_into_set))"
   ]
  },
  {
   "cell_type": "markdown",
   "metadata": {},
   "source": [
    "# Thursday: Reading and Writing Files"
   ]
  },
  {
   "cell_type": "markdown",
   "metadata": {},
   "source": [
    "Depending on the type of program you’re writing, you’ll need to save or access\n",
    "information. To do so, you’ll need to understand how to work with files, whether it be\n",
    "creating, writing, or reading."
   ]
  },
  {
   "cell_type": "markdown",
   "metadata": {},
   "source": [
    "**Working with Text Files**   \n"
   ]
  },
  {
   "cell_type": "code",
   "execution_count": 1,
   "metadata": {},
   "outputs": [
    {
     "name": "stdout",
     "output_type": "stream",
     "text": [
      "this is a test\n"
     ]
    }
   ],
   "source": [
    "# opening/creating and writing to a text file\n",
    "f = open(\"test.txt\", \"w+\") # open file in writing and reading mode\n",
    "f.write(\"this is a test\")\n",
    "f.close( )\n",
    "# reading from a text file\n",
    "f = open(\"test.txt\", \"r\")\n",
    "data = f.read( )\n",
    "f.close( )\n",
    "print(data)"
   ]
  },
  {
   "cell_type": "markdown",
   "metadata": {},
   "source": [
    "Note: Mode “w” will overwrite the entire file. Use “a” for appending."
   ]
  },
  {
   "cell_type": "markdown",
   "metadata": {},
   "source": [
    "**Writing to CSV Files**"
   ]
  },
  {
   "cell_type": "code",
   "execution_count": 2,
   "metadata": {},
   "outputs": [],
   "source": [
    "# opening/creating and writing to a csv file\n",
    "import csv\n",
    "with open(\"test.csv\", mode=\"w\", newline=\"\") as f:\n",
    "    writer = csv.writer(f, delimiter=\",\")\n",
    "    writer.writerow( [\"Name\", \"City\"] )\n",
    "    writer.writerow( [\"Craig Lou\", \"Taiwan\"] )"
   ]
  },
  {
   "cell_type": "markdown",
   "metadata": {},
   "source": [
    "**Reading from CSV Files**"
   ]
  },
  {
   "cell_type": "code",
   "execution_count": 3,
   "metadata": {},
   "outputs": [
    {
     "name": "stdout",
     "output_type": "stream",
     "text": [
      "['Name', 'City']\n",
      "['Craig Lou', 'Taiwan']\n"
     ]
    }
   ],
   "source": [
    "# reading from csv files\n",
    "with open(\"test.csv\", mode=\"r\") as f:\n",
    "    reader = csv.reader(f, delimiter=\",\")\n",
    "    for row in reader:\n",
    "        print(row)"
   ]
  },
  {
   "cell_type": "markdown",
   "metadata": {},
   "source": [
    "Note: objects will be covered in a later week.\n",
    "\n",
    "**File Modes in Python**   \n",
    "\n",
    "The folowing table shows a few more file modes that you can use in Python."
   ]
  },
  {
   "cell_type": "code",
   "execution_count": 6,
   "metadata": {},
   "outputs": [
    {
     "data": {
      "image/png": "[encoded data removed]",
      "text/plain": [
       "<IPython.core.display.Image object>"
      ]
     },
     "execution_count": 6,
     "metadata": {},
     "output_type": "execute_result"
    }
   ],
   "source": [
    "Image(filename='images_projects/image_project_week5_02.png')"
   ]
  },
  {
   "cell_type": "markdown",
   "metadata": {},
   "source": [
    "## THURSDAY EXERCISES"
   ]
  },
  {
   "cell_type": "raw",
   "metadata": {},
   "source": [
    "1. User Input: ask a user for their favorite number, and save it to a text file."
   ]
  },
  {
   "cell_type": "code",
   "execution_count": 8,
   "metadata": {},
   "outputs": [
    {
     "name": "stdout",
     "output_type": "stream",
     "text": [
      "What is your favorite number? 55\n"
     ]
    }
   ],
   "source": [
    "ans = input(\"What is your favorite number? \")\n",
    "\n",
    "f = open(\"numbers.txt\", 'w+')     # open file in writing and reading mode\n",
    "\n",
    "f.write('favorite number is {}'.format(ans))\n",
    "\n",
    "f.close()"
   ]
  },
  {
   "cell_type": "raw",
   "metadata": {},
   "source": [
    "2. Data Dumping: Using the dictionary of following data, save the\n",
    "information to a csv file with the keys as the headers and the\n",
    "values as the rows of data:\n",
    ">>> data = {\n",
    "'name' : ['Dave', 'Dennis', 'Peter', 'Jess'],\n",
    "'language': ['Python', 'C', 'Java', 'Python']\n",
    "}"
   ]
  },
  {
   "cell_type": "code",
   "execution_count": 9,
   "metadata": {},
   "outputs": [],
   "source": [
    "data = {\n",
    "    'name' : ['Dave', 'Dennis', 'Peter', \"Jess\"],\n",
    "    'language' : ['Python', 'C', 'Java', 'Python']\n",
    "}\n",
    "\n",
    "import csv\n",
    "\n",
    "with open('data.csv', mode='w', newline='') as f:\n",
    "    writer = csv.writer(f, delimiter=',')\n",
    "    writer.writerow(data.keys())\n",
    "    \n",
    "    for i in range(len(data['name'])):\n",
    "        writer.writerow([data['name'][i], data['language'][i]])"
   ]
  }
 ],
 "metadata": {
  "kernelspec": {
   "display_name": "Python 3",
   "language": "python",
   "name": "python3"
  },
  "language_info": {
   "codemirror_mode": {
    "name": "ipython",
    "version": 3
   },
   "file_extension": ".py",
   "mimetype": "text/x-python",
   "name": "python",
   "nbconvert_exporter": "python",
   "pygments_lexer": "ipython3",
   "version": "3.7.6"
  }
 },
 "nbformat": 4,
 "nbformat_minor": 5
}
