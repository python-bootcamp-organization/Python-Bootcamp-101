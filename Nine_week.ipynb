{
 "cells": [
  {
   "cell_type": "markdown",
   "id": "45547ba8",
   "metadata": {},
   "source": [
    "# Introduction to Data Analysis"
   ]
  },
  {
   "cell_type": "markdown",
   "id": "d08a3f14",
   "metadata": {},
   "source": [
    "# Monday: Virtual Environments and Requests Module"
   ]
  },
  {
   "cell_type": "markdown",
   "id": "c293ca55",
   "metadata": {},
   "source": [
    "Today we’ll be learning all about virtual environments, why we need them and how to\n",
    "use them. They’re necessary for what we need to do this week, which is downloading\n",
    "and importing a few libraries to work with. We’ll also get into the requests module and\n",
    "cover APIs briefly.\n",
    "For today’s lesson, we won’t be starting out in Jupyter Notebook; instead open the\n",
    "terminal and cd into the “python_bootcamp” folder if you haven’t already. If you have\n",
    "the terminal running Jupyter Notebook, be sure to stop it, as we need to write some\n",
    "commands in the terminal."
   ]
  },
  {
   "cell_type": "markdown",
   "id": "9694a5d8",
   "metadata": {},
   "source": [
    "**What Are Virtual Environments?**\n",
    "\n",
    "Python virtual environments are essentially a tool that allows you to keep project\n",
    "dependencies in a separate space from other projects. Most projects in Python need\n",
    "to use modules that are not included by default with Python. Now, you could simply\n",
    "download the modules (or libraries) into your Python folder to use; however, that could\n",
    "cause some issues down the road. Let’s say you’re working on two separate projects,\n",
    "where the first one uses Python version 2.7 and the second project uses Python version\n",
    "3.5. If you try and use the same syntax for both, you’ll run into several issues. Instead,\n",
    "you would create two separate virtual environments, one for each project. This way both\n",
    "projects can run properly using the correct dependencies because of the personalized\n",
    "virtual environment."
   ]
  },
  {
   "cell_type": "markdown",
   "id": "1834fd8a",
   "metadata": {},
   "source": [
    "**Creating a Virtual Environment**\n",
    "\n",
    "One of the big reasons Anaconda is such a wonderful tool is because of its ability to\n",
    "organize virtual environments for us. We’re going to use it to create our first virtual\n",
    "environment. While in terminal, type in the following command:"
   ]
  },
  {
   "cell_type": "markdown",
   "id": "94f41677",
   "metadata": {},
   "source": [
    "$ conda create --name data_analysis python=3.7"
   ]
  },
  {
   "cell_type": "markdown",
   "id": "5624edb1",
   "metadata": {},
   "source": [
    "**Activating the Virtual Environment**\n",
    "\n",
    "The second step in using a virtual environment is activating it. Activating an\n",
    "environment allows the computer to execute our scripts from a separate executable. By\n",
    "default, we use the Python executable file stored in our program’s directory. We can see\n",
    "the PATH of the executable by entering the following commands into the terminal:\n",
    "We need to activate the Python shell first:"
   ]
  },
  {
   "cell_type": "markdown",
   "id": "3dbd421b",
   "metadata": {},
   "source": [
    "$ python"
   ]
  },
  {
   "cell_type": "markdown",
   "id": "5bc7ab3e",
   "metadata": {},
   "source": [
    "Now we can view the PATH by typing in the following lines:"
   ]
  },
  {
   "cell_type": "markdown",
   "id": "84284781",
   "metadata": {},
   "source": [
    "<p>>>>import os<br>\n",
    ">>> import sys<br>\n",
    ">>> os.path.dirname(sys.executable)</p>"
   ]
  },
  {
   "cell_type": "markdown",
   "id": "c0d75558",
   "metadata": {},
   "source": [
    "You’ll notice that the PATH is your default folder where Python was originally\n",
    "installed. Go ahead and exit the Python shell once you’re done. We’ll come back to these\n",
    "same commands at the end of this section to see how the PATH has changed once the\n",
    "environment is activated.\n",
    "Once you create the environment, you don’t need to create it again; you can simply\n",
    "activate it anytime you need to use it. Before you’re able to download libraries into the\n",
    "environment, you must first activate it. Depending on your operating system, write the\n",
    "following command in terminal: <br>\n",
    "For Windows:"
   ]
  },
  {
   "cell_type": "markdown",
   "id": "c899f0cb",
   "metadata": {},
   "source": [
    "$ activate data_analysis"
   ]
  },
  {
   "cell_type": "markdown",
   "id": "b803f109",
   "metadata": {},
   "source": [
    "<p>>>> (data_analysis) C:\\Users...<br>"
   ]
  },
  {
   "cell_type": "markdown",
   "id": "cacfae9f",
   "metadata": {},
   "source": [
    "For Mac/Linux:"
   ]
  },
  {
   "cell_type": "markdown",
   "id": "985eca54",
   "metadata": {},
   "source": [
    "$ source activate data_analysis"
   ]
  },
  {
   "cell_type": "markdown",
   "id": "5f0083e6",
   "metadata": {},
   "source": [
    "Like Windows, after activating the environment, you’ll see the name to the left of\n",
    "your directory:<br>\n",
    "<p>>>> (data_analysis) <User>~/Desktop...<br>"
   ]
  },
  {
   "cell_type": "markdown",
   "id": "1a081714",
   "metadata": {},
   "source": [
    "If you can see the name on the side, you’ve successfully activated the environment.\n",
    "Before we move on, let’s see where our executable is now by running the same\n",
    "commands in the Python shell from the beginning of this section, to view the PATH of\n",
    "the executable: <br>\n",
    "<p>>>>import os<br>\n",
    ">>> import sys<br>\n",
    ">>> os.path.dirname(sys.executable)</p>\n"
   ]
  },
  {
   "cell_type": "markdown",
   "id": "d477972e",
   "metadata": {},
   "source": [
    "**Installing Packages**<br>\n",
    "To install packages into the virtual environment, we’ll use pip. The syntax is always the\n",
    "same to install any package. It’s the keywords pip install, followed by the package name.\n",
    "In our case, we’ll be working with the requests package today. Let’s write the following\n",
    "command:"
   ]
  },
  {
   "cell_type": "markdown",
   "id": "f5dc6c54",
   "metadata": {},
   "source": [
    "$ pip install requests"
   ]
  },
  {
   "cell_type": "markdown",
   "id": "2910a400",
   "metadata": {},
   "source": [
    "**APIs and the Requests Module**<br>\n",
    "\n",
    "The requests module allows us to make HTTP requests using Python. It is the standard\n",
    "library for making API calls and requesting information from outside resources\n",
    "If you’re unfamiliar with HTTP requests, I suggest checking out the\n",
    "w3schools resource for more information, as this book is not designed to cover\n",
    "networking. <br>\n",
    "www.w3schools.com/tags/ref_httpmethods.asp"
   ]
  },
  {
   "cell_type": "markdown",
   "id": "fe09447d",
   "metadata": {},
   "source": [
    "**Sending a Request**<br>\n",
    "For this lesson, we’ll be requesting information from an API created by Github.\n",
    "Generally, APIs require a key in order to use their service; however, we’ll be using one\n",
    "that doesn’t require an API key. To begin, we must send a request to a specific URL,\n",
    "which will send a response back to us. That response will include data that we’ll be able\n",
    "to parse through. Write the following:"
   ]
  },
  {
   "cell_type": "code",
   "execution_count": 4,
   "id": "b08dbcc0",
   "metadata": {},
   "outputs": [
    {
     "name": "stdout",
     "output_type": "stream",
     "text": [
      "<Response [200]>\n",
      "<class 'requests.models.Response'>\n"
     ]
    }
   ],
   "source": [
    "# sending a request and logging the response code\n",
    "import requests\n",
    "r = requests.get(\"https://api.github.com/users/Connor-SM\")\n",
    "print(r)\n",
    "print(type(r))"
   ]
  },
  {
   "cell_type": "markdown",
   "id": "6a855cc8",
   "metadata": {},
   "source": [
    "**Accessing the Response Content**\n",
    "\n",
    "In order to access the data that we get back in the response, we need to access the\n",
    "content attribute within our requests object:"
   ]
  },
  {
   "cell_type": "code",
   "execution_count": 7,
   "id": "0effa331",
   "metadata": {},
   "outputs": [
    {
     "name": "stdout",
     "output_type": "stream",
     "text": [
      "b'{\"login\":\"Connor-SM\",\"id\":20958711,\"node_id\":\"MDQ6VXNlcjIwOTU4NzEx\",\"avatar_url\":\"https://avatars.githubusercontent.com/u/20958711?v=4\",\"gravatar_id\":\"\",\"url\":\"https://api.github.com/users/Connor-SM\",\"html_url\":\"https://github.com/Connor-SM\",\"followers_url\":\"https://api.github.com/users/Connor-SM/followers\",\"following_url\":\"https://api.github.com/users/Connor-SM/following{/other_user}\",\"gists_url\":\"https://api.github.com/users/Connor-SM/gists{/gist_id}\",\"starred_url\":\"https://api.github.com/users/Connor-SM/starred{/owner}{/repo}\",\"subscriptions_url\":\"https://api.github.com/users/Connor-SM/subscriptions\",\"organizations_url\":\"https://api.github.com/users/Connor-SM/orgs\",\"repos_url\":\"https://api.github.com/users/Connor-SM/repos\",\"events_url\":\"https://api.github.com/users/Connor-SM/events{/privacy}\",\"received_events_url\":\"https://api.github.com/users/Connor-SM/received_events\",\"type\":\"User\",\"site_admin\":false,\"name\":\"Connor Milliken\",\"company\":\"HubSpot, Inc.\",\"blog\":\"www.connormilliken.com\",\"location\":\"Boston, MA\",\"email\":null,\"hireable\":null,\"bio\":\"- Author of Python Projects for Beginners\\\\r\\\\n\\\\r\\\\n- Python Instructor\\\\r\\\\n\\\\r\\\\n- Adventurer/Traveler\",\"twitter_username\":null,\"public_repos\":51,\"public_gists\":0,\"followers\":81,\"following\":36,\"created_at\":\"2016-08-10T22:39:46Z\",\"updated_at\":\"2021-02-10T15:50:32Z\"}'\n"
     ]
    }
   ],
   "source": [
    "# accessing the content that we requested from the URL\n",
    "data = r.content\n",
    "print(data)"
   ]
  },
  {
   "cell_type": "markdown",
   "id": "28951489",
   "metadata": {},
   "source": [
    "**Converting the Response**\n",
    "\n",
    "Luckily for us, the requests object comes with a built-in JSON conversion method called\n",
    "json(). After we convert the response to a dictionary, let’s output all the key-value pairs:"
   ]
  },
  {
   "cell_type": "code",
   "execution_count": 13,
   "id": "ddf4d7d2",
   "metadata": {},
   "outputs": [
    {
     "name": "stdout",
     "output_type": "stream",
     "text": [
      "Key: login \t Value: Connor-SM\n",
      "Key: id \t Value: 20958711\n",
      "Key: node_id \t Value: MDQ6VXNlcjIwOTU4NzEx\n",
      "Key: avatar_url \t Value: https://avatars.githubusercontent.com/u/20958711?v=4\n",
      "Key: gravatar_id \t Value: \n",
      "Key: url \t Value: https://api.github.com/users/Connor-SM\n",
      "Key: html_url \t Value: https://github.com/Connor-SM\n",
      "Key: followers_url \t Value: https://api.github.com/users/Connor-SM/followers\n",
      "Key: following_url \t Value: https://api.github.com/users/Connor-SM/following{/other_user}\n",
      "Key: gists_url \t Value: https://api.github.com/users/Connor-SM/gists{/gist_id}\n",
      "Key: starred_url \t Value: https://api.github.com/users/Connor-SM/starred{/owner}{/repo}\n",
      "Key: subscriptions_url \t Value: https://api.github.com/users/Connor-SM/subscriptions\n",
      "Key: organizations_url \t Value: https://api.github.com/users/Connor-SM/orgs\n",
      "Key: repos_url \t Value: https://api.github.com/users/Connor-SM/repos\n",
      "Key: events_url \t Value: https://api.github.com/users/Connor-SM/events{/privacy}\n",
      "Key: received_events_url \t Value: https://api.github.com/users/Connor-SM/received_events\n",
      "Key: type \t Value: User\n",
      "Key: site_admin \t Value: False\n",
      "Key: name \t Value: Connor Milliken\n",
      "Key: company \t Value: HubSpot, Inc.\n",
      "Key: blog \t Value: www.connormilliken.com\n",
      "Key: location \t Value: Boston, MA\n",
      "Key: email \t Value: None\n",
      "Key: hireable \t Value: None\n",
      "Key: bio \t Value: - Author of Python Projects for Beginners\r\n",
      "\r\n",
      "- Python Instructor\r\n",
      "\r\n",
      "- Adventurer/Traveler\n",
      "Key: twitter_username \t Value: None\n",
      "Key: public_repos \t Value: 51\n",
      "Key: public_gists \t Value: 0\n",
      "Key: followers \t Value: 81\n",
      "Key: following \t Value: 36\n",
      "Key: created_at \t Value: 2016-08-10T22:39:46Z\n",
      "Key: updated_at \t Value: 2021-02-10T15:50:32Z\n",
      "Connor Milliken\n"
     ]
    }
   ],
   "source": [
    "# converting data from JSON into a Python dictionary and outputting all key-value pairs\n",
    "data =r.json()\n",
    "for k, v in data.items():\n",
    "    print(f\"Key: {k} \\t Value: {v}\")\n",
    "print(data[\"name\"])"
   ]
  },
  {
   "cell_type": "markdown",
   "id": "d25dcaff",
   "metadata": {},
   "source": [
    "**Passing Parameters**"
   ]
  },
  {
   "cell_type": "markdown",
   "id": "3ea7269c",
   "metadata": {},
   "source": [
    "Most API calls that you perform will require extra information like parameters or\n",
    "headers. This information is taken in by the API and used to perform a specific task.\n",
    "Let’s perform a call this time while passing parameters in the URL to search for Python-specific\n",
    "repositories on Github:"
   ]
  },
  {
   "cell_type": "code",
   "execution_count": 17,
   "id": "13efb8e0",
   "metadata": {},
   "outputs": [
    {
     "name": "stdout",
     "output_type": "stream",
     "text": [
      "2089464\n"
     ]
    }
   ],
   "source": [
    "# outputting specific key-value pairs from data\n",
    "r = requests.get(\"https://api.github.com/search/repositories?q=language: python\")\n",
    "data = r.json()\n",
    "print(data[\"total_count\"])        ## output the total number of repositories that use python"
   ]
  },
  {
   "cell_type": "markdown",
   "id": "4267e4c7",
   "metadata": {},
   "source": [
    "# MONDAY EXERCISES"
   ]
  },
  {
   "cell_type": "markdown",
   "id": "2cf92f47",
   "metadata": {},
   "source": [
    "**1. Test Environment:** Create a new virtual environment called “test.” When\n",
    "creating it, install Python version 2.7 instead of the current version. After\n",
    "it’s completed, make sure it installed the proper version of Python by\n",
    "checking the list."
   ]
  },
  {
   "cell_type": "code",
   "execution_count": 18,
   "id": "51a48a5e",
   "metadata": {},
   "outputs": [],
   "source": [
    "## done"
   ]
  },
  {
   "cell_type": "markdown",
   "id": "8c08f214",
   "metadata": {},
   "source": [
    "**2. JavaScript Repositories:** Using the requests module and the Github API link in\n",
    "our last lesson, figure out how many repositories on Github use JavaScript."
   ]
  },
  {
   "cell_type": "code",
   "execution_count": 19,
   "id": "80892c17",
   "metadata": {},
   "outputs": [
    {
     "name": "stdout",
     "output_type": "stream",
     "text": [
      "1022840\n"
     ]
    }
   ],
   "source": [
    "r = requests.get(\"https://api.github.com/search/repositories?q=language: javascript\")\n",
    "data = r.json()\n",
    "print(data[\"total_count\"])  "
   ]
  },
  {
   "cell_type": "markdown",
   "id": "ca09faa9",
   "metadata": {},
   "source": [
    "# Tuesday: Pandas"
   ]
  },
  {
   "cell_type": "markdown",
   "id": "c3640d72",
   "metadata": {},
   "source": [
    "**What Is Pandas?**\n",
    "\n",
    "Pandas is a flexible data analysis library built within the C language, which is excellent\n",
    "for working with tabular data. It is currently the de facto standard for Python-based data\n",
    "analysis, and fluency in Pandas will do wonders for your productivity and frankly your\n",
    "resume. It is one of the fastest ways of getting from zero to answer. Having been written\n",
    "in C, it has increased speed when performing calculations. The Pandas module is a high\n",
    "performance, highly efficient, and high-level data analysis library. It allows us to work\n",
    "with large sets of data called DataFrames."
   ]
  },
  {
   "cell_type": "markdown",
   "id": "bcf016c7",
   "metadata": {},
   "source": [
    "**Installing Pandas**\n",
    "\n",
    "To install Pandas, make sure your virtual environment is activated first, then write the\n",
    "following command into the terminal"
   ]
  },
  {
   "cell_type": "code",
   "execution_count": 2,
   "id": "c1aab9f4",
   "metadata": {},
   "outputs": [],
   "source": [
    "#importing the pandas library\n",
    "import pandas as pd # industry standard name of pd when importing"
   ]
  },
  {
   "cell_type": "markdown",
   "id": "9079482d",
   "metadata": {},
   "source": [
    "**Creating a DataFrame**\n",
    "\n",
    "The central object of study in Pandas is the DataFrame, which is a tabular data structure\n",
    "with rows and columns like an Excel spreadsheet. You can create a DataFrame from a\n",
    "Python dictionary or a file that has tabular data, like a CSV file. Let’s create our own from\n",
    "a dictionary:"
   ]
  },
  {
   "cell_type": "code",
   "execution_count": 4,
   "id": "d6eb9735",
   "metadata": {},
   "outputs": [
    {
     "name": "stdout",
     "output_type": "stream",
     "text": [
      "     names  ages\n",
      "0     Jess    25\n",
      "1   Jordan    35\n",
      "2    Sandy    22\n",
      "3      Ted    29\n",
      "4   Barney    33\n",
      "5    Tyler    20\n",
      "6  Rebecca    18\n"
     ]
    }
   ],
   "source": [
    "# using the from_dict method to convert a dictionary into a Pandas DataFrame\n",
    "import random\n",
    "random.seed(3)   # generate same random numbers every time, number used doesn't matter\n",
    "names = [ \"Jess\", \"Jordan\", \"Sandy\", \"Ted\", \"Barney\", \"Tyler\", \"Rebecca\" ]\n",
    "ages = [random.randint(18, 35) for x in range(len(names))]\n",
    "people = {\"names\":names, \"ages\": ages}\n",
    "df = pd.DataFrame.from_dict(people)\n",
    "print(df)"
   ]
  },
  {
   "cell_type": "markdown",
   "id": "8a05ca76",
   "metadata": {},
   "source": [
    "**Note** Random numbers aren’t truly random; they follow a specific algorithm to\n",
    "return a number"
   ]
  },
  {
   "cell_type": "markdown",
   "id": "eb1c7c1f",
   "metadata": {},
   "source": [
    "After we generate a list of names and random ages for each person, we create a\n",
    "dictionary called “people.” The magic truly happens on line 11, where we use Pandas to\n",
    "create the DataFrame that we’ll be working with. When it’s created, it uses the keys as\n",
    "the column names, and the values match up with the corresponding index, such that\n",
    "names[0] and ages[0] will be a single record. You should output a table that looks like\n",
    "Table 10-1"
   ]
  },
  {
   "cell_type": "code",
   "execution_count": 6,
   "id": "0bbc0e6a",
   "metadata": {},
   "outputs": [
    {
     "data": {
      "image/png": "[encoded data removed]",
      "text/plain": [
       "<IPython.core.display.Image object>"
      ]
     },
     "execution_count": 6,
     "metadata": {},
     "output_type": "execute_result"
    }
   ],
   "source": [
    "from IPython.display import Image\n",
    "Image(filename='images_projects/DataFrame.png')"
   ]
  },
  {
   "cell_type": "markdown",
   "id": "5d024080",
   "metadata": {},
   "source": [
    "**Accessing Data**\n",
    "\n",
    "There are a few different ways that we can access the data within a DataFrame. You have\n",
    "the option to choose by the column or by the record. Let’s look at how to do both"
   ]
  },
  {
   "cell_type": "markdown",
   "id": "5f85a7d6",
   "metadata": {},
   "source": [
    "**Indexing by Column**\n",
    "\n",
    "Accessing data by a column is the same as accessing data from a dictionary with the key.\n",
    "Within the first set of brackets, you put the column name that you would like to access. If\n",
    "you’d like to access a specific record within that column, you use a second set of brackets\n",
    "with the index:"
   ]
  },
  {
   "cell_type": "code",
   "execution_count": 10,
   "id": "2949921f",
   "metadata": {},
   "outputs": [
    {
     "data": {
      "text/plain": [
       "29"
      ]
     },
     "execution_count": 10,
     "metadata": {},
     "output_type": "execute_result"
    }
   ],
   "source": [
    "# directly selecting a column in Pandas\n",
    "df[\"ages\"]\n",
    "df[\"ages\"][3]    # select the value of \"ages\" in the fourth row (0-index based) doesn't work,\n",
    "#df[4]            #doesn't work, 4 is not a column name"
   ]
  },
  {
   "cell_type": "markdown",
   "id": "f28c7957",
   "metadata": {},
   "source": [
    "**Slicing a DataFrame**\n",
    "\n",
    "When you want to access a specific number of records, you must slice the DataFrame.\n",
    "Slicing in Pandas works the exact same way as a Python list does, using start, stop, and\n",
    "step within a set of brackets. Let’s access the records from index 2 up to 5:"
   ]
  },
  {
   "cell_type": "code",
   "execution_count": 12,
   "id": "8a813b9d",
   "metadata": {},
   "outputs": [
    {
     "data": {
      "text/html": [
       "<div>\n",
       "<style scoped>\n",
       "    .dataframe tbody tr th:only-of-type {\n",
       "        vertical-align: middle;\n",
       "    }\n",
       "\n",
       "    .dataframe tbody tr th {\n",
       "        vertical-align: top;\n",
       "    }\n",
       "\n",
       "    .dataframe thead th {\n",
       "        text-align: right;\n",
       "    }\n",
       "</style>\n",
       "<table border=\"1\" class=\"dataframe\">\n",
       "  <thead>\n",
       "    <tr style=\"text-align: right;\">\n",
       "      <th></th>\n",
       "      <th>names</th>\n",
       "      <th>ages</th>\n",
       "    </tr>\n",
       "  </thead>\n",
       "  <tbody>\n",
       "    <tr>\n",
       "      <th>2</th>\n",
       "      <td>Sandy</td>\n",
       "      <td>22</td>\n",
       "    </tr>\n",
       "    <tr>\n",
       "      <th>3</th>\n",
       "      <td>Ted</td>\n",
       "      <td>29</td>\n",
       "    </tr>\n",
       "    <tr>\n",
       "      <th>4</th>\n",
       "      <td>Barney</td>\n",
       "      <td>33</td>\n",
       "    </tr>\n",
       "  </tbody>\n",
       "</table>\n",
       "</div>"
      ],
      "text/plain": [
       "    names  ages\n",
       "2   Sandy    22\n",
       "3     Ted    29\n",
       "4  Barney    33"
      ]
     },
     "execution_count": 12,
     "metadata": {},
     "output_type": "execute_result"
    }
   ],
   "source": [
    "# slicing a DataFrame to grab specific records\n",
    "df[2:5]"
   ]
  },
  {
   "cell_type": "markdown",
   "id": "99696a93",
   "metadata": {},
   "source": [
    "**Built-in Methods**\n",
    "\n",
    "These are methods that are frequently used to make your life easier when using Pandas.\n",
    "It is possible to spend a whole week simply exploring the built-in functions supported by\n",
    "DataFrames in Pandas. However, we will simply highlight a few that will be useful, to give\n",
    "you an idea of what’s possible out of the box with Pandas."
   ]
  },
  {
   "cell_type": "markdown",
   "id": "d0b0213a",
   "metadata": {},
   "source": [
    "**1.head( )**\n",
    "\n",
    "When you work with large sets of data, you’ll often want to view a couple records to get\n",
    "an idea of what you’re looking at. To see the top records in the DataFrame, along with the\n",
    "column names, you use the **head()** method:"
   ]
  },
  {
   "cell_type": "code",
   "execution_count": 14,
   "id": "c43d9c9f",
   "metadata": {},
   "outputs": [
    {
     "data": {
      "text/html": [
       "<div>\n",
       "<style scoped>\n",
       "    .dataframe tbody tr th:only-of-type {\n",
       "        vertical-align: middle;\n",
       "    }\n",
       "\n",
       "    .dataframe tbody tr th {\n",
       "        vertical-align: top;\n",
       "    }\n",
       "\n",
       "    .dataframe thead th {\n",
       "        text-align: right;\n",
       "    }\n",
       "</style>\n",
       "<table border=\"1\" class=\"dataframe\">\n",
       "  <thead>\n",
       "    <tr style=\"text-align: right;\">\n",
       "      <th></th>\n",
       "      <th>names</th>\n",
       "      <th>ages</th>\n",
       "    </tr>\n",
       "  </thead>\n",
       "  <tbody>\n",
       "    <tr>\n",
       "      <th>0</th>\n",
       "      <td>Jess</td>\n",
       "      <td>25</td>\n",
       "    </tr>\n",
       "    <tr>\n",
       "      <th>1</th>\n",
       "      <td>Jordan</td>\n",
       "      <td>35</td>\n",
       "    </tr>\n",
       "    <tr>\n",
       "      <th>2</th>\n",
       "      <td>Sandy</td>\n",
       "      <td>22</td>\n",
       "    </tr>\n",
       "    <tr>\n",
       "      <th>3</th>\n",
       "      <td>Ted</td>\n",
       "      <td>29</td>\n",
       "    </tr>\n",
       "    <tr>\n",
       "      <th>4</th>\n",
       "      <td>Barney</td>\n",
       "      <td>33</td>\n",
       "    </tr>\n",
       "  </tbody>\n",
       "</table>\n",
       "</div>"
      ],
      "text/plain": [
       "    names  ages\n",
       "0    Jess    25\n",
       "1  Jordan    35\n",
       "2   Sandy    22\n",
       "3     Ted    29\n",
       "4  Barney    33"
      ]
     },
     "execution_count": 14,
     "metadata": {},
     "output_type": "execute_result"
    }
   ],
   "source": [
    "# accessing the top 5 records using .head( )\n",
    "df.head(5)"
   ]
  },
  {
   "cell_type": "markdown",
   "id": "ea4541b6",
   "metadata": {},
   "source": [
    "**2.tail( )**\n",
    "\n",
    "To view a given number of records from the bottom, you would use the **tail()** method:"
   ]
  },
  {
   "cell_type": "code",
   "execution_count": 16,
   "id": "fdec2929",
   "metadata": {},
   "outputs": [
    {
     "data": {
      "text/html": [
       "<div>\n",
       "<style scoped>\n",
       "    .dataframe tbody tr th:only-of-type {\n",
       "        vertical-align: middle;\n",
       "    }\n",
       "\n",
       "    .dataframe tbody tr th {\n",
       "        vertical-align: top;\n",
       "    }\n",
       "\n",
       "    .dataframe thead th {\n",
       "        text-align: right;\n",
       "    }\n",
       "</style>\n",
       "<table border=\"1\" class=\"dataframe\">\n",
       "  <thead>\n",
       "    <tr style=\"text-align: right;\">\n",
       "      <th></th>\n",
       "      <th>names</th>\n",
       "      <th>ages</th>\n",
       "    </tr>\n",
       "  </thead>\n",
       "  <tbody>\n",
       "    <tr>\n",
       "      <th>4</th>\n",
       "      <td>Barney</td>\n",
       "      <td>33</td>\n",
       "    </tr>\n",
       "    <tr>\n",
       "      <th>5</th>\n",
       "      <td>Tyler</td>\n",
       "      <td>20</td>\n",
       "    </tr>\n",
       "    <tr>\n",
       "      <th>6</th>\n",
       "      <td>Rebecca</td>\n",
       "      <td>18</td>\n",
       "    </tr>\n",
       "  </tbody>\n",
       "</table>\n",
       "</div>"
      ],
      "text/plain": [
       "     names  ages\n",
       "4   Barney    33\n",
       "5    Tyler    20\n",
       "6  Rebecca    18"
      ]
     },
     "execution_count": 16,
     "metadata": {},
     "output_type": "execute_result"
    }
   ],
   "source": [
    "# accessing the bottom 3 records using .tail( )\n",
    "df.tail(3)"
   ]
  },
  {
   "cell_type": "markdown",
   "id": "9ec9c60f",
   "metadata": {},
   "source": [
    "**3.keys( )**\n",
    "\n",
    "Sometimes you’ll need the column names. Whether you’re making a modular script or\n",
    "analyzing the data you’re working with, using the **keys( )** method will help:"
   ]
  },
  {
   "cell_type": "code",
   "execution_count": 17,
   "id": "78086e19",
   "metadata": {},
   "outputs": [
    {
     "data": {
      "text/plain": [
       "Index(['names', 'ages'], dtype='object')"
      ]
     },
     "execution_count": 17,
     "metadata": {},
     "output_type": "execute_result"
    }
   ],
   "source": [
    "#only keys\n",
    "df.keys()"
   ]
  },
  {
   "cell_type": "code",
   "execution_count": 18,
   "id": "f7c7f2c1",
   "metadata": {},
   "outputs": [
    {
     "name": "stdout",
     "output_type": "stream",
     "text": [
      "Index(['names', 'ages'], dtype='object')\n"
     ]
    }
   ],
   "source": [
    "# accessing the column headers (keys) using the .keys( ) method\n",
    "headers = df.keys( )\n",
    "print(headers)"
   ]
  },
  {
   "cell_type": "markdown",
   "id": "980d9db3",
   "metadata": {},
   "source": [
    "**4.shape**\n",
    "\n",
    "The shape of a DataFrame describes the number of records by the number of columns.\n",
    "It’s always important to check the shape to ensure you’re working with the proper\n",
    "amount of data:"
   ]
  },
  {
   "cell_type": "code",
   "execution_count": 21,
   "id": "280b340a",
   "metadata": {},
   "outputs": [
    {
     "data": {
      "text/plain": [
       "(7, 2)"
      ]
     },
     "execution_count": 21,
     "metadata": {},
     "output_type": "execute_result"
    }
   ],
   "source": [
    "df.shape"
   ]
  },
  {
   "cell_type": "markdown",
   "id": "888e2a0b",
   "metadata": {},
   "source": [
    "**5.describe( )**\n",
    "\n",
    "The describe method will give you a base analysis for all numerical data. You’ll be able\n",
    "to view min, max, 25%, 50%, mean, etc., on all columns just by calling this method on the\n",
    "DataFrame. This information is helpful to start your analysis but generally won’t answer\n",
    "those questions you’re looking for. Instead, we can use this method as a guideline of\n",
    "where to start:"
   ]
  },
  {
   "cell_type": "code",
   "execution_count": 23,
   "id": "b1085995",
   "metadata": {},
   "outputs": [
    {
     "data": {
      "text/html": [
       "<div>\n",
       "<style scoped>\n",
       "    .dataframe tbody tr th:only-of-type {\n",
       "        vertical-align: middle;\n",
       "    }\n",
       "\n",
       "    .dataframe tbody tr th {\n",
       "        vertical-align: top;\n",
       "    }\n",
       "\n",
       "    .dataframe thead th {\n",
       "        text-align: right;\n",
       "    }\n",
       "</style>\n",
       "<table border=\"1\" class=\"dataframe\">\n",
       "  <thead>\n",
       "    <tr style=\"text-align: right;\">\n",
       "      <th></th>\n",
       "      <th>ages</th>\n",
       "    </tr>\n",
       "  </thead>\n",
       "  <tbody>\n",
       "    <tr>\n",
       "      <th>count</th>\n",
       "      <td>7.000000</td>\n",
       "    </tr>\n",
       "    <tr>\n",
       "      <th>mean</th>\n",
       "      <td>26.000000</td>\n",
       "    </tr>\n",
       "    <tr>\n",
       "      <th>std</th>\n",
       "      <td>6.531973</td>\n",
       "    </tr>\n",
       "    <tr>\n",
       "      <th>min</th>\n",
       "      <td>18.000000</td>\n",
       "    </tr>\n",
       "    <tr>\n",
       "      <th>25%</th>\n",
       "      <td>21.000000</td>\n",
       "    </tr>\n",
       "    <tr>\n",
       "      <th>50%</th>\n",
       "      <td>25.000000</td>\n",
       "    </tr>\n",
       "    <tr>\n",
       "      <th>75%</th>\n",
       "      <td>31.000000</td>\n",
       "    </tr>\n",
       "    <tr>\n",
       "      <th>max</th>\n",
       "      <td>35.000000</td>\n",
       "    </tr>\n",
       "  </tbody>\n",
       "</table>\n",
       "</div>"
      ],
      "text/plain": [
       "            ages\n",
       "count   7.000000\n",
       "mean   26.000000\n",
       "std     6.531973\n",
       "min    18.000000\n",
       "25%    21.000000\n",
       "50%    25.000000\n",
       "75%    31.000000\n",
       "max    35.000000"
      ]
     },
     "execution_count": 23,
     "metadata": {},
     "output_type": "execute_result"
    }
   ],
   "source": [
    "# checking the general statistics of the DataFrame using .describe( ), only works on numerical columns\n",
    "df.describe()"
   ]
  },
  {
   "cell_type": "markdown",
   "id": "9a528869",
   "metadata": {},
   "source": [
    "**6.sort_values( )**\n",
    "\n",
    "When you need to sort a DataFrame based on column information, you use this method.\n",
    "You can pass in one or multiple columns to be sorted by. When passing multiple, you must\n",
    "pass them in as a list of column names, in which the first name will take precedence:"
   ]
  },
  {
   "cell_type": "code",
   "execution_count": 27,
   "id": "1b5baf21",
   "metadata": {},
   "outputs": [
    {
     "data": {
      "text/html": [
       "<div>\n",
       "<style scoped>\n",
       "    .dataframe tbody tr th:only-of-type {\n",
       "        vertical-align: middle;\n",
       "    }\n",
       "\n",
       "    .dataframe tbody tr th {\n",
       "        vertical-align: top;\n",
       "    }\n",
       "\n",
       "    .dataframe thead th {\n",
       "        text-align: right;\n",
       "    }\n",
       "</style>\n",
       "<table border=\"1\" class=\"dataframe\">\n",
       "  <thead>\n",
       "    <tr style=\"text-align: right;\">\n",
       "      <th></th>\n",
       "      <th>names</th>\n",
       "      <th>ages</th>\n",
       "    </tr>\n",
       "  </thead>\n",
       "  <tbody>\n",
       "    <tr>\n",
       "      <th>6</th>\n",
       "      <td>Rebecca</td>\n",
       "      <td>18</td>\n",
       "    </tr>\n",
       "    <tr>\n",
       "      <th>5</th>\n",
       "      <td>Tyler</td>\n",
       "      <td>20</td>\n",
       "    </tr>\n",
       "    <tr>\n",
       "      <th>2</th>\n",
       "      <td>Sandy</td>\n",
       "      <td>22</td>\n",
       "    </tr>\n",
       "    <tr>\n",
       "      <th>0</th>\n",
       "      <td>Jess</td>\n",
       "      <td>25</td>\n",
       "    </tr>\n",
       "    <tr>\n",
       "      <th>3</th>\n",
       "      <td>Ted</td>\n",
       "      <td>29</td>\n",
       "    </tr>\n",
       "  </tbody>\n",
       "</table>\n",
       "</div>"
      ],
      "text/plain": [
       "     names  ages\n",
       "6  Rebecca    18\n",
       "5    Tyler    20\n",
       "2    Sandy    22\n",
       "0     Jess    25\n",
       "3      Ted    29"
      ]
     },
     "execution_count": 27,
     "metadata": {},
     "output_type": "execute_result"
    }
   ],
   "source": [
    "# sort based on a given column, but keep the DataFrame in tact using sort_values( )\n",
    "df = df.sort_values(\"ages\")\n",
    "df.head(5)\n"
   ]
  },
  {
   "cell_type": "markdown",
   "id": "fb677890",
   "metadata": {},
   "source": [
    "**Filtration** \n",
    "\n",
    "Let’s look at how to filter DataFrames for information that meets a specific condition."
   ]
  },
  {
   "cell_type": "markdown",
   "id": "a44f866b",
   "metadata": {},
   "source": [
    "**Conditionals**\n",
    "\n",
    "Rather than filtering out information, we can create a boolean data type column that\n",
    "represents the condition we’re checking. Let’s take our current DataFrame and write a\n",
    "condition that shows those who are 21 or older and can drink:"
   ]
  },
  {
   "cell_type": "code",
   "execution_count": 28,
   "id": "baafa8a4",
   "metadata": {},
   "outputs": [
    {
     "name": "stdout",
     "output_type": "stream",
     "text": [
      "6    False\n",
      "5    False\n",
      "2     True\n",
      "0     True\n",
      "3     True\n",
      "4     True\n",
      "1     True\n",
      "Name: ages, dtype: bool\n"
     ]
    }
   ],
   "source": [
    "# using a conditional to create a true/false column to work with\n",
    "can_drink = df[\"ages\"] > 21\n",
    "print(can_drink)"
   ]
  },
  {
   "cell_type": "markdown",
   "id": "08a99916",
   "metadata": {},
   "source": [
    "**Subsetting**\n",
    "\n",
    "When you need to filter out records but retain the information within the DataFrame\n",
    "you need to use a concept called subsetting. We’ll use the same condition as earlier,\n",
    "except this time we’ll use it to filter out records rather than create a true-false\n",
    "representation:"
   ]
  },
  {
   "cell_type": "code",
   "execution_count": 29,
   "id": "99330176",
   "metadata": {},
   "outputs": [
    {
     "data": {
      "text/html": [
       "<div>\n",
       "<style scoped>\n",
       "    .dataframe tbody tr th:only-of-type {\n",
       "        vertical-align: middle;\n",
       "    }\n",
       "\n",
       "    .dataframe tbody tr th {\n",
       "        vertical-align: top;\n",
       "    }\n",
       "\n",
       "    .dataframe thead th {\n",
       "        text-align: right;\n",
       "    }\n",
       "</style>\n",
       "<table border=\"1\" class=\"dataframe\">\n",
       "  <thead>\n",
       "    <tr style=\"text-align: right;\">\n",
       "      <th></th>\n",
       "      <th>names</th>\n",
       "      <th>ages</th>\n",
       "    </tr>\n",
       "  </thead>\n",
       "  <tbody>\n",
       "    <tr>\n",
       "      <th>2</th>\n",
       "      <td>Sandy</td>\n",
       "      <td>22</td>\n",
       "    </tr>\n",
       "    <tr>\n",
       "      <th>0</th>\n",
       "      <td>Jess</td>\n",
       "      <td>25</td>\n",
       "    </tr>\n",
       "    <tr>\n",
       "      <th>3</th>\n",
       "      <td>Ted</td>\n",
       "      <td>29</td>\n",
       "    </tr>\n",
       "    <tr>\n",
       "      <th>4</th>\n",
       "      <td>Barney</td>\n",
       "      <td>33</td>\n",
       "    </tr>\n",
       "    <tr>\n",
       "      <th>1</th>\n",
       "      <td>Jordan</td>\n",
       "      <td>35</td>\n",
       "    </tr>\n",
       "  </tbody>\n",
       "</table>\n",
       "</div>"
      ],
      "text/plain": [
       "    names  ages\n",
       "2   Sandy    22\n",
       "0    Jess    25\n",
       "3     Ted    29\n",
       "4  Barney    33\n",
       "1  Jordan    35"
      ]
     },
     "execution_count": 29,
     "metadata": {},
     "output_type": "execute_result"
    }
   ],
   "source": [
    "# using subsetting to filter out records and keep DataFrame intact\n",
    "df[ df[\"ages\"] > 21 ]"
   ]
  },
  {
   "cell_type": "code",
   "execution_count": 30,
   "id": "68da4aef",
   "metadata": {},
   "outputs": [
    {
     "data": {
      "text/html": [
       "<div>\n",
       "<style scoped>\n",
       "    .dataframe tbody tr th:only-of-type {\n",
       "        vertical-align: middle;\n",
       "    }\n",
       "\n",
       "    .dataframe tbody tr th {\n",
       "        vertical-align: top;\n",
       "    }\n",
       "\n",
       "    .dataframe thead th {\n",
       "        text-align: right;\n",
       "    }\n",
       "</style>\n",
       "<table border=\"1\" class=\"dataframe\">\n",
       "  <thead>\n",
       "    <tr style=\"text-align: right;\">\n",
       "      <th></th>\n",
       "      <th>names</th>\n",
       "      <th>ages</th>\n",
       "    </tr>\n",
       "  </thead>\n",
       "  <tbody>\n",
       "    <tr>\n",
       "      <th>2</th>\n",
       "      <td>Sandy</td>\n",
       "      <td>22</td>\n",
       "    </tr>\n",
       "    <tr>\n",
       "      <th>0</th>\n",
       "      <td>Jess</td>\n",
       "      <td>25</td>\n",
       "    </tr>\n",
       "    <tr>\n",
       "      <th>3</th>\n",
       "      <td>Ted</td>\n",
       "      <td>29</td>\n",
       "    </tr>\n",
       "    <tr>\n",
       "      <th>4</th>\n",
       "      <td>Barney</td>\n",
       "      <td>33</td>\n",
       "    </tr>\n",
       "    <tr>\n",
       "      <th>1</th>\n",
       "      <td>Jordan</td>\n",
       "      <td>35</td>\n",
       "    </tr>\n",
       "  </tbody>\n",
       "</table>\n",
       "</div>"
      ],
      "text/plain": [
       "    names  ages\n",
       "2   Sandy    22\n",
       "0    Jess    25\n",
       "3     Ted    29\n",
       "4  Barney    33\n",
       "1  Jordan    35"
      ]
     },
     "execution_count": 30,
     "metadata": {},
     "output_type": "execute_result"
    }
   ],
   "source": [
    "df[can_drink]"
   ]
  },
  {
   "cell_type": "markdown",
   "id": "f396c0e3",
   "metadata": {},
   "source": [
    "**Column Transformations**\n",
    "\n",
    "Rarely, if ever, will the columns in the original raw DataFrame imported from CSV or a\n",
    "database be the ones you need for your analysis. You will spend lots of time constantly\n",
    "transforming columns or groups of columns using general computational operations to\n",
    "produce new ones that are functions of the old ones. Pandas has full support for this and\n",
    "does it efficiently."
   ]
  },
  {
   "cell_type": "markdown",
   "id": "1eeb075d",
   "metadata": {},
   "source": [
    "**Generating a New Column with Data**\n",
    "\n",
    "To create a new column within a DataFrame, you use the same syntax as if you were\n",
    "adding a new key-value pair into a dictionary. Let’s create a column of fake data that\n",
    "represents how long the people within our DataFrame have been customers with our\n",
    "company:"
   ]
  },
  {
   "cell_type": "code",
   "execution_count": 35,
   "id": "769b6f02",
   "metadata": {},
   "outputs": [
    {
     "data": {
      "text/html": [
       "<div>\n",
       "<style scoped>\n",
       "    .dataframe tbody tr th:only-of-type {\n",
       "        vertical-align: middle;\n",
       "    }\n",
       "\n",
       "    .dataframe tbody tr th {\n",
       "        vertical-align: top;\n",
       "    }\n",
       "\n",
       "    .dataframe thead th {\n",
       "        text-align: right;\n",
       "    }\n",
       "</style>\n",
       "<table border=\"1\" class=\"dataframe\">\n",
       "  <thead>\n",
       "    <tr style=\"text-align: right;\">\n",
       "      <th></th>\n",
       "      <th>names</th>\n",
       "      <th>ages</th>\n",
       "      <th>tenure</th>\n",
       "    </tr>\n",
       "  </thead>\n",
       "  <tbody>\n",
       "    <tr>\n",
       "      <th>6</th>\n",
       "      <td>Rebecca</td>\n",
       "      <td>18</td>\n",
       "      <td>4</td>\n",
       "    </tr>\n",
       "    <tr>\n",
       "      <th>5</th>\n",
       "      <td>Tyler</td>\n",
       "      <td>20</td>\n",
       "      <td>6</td>\n",
       "    </tr>\n",
       "    <tr>\n",
       "      <th>2</th>\n",
       "      <td>Sandy</td>\n",
       "      <td>22</td>\n",
       "      <td>2</td>\n",
       "    </tr>\n",
       "    <tr>\n",
       "      <th>0</th>\n",
       "      <td>Jess</td>\n",
       "      <td>25</td>\n",
       "      <td>5</td>\n",
       "    </tr>\n",
       "    <tr>\n",
       "      <th>3</th>\n",
       "      <td>Ted</td>\n",
       "      <td>29</td>\n",
       "      <td>8</td>\n",
       "    </tr>\n",
       "  </tbody>\n",
       "</table>\n",
       "</div>"
      ],
      "text/plain": [
       "     names  ages  tenure\n",
       "6  Rebecca    18       4\n",
       "5    Tyler    20       6\n",
       "2    Sandy    22       2\n",
       "0     Jess    25       5\n",
       "3      Ted    29       8"
      ]
     },
     "execution_count": 35,
     "metadata": {},
     "output_type": "execute_result"
    }
   ],
   "source": [
    "# generating a new column of fake data for each record in the DataFrame to represent customer tenure\n",
    "random.seed(321)\n",
    "tenure = [random.randint(0, 10) for x in range(len(df))]\n",
    "df[\"tenure\"] = tenure                   # same as adding a new key-value pair in a dictionary\n",
    "df.head()"
   ]
  },
  {
   "cell_type": "markdown",
   "id": "30cdef26",
   "metadata": {},
   "source": [
    "**apply( )**\n",
    "Adding new columns based on current data is known as **“feature engineering.”** It\n",
    "makes up a good portion of a data analysts’ job. Often, you won’t be able to answer the\n",
    "questions you have from the data you collect. Instead, you need to create your own data\n",
    "that is useful to answering questions. For this example, let’s try to answer the following\n",
    "question: “What age group does each customer belong to?”. You could look at the persons’\n",
    "age and assume their age group; however, we want to make it easier than that. In order to\n",
    "answer this question easily, we’ll need to feature engineer a new column that represents\n",
    "each customer’s age group. We can do this by using the apply method on the DataFrame.\n",
    "The **apply** method takes in each record, applies the function passed, and sets the value\n",
    "returned as the new column data. Let’s check it out:"
   ]
  },
  {
   "cell_type": "code",
   "execution_count": 37,
   "id": "760cd25d",
   "metadata": {},
   "outputs": [
    {
     "data": {
      "text/html": [
       "<div>\n",
       "<style scoped>\n",
       "    .dataframe tbody tr th:only-of-type {\n",
       "        vertical-align: middle;\n",
       "    }\n",
       "\n",
       "    .dataframe tbody tr th {\n",
       "        vertical-align: top;\n",
       "    }\n",
       "\n",
       "    .dataframe thead th {\n",
       "        text-align: right;\n",
       "    }\n",
       "</style>\n",
       "<table border=\"1\" class=\"dataframe\">\n",
       "  <thead>\n",
       "    <tr style=\"text-align: right;\">\n",
       "      <th></th>\n",
       "      <th>names</th>\n",
       "      <th>ages</th>\n",
       "      <th>tenure</th>\n",
       "      <th>age_group</th>\n",
       "    </tr>\n",
       "  </thead>\n",
       "  <tbody>\n",
       "    <tr>\n",
       "      <th>6</th>\n",
       "      <td>Rebecca</td>\n",
       "      <td>18</td>\n",
       "      <td>4</td>\n",
       "      <td>Adlut</td>\n",
       "    </tr>\n",
       "    <tr>\n",
       "      <th>5</th>\n",
       "      <td>Tyler</td>\n",
       "      <td>20</td>\n",
       "      <td>6</td>\n",
       "      <td>Adlut</td>\n",
       "    </tr>\n",
       "    <tr>\n",
       "      <th>2</th>\n",
       "      <td>Sandy</td>\n",
       "      <td>22</td>\n",
       "      <td>2</td>\n",
       "      <td>Teenger</td>\n",
       "    </tr>\n",
       "    <tr>\n",
       "      <th>0</th>\n",
       "      <td>Jess</td>\n",
       "      <td>25</td>\n",
       "      <td>5</td>\n",
       "      <td>Teenger</td>\n",
       "    </tr>\n",
       "    <tr>\n",
       "      <th>3</th>\n",
       "      <td>Ted</td>\n",
       "      <td>29</td>\n",
       "      <td>8</td>\n",
       "      <td>Teenger</td>\n",
       "    </tr>\n",
       "    <tr>\n",
       "      <th>4</th>\n",
       "      <td>Barney</td>\n",
       "      <td>33</td>\n",
       "      <td>7</td>\n",
       "      <td>Teenger</td>\n",
       "    </tr>\n",
       "    <tr>\n",
       "      <th>1</th>\n",
       "      <td>Jordan</td>\n",
       "      <td>35</td>\n",
       "      <td>5</td>\n",
       "      <td>Teenger</td>\n",
       "    </tr>\n",
       "  </tbody>\n",
       "</table>\n",
       "</div>"
      ],
      "text/plain": [
       "     names  ages  tenure age_group\n",
       "6  Rebecca    18       4     Adlut\n",
       "5    Tyler    20       6     Adlut\n",
       "2    Sandy    22       2   Teenger\n",
       "0     Jess    25       5   Teenger\n",
       "3      Ted    29       8   Teenger\n",
       "4   Barney    33       7   Teenger\n",
       "1   Jordan    35       5   Teenger"
      ]
     },
     "execution_count": 37,
     "metadata": {},
     "output_type": "execute_result"
    }
   ],
   "source": [
    "# feature engineering a new column from known data using a UDF\n",
    "def ageGroup(age):\n",
    "    return \"Teenger\" if age>21 else \"Adlut\"\n",
    "df[\"age_group\"] = df[\"ages\"].apply(ageGroup)\n",
    "df.head(10)"
   ]
  },
  {
   "cell_type": "code",
   "execution_count": 41,
   "id": "fbf0a2c6",
   "metadata": {},
   "outputs": [
    {
     "data": {
      "text/html": [
       "<div>\n",
       "<style scoped>\n",
       "    .dataframe tbody tr th:only-of-type {\n",
       "        vertical-align: middle;\n",
       "    }\n",
       "\n",
       "    .dataframe tbody tr th {\n",
       "        vertical-align: top;\n",
       "    }\n",
       "\n",
       "    .dataframe thead th {\n",
       "        text-align: right;\n",
       "    }\n",
       "</style>\n",
       "<table border=\"1\" class=\"dataframe\">\n",
       "  <thead>\n",
       "    <tr style=\"text-align: right;\">\n",
       "      <th></th>\n",
       "      <th>names</th>\n",
       "      <th>ages</th>\n",
       "      <th>tenure</th>\n",
       "      <th>age_group</th>\n",
       "    </tr>\n",
       "  </thead>\n",
       "  <tbody>\n",
       "    <tr>\n",
       "      <th>6</th>\n",
       "      <td>Rebecca</td>\n",
       "      <td>18</td>\n",
       "      <td>4</td>\n",
       "      <td>Adlut</td>\n",
       "    </tr>\n",
       "    <tr>\n",
       "      <th>5</th>\n",
       "      <td>Tyler</td>\n",
       "      <td>20</td>\n",
       "      <td>6</td>\n",
       "      <td>Adlut</td>\n",
       "    </tr>\n",
       "    <tr>\n",
       "      <th>2</th>\n",
       "      <td>Sandy</td>\n",
       "      <td>22</td>\n",
       "      <td>2</td>\n",
       "      <td>Teenger</td>\n",
       "    </tr>\n",
       "    <tr>\n",
       "      <th>0</th>\n",
       "      <td>Jess</td>\n",
       "      <td>25</td>\n",
       "      <td>5</td>\n",
       "      <td>Teenger</td>\n",
       "    </tr>\n",
       "    <tr>\n",
       "      <th>3</th>\n",
       "      <td>Ted</td>\n",
       "      <td>29</td>\n",
       "      <td>8</td>\n",
       "      <td>Teenger</td>\n",
       "    </tr>\n",
       "    <tr>\n",
       "      <th>4</th>\n",
       "      <td>Barney</td>\n",
       "      <td>33</td>\n",
       "      <td>7</td>\n",
       "      <td>Teenger</td>\n",
       "    </tr>\n",
       "    <tr>\n",
       "      <th>1</th>\n",
       "      <td>Jordan</td>\n",
       "      <td>35</td>\n",
       "      <td>5</td>\n",
       "      <td>Teenger</td>\n",
       "    </tr>\n",
       "  </tbody>\n",
       "</table>\n",
       "</div>"
      ],
      "text/plain": [
       "     names  ages  tenure age_group\n",
       "6  Rebecca    18       4     Adlut\n",
       "5    Tyler    20       6     Adlut\n",
       "2    Sandy    22       2   Teenger\n",
       "0     Jess    25       5   Teenger\n",
       "3      Ted    29       8   Teenger\n",
       "4   Barney    33       7   Teenger\n",
       "1   Jordan    35       5   Teenger"
      ]
     },
     "execution_count": 41,
     "metadata": {},
     "output_type": "execute_result"
    }
   ],
   "source": [
    "#another way\n",
    "lambda age: \"Teenger\" if age>21 else \"adult\"\n",
    "df[\"age_group\"] = df[\"ages\"].apply(ageGroup)\n",
    "df.head(10)"
   ]
  },
  {
   "cell_type": "markdown",
   "id": "0fcefe15",
   "metadata": {},
   "source": [
    "**groupby( )** \n",
    "\n",
    "In order to condense the information down to a summary of statistics, we’ll need to use\n",
    "the **groupby** method that Pandas has. Whenever you group information together, you\n",
    "need to use an aggregate function to let the program know how to group the information\n",
    "together. For now, let’s **count** how many records of each age group there are within our\n",
    "DataFrame:"
   ]
  },
  {
   "cell_type": "code",
   "execution_count": 42,
   "id": "503f686d",
   "metadata": {},
   "outputs": [
    {
     "data": {
      "text/html": [
       "<div>\n",
       "<style scoped>\n",
       "    .dataframe tbody tr th:only-of-type {\n",
       "        vertical-align: middle;\n",
       "    }\n",
       "\n",
       "    .dataframe tbody tr th {\n",
       "        vertical-align: top;\n",
       "    }\n",
       "\n",
       "    .dataframe thead th {\n",
       "        text-align: right;\n",
       "    }\n",
       "</style>\n",
       "<table border=\"1\" class=\"dataframe\">\n",
       "  <thead>\n",
       "    <tr style=\"text-align: right;\">\n",
       "      <th></th>\n",
       "      <th>age_group</th>\n",
       "      <th>names</th>\n",
       "      <th>ages</th>\n",
       "      <th>tenure</th>\n",
       "    </tr>\n",
       "  </thead>\n",
       "  <tbody>\n",
       "    <tr>\n",
       "      <th>0</th>\n",
       "      <td>Adlut</td>\n",
       "      <td>2</td>\n",
       "      <td>2</td>\n",
       "      <td>2</td>\n",
       "    </tr>\n",
       "    <tr>\n",
       "      <th>1</th>\n",
       "      <td>Teenger</td>\n",
       "      <td>5</td>\n",
       "      <td>5</td>\n",
       "      <td>5</td>\n",
       "    </tr>\n",
       "  </tbody>\n",
       "</table>\n",
       "</div>"
      ],
      "text/plain": [
       "  age_group  names  ages  tenure\n",
       "0     Adlut      2     2       2\n",
       "1   Teenger      5     5       5"
      ]
     },
     "execution_count": 42,
     "metadata": {},
     "output_type": "execute_result"
    }
   ],
   "source": [
    "# grouping the records together to count how many records in each group\n",
    "df.groupby(\"age_group\", as_index=False).count( ).head( )"
   ]
  },
  {
   "cell_type": "markdown",
   "id": "3e5a05db",
   "metadata": {},
   "source": [
    "**mean( )**\n",
    "\n",
    "Instead of counting how many records there are in each category, let’s go ahead and find\n",
    "the averages of each column by using the mean method. We’ll group based on the same\n",
    "column"
   ]
  },
  {
   "cell_type": "code",
   "execution_count": 43,
   "id": "c897160d",
   "metadata": {},
   "outputs": [
    {
     "data": {
      "text/html": [
       "<div>\n",
       "<style scoped>\n",
       "    .dataframe tbody tr th:only-of-type {\n",
       "        vertical-align: middle;\n",
       "    }\n",
       "\n",
       "    .dataframe tbody tr th {\n",
       "        vertical-align: top;\n",
       "    }\n",
       "\n",
       "    .dataframe thead th {\n",
       "        text-align: right;\n",
       "    }\n",
       "</style>\n",
       "<table border=\"1\" class=\"dataframe\">\n",
       "  <thead>\n",
       "    <tr style=\"text-align: right;\">\n",
       "      <th></th>\n",
       "      <th>age_group</th>\n",
       "      <th>ages</th>\n",
       "      <th>tenure</th>\n",
       "    </tr>\n",
       "  </thead>\n",
       "  <tbody>\n",
       "    <tr>\n",
       "      <th>0</th>\n",
       "      <td>Adlut</td>\n",
       "      <td>19.0</td>\n",
       "      <td>5.0</td>\n",
       "    </tr>\n",
       "    <tr>\n",
       "      <th>1</th>\n",
       "      <td>Teenger</td>\n",
       "      <td>28.8</td>\n",
       "      <td>5.4</td>\n",
       "    </tr>\n",
       "  </tbody>\n",
       "</table>\n",
       "</div>"
      ],
      "text/plain": [
       "  age_group  ages  tenure\n",
       "0     Adlut  19.0     5.0\n",
       "1   Teenger  28.8     5.4"
      ]
     },
     "execution_count": 43,
     "metadata": {},
     "output_type": "execute_result"
    }
   ],
   "source": [
    "# grouping the data to see averages of all columns\n",
    "df.groupby(\"age_group\", as_index=False).mean( ).head( )"
   ]
  },
  {
   "cell_type": "markdown",
   "id": "15a6cefe",
   "metadata": {},
   "source": [
    "**groupby( ) with Multiple Columns**\n",
    "\n",
    "When you need to group by multiple columns, the arguments must be passed in as a list.\n",
    "The first item in the list will be the main column that the DataFrame is grouped by. In\n",
    "our case, let’s check how many adults have a tenure of five years:"
   ]
  },
  {
   "cell_type": "code",
   "execution_count": 44,
   "id": "eeb4c324",
   "metadata": {},
   "outputs": [
    {
     "data": {
      "text/html": [
       "<div>\n",
       "<style scoped>\n",
       "    .dataframe tbody tr th:only-of-type {\n",
       "        vertical-align: middle;\n",
       "    }\n",
       "\n",
       "    .dataframe tbody tr th {\n",
       "        vertical-align: top;\n",
       "    }\n",
       "\n",
       "    .dataframe thead th {\n",
       "        text-align: right;\n",
       "    }\n",
       "</style>\n",
       "<table border=\"1\" class=\"dataframe\">\n",
       "  <thead>\n",
       "    <tr style=\"text-align: right;\">\n",
       "      <th></th>\n",
       "      <th>age_group</th>\n",
       "      <th>tenure</th>\n",
       "      <th>names</th>\n",
       "      <th>ages</th>\n",
       "    </tr>\n",
       "  </thead>\n",
       "  <tbody>\n",
       "    <tr>\n",
       "      <th>0</th>\n",
       "      <td>Adlut</td>\n",
       "      <td>4</td>\n",
       "      <td>1</td>\n",
       "      <td>1</td>\n",
       "    </tr>\n",
       "    <tr>\n",
       "      <th>1</th>\n",
       "      <td>Adlut</td>\n",
       "      <td>6</td>\n",
       "      <td>1</td>\n",
       "      <td>1</td>\n",
       "    </tr>\n",
       "    <tr>\n",
       "      <th>2</th>\n",
       "      <td>Teenger</td>\n",
       "      <td>2</td>\n",
       "      <td>1</td>\n",
       "      <td>1</td>\n",
       "    </tr>\n",
       "    <tr>\n",
       "      <th>3</th>\n",
       "      <td>Teenger</td>\n",
       "      <td>5</td>\n",
       "      <td>2</td>\n",
       "      <td>2</td>\n",
       "    </tr>\n",
       "    <tr>\n",
       "      <th>4</th>\n",
       "      <td>Teenger</td>\n",
       "      <td>7</td>\n",
       "      <td>1</td>\n",
       "      <td>1</td>\n",
       "    </tr>\n",
       "    <tr>\n",
       "      <th>5</th>\n",
       "      <td>Teenger</td>\n",
       "      <td>8</td>\n",
       "      <td>1</td>\n",
       "      <td>1</td>\n",
       "    </tr>\n",
       "  </tbody>\n",
       "</table>\n",
       "</div>"
      ],
      "text/plain": [
       "  age_group  tenure  names  ages\n",
       "0     Adlut       4      1     1\n",
       "1     Adlut       6      1     1\n",
       "2   Teenger       2      1     1\n",
       "3   Teenger       5      2     2\n",
       "4   Teenger       7      1     1\n",
       "5   Teenger       8      1     1"
      ]
     },
     "execution_count": 44,
     "metadata": {},
     "output_type": "execute_result"
    }
   ],
   "source": [
    "# grouping information by their age group, then by their tenure\n",
    "df.groupby( [ \"age_group\", \"tenure\" ], as_index=False).count( ).head(10)"
   ]
  },
  {
   "cell_type": "markdown",
   "id": "58008384",
   "metadata": {},
   "source": [
    "**Adding a Record**\n",
    "To add a record into the DataFrame, you’ll need to access the next index and assign a value as\n",
    "a list structure. In our case, the next index would be **7**. Let’s add an identical row that already\n",
    "exists in our DataFrame, so we can see how to remove duplicate information in the next cell:"
   ]
  },
  {
   "cell_type": "code",
   "execution_count": 45,
   "id": "2f902288",
   "metadata": {},
   "outputs": [
    {
     "data": {
      "text/html": [
       "<div>\n",
       "<style scoped>\n",
       "    .dataframe tbody tr th:only-of-type {\n",
       "        vertical-align: middle;\n",
       "    }\n",
       "\n",
       "    .dataframe tbody tr th {\n",
       "        vertical-align: top;\n",
       "    }\n",
       "\n",
       "    .dataframe thead th {\n",
       "        text-align: right;\n",
       "    }\n",
       "</style>\n",
       "<table border=\"1\" class=\"dataframe\">\n",
       "  <thead>\n",
       "    <tr style=\"text-align: right;\">\n",
       "      <th></th>\n",
       "      <th>names</th>\n",
       "      <th>ages</th>\n",
       "      <th>tenure</th>\n",
       "      <th>age_group</th>\n",
       "    </tr>\n",
       "  </thead>\n",
       "  <tbody>\n",
       "    <tr>\n",
       "      <th>6</th>\n",
       "      <td>Rebecca</td>\n",
       "      <td>18</td>\n",
       "      <td>4</td>\n",
       "      <td>Adlut</td>\n",
       "    </tr>\n",
       "    <tr>\n",
       "      <th>5</th>\n",
       "      <td>Tyler</td>\n",
       "      <td>20</td>\n",
       "      <td>6</td>\n",
       "      <td>Adlut</td>\n",
       "    </tr>\n",
       "    <tr>\n",
       "      <th>2</th>\n",
       "      <td>Sandy</td>\n",
       "      <td>22</td>\n",
       "      <td>2</td>\n",
       "      <td>Teenger</td>\n",
       "    </tr>\n",
       "    <tr>\n",
       "      <th>0</th>\n",
       "      <td>Jess</td>\n",
       "      <td>25</td>\n",
       "      <td>5</td>\n",
       "      <td>Teenger</td>\n",
       "    </tr>\n",
       "    <tr>\n",
       "      <th>3</th>\n",
       "      <td>Ted</td>\n",
       "      <td>29</td>\n",
       "      <td>8</td>\n",
       "      <td>Teenger</td>\n",
       "    </tr>\n",
       "    <tr>\n",
       "      <th>4</th>\n",
       "      <td>Barney</td>\n",
       "      <td>33</td>\n",
       "      <td>7</td>\n",
       "      <td>Teenger</td>\n",
       "    </tr>\n",
       "    <tr>\n",
       "      <th>1</th>\n",
       "      <td>Jordan</td>\n",
       "      <td>35</td>\n",
       "      <td>5</td>\n",
       "      <td>Teenger</td>\n",
       "    </tr>\n",
       "    <tr>\n",
       "      <th>7</th>\n",
       "      <td>25</td>\n",
       "      <td>Jess</td>\n",
       "      <td>2</td>\n",
       "      <td>Adult</td>\n",
       "    </tr>\n",
       "  </tbody>\n",
       "</table>\n",
       "</div>"
      ],
      "text/plain": [
       "     names  ages  tenure age_group\n",
       "6  Rebecca    18       4     Adlut\n",
       "5    Tyler    20       6     Adlut\n",
       "2    Sandy    22       2   Teenger\n",
       "0     Jess    25       5   Teenger\n",
       "3      Ted    29       8   Teenger\n",
       "4   Barney    33       7   Teenger\n",
       "1   Jordan    35       5   Teenger\n",
       "7       25  Jess       2     Adult"
      ]
     },
     "execution_count": 45,
     "metadata": {},
     "output_type": "execute_result"
    }
   ],
   "source": [
    "# adding a record to the bottom of the DataFrame\n",
    "df.loc[7] = [ 25, \"Jess\", 2, \"Adult\" ] # add a record\n",
    "df.head(10)"
   ]
  },
  {
   "cell_type": "markdown",
   "id": "baec8b26",
   "metadata": {},
   "source": [
    "**drop_duplicates( )**\n",
    "\n",
    "Way too often will you see data with duplicate information, or just duplicate IDs. It’s\n",
    "imperative that you remove all duplicate records as it will skew your data, resulting\n",
    "in incorrect answers. You can remove duplicate records based on a single column or\n",
    "an entire record being identical. In our case, let’s remove duplicates based on similar\n",
    "names, which will remove the record we just added into our DataFrame:"
   ]
  },
  {
   "cell_type": "code",
   "execution_count": 46,
   "id": "f8de0d41",
   "metadata": {},
   "outputs": [
    {
     "data": {
      "text/html": [
       "<div>\n",
       "<style scoped>\n",
       "    .dataframe tbody tr th:only-of-type {\n",
       "        vertical-align: middle;\n",
       "    }\n",
       "\n",
       "    .dataframe tbody tr th {\n",
       "        vertical-align: top;\n",
       "    }\n",
       "\n",
       "    .dataframe thead th {\n",
       "        text-align: right;\n",
       "    }\n",
       "</style>\n",
       "<table border=\"1\" class=\"dataframe\">\n",
       "  <thead>\n",
       "    <tr style=\"text-align: right;\">\n",
       "      <th></th>\n",
       "      <th>names</th>\n",
       "      <th>ages</th>\n",
       "      <th>tenure</th>\n",
       "      <th>age_group</th>\n",
       "    </tr>\n",
       "  </thead>\n",
       "  <tbody>\n",
       "    <tr>\n",
       "      <th>6</th>\n",
       "      <td>Rebecca</td>\n",
       "      <td>18</td>\n",
       "      <td>4</td>\n",
       "      <td>Adlut</td>\n",
       "    </tr>\n",
       "    <tr>\n",
       "      <th>5</th>\n",
       "      <td>Tyler</td>\n",
       "      <td>20</td>\n",
       "      <td>6</td>\n",
       "      <td>Adlut</td>\n",
       "    </tr>\n",
       "    <tr>\n",
       "      <th>2</th>\n",
       "      <td>Sandy</td>\n",
       "      <td>22</td>\n",
       "      <td>2</td>\n",
       "      <td>Teenger</td>\n",
       "    </tr>\n",
       "    <tr>\n",
       "      <th>0</th>\n",
       "      <td>Jess</td>\n",
       "      <td>25</td>\n",
       "      <td>5</td>\n",
       "      <td>Teenger</td>\n",
       "    </tr>\n",
       "    <tr>\n",
       "      <th>3</th>\n",
       "      <td>Ted</td>\n",
       "      <td>29</td>\n",
       "      <td>8</td>\n",
       "      <td>Teenger</td>\n",
       "    </tr>\n",
       "    <tr>\n",
       "      <th>4</th>\n",
       "      <td>Barney</td>\n",
       "      <td>33</td>\n",
       "      <td>7</td>\n",
       "      <td>Teenger</td>\n",
       "    </tr>\n",
       "    <tr>\n",
       "      <th>1</th>\n",
       "      <td>Jordan</td>\n",
       "      <td>35</td>\n",
       "      <td>5</td>\n",
       "      <td>Teenger</td>\n",
       "    </tr>\n",
       "    <tr>\n",
       "      <th>7</th>\n",
       "      <td>25</td>\n",
       "      <td>Jess</td>\n",
       "      <td>2</td>\n",
       "      <td>Adult</td>\n",
       "    </tr>\n",
       "  </tbody>\n",
       "</table>\n",
       "</div>"
      ],
      "text/plain": [
       "     names  ages  tenure age_group\n",
       "6  Rebecca    18       4     Adlut\n",
       "5    Tyler    20       6     Adlut\n",
       "2    Sandy    22       2   Teenger\n",
       "0     Jess    25       5   Teenger\n",
       "3      Ted    29       8   Teenger\n",
       "4   Barney    33       7   Teenger\n",
       "1   Jordan    35       5   Teenger\n",
       "7       25  Jess       2     Adult"
      ]
     },
     "execution_count": 46,
     "metadata": {},
     "output_type": "execute_result"
    }
   ],
   "source": [
    "# removing duplicates based on same names\n",
    "df = df.drop_duplicates( subset=\"names\" )\n",
    "df.head(10)"
   ]
  },
  {
   "cell_type": "markdown",
   "id": "b4e4c58b",
   "metadata": {},
   "source": [
    "**Pandas Joins**\n",
    "Often, you will have to combine data from several different sources to obtain the actual\n",
    "dataset you need for your exploration or modeling. Pandas draws heavily on SQL in its\n",
    "design for joins. This section assumes some knowledge of SQL and SQL joins. If you’re\n",
    "not familiar with how joins work in SQL, visit w3schools for reference material<br>\n",
    "www.w3schools.com/sql/sql_join.asp"
   ]
  },
  {
   "cell_type": "markdown",
   "id": "50fe9926",
   "metadata": {},
   "source": [
    "**Creating a Second DataFrame**\n",
    "\n",
    "Let’s create a secondary DataFrame to represent our customers posting ratings about\n",
    "our company. We’ll create ratings for three users so we can see both inner joins and\n",
    "outer joins:"
   ]
  },
  {
   "cell_type": "code",
   "execution_count": 48,
   "id": "59edf069",
   "metadata": {},
   "outputs": [
    {
     "data": {
      "text/html": [
       "<div>\n",
       "<style scoped>\n",
       "    .dataframe tbody tr th:only-of-type {\n",
       "        vertical-align: middle;\n",
       "    }\n",
       "\n",
       "    .dataframe tbody tr th {\n",
       "        vertical-align: top;\n",
       "    }\n",
       "\n",
       "    .dataframe thead th {\n",
       "        text-align: right;\n",
       "    }\n",
       "</style>\n",
       "<table border=\"1\" class=\"dataframe\">\n",
       "  <thead>\n",
       "    <tr style=\"text-align: right;\">\n",
       "      <th></th>\n",
       "      <th>names</th>\n",
       "      <th>ratings</th>\n",
       "    </tr>\n",
       "  </thead>\n",
       "  <tbody>\n",
       "    <tr>\n",
       "      <th>0</th>\n",
       "      <td>Jess</td>\n",
       "      <td>10</td>\n",
       "    </tr>\n",
       "    <tr>\n",
       "      <th>1</th>\n",
       "      <td>Tyler</td>\n",
       "      <td>9</td>\n",
       "    </tr>\n",
       "    <tr>\n",
       "      <th>2</th>\n",
       "      <td>Ted</td>\n",
       "      <td>6</td>\n",
       "    </tr>\n",
       "  </tbody>\n",
       "</table>\n",
       "</div>"
      ],
      "text/plain": [
       "   names  ratings\n",
       "0   Jess       10\n",
       "1  Tyler        9\n",
       "2    Ted        6"
      ]
     },
     "execution_count": 48,
     "metadata": {},
     "output_type": "execute_result"
    }
   ],
   "source": [
    "# creating another fake DataFrame to work with, having same names and a new ratings column\n",
    "ratings = {\n",
    "    \"names\" : [\"Jess\", \"Tyler\", \"Ted\"],\n",
    "    \"ratings\" : [ 10, 9, 6 ]\n",
    "}\n",
    "ratings = df.from_dict(ratings)\n",
    "ratings.head()\n"
   ]
  },
  {
   "cell_type": "markdown",
   "id": "ebf509c8",
   "metadata": {},
   "source": [
    "**Inner Join**\n",
    "\n",
    "Anytime you perform a join, you need a unique column to join the data with. In our\n",
    "case, we can use the names column to join the ratings DataFrame with our original\n",
    "DataFrame. Let’s perform an inner join on these two datasets so that we can connect\n",
    "users with their ratings:"
   ]
  },
  {
   "cell_type": "code",
   "execution_count": 49,
   "id": "2c7ca4e5",
   "metadata": {},
   "outputs": [
    {
     "data": {
      "text/html": [
       "<div>\n",
       "<style scoped>\n",
       "    .dataframe tbody tr th:only-of-type {\n",
       "        vertical-align: middle;\n",
       "    }\n",
       "\n",
       "    .dataframe tbody tr th {\n",
       "        vertical-align: top;\n",
       "    }\n",
       "\n",
       "    .dataframe thead th {\n",
       "        text-align: right;\n",
       "    }\n",
       "</style>\n",
       "<table border=\"1\" class=\"dataframe\">\n",
       "  <thead>\n",
       "    <tr style=\"text-align: right;\">\n",
       "      <th></th>\n",
       "      <th>names</th>\n",
       "      <th>ages</th>\n",
       "      <th>tenure</th>\n",
       "      <th>age_group</th>\n",
       "      <th>ratings</th>\n",
       "    </tr>\n",
       "  </thead>\n",
       "  <tbody>\n",
       "    <tr>\n",
       "      <th>0</th>\n",
       "      <td>Tyler</td>\n",
       "      <td>20</td>\n",
       "      <td>6</td>\n",
       "      <td>Adlut</td>\n",
       "      <td>9</td>\n",
       "    </tr>\n",
       "    <tr>\n",
       "      <th>1</th>\n",
       "      <td>Jess</td>\n",
       "      <td>25</td>\n",
       "      <td>5</td>\n",
       "      <td>Teenger</td>\n",
       "      <td>10</td>\n",
       "    </tr>\n",
       "    <tr>\n",
       "      <th>2</th>\n",
       "      <td>Ted</td>\n",
       "      <td>29</td>\n",
       "      <td>8</td>\n",
       "      <td>Teenger</td>\n",
       "      <td>6</td>\n",
       "    </tr>\n",
       "  </tbody>\n",
       "</table>\n",
       "</div>"
      ],
      "text/plain": [
       "   names ages  tenure age_group  ratings\n",
       "0  Tyler   20       6     Adlut        9\n",
       "1   Jess   25       5   Teenger       10\n",
       "2    Ted   29       8   Teenger        6"
      ]
     },
     "execution_count": 49,
     "metadata": {},
     "output_type": "execute_result"
    }
   ],
   "source": [
    "# performing an inner join with our df and ratings DataFrames based on names, get data that matches\n",
    "matched_ratings = df.merge(ratings, on=\"names\", how=\"inner\")\n",
    "matched_ratings.head( )"
   ]
  },
  {
   "cell_type": "markdown",
   "id": "0470ed07",
   "metadata": {},
   "source": [
    "**Outer Join**\n",
    "\n",
    "If we want to return all the records, but connect the ratings for people who gave one,\n",
    "we would need to perform an outer join. This would allow us to keep all records from\n",
    "our original DataFrame while adding the ratings column. We need to specify the how\n",
    "parameter to **“outer”**:"
   ]
  },
  {
   "cell_type": "code",
   "execution_count": 50,
   "id": "944cb5ef",
   "metadata": {},
   "outputs": [
    {
     "data": {
      "text/html": [
       "<div>\n",
       "<style scoped>\n",
       "    .dataframe tbody tr th:only-of-type {\n",
       "        vertical-align: middle;\n",
       "    }\n",
       "\n",
       "    .dataframe tbody tr th {\n",
       "        vertical-align: top;\n",
       "    }\n",
       "\n",
       "    .dataframe thead th {\n",
       "        text-align: right;\n",
       "    }\n",
       "</style>\n",
       "<table border=\"1\" class=\"dataframe\">\n",
       "  <thead>\n",
       "    <tr style=\"text-align: right;\">\n",
       "      <th></th>\n",
       "      <th>names</th>\n",
       "      <th>ages</th>\n",
       "      <th>tenure</th>\n",
       "      <th>age_group</th>\n",
       "      <th>ratings</th>\n",
       "    </tr>\n",
       "  </thead>\n",
       "  <tbody>\n",
       "    <tr>\n",
       "      <th>0</th>\n",
       "      <td>Rebecca</td>\n",
       "      <td>18</td>\n",
       "      <td>4</td>\n",
       "      <td>Adlut</td>\n",
       "      <td>NaN</td>\n",
       "    </tr>\n",
       "    <tr>\n",
       "      <th>1</th>\n",
       "      <td>Tyler</td>\n",
       "      <td>20</td>\n",
       "      <td>6</td>\n",
       "      <td>Adlut</td>\n",
       "      <td>9.0</td>\n",
       "    </tr>\n",
       "    <tr>\n",
       "      <th>2</th>\n",
       "      <td>Sandy</td>\n",
       "      <td>22</td>\n",
       "      <td>2</td>\n",
       "      <td>Teenger</td>\n",
       "      <td>NaN</td>\n",
       "    </tr>\n",
       "    <tr>\n",
       "      <th>3</th>\n",
       "      <td>Jess</td>\n",
       "      <td>25</td>\n",
       "      <td>5</td>\n",
       "      <td>Teenger</td>\n",
       "      <td>10.0</td>\n",
       "    </tr>\n",
       "    <tr>\n",
       "      <th>4</th>\n",
       "      <td>Ted</td>\n",
       "      <td>29</td>\n",
       "      <td>8</td>\n",
       "      <td>Teenger</td>\n",
       "      <td>6.0</td>\n",
       "    </tr>\n",
       "  </tbody>\n",
       "</table>\n",
       "</div>"
      ],
      "text/plain": [
       "     names ages  tenure age_group  ratings\n",
       "0  Rebecca   18       4     Adlut      NaN\n",
       "1    Tyler   20       6     Adlut      9.0\n",
       "2    Sandy   22       2   Teenger      NaN\n",
       "3     Jess   25       5   Teenger     10.0\n",
       "4      Ted   29       8   Teenger      6.0"
      ]
     },
     "execution_count": 50,
     "metadata": {},
     "output_type": "execute_result"
    }
   ],
   "source": [
    "# performing an outer join with our df and ratings DataFrames based on names, get all data\n",
    "all_ratings = df.merge(ratings, on=\"names\", how=\"outer\")\n",
    "all_ratings.head( )"
   ]
  },
  {
   "cell_type": "markdown",
   "id": "6909390e",
   "metadata": {},
   "source": [
    "# TUESDAY EXERCISES"
   ]
  },
  {
   "cell_type": "markdown",
   "id": "f82acaa3",
   "metadata": {},
   "source": [
    "**1. Loading a Dataset:** Go to www.Kaggle.com, click “Datasets” in the top\n",
    "bar menu. Choose a dataset that you like, and download it into the “python_\n",
    "bootcamp” folder. Then, load the dataset into a Pandas DataFrame using the\n",
    "read_csv method, and display the top five records."
   ]
  },
  {
   "cell_type": "code",
   "execution_count": 2,
   "id": "160b67ae",
   "metadata": {},
   "outputs": [
    {
     "data": {
      "text/html": [
       "<div>\n",
       "<style scoped>\n",
       "    .dataframe tbody tr th:only-of-type {\n",
       "        vertical-align: middle;\n",
       "    }\n",
       "\n",
       "    .dataframe tbody tr th {\n",
       "        vertical-align: top;\n",
       "    }\n",
       "\n",
       "    .dataframe thead th {\n",
       "        text-align: right;\n",
       "    }\n",
       "</style>\n",
       "<table border=\"1\" class=\"dataframe\">\n",
       "  <thead>\n",
       "    <tr style=\"text-align: right;\">\n",
       "      <th></th>\n",
       "      <th>Row ID</th>\n",
       "      <th>Order ID</th>\n",
       "      <th>Order Date</th>\n",
       "      <th>Ship Date</th>\n",
       "      <th>Ship Mode</th>\n",
       "      <th>Customer ID</th>\n",
       "      <th>Customer Name</th>\n",
       "      <th>Segment</th>\n",
       "      <th>Country</th>\n",
       "      <th>City</th>\n",
       "      <th>State</th>\n",
       "      <th>Postal Code</th>\n",
       "      <th>Region</th>\n",
       "      <th>Product ID</th>\n",
       "      <th>Category</th>\n",
       "      <th>Sub-Category</th>\n",
       "      <th>Product Name</th>\n",
       "      <th>Sales</th>\n",
       "    </tr>\n",
       "  </thead>\n",
       "  <tbody>\n",
       "    <tr>\n",
       "      <th>0</th>\n",
       "      <td>1</td>\n",
       "      <td>CA-2017-152156</td>\n",
       "      <td>08/11/2017</td>\n",
       "      <td>11/11/2017</td>\n",
       "      <td>Second Class</td>\n",
       "      <td>CG-12520</td>\n",
       "      <td>Claire Gute</td>\n",
       "      <td>Consumer</td>\n",
       "      <td>United States</td>\n",
       "      <td>Henderson</td>\n",
       "      <td>Kentucky</td>\n",
       "      <td>42420.0</td>\n",
       "      <td>South</td>\n",
       "      <td>FUR-BO-10001798</td>\n",
       "      <td>Furniture</td>\n",
       "      <td>Bookcases</td>\n",
       "      <td>Bush Somerset Collection Bookcase</td>\n",
       "      <td>261.9600</td>\n",
       "    </tr>\n",
       "    <tr>\n",
       "      <th>1</th>\n",
       "      <td>2</td>\n",
       "      <td>CA-2017-152156</td>\n",
       "      <td>08/11/2017</td>\n",
       "      <td>11/11/2017</td>\n",
       "      <td>Second Class</td>\n",
       "      <td>CG-12520</td>\n",
       "      <td>Claire Gute</td>\n",
       "      <td>Consumer</td>\n",
       "      <td>United States</td>\n",
       "      <td>Henderson</td>\n",
       "      <td>Kentucky</td>\n",
       "      <td>42420.0</td>\n",
       "      <td>South</td>\n",
       "      <td>FUR-CH-10000454</td>\n",
       "      <td>Furniture</td>\n",
       "      <td>Chairs</td>\n",
       "      <td>Hon Deluxe Fabric Upholstered Stacking Chairs,...</td>\n",
       "      <td>731.9400</td>\n",
       "    </tr>\n",
       "    <tr>\n",
       "      <th>2</th>\n",
       "      <td>3</td>\n",
       "      <td>CA-2017-138688</td>\n",
       "      <td>12/06/2017</td>\n",
       "      <td>16/06/2017</td>\n",
       "      <td>Second Class</td>\n",
       "      <td>DV-13045</td>\n",
       "      <td>Darrin Van Huff</td>\n",
       "      <td>Corporate</td>\n",
       "      <td>United States</td>\n",
       "      <td>Los Angeles</td>\n",
       "      <td>California</td>\n",
       "      <td>90036.0</td>\n",
       "      <td>West</td>\n",
       "      <td>OFF-LA-10000240</td>\n",
       "      <td>Office Supplies</td>\n",
       "      <td>Labels</td>\n",
       "      <td>Self-Adhesive Address Labels for Typewriters b...</td>\n",
       "      <td>14.6200</td>\n",
       "    </tr>\n",
       "    <tr>\n",
       "      <th>3</th>\n",
       "      <td>4</td>\n",
       "      <td>US-2016-108966</td>\n",
       "      <td>11/10/2016</td>\n",
       "      <td>18/10/2016</td>\n",
       "      <td>Standard Class</td>\n",
       "      <td>SO-20335</td>\n",
       "      <td>Sean O'Donnell</td>\n",
       "      <td>Consumer</td>\n",
       "      <td>United States</td>\n",
       "      <td>Fort Lauderdale</td>\n",
       "      <td>Florida</td>\n",
       "      <td>33311.0</td>\n",
       "      <td>South</td>\n",
       "      <td>FUR-TA-10000577</td>\n",
       "      <td>Furniture</td>\n",
       "      <td>Tables</td>\n",
       "      <td>Bretford CR4500 Series Slim Rectangular Table</td>\n",
       "      <td>957.5775</td>\n",
       "    </tr>\n",
       "    <tr>\n",
       "      <th>4</th>\n",
       "      <td>5</td>\n",
       "      <td>US-2016-108966</td>\n",
       "      <td>11/10/2016</td>\n",
       "      <td>18/10/2016</td>\n",
       "      <td>Standard Class</td>\n",
       "      <td>SO-20335</td>\n",
       "      <td>Sean O'Donnell</td>\n",
       "      <td>Consumer</td>\n",
       "      <td>United States</td>\n",
       "      <td>Fort Lauderdale</td>\n",
       "      <td>Florida</td>\n",
       "      <td>33311.0</td>\n",
       "      <td>South</td>\n",
       "      <td>OFF-ST-10000760</td>\n",
       "      <td>Office Supplies</td>\n",
       "      <td>Storage</td>\n",
       "      <td>Eldon Fold 'N Roll Cart System</td>\n",
       "      <td>22.3680</td>\n",
       "    </tr>\n",
       "  </tbody>\n",
       "</table>\n",
       "</div>"
      ],
      "text/plain": [
       "   Row ID        Order ID  Order Date   Ship Date       Ship Mode Customer ID  \\\n",
       "0       1  CA-2017-152156  08/11/2017  11/11/2017    Second Class    CG-12520   \n",
       "1       2  CA-2017-152156  08/11/2017  11/11/2017    Second Class    CG-12520   \n",
       "2       3  CA-2017-138688  12/06/2017  16/06/2017    Second Class    DV-13045   \n",
       "3       4  US-2016-108966  11/10/2016  18/10/2016  Standard Class    SO-20335   \n",
       "4       5  US-2016-108966  11/10/2016  18/10/2016  Standard Class    SO-20335   \n",
       "\n",
       "     Customer Name    Segment        Country             City       State  \\\n",
       "0      Claire Gute   Consumer  United States        Henderson    Kentucky   \n",
       "1      Claire Gute   Consumer  United States        Henderson    Kentucky   \n",
       "2  Darrin Van Huff  Corporate  United States      Los Angeles  California   \n",
       "3   Sean O'Donnell   Consumer  United States  Fort Lauderdale     Florida   \n",
       "4   Sean O'Donnell   Consumer  United States  Fort Lauderdale     Florida   \n",
       "\n",
       "   Postal Code Region       Product ID         Category Sub-Category  \\\n",
       "0      42420.0  South  FUR-BO-10001798        Furniture    Bookcases   \n",
       "1      42420.0  South  FUR-CH-10000454        Furniture       Chairs   \n",
       "2      90036.0   West  OFF-LA-10000240  Office Supplies       Labels   \n",
       "3      33311.0  South  FUR-TA-10000577        Furniture       Tables   \n",
       "4      33311.0  South  OFF-ST-10000760  Office Supplies      Storage   \n",
       "\n",
       "                                        Product Name     Sales  \n",
       "0                  Bush Somerset Collection Bookcase  261.9600  \n",
       "1  Hon Deluxe Fabric Upholstered Stacking Chairs,...  731.9400  \n",
       "2  Self-Adhesive Address Labels for Typewriters b...   14.6200  \n",
       "3      Bretford CR4500 Series Slim Rectangular Table  957.5775  \n",
       "4                     Eldon Fold 'N Roll Cart System   22.3680  "
      ]
     },
     "execution_count": 2,
     "metadata": {},
     "output_type": "execute_result"
    }
   ],
   "source": [
    "import pandas as pd\n",
    "import csv\n",
    "dataset= \"train.csv\"\n",
    "df = pd.read_csv(dataset)\n",
    "\n",
    "df.head(5) "
   ]
  },
  {
   "cell_type": "markdown",
   "id": "0f7a07cd",
   "metadata": {},
   "source": [
    "**2. Dataset Analysis:** This is an open-ended exercise. Run some analysis on the<br>\n",
    "dataset you chose from exercise \n",
    "\n",
    "#1. Try to answer questions like these:\n",
    "\n",
    "a. How many records are there?\n",
    "\n",
    "b. What are the data types of each column?\n",
    "\n",
    "c. Are there duplicate records or columns?\n",
    "\n",
    "d. Is there missing data?\n",
    "\n",
    "e. Is there a correlation between two or more columns?2. Dataset Analysis: This is an open-ended exercise. Run some analysis on the\n"
   ]
  },
  {
   "cell_type": "code",
   "execution_count": null,
   "id": "615ca5a7",
   "metadata": {},
   "outputs": [],
   "source": []
  }
 ],
 "metadata": {
  "kernelspec": {
   "display_name": "Python 3",
   "language": "python",
   "name": "python3"
  },
  "language_info": {
   "codemirror_mode": {
    "name": "ipython",
    "version": 3
   },
   "file_extension": ".py",
   "mimetype": "text/x-python",
   "name": "python",
   "nbconvert_exporter": "python",
   "pygments_lexer": "ipython3",
   "version": "3.9.5"
  }
 },
 "nbformat": 4,
 "nbformat_minor": 5
}
