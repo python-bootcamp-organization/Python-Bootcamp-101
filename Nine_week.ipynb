{
 "cells": [
  {
   "cell_type": "markdown",
   "metadata": {},
   "source": [
    "# Introduction to Data Analysis"
   ]
  },
  {
   "cell_type": "markdown",
   "metadata": {},
   "source": [
    "# Monday: Virtual Environments and Requests Module"
   ]
  },
  {
   "cell_type": "markdown",
   "metadata": {},
   "source": [
    "Today we’ll be learning all about virtual environments, why we need them and how to\n",
    "use them. They’re necessary for what we need to do this week, which is downloading\n",
    "and importing a few libraries to work with. We’ll also get into the requests module and\n",
    "cover APIs briefly.\n",
    "For today’s lesson, we won’t be starting out in Jupyter Notebook; instead open the\n",
    "terminal and cd into the “python_bootcamp” folder if you haven’t already. If you have\n",
    "the terminal running Jupyter Notebook, be sure to stop it, as we need to write some\n",
    "commands in the terminal."
   ]
  },
  {
   "cell_type": "markdown",
   "metadata": {},
   "source": [
    "**What Are Virtual Environments?**\n",
    "\n",
    "Python virtual environments are essentially a tool that allows you to keep project\n",
    "dependencies in a separate space from other projects. Most projects in Python need\n",
    "to use modules that are not included by default with Python. Now, you could simply\n",
    "download the modules (or libraries) into your Python folder to use; however, that could\n",
    "cause some issues down the road. Let’s say you’re working on two separate projects,\n",
    "where the first one uses Python version 2.7 and the second project uses Python version\n",
    "3.5. If you try and use the same syntax for both, you’ll run into several issues. Instead,\n",
    "you would create two separate virtual environments, one for each project. This way both\n",
    "projects can run properly using the correct dependencies because of the personalized\n",
    "virtual environment."
   ]
  },
  {
   "cell_type": "markdown",
   "metadata": {},
   "source": [
    "**Creating a Virtual Environment**\n",
    "\n",
    "One of the big reasons Anaconda is such a wonderful tool is because of its ability to\n",
    "organize virtual environments for us. We’re going to use it to create our first virtual\n",
    "environment. While in terminal, type in the following command:"
   ]
  },
  {
   "cell_type": "markdown",
   "metadata": {},
   "source": [
    "$ conda create --name data_analysis python=3.7"
   ]
  },
  {
   "cell_type": "markdown",
   "metadata": {},
   "source": [
    "**Activating the Virtual Environment**\n",
    "\n",
    "The second step in using a virtual environment is activating it. Activating an\n",
    "environment allows the computer to execute our scripts from a separate executable. By\n",
    "default, we use the Python executable file stored in our program’s directory. We can see\n",
    "the PATH of the executable by entering the following commands into the terminal:\n",
    "We need to activate the Python shell first:"
   ]
  },
  {
   "cell_type": "markdown",
   "metadata": {},
   "source": [
    "$ python"
   ]
  },
  {
   "cell_type": "markdown",
   "metadata": {},
   "source": [
    "Now we can view the PATH by typing in the following lines:"
   ]
  },
  {
   "cell_type": "markdown",
   "metadata": {},
   "source": [
    "<p>>>>import os<br>\n",
    ">>> import sys<br>\n",
    ">>> os.path.dirname(sys.executable)</p>"
   ]
  },
  {
   "cell_type": "markdown",
   "metadata": {},
   "source": [
    "You’ll notice that the PATH is your default folder where Python was originally\n",
    "installed. Go ahead and exit the Python shell once you’re done. We’ll come back to these\n",
    "same commands at the end of this section to see how the PATH has changed once the\n",
    "environment is activated.\n",
    "Once you create the environment, you don’t need to create it again; you can simply\n",
    "activate it anytime you need to use it. Before you’re able to download libraries into the\n",
    "environment, you must first activate it. Depending on your operating system, write the\n",
    "following command in terminal: <br>\n",
    "For Windows:"
   ]
  },
  {
   "cell_type": "markdown",
   "metadata": {},
   "source": [
    "$ activate data_analysis"
   ]
  },
  {
   "cell_type": "markdown",
   "metadata": {},
   "source": [
    "<p>>>> (data_analysis) C:\\Users...<br>"
   ]
  },
  {
   "cell_type": "markdown",
   "metadata": {},
   "source": [
    "For Mac/Linux:"
   ]
  },
  {
   "cell_type": "markdown",
   "metadata": {},
   "source": [
    "$ source activate data_analysis"
   ]
  },
  {
   "cell_type": "markdown",
   "metadata": {},
   "source": [
    "Like Windows, after activating the environment, you’ll see the name to the left of\n",
    "your directory:<br>\n",
    "<p>>>> (data_analysis) <User>~/Desktop...<br>"
   ]
  },
  {
   "cell_type": "markdown",
   "metadata": {},
   "source": [
    "If you can see the name on the side, you’ve successfully activated the environment.\n",
    "Before we move on, let’s see where our executable is now by running the same\n",
    "commands in the Python shell from the beginning of this section, to view the PATH of\n",
    "the executable: <br>\n",
    "<p>>>>import os<br>\n",
    ">>> import sys<br>\n",
    ">>> os.path.dirname(sys.executable)</p>\n"
   ]
  },
  {
   "cell_type": "markdown",
   "metadata": {},
   "source": [
    "**Installing Packages**<br>\n",
    "To install packages into the virtual environment, we’ll use pip. The syntax is always the\n",
    "same to install any package. It’s the keywords pip install, followed by the package name.\n",
    "In our case, we’ll be working with the requests package today. Let’s write the following\n",
    "command:"
   ]
  },
  {
   "cell_type": "markdown",
   "metadata": {},
   "source": [
    "$ pip install requests"
   ]
  },
  {
   "cell_type": "markdown",
   "metadata": {},
   "source": [
    "**APIs and the Requests Module**<br>\n",
    "\n",
    "The requests module allows us to make HTTP requests using Python. It is the standard\n",
    "library for making API calls and requesting information from outside resources\n",
    "If you’re unfamiliar with HTTP requests, I suggest checking out the\n",
    "w3schools resource for more information, as this book is not designed to cover\n",
    "networking. <br>\n",
    "www.w3schools.com/tags/ref_httpmethods.asp"
   ]
  },
  {
   "cell_type": "markdown",
   "metadata": {},
   "source": [
    "**Sending a Request**<br>\n",
    "For this lesson, we’ll be requesting information from an API created by Github.\n",
    "Generally, APIs require a key in order to use their service; however, we’ll be using one\n",
    "that doesn’t require an API key. To begin, we must send a request to a specific URL,\n",
    "which will send a response back to us. That response will include data that we’ll be able\n",
    "to parse through. Write the following:"
   ]
  },
  {
   "cell_type": "code",
   "execution_count": 4,
   "metadata": {},
   "outputs": [
    {
     "name": "stdout",
     "output_type": "stream",
     "text": [
      "<Response [200]>\n",
      "<class 'requests.models.Response'>\n"
     ]
    }
   ],
   "source": [
    "# sending a request and logging the response code\n",
    "import requests\n",
    "r = requests.get(\"https://api.github.com/users/Connor-SM\")\n",
    "print(r)\n",
    "print(type(r))"
   ]
  },
  {
   "cell_type": "markdown",
   "metadata": {},
   "source": [
    "**Accessing the Response Content**\n",
    "\n",
    "In order to access the data that we get back in the response, we need to access the\n",
    "content attribute within our requests object:"
   ]
  },
  {
   "cell_type": "code",
   "execution_count": 7,
   "metadata": {},
   "outputs": [
    {
     "name": "stdout",
     "output_type": "stream",
     "text": [
      "b'{\"login\":\"Connor-SM\",\"id\":20958711,\"node_id\":\"MDQ6VXNlcjIwOTU4NzEx\",\"avatar_url\":\"https://avatars.githubusercontent.com/u/20958711?v=4\",\"gravatar_id\":\"\",\"url\":\"https://api.github.com/users/Connor-SM\",\"html_url\":\"https://github.com/Connor-SM\",\"followers_url\":\"https://api.github.com/users/Connor-SM/followers\",\"following_url\":\"https://api.github.com/users/Connor-SM/following{/other_user}\",\"gists_url\":\"https://api.github.com/users/Connor-SM/gists{/gist_id}\",\"starred_url\":\"https://api.github.com/users/Connor-SM/starred{/owner}{/repo}\",\"subscriptions_url\":\"https://api.github.com/users/Connor-SM/subscriptions\",\"organizations_url\":\"https://api.github.com/users/Connor-SM/orgs\",\"repos_url\":\"https://api.github.com/users/Connor-SM/repos\",\"events_url\":\"https://api.github.com/users/Connor-SM/events{/privacy}\",\"received_events_url\":\"https://api.github.com/users/Connor-SM/received_events\",\"type\":\"User\",\"site_admin\":false,\"name\":\"Connor Milliken\",\"company\":\"HubSpot, Inc.\",\"blog\":\"www.connormilliken.com\",\"location\":\"Boston, MA\",\"email\":null,\"hireable\":null,\"bio\":\"- Author of Python Projects for Beginners\\\\r\\\\n\\\\r\\\\n- Python Instructor\\\\r\\\\n\\\\r\\\\n- Adventurer/Traveler\",\"twitter_username\":null,\"public_repos\":51,\"public_gists\":0,\"followers\":81,\"following\":36,\"created_at\":\"2016-08-10T22:39:46Z\",\"updated_at\":\"2021-02-10T15:50:32Z\"}'\n"
     ]
    }
   ],
   "source": [
    "# accessing the content that we requested from the URL\n",
    "data = r.content\n",
    "print(data)"
   ]
  },
  {
   "cell_type": "markdown",
   "metadata": {},
   "source": [
    "**Converting the Response**\n",
    "\n",
    "Luckily for us, the requests object comes with a built-in JSON conversion method called\n",
    "json(). After we convert the response to a dictionary, let’s output all the key-value pairs:"
   ]
  },
  {
   "cell_type": "code",
   "execution_count": 13,
   "metadata": {},
   "outputs": [
    {
     "name": "stdout",
     "output_type": "stream",
     "text": [
      "Key: login \t Value: Connor-SM\n",
      "Key: id \t Value: 20958711\n",
      "Key: node_id \t Value: MDQ6VXNlcjIwOTU4NzEx\n",
      "Key: avatar_url \t Value: https://avatars.githubusercontent.com/u/20958711?v=4\n",
      "Key: gravatar_id \t Value: \n",
      "Key: url \t Value: https://api.github.com/users/Connor-SM\n",
      "Key: html_url \t Value: https://github.com/Connor-SM\n",
      "Key: followers_url \t Value: https://api.github.com/users/Connor-SM/followers\n",
      "Key: following_url \t Value: https://api.github.com/users/Connor-SM/following{/other_user}\n",
      "Key: gists_url \t Value: https://api.github.com/users/Connor-SM/gists{/gist_id}\n",
      "Key: starred_url \t Value: https://api.github.com/users/Connor-SM/starred{/owner}{/repo}\n",
      "Key: subscriptions_url \t Value: https://api.github.com/users/Connor-SM/subscriptions\n",
      "Key: organizations_url \t Value: https://api.github.com/users/Connor-SM/orgs\n",
      "Key: repos_url \t Value: https://api.github.com/users/Connor-SM/repos\n",
      "Key: events_url \t Value: https://api.github.com/users/Connor-SM/events{/privacy}\n",
      "Key: received_events_url \t Value: https://api.github.com/users/Connor-SM/received_events\n",
      "Key: type \t Value: User\n",
      "Key: site_admin \t Value: False\n",
      "Key: name \t Value: Connor Milliken\n",
      "Key: company \t Value: HubSpot, Inc.\n",
      "Key: blog \t Value: www.connormilliken.com\n",
      "Key: location \t Value: Boston, MA\n",
      "Key: email \t Value: None\n",
      "Key: hireable \t Value: None\n",
      "Key: bio \t Value: - Author of Python Projects for Beginners\r\n",
      "\r\n",
      "- Python Instructor\r\n",
      "\r\n",
      "- Adventurer/Traveler\n",
      "Key: twitter_username \t Value: None\n",
      "Key: public_repos \t Value: 51\n",
      "Key: public_gists \t Value: 0\n",
      "Key: followers \t Value: 81\n",
      "Key: following \t Value: 36\n",
      "Key: created_at \t Value: 2016-08-10T22:39:46Z\n",
      "Key: updated_at \t Value: 2021-02-10T15:50:32Z\n",
      "Connor Milliken\n"
     ]
    }
   ],
   "source": [
    "# converting data from JSON into a Python dictionary and outputting all key-value pairs\n",
    "data =r.json()\n",
    "for k, v in data.items():\n",
    "    print(f\"Key: {k} \\t Value: {v}\")\n",
    "print(data[\"name\"])"
   ]
  },
  {
   "cell_type": "markdown",
   "metadata": {},
   "source": [
    "**Passing Parameters**"
   ]
  },
  {
   "cell_type": "markdown",
   "metadata": {},
   "source": [
    "Most API calls that you perform will require extra information like parameters or\n",
    "headers. This information is taken in by the API and used to perform a specific task.\n",
    "Let’s perform a call this time while passing parameters in the URL to search for Python-specific\n",
    "repositories on Github:"
   ]
  },
  {
   "cell_type": "code",
   "execution_count": 17,
   "metadata": {},
   "outputs": [
    {
     "name": "stdout",
     "output_type": "stream",
     "text": [
      "2089464\n"
     ]
    }
   ],
   "source": [
    "# outputting specific key-value pairs from data\n",
    "r = requests.get(\"https://api.github.com/search/repositories?q=language: python\")\n",
    "data = r.json()\n",
    "print(data[\"total_count\"])        ## output the total number of repositories that use python"
   ]
  },
  {
   "cell_type": "markdown",
   "metadata": {},
   "source": [
    "# MONDAY EXERCISES"
   ]
  },
  {
   "cell_type": "markdown",
   "metadata": {},
   "source": [
    "**1. Test Environment:** Create a new virtual environment called “test.” When\n",
    "creating it, install Python version 2.7 instead of the current version. After\n",
    "it’s completed, make sure it installed the proper version of Python by\n",
    "checking the list."
   ]
  },
  {
   "cell_type": "code",
   "execution_count": 18,
   "metadata": {},
   "outputs": [],
   "source": [
    "## done"
   ]
  },
  {
   "cell_type": "markdown",
   "metadata": {},
   "source": [
    "**2. JavaScript Repositories:** Using the requests module and the Github API link in\n",
    "our last lesson, figure out how many repositories on Github use JavaScript."
   ]
  },
  {
   "cell_type": "code",
   "execution_count": 19,
   "metadata": {},
   "outputs": [
    {
     "name": "stdout",
     "output_type": "stream",
     "text": [
      "1022840\n"
     ]
    }
   ],
   "source": [
    "r = requests.get(\"https://api.github.com/search/repositories?q=language: javascript\")\n",
    "data = r.json()\n",
    "print(data[\"total_count\"])  "
   ]
  },
  {
   "cell_type": "markdown",
   "metadata": {},
   "source": [
    "# Tuesday: Pandas"
   ]
  },
  {
   "cell_type": "markdown",
   "metadata": {},
   "source": [
    "**What Is Pandas?**\n",
    "\n",
    "Pandas is a flexible data analysis library built within the C language, which is excellent\n",
    "for working with tabular data. It is currently the de facto standard for Python-based data\n",
    "analysis, and fluency in Pandas will do wonders for your productivity and frankly your\n",
    "resume. It is one of the fastest ways of getting from zero to answer. Having been written\n",
    "in C, it has increased speed when performing calculations. The Pandas module is a high\n",
    "performance, highly efficient, and high-level data analysis library. It allows us to work\n",
    "with large sets of data called DataFrames."
   ]
  },
  {
   "cell_type": "markdown",
   "metadata": {},
   "source": [
    "**Installing Pandas**\n",
    "\n",
    "To install Pandas, make sure your virtual environment is activated first, then write the\n",
    "following command into the terminal"
   ]
  },
  {
   "cell_type": "code",
   "execution_count": 2,
   "metadata": {},
   "outputs": [],
   "source": [
    "#importing the pandas library\n",
    "import pandas as pd # industry standard name of pd when importing"
   ]
  },
  {
   "cell_type": "markdown",
   "metadata": {},
   "source": [
    "**Creating a DataFrame**\n",
    "\n",
    "The central object of study in Pandas is the DataFrame, which is a tabular data structure\n",
    "with rows and columns like an Excel spreadsheet. You can create a DataFrame from a\n",
    "Python dictionary or a file that has tabular data, like a CSV file. Let’s create our own from\n",
    "a dictionary:"
   ]
  },
  {
   "cell_type": "code",
   "execution_count": 4,
   "metadata": {},
   "outputs": [
    {
     "name": "stdout",
     "output_type": "stream",
     "text": [
      "     names  ages\n",
      "0     Jess    25\n",
      "1   Jordan    35\n",
      "2    Sandy    22\n",
      "3      Ted    29\n",
      "4   Barney    33\n",
      "5    Tyler    20\n",
      "6  Rebecca    18\n"
     ]
    }
   ],
   "source": [
    "# using the from_dict method to convert a dictionary into a Pandas DataFrame\n",
    "import random\n",
    "random.seed(3)   # generate same random numbers every time, number used doesn't matter\n",
    "names = [ \"Jess\", \"Jordan\", \"Sandy\", \"Ted\", \"Barney\", \"Tyler\", \"Rebecca\" ]\n",
    "ages = [random.randint(18, 35) for x in range(len(names))]\n",
    "people = {\"names\":names, \"ages\": ages}\n",
    "df = pd.DataFrame.from_dict(people)\n",
    "print(df)"
   ]
  },
  {
   "cell_type": "markdown",
   "metadata": {},
   "source": [
    "**Note** Random numbers aren’t truly random; they follow a specific algorithm to\n",
    "return a number"
   ]
  },
  {
   "cell_type": "markdown",
   "metadata": {},
   "source": [
    "After we generate a list of names and random ages for each person, we create a\n",
    "dictionary called “people.” The magic truly happens on line 11, where we use Pandas to\n",
    "create the DataFrame that we’ll be working with. When it’s created, it uses the keys as\n",
    "the column names, and the values match up with the corresponding index, such that\n",
    "names[0] and ages[0] will be a single record. You should output a table that looks like\n",
    "Table 10-1"
   ]
  },
  {
   "cell_type": "code",
   "execution_count": 32,
   "metadata": {},
   "outputs": [
    {
     "data": {
      "image/png": "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\n",
      "text/plain": [
       "<IPython.core.display.Image object>"
      ]
     },
     "execution_count": 32,
     "metadata": {},
     "output_type": "execute_result"
    }
   ],
   "source": [
    "from IPython.display import Image\n",
    "Image(filename='images_projects/DataFrame.png')"
   ]
  },
  {
   "cell_type": "markdown",
   "metadata": {},
   "source": [
    "**Accessing Data**\n",
    "\n",
    "There are a few different ways that we can access the data within a DataFrame. You have\n",
    "the option to choose by the column or by the record. Let’s look at how to do both"
   ]
  },
  {
   "cell_type": "markdown",
   "metadata": {},
   "source": [
    "**Indexing by Column**\n",
    "\n",
    "Accessing data by a column is the same as accessing data from a dictionary with the key.\n",
    "Within the first set of brackets, you put the column name that you would like to access. If\n",
    "you’d like to access a specific record within that column, you use a second set of brackets\n",
    "with the index:"
   ]
  },
  {
   "cell_type": "code",
   "execution_count": 10,
   "metadata": {},
   "outputs": [
    {
     "data": {
      "text/plain": [
       "29"
      ]
     },
     "execution_count": 10,
     "metadata": {},
     "output_type": "execute_result"
    }
   ],
   "source": [
    "# directly selecting a column in Pandas\n",
    "df[\"ages\"]\n",
    "df[\"ages\"][3]    # select the value of \"ages\" in the fourth row (0-index based) doesn't work,\n",
    "#df[4]            #doesn't work, 4 is not a column name"
   ]
  },
  {
   "cell_type": "markdown",
   "metadata": {},
   "source": [
    "**Slicing a DataFrame**\n",
    "\n",
    "When you want to access a specific number of records, you must slice the DataFrame.\n",
    "Slicing in Pandas works the exact same way as a Python list does, using start, stop, and\n",
    "step within a set of brackets. Let’s access the records from index 2 up to 5:"
   ]
  },
  {
   "cell_type": "code",
   "execution_count": 12,
   "metadata": {},
   "outputs": [
    {
     "data": {
      "text/html": [
       "<div>\n",
       "<style scoped>\n",
       "    .dataframe tbody tr th:only-of-type {\n",
       "        vertical-align: middle;\n",
       "    }\n",
       "\n",
       "    .dataframe tbody tr th {\n",
       "        vertical-align: top;\n",
       "    }\n",
       "\n",
       "    .dataframe thead th {\n",
       "        text-align: right;\n",
       "    }\n",
       "</style>\n",
       "<table border=\"1\" class=\"dataframe\">\n",
       "  <thead>\n",
       "    <tr style=\"text-align: right;\">\n",
       "      <th></th>\n",
       "      <th>names</th>\n",
       "      <th>ages</th>\n",
       "    </tr>\n",
       "  </thead>\n",
       "  <tbody>\n",
       "    <tr>\n",
       "      <th>2</th>\n",
       "      <td>Sandy</td>\n",
       "      <td>22</td>\n",
       "    </tr>\n",
       "    <tr>\n",
       "      <th>3</th>\n",
       "      <td>Ted</td>\n",
       "      <td>29</td>\n",
       "    </tr>\n",
       "    <tr>\n",
       "      <th>4</th>\n",
       "      <td>Barney</td>\n",
       "      <td>33</td>\n",
       "    </tr>\n",
       "  </tbody>\n",
       "</table>\n",
       "</div>"
      ],
      "text/plain": [
       "    names  ages\n",
       "2   Sandy    22\n",
       "3     Ted    29\n",
       "4  Barney    33"
      ]
     },
     "execution_count": 12,
     "metadata": {},
     "output_type": "execute_result"
    }
   ],
   "source": [
    "# slicing a DataFrame to grab specific records\n",
    "df[2:5]"
   ]
  },
  {
   "cell_type": "markdown",
   "metadata": {},
   "source": [
    "**Built-in Methods**\n",
    "\n",
    "These are methods that are frequently used to make your life easier when using Pandas.\n",
    "It is possible to spend a whole week simply exploring the built-in functions supported by\n",
    "DataFrames in Pandas. However, we will simply highlight a few that will be useful, to give\n",
    "you an idea of what’s possible out of the box with Pandas."
   ]
  },
  {
   "cell_type": "markdown",
   "metadata": {},
   "source": [
    "**1.head( )**\n",
    "\n",
    "When you work with large sets of data, you’ll often want to view a couple records to get\n",
    "an idea of what you’re looking at. To see the top records in the DataFrame, along with the\n",
    "column names, you use the **head()** method:"
   ]
  },
  {
   "cell_type": "code",
   "execution_count": 14,
   "metadata": {},
   "outputs": [
    {
     "data": {
      "text/html": [
       "<div>\n",
       "<style scoped>\n",
       "    .dataframe tbody tr th:only-of-type {\n",
       "        vertical-align: middle;\n",
       "    }\n",
       "\n",
       "    .dataframe tbody tr th {\n",
       "        vertical-align: top;\n",
       "    }\n",
       "\n",
       "    .dataframe thead th {\n",
       "        text-align: right;\n",
       "    }\n",
       "</style>\n",
       "<table border=\"1\" class=\"dataframe\">\n",
       "  <thead>\n",
       "    <tr style=\"text-align: right;\">\n",
       "      <th></th>\n",
       "      <th>names</th>\n",
       "      <th>ages</th>\n",
       "    </tr>\n",
       "  </thead>\n",
       "  <tbody>\n",
       "    <tr>\n",
       "      <th>0</th>\n",
       "      <td>Jess</td>\n",
       "      <td>25</td>\n",
       "    </tr>\n",
       "    <tr>\n",
       "      <th>1</th>\n",
       "      <td>Jordan</td>\n",
       "      <td>35</td>\n",
       "    </tr>\n",
       "    <tr>\n",
       "      <th>2</th>\n",
       "      <td>Sandy</td>\n",
       "      <td>22</td>\n",
       "    </tr>\n",
       "    <tr>\n",
       "      <th>3</th>\n",
       "      <td>Ted</td>\n",
       "      <td>29</td>\n",
       "    </tr>\n",
       "    <tr>\n",
       "      <th>4</th>\n",
       "      <td>Barney</td>\n",
       "      <td>33</td>\n",
       "    </tr>\n",
       "  </tbody>\n",
       "</table>\n",
       "</div>"
      ],
      "text/plain": [
       "    names  ages\n",
       "0    Jess    25\n",
       "1  Jordan    35\n",
       "2   Sandy    22\n",
       "3     Ted    29\n",
       "4  Barney    33"
      ]
     },
     "execution_count": 14,
     "metadata": {},
     "output_type": "execute_result"
    }
   ],
   "source": [
    "# accessing the top 5 records using .head( )\n",
    "df.head(5)"
   ]
  },
  {
   "cell_type": "markdown",
   "metadata": {},
   "source": [
    "**2.tail( )**\n",
    "\n",
    "To view a given number of records from the bottom, you would use the **tail()** method:"
   ]
  },
  {
   "cell_type": "code",
   "execution_count": 16,
   "metadata": {},
   "outputs": [
    {
     "data": {
      "text/html": [
       "<div>\n",
       "<style scoped>\n",
       "    .dataframe tbody tr th:only-of-type {\n",
       "        vertical-align: middle;\n",
       "    }\n",
       "\n",
       "    .dataframe tbody tr th {\n",
       "        vertical-align: top;\n",
       "    }\n",
       "\n",
       "    .dataframe thead th {\n",
       "        text-align: right;\n",
       "    }\n",
       "</style>\n",
       "<table border=\"1\" class=\"dataframe\">\n",
       "  <thead>\n",
       "    <tr style=\"text-align: right;\">\n",
       "      <th></th>\n",
       "      <th>names</th>\n",
       "      <th>ages</th>\n",
       "    </tr>\n",
       "  </thead>\n",
       "  <tbody>\n",
       "    <tr>\n",
       "      <th>4</th>\n",
       "      <td>Barney</td>\n",
       "      <td>33</td>\n",
       "    </tr>\n",
       "    <tr>\n",
       "      <th>5</th>\n",
       "      <td>Tyler</td>\n",
       "      <td>20</td>\n",
       "    </tr>\n",
       "    <tr>\n",
       "      <th>6</th>\n",
       "      <td>Rebecca</td>\n",
       "      <td>18</td>\n",
       "    </tr>\n",
       "  </tbody>\n",
       "</table>\n",
       "</div>"
      ],
      "text/plain": [
       "     names  ages\n",
       "4   Barney    33\n",
       "5    Tyler    20\n",
       "6  Rebecca    18"
      ]
     },
     "execution_count": 16,
     "metadata": {},
     "output_type": "execute_result"
    }
   ],
   "source": [
    "# accessing the bottom 3 records using .tail( )\n",
    "df.tail(3)"
   ]
  },
  {
   "cell_type": "markdown",
   "metadata": {},
   "source": [
    "**3.keys( )**\n",
    "\n",
    "Sometimes you’ll need the column names. Whether you’re making a modular script or\n",
    "analyzing the data you’re working with, using the **keys( )** method will help:"
   ]
  },
  {
   "cell_type": "code",
   "execution_count": 17,
   "metadata": {},
   "outputs": [
    {
     "data": {
      "text/plain": [
       "Index(['names', 'ages'], dtype='object')"
      ]
     },
     "execution_count": 17,
     "metadata": {},
     "output_type": "execute_result"
    }
   ],
   "source": [
    "#only keys\n",
    "df.keys()"
   ]
  },
  {
   "cell_type": "code",
   "execution_count": 18,
   "metadata": {},
   "outputs": [
    {
     "name": "stdout",
     "output_type": "stream",
     "text": [
      "Index(['names', 'ages'], dtype='object')\n"
     ]
    }
   ],
   "source": [
    "# accessing the column headers (keys) using the .keys( ) method\n",
    "headers = df.keys( )\n",
    "print(headers)"
   ]
  },
  {
   "cell_type": "markdown",
   "metadata": {},
   "source": [
    "**4.shape**\n",
    "\n",
    "The shape of a DataFrame describes the number of records by the number of columns.\n",
    "It’s always important to check the shape to ensure you’re working with the proper\n",
    "amount of data:"
   ]
  },
  {
   "cell_type": "code",
   "execution_count": 21,
   "metadata": {},
   "outputs": [
    {
     "data": {
      "text/plain": [
       "(7, 2)"
      ]
     },
     "execution_count": 21,
     "metadata": {},
     "output_type": "execute_result"
    }
   ],
   "source": [
    "df.shape"
   ]
  },
  {
   "cell_type": "markdown",
   "metadata": {},
   "source": [
    "**5.describe( )**\n",
    "\n",
    "The describe method will give you a base analysis for all numerical data. You’ll be able\n",
    "to view min, max, 25%, 50%, mean, etc., on all columns just by calling this method on the\n",
    "DataFrame. This information is helpful to start your analysis but generally won’t answer\n",
    "those questions you’re looking for. Instead, we can use this method as a guideline of\n",
    "where to start:"
   ]
  },
  {
   "cell_type": "code",
   "execution_count": 23,
   "metadata": {},
   "outputs": [
    {
     "data": {
      "text/html": [
       "<div>\n",
       "<style scoped>\n",
       "    .dataframe tbody tr th:only-of-type {\n",
       "        vertical-align: middle;\n",
       "    }\n",
       "\n",
       "    .dataframe tbody tr th {\n",
       "        vertical-align: top;\n",
       "    }\n",
       "\n",
       "    .dataframe thead th {\n",
       "        text-align: right;\n",
       "    }\n",
       "</style>\n",
       "<table border=\"1\" class=\"dataframe\">\n",
       "  <thead>\n",
       "    <tr style=\"text-align: right;\">\n",
       "      <th></th>\n",
       "      <th>ages</th>\n",
       "    </tr>\n",
       "  </thead>\n",
       "  <tbody>\n",
       "    <tr>\n",
       "      <th>count</th>\n",
       "      <td>7.000000</td>\n",
       "    </tr>\n",
       "    <tr>\n",
       "      <th>mean</th>\n",
       "      <td>26.000000</td>\n",
       "    </tr>\n",
       "    <tr>\n",
       "      <th>std</th>\n",
       "      <td>6.531973</td>\n",
       "    </tr>\n",
       "    <tr>\n",
       "      <th>min</th>\n",
       "      <td>18.000000</td>\n",
       "    </tr>\n",
       "    <tr>\n",
       "      <th>25%</th>\n",
       "      <td>21.000000</td>\n",
       "    </tr>\n",
       "    <tr>\n",
       "      <th>50%</th>\n",
       "      <td>25.000000</td>\n",
       "    </tr>\n",
       "    <tr>\n",
       "      <th>75%</th>\n",
       "      <td>31.000000</td>\n",
       "    </tr>\n",
       "    <tr>\n",
       "      <th>max</th>\n",
       "      <td>35.000000</td>\n",
       "    </tr>\n",
       "  </tbody>\n",
       "</table>\n",
       "</div>"
      ],
      "text/plain": [
       "            ages\n",
       "count   7.000000\n",
       "mean   26.000000\n",
       "std     6.531973\n",
       "min    18.000000\n",
       "25%    21.000000\n",
       "50%    25.000000\n",
       "75%    31.000000\n",
       "max    35.000000"
      ]
     },
     "execution_count": 23,
     "metadata": {},
     "output_type": "execute_result"
    }
   ],
   "source": [
    "# checking the general statistics of the DataFrame using .describe( ), only works on numerical columns\n",
    "df.describe()"
   ]
  },
  {
   "cell_type": "markdown",
   "metadata": {},
   "source": [
    "**6.sort_values( )**\n",
    "\n",
    "When you need to sort a DataFrame based on column information, you use this method.\n",
    "You can pass in one or multiple columns to be sorted by. When passing multiple, you must\n",
    "pass them in as a list of column names, in which the first name will take precedence:"
   ]
  },
  {
   "cell_type": "code",
   "execution_count": 27,
   "metadata": {},
   "outputs": [
    {
     "data": {
      "text/html": [
       "<div>\n",
       "<style scoped>\n",
       "    .dataframe tbody tr th:only-of-type {\n",
       "        vertical-align: middle;\n",
       "    }\n",
       "\n",
       "    .dataframe tbody tr th {\n",
       "        vertical-align: top;\n",
       "    }\n",
       "\n",
       "    .dataframe thead th {\n",
       "        text-align: right;\n",
       "    }\n",
       "</style>\n",
       "<table border=\"1\" class=\"dataframe\">\n",
       "  <thead>\n",
       "    <tr style=\"text-align: right;\">\n",
       "      <th></th>\n",
       "      <th>names</th>\n",
       "      <th>ages</th>\n",
       "    </tr>\n",
       "  </thead>\n",
       "  <tbody>\n",
       "    <tr>\n",
       "      <th>6</th>\n",
       "      <td>Rebecca</td>\n",
       "      <td>18</td>\n",
       "    </tr>\n",
       "    <tr>\n",
       "      <th>5</th>\n",
       "      <td>Tyler</td>\n",
       "      <td>20</td>\n",
       "    </tr>\n",
       "    <tr>\n",
       "      <th>2</th>\n",
       "      <td>Sandy</td>\n",
       "      <td>22</td>\n",
       "    </tr>\n",
       "    <tr>\n",
       "      <th>0</th>\n",
       "      <td>Jess</td>\n",
       "      <td>25</td>\n",
       "    </tr>\n",
       "    <tr>\n",
       "      <th>3</th>\n",
       "      <td>Ted</td>\n",
       "      <td>29</td>\n",
       "    </tr>\n",
       "  </tbody>\n",
       "</table>\n",
       "</div>"
      ],
      "text/plain": [
       "     names  ages\n",
       "6  Rebecca    18\n",
       "5    Tyler    20\n",
       "2    Sandy    22\n",
       "0     Jess    25\n",
       "3      Ted    29"
      ]
     },
     "execution_count": 27,
     "metadata": {},
     "output_type": "execute_result"
    }
   ],
   "source": [
    "# sort based on a given column, but keep the DataFrame in tact using sort_values( )\n",
    "df = df.sort_values(\"ages\")\n",
    "df.head(5)\n"
   ]
  },
  {
   "cell_type": "markdown",
   "metadata": {},
   "source": [
    "**Filtration** \n",
    "\n",
    "Let’s look at how to filter DataFrames for information that meets a specific condition."
   ]
  },
  {
   "cell_type": "markdown",
   "metadata": {},
   "source": [
    "**Conditionals**\n",
    "\n",
    "Rather than filtering out information, we can create a boolean data type column that\n",
    "represents the condition we’re checking. Let’s take our current DataFrame and write a\n",
    "condition that shows those who are 21 or older and can drink:"
   ]
  },
  {
   "cell_type": "code",
   "execution_count": 28,
   "metadata": {},
   "outputs": [
    {
     "name": "stdout",
     "output_type": "stream",
     "text": [
      "6    False\n",
      "5    False\n",
      "2     True\n",
      "0     True\n",
      "3     True\n",
      "4     True\n",
      "1     True\n",
      "Name: ages, dtype: bool\n"
     ]
    }
   ],
   "source": [
    "# using a conditional to create a true/false column to work with\n",
    "can_drink = df[\"ages\"] > 21\n",
    "print(can_drink)"
   ]
  },
  {
   "cell_type": "markdown",
   "metadata": {},
   "source": [
    "**Subsetting**\n",
    "\n",
    "When you need to filter out records but retain the information within the DataFrame\n",
    "you need to use a concept called subsetting. We’ll use the same condition as earlier,\n",
    "except this time we’ll use it to filter out records rather than create a true-false\n",
    "representation:"
   ]
  },
  {
   "cell_type": "code",
   "execution_count": 29,
   "metadata": {},
   "outputs": [
    {
     "data": {
      "text/html": [
       "<div>\n",
       "<style scoped>\n",
       "    .dataframe tbody tr th:only-of-type {\n",
       "        vertical-align: middle;\n",
       "    }\n",
       "\n",
       "    .dataframe tbody tr th {\n",
       "        vertical-align: top;\n",
       "    }\n",
       "\n",
       "    .dataframe thead th {\n",
       "        text-align: right;\n",
       "    }\n",
       "</style>\n",
       "<table border=\"1\" class=\"dataframe\">\n",
       "  <thead>\n",
       "    <tr style=\"text-align: right;\">\n",
       "      <th></th>\n",
       "      <th>names</th>\n",
       "      <th>ages</th>\n",
       "    </tr>\n",
       "  </thead>\n",
       "  <tbody>\n",
       "    <tr>\n",
       "      <th>2</th>\n",
       "      <td>Sandy</td>\n",
       "      <td>22</td>\n",
       "    </tr>\n",
       "    <tr>\n",
       "      <th>0</th>\n",
       "      <td>Jess</td>\n",
       "      <td>25</td>\n",
       "    </tr>\n",
       "    <tr>\n",
       "      <th>3</th>\n",
       "      <td>Ted</td>\n",
       "      <td>29</td>\n",
       "    </tr>\n",
       "    <tr>\n",
       "      <th>4</th>\n",
       "      <td>Barney</td>\n",
       "      <td>33</td>\n",
       "    </tr>\n",
       "    <tr>\n",
       "      <th>1</th>\n",
       "      <td>Jordan</td>\n",
       "      <td>35</td>\n",
       "    </tr>\n",
       "  </tbody>\n",
       "</table>\n",
       "</div>"
      ],
      "text/plain": [
       "    names  ages\n",
       "2   Sandy    22\n",
       "0    Jess    25\n",
       "3     Ted    29\n",
       "4  Barney    33\n",
       "1  Jordan    35"
      ]
     },
     "execution_count": 29,
     "metadata": {},
     "output_type": "execute_result"
    }
   ],
   "source": [
    "# using subsetting to filter out records and keep DataFrame intact\n",
    "df[ df[\"ages\"] > 21 ]"
   ]
  },
  {
   "cell_type": "code",
   "execution_count": 30,
   "metadata": {},
   "outputs": [
    {
     "data": {
      "text/html": [
       "<div>\n",
       "<style scoped>\n",
       "    .dataframe tbody tr th:only-of-type {\n",
       "        vertical-align: middle;\n",
       "    }\n",
       "\n",
       "    .dataframe tbody tr th {\n",
       "        vertical-align: top;\n",
       "    }\n",
       "\n",
       "    .dataframe thead th {\n",
       "        text-align: right;\n",
       "    }\n",
       "</style>\n",
       "<table border=\"1\" class=\"dataframe\">\n",
       "  <thead>\n",
       "    <tr style=\"text-align: right;\">\n",
       "      <th></th>\n",
       "      <th>names</th>\n",
       "      <th>ages</th>\n",
       "    </tr>\n",
       "  </thead>\n",
       "  <tbody>\n",
       "    <tr>\n",
       "      <th>2</th>\n",
       "      <td>Sandy</td>\n",
       "      <td>22</td>\n",
       "    </tr>\n",
       "    <tr>\n",
       "      <th>0</th>\n",
       "      <td>Jess</td>\n",
       "      <td>25</td>\n",
       "    </tr>\n",
       "    <tr>\n",
       "      <th>3</th>\n",
       "      <td>Ted</td>\n",
       "      <td>29</td>\n",
       "    </tr>\n",
       "    <tr>\n",
       "      <th>4</th>\n",
       "      <td>Barney</td>\n",
       "      <td>33</td>\n",
       "    </tr>\n",
       "    <tr>\n",
       "      <th>1</th>\n",
       "      <td>Jordan</td>\n",
       "      <td>35</td>\n",
       "    </tr>\n",
       "  </tbody>\n",
       "</table>\n",
       "</div>"
      ],
      "text/plain": [
       "    names  ages\n",
       "2   Sandy    22\n",
       "0    Jess    25\n",
       "3     Ted    29\n",
       "4  Barney    33\n",
       "1  Jordan    35"
      ]
     },
     "execution_count": 30,
     "metadata": {},
     "output_type": "execute_result"
    }
   ],
   "source": [
    "df[can_drink]"
   ]
  },
  {
   "cell_type": "markdown",
   "metadata": {},
   "source": [
    "**Column Transformations**\n",
    "\n",
    "Rarely, if ever, will the columns in the original raw DataFrame imported from CSV or a\n",
    "database be the ones you need for your analysis. You will spend lots of time constantly\n",
    "transforming columns or groups of columns using general computational operations to\n",
    "produce new ones that are functions of the old ones. Pandas has full support for this and\n",
    "does it efficiently."
   ]
  },
  {
   "cell_type": "markdown",
   "metadata": {},
   "source": [
    "**Generating a New Column with Data**\n",
    "\n",
    "To create a new column within a DataFrame, you use the same syntax as if you were\n",
    "adding a new key-value pair into a dictionary. Let’s create a column of fake data that\n",
    "represents how long the people within our DataFrame have been customers with our\n",
    "company:"
   ]
  },
  {
   "cell_type": "code",
   "execution_count": 35,
   "metadata": {},
   "outputs": [
    {
     "data": {
      "text/html": [
       "<div>\n",
       "<style scoped>\n",
       "    .dataframe tbody tr th:only-of-type {\n",
       "        vertical-align: middle;\n",
       "    }\n",
       "\n",
       "    .dataframe tbody tr th {\n",
       "        vertical-align: top;\n",
       "    }\n",
       "\n",
       "    .dataframe thead th {\n",
       "        text-align: right;\n",
       "    }\n",
       "</style>\n",
       "<table border=\"1\" class=\"dataframe\">\n",
       "  <thead>\n",
       "    <tr style=\"text-align: right;\">\n",
       "      <th></th>\n",
       "      <th>names</th>\n",
       "      <th>ages</th>\n",
       "      <th>tenure</th>\n",
       "    </tr>\n",
       "  </thead>\n",
       "  <tbody>\n",
       "    <tr>\n",
       "      <th>6</th>\n",
       "      <td>Rebecca</td>\n",
       "      <td>18</td>\n",
       "      <td>4</td>\n",
       "    </tr>\n",
       "    <tr>\n",
       "      <th>5</th>\n",
       "      <td>Tyler</td>\n",
       "      <td>20</td>\n",
       "      <td>6</td>\n",
       "    </tr>\n",
       "    <tr>\n",
       "      <th>2</th>\n",
       "      <td>Sandy</td>\n",
       "      <td>22</td>\n",
       "      <td>2</td>\n",
       "    </tr>\n",
       "    <tr>\n",
       "      <th>0</th>\n",
       "      <td>Jess</td>\n",
       "      <td>25</td>\n",
       "      <td>5</td>\n",
       "    </tr>\n",
       "    <tr>\n",
       "      <th>3</th>\n",
       "      <td>Ted</td>\n",
       "      <td>29</td>\n",
       "      <td>8</td>\n",
       "    </tr>\n",
       "  </tbody>\n",
       "</table>\n",
       "</div>"
      ],
      "text/plain": [
       "     names  ages  tenure\n",
       "6  Rebecca    18       4\n",
       "5    Tyler    20       6\n",
       "2    Sandy    22       2\n",
       "0     Jess    25       5\n",
       "3      Ted    29       8"
      ]
     },
     "execution_count": 35,
     "metadata": {},
     "output_type": "execute_result"
    }
   ],
   "source": [
    "# generating a new column of fake data for each record in the DataFrame to represent customer tenure\n",
    "random.seed(321)\n",
    "tenure = [random.randint(0, 10) for x in range(len(df))]\n",
    "df[\"tenure\"] = tenure                   # same as adding a new key-value pair in a dictionary\n",
    "df.head()"
   ]
  },
  {
   "cell_type": "markdown",
   "metadata": {},
   "source": [
    "**apply( )**\n",
    "Adding new columns based on current data is known as **“feature engineering.”** It\n",
    "makes up a good portion of a data analysts’ job. Often, you won’t be able to answer the\n",
    "questions you have from the data you collect. Instead, you need to create your own data\n",
    "that is useful to answering questions. For this example, let’s try to answer the following\n",
    "question: “What age group does each customer belong to?”. You could look at the persons’\n",
    "age and assume their age group; however, we want to make it easier than that. In order to\n",
    "answer this question easily, we’ll need to feature engineer a new column that represents\n",
    "each customer’s age group. We can do this by using the apply method on the DataFrame.\n",
    "The **apply** method takes in each record, applies the function passed, and sets the value\n",
    "returned as the new column data. Let’s check it out:"
   ]
  },
  {
   "cell_type": "code",
   "execution_count": 37,
   "metadata": {},
   "outputs": [
    {
     "data": {
      "text/html": [
       "<div>\n",
       "<style scoped>\n",
       "    .dataframe tbody tr th:only-of-type {\n",
       "        vertical-align: middle;\n",
       "    }\n",
       "\n",
       "    .dataframe tbody tr th {\n",
       "        vertical-align: top;\n",
       "    }\n",
       "\n",
       "    .dataframe thead th {\n",
       "        text-align: right;\n",
       "    }\n",
       "</style>\n",
       "<table border=\"1\" class=\"dataframe\">\n",
       "  <thead>\n",
       "    <tr style=\"text-align: right;\">\n",
       "      <th></th>\n",
       "      <th>names</th>\n",
       "      <th>ages</th>\n",
       "      <th>tenure</th>\n",
       "      <th>age_group</th>\n",
       "    </tr>\n",
       "  </thead>\n",
       "  <tbody>\n",
       "    <tr>\n",
       "      <th>6</th>\n",
       "      <td>Rebecca</td>\n",
       "      <td>18</td>\n",
       "      <td>4</td>\n",
       "      <td>Adlut</td>\n",
       "    </tr>\n",
       "    <tr>\n",
       "      <th>5</th>\n",
       "      <td>Tyler</td>\n",
       "      <td>20</td>\n",
       "      <td>6</td>\n",
       "      <td>Adlut</td>\n",
       "    </tr>\n",
       "    <tr>\n",
       "      <th>2</th>\n",
       "      <td>Sandy</td>\n",
       "      <td>22</td>\n",
       "      <td>2</td>\n",
       "      <td>Teenger</td>\n",
       "    </tr>\n",
       "    <tr>\n",
       "      <th>0</th>\n",
       "      <td>Jess</td>\n",
       "      <td>25</td>\n",
       "      <td>5</td>\n",
       "      <td>Teenger</td>\n",
       "    </tr>\n",
       "    <tr>\n",
       "      <th>3</th>\n",
       "      <td>Ted</td>\n",
       "      <td>29</td>\n",
       "      <td>8</td>\n",
       "      <td>Teenger</td>\n",
       "    </tr>\n",
       "    <tr>\n",
       "      <th>4</th>\n",
       "      <td>Barney</td>\n",
       "      <td>33</td>\n",
       "      <td>7</td>\n",
       "      <td>Teenger</td>\n",
       "    </tr>\n",
       "    <tr>\n",
       "      <th>1</th>\n",
       "      <td>Jordan</td>\n",
       "      <td>35</td>\n",
       "      <td>5</td>\n",
       "      <td>Teenger</td>\n",
       "    </tr>\n",
       "  </tbody>\n",
       "</table>\n",
       "</div>"
      ],
      "text/plain": [
       "     names  ages  tenure age_group\n",
       "6  Rebecca    18       4     Adlut\n",
       "5    Tyler    20       6     Adlut\n",
       "2    Sandy    22       2   Teenger\n",
       "0     Jess    25       5   Teenger\n",
       "3      Ted    29       8   Teenger\n",
       "4   Barney    33       7   Teenger\n",
       "1   Jordan    35       5   Teenger"
      ]
     },
     "execution_count": 37,
     "metadata": {},
     "output_type": "execute_result"
    }
   ],
   "source": [
    "# feature engineering a new column from known data using a UDF\n",
    "def ageGroup(age):\n",
    "    return \"Teenger\" if age>21 else \"Adlut\"\n",
    "df[\"age_group\"] = df[\"ages\"].apply(ageGroup)\n",
    "df.head(10)"
   ]
  },
  {
   "cell_type": "code",
   "execution_count": 41,
   "metadata": {},
   "outputs": [
    {
     "data": {
      "text/html": [
       "<div>\n",
       "<style scoped>\n",
       "    .dataframe tbody tr th:only-of-type {\n",
       "        vertical-align: middle;\n",
       "    }\n",
       "\n",
       "    .dataframe tbody tr th {\n",
       "        vertical-align: top;\n",
       "    }\n",
       "\n",
       "    .dataframe thead th {\n",
       "        text-align: right;\n",
       "    }\n",
       "</style>\n",
       "<table border=\"1\" class=\"dataframe\">\n",
       "  <thead>\n",
       "    <tr style=\"text-align: right;\">\n",
       "      <th></th>\n",
       "      <th>names</th>\n",
       "      <th>ages</th>\n",
       "      <th>tenure</th>\n",
       "      <th>age_group</th>\n",
       "    </tr>\n",
       "  </thead>\n",
       "  <tbody>\n",
       "    <tr>\n",
       "      <th>6</th>\n",
       "      <td>Rebecca</td>\n",
       "      <td>18</td>\n",
       "      <td>4</td>\n",
       "      <td>Adlut</td>\n",
       "    </tr>\n",
       "    <tr>\n",
       "      <th>5</th>\n",
       "      <td>Tyler</td>\n",
       "      <td>20</td>\n",
       "      <td>6</td>\n",
       "      <td>Adlut</td>\n",
       "    </tr>\n",
       "    <tr>\n",
       "      <th>2</th>\n",
       "      <td>Sandy</td>\n",
       "      <td>22</td>\n",
       "      <td>2</td>\n",
       "      <td>Teenger</td>\n",
       "    </tr>\n",
       "    <tr>\n",
       "      <th>0</th>\n",
       "      <td>Jess</td>\n",
       "      <td>25</td>\n",
       "      <td>5</td>\n",
       "      <td>Teenger</td>\n",
       "    </tr>\n",
       "    <tr>\n",
       "      <th>3</th>\n",
       "      <td>Ted</td>\n",
       "      <td>29</td>\n",
       "      <td>8</td>\n",
       "      <td>Teenger</td>\n",
       "    </tr>\n",
       "    <tr>\n",
       "      <th>4</th>\n",
       "      <td>Barney</td>\n",
       "      <td>33</td>\n",
       "      <td>7</td>\n",
       "      <td>Teenger</td>\n",
       "    </tr>\n",
       "    <tr>\n",
       "      <th>1</th>\n",
       "      <td>Jordan</td>\n",
       "      <td>35</td>\n",
       "      <td>5</td>\n",
       "      <td>Teenger</td>\n",
       "    </tr>\n",
       "  </tbody>\n",
       "</table>\n",
       "</div>"
      ],
      "text/plain": [
       "     names  ages  tenure age_group\n",
       "6  Rebecca    18       4     Adlut\n",
       "5    Tyler    20       6     Adlut\n",
       "2    Sandy    22       2   Teenger\n",
       "0     Jess    25       5   Teenger\n",
       "3      Ted    29       8   Teenger\n",
       "4   Barney    33       7   Teenger\n",
       "1   Jordan    35       5   Teenger"
      ]
     },
     "execution_count": 41,
     "metadata": {},
     "output_type": "execute_result"
    }
   ],
   "source": [
    "#another way\n",
    "lambda age: \"Teenger\" if age>21 else \"adult\"\n",
    "df[\"age_group\"] = df[\"ages\"].apply(ageGroup)\n",
    "df.head(10)"
   ]
  },
  {
   "cell_type": "markdown",
   "metadata": {},
   "source": [
    "**groupby( )** \n",
    "\n",
    "In order to condense the information down to a summary of statistics, we’ll need to use\n",
    "the **groupby** method that Pandas has. Whenever you group information together, you\n",
    "need to use an aggregate function to let the program know how to group the information\n",
    "together. For now, let’s **count** how many records of each age group there are within our\n",
    "DataFrame:"
   ]
  },
  {
   "cell_type": "code",
   "execution_count": 42,
   "metadata": {},
   "outputs": [
    {
     "data": {
      "text/html": [
       "<div>\n",
       "<style scoped>\n",
       "    .dataframe tbody tr th:only-of-type {\n",
       "        vertical-align: middle;\n",
       "    }\n",
       "\n",
       "    .dataframe tbody tr th {\n",
       "        vertical-align: top;\n",
       "    }\n",
       "\n",
       "    .dataframe thead th {\n",
       "        text-align: right;\n",
       "    }\n",
       "</style>\n",
       "<table border=\"1\" class=\"dataframe\">\n",
       "  <thead>\n",
       "    <tr style=\"text-align: right;\">\n",
       "      <th></th>\n",
       "      <th>age_group</th>\n",
       "      <th>names</th>\n",
       "      <th>ages</th>\n",
       "      <th>tenure</th>\n",
       "    </tr>\n",
       "  </thead>\n",
       "  <tbody>\n",
       "    <tr>\n",
       "      <th>0</th>\n",
       "      <td>Adlut</td>\n",
       "      <td>2</td>\n",
       "      <td>2</td>\n",
       "      <td>2</td>\n",
       "    </tr>\n",
       "    <tr>\n",
       "      <th>1</th>\n",
       "      <td>Teenger</td>\n",
       "      <td>5</td>\n",
       "      <td>5</td>\n",
       "      <td>5</td>\n",
       "    </tr>\n",
       "  </tbody>\n",
       "</table>\n",
       "</div>"
      ],
      "text/plain": [
       "  age_group  names  ages  tenure\n",
       "0     Adlut      2     2       2\n",
       "1   Teenger      5     5       5"
      ]
     },
     "execution_count": 42,
     "metadata": {},
     "output_type": "execute_result"
    }
   ],
   "source": [
    "# grouping the records together to count how many records in each group\n",
    "df.groupby(\"age_group\", as_index=False).count( ).head( )"
   ]
  },
  {
   "cell_type": "markdown",
   "metadata": {},
   "source": [
    "**mean( )**\n",
    "\n",
    "Instead of counting how many records there are in each category, let’s go ahead and find\n",
    "the averages of each column by using the mean method. We’ll group based on the same\n",
    "column"
   ]
  },
  {
   "cell_type": "code",
   "execution_count": 43,
   "metadata": {},
   "outputs": [
    {
     "data": {
      "text/html": [
       "<div>\n",
       "<style scoped>\n",
       "    .dataframe tbody tr th:only-of-type {\n",
       "        vertical-align: middle;\n",
       "    }\n",
       "\n",
       "    .dataframe tbody tr th {\n",
       "        vertical-align: top;\n",
       "    }\n",
       "\n",
       "    .dataframe thead th {\n",
       "        text-align: right;\n",
       "    }\n",
       "</style>\n",
       "<table border=\"1\" class=\"dataframe\">\n",
       "  <thead>\n",
       "    <tr style=\"text-align: right;\">\n",
       "      <th></th>\n",
       "      <th>age_group</th>\n",
       "      <th>ages</th>\n",
       "      <th>tenure</th>\n",
       "    </tr>\n",
       "  </thead>\n",
       "  <tbody>\n",
       "    <tr>\n",
       "      <th>0</th>\n",
       "      <td>Adlut</td>\n",
       "      <td>19.0</td>\n",
       "      <td>5.0</td>\n",
       "    </tr>\n",
       "    <tr>\n",
       "      <th>1</th>\n",
       "      <td>Teenger</td>\n",
       "      <td>28.8</td>\n",
       "      <td>5.4</td>\n",
       "    </tr>\n",
       "  </tbody>\n",
       "</table>\n",
       "</div>"
      ],
      "text/plain": [
       "  age_group  ages  tenure\n",
       "0     Adlut  19.0     5.0\n",
       "1   Teenger  28.8     5.4"
      ]
     },
     "execution_count": 43,
     "metadata": {},
     "output_type": "execute_result"
    }
   ],
   "source": [
    "# grouping the data to see averages of all columns\n",
    "df.groupby(\"age_group\", as_index=False).mean( ).head( )"
   ]
  },
  {
   "cell_type": "markdown",
   "metadata": {},
   "source": [
    "**groupby( ) with Multiple Columns**\n",
    "\n",
    "When you need to group by multiple columns, the arguments must be passed in as a list.\n",
    "The first item in the list will be the main column that the DataFrame is grouped by. In\n",
    "our case, let’s check how many adults have a tenure of five years:"
   ]
  },
  {
   "cell_type": "code",
   "execution_count": 44,
   "metadata": {},
   "outputs": [
    {
     "data": {
      "text/html": [
       "<div>\n",
       "<style scoped>\n",
       "    .dataframe tbody tr th:only-of-type {\n",
       "        vertical-align: middle;\n",
       "    }\n",
       "\n",
       "    .dataframe tbody tr th {\n",
       "        vertical-align: top;\n",
       "    }\n",
       "\n",
       "    .dataframe thead th {\n",
       "        text-align: right;\n",
       "    }\n",
       "</style>\n",
       "<table border=\"1\" class=\"dataframe\">\n",
       "  <thead>\n",
       "    <tr style=\"text-align: right;\">\n",
       "      <th></th>\n",
       "      <th>age_group</th>\n",
       "      <th>tenure</th>\n",
       "      <th>names</th>\n",
       "      <th>ages</th>\n",
       "    </tr>\n",
       "  </thead>\n",
       "  <tbody>\n",
       "    <tr>\n",
       "      <th>0</th>\n",
       "      <td>Adlut</td>\n",
       "      <td>4</td>\n",
       "      <td>1</td>\n",
       "      <td>1</td>\n",
       "    </tr>\n",
       "    <tr>\n",
       "      <th>1</th>\n",
       "      <td>Adlut</td>\n",
       "      <td>6</td>\n",
       "      <td>1</td>\n",
       "      <td>1</td>\n",
       "    </tr>\n",
       "    <tr>\n",
       "      <th>2</th>\n",
       "      <td>Teenger</td>\n",
       "      <td>2</td>\n",
       "      <td>1</td>\n",
       "      <td>1</td>\n",
       "    </tr>\n",
       "    <tr>\n",
       "      <th>3</th>\n",
       "      <td>Teenger</td>\n",
       "      <td>5</td>\n",
       "      <td>2</td>\n",
       "      <td>2</td>\n",
       "    </tr>\n",
       "    <tr>\n",
       "      <th>4</th>\n",
       "      <td>Teenger</td>\n",
       "      <td>7</td>\n",
       "      <td>1</td>\n",
       "      <td>1</td>\n",
       "    </tr>\n",
       "    <tr>\n",
       "      <th>5</th>\n",
       "      <td>Teenger</td>\n",
       "      <td>8</td>\n",
       "      <td>1</td>\n",
       "      <td>1</td>\n",
       "    </tr>\n",
       "  </tbody>\n",
       "</table>\n",
       "</div>"
      ],
      "text/plain": [
       "  age_group  tenure  names  ages\n",
       "0     Adlut       4      1     1\n",
       "1     Adlut       6      1     1\n",
       "2   Teenger       2      1     1\n",
       "3   Teenger       5      2     2\n",
       "4   Teenger       7      1     1\n",
       "5   Teenger       8      1     1"
      ]
     },
     "execution_count": 44,
     "metadata": {},
     "output_type": "execute_result"
    }
   ],
   "source": [
    "# grouping information by their age group, then by their tenure\n",
    "df.groupby( [ \"age_group\", \"tenure\" ], as_index=False).count( ).head(10)"
   ]
  },
  {
   "cell_type": "markdown",
   "metadata": {},
   "source": [
    "**Adding a Record**\n",
    "To add a record into the DataFrame, you’ll need to access the next index and assign a value as\n",
    "a list structure. In our case, the next index would be **7**. Let’s add an identical row that already\n",
    "exists in our DataFrame, so we can see how to remove duplicate information in the next cell:"
   ]
  },
  {
   "cell_type": "code",
   "execution_count": 45,
   "metadata": {},
   "outputs": [
    {
     "data": {
      "text/html": [
       "<div>\n",
       "<style scoped>\n",
       "    .dataframe tbody tr th:only-of-type {\n",
       "        vertical-align: middle;\n",
       "    }\n",
       "\n",
       "    .dataframe tbody tr th {\n",
       "        vertical-align: top;\n",
       "    }\n",
       "\n",
       "    .dataframe thead th {\n",
       "        text-align: right;\n",
       "    }\n",
       "</style>\n",
       "<table border=\"1\" class=\"dataframe\">\n",
       "  <thead>\n",
       "    <tr style=\"text-align: right;\">\n",
       "      <th></th>\n",
       "      <th>names</th>\n",
       "      <th>ages</th>\n",
       "      <th>tenure</th>\n",
       "      <th>age_group</th>\n",
       "    </tr>\n",
       "  </thead>\n",
       "  <tbody>\n",
       "    <tr>\n",
       "      <th>6</th>\n",
       "      <td>Rebecca</td>\n",
       "      <td>18</td>\n",
       "      <td>4</td>\n",
       "      <td>Adlut</td>\n",
       "    </tr>\n",
       "    <tr>\n",
       "      <th>5</th>\n",
       "      <td>Tyler</td>\n",
       "      <td>20</td>\n",
       "      <td>6</td>\n",
       "      <td>Adlut</td>\n",
       "    </tr>\n",
       "    <tr>\n",
       "      <th>2</th>\n",
       "      <td>Sandy</td>\n",
       "      <td>22</td>\n",
       "      <td>2</td>\n",
       "      <td>Teenger</td>\n",
       "    </tr>\n",
       "    <tr>\n",
       "      <th>0</th>\n",
       "      <td>Jess</td>\n",
       "      <td>25</td>\n",
       "      <td>5</td>\n",
       "      <td>Teenger</td>\n",
       "    </tr>\n",
       "    <tr>\n",
       "      <th>3</th>\n",
       "      <td>Ted</td>\n",
       "      <td>29</td>\n",
       "      <td>8</td>\n",
       "      <td>Teenger</td>\n",
       "    </tr>\n",
       "    <tr>\n",
       "      <th>4</th>\n",
       "      <td>Barney</td>\n",
       "      <td>33</td>\n",
       "      <td>7</td>\n",
       "      <td>Teenger</td>\n",
       "    </tr>\n",
       "    <tr>\n",
       "      <th>1</th>\n",
       "      <td>Jordan</td>\n",
       "      <td>35</td>\n",
       "      <td>5</td>\n",
       "      <td>Teenger</td>\n",
       "    </tr>\n",
       "    <tr>\n",
       "      <th>7</th>\n",
       "      <td>25</td>\n",
       "      <td>Jess</td>\n",
       "      <td>2</td>\n",
       "      <td>Adult</td>\n",
       "    </tr>\n",
       "  </tbody>\n",
       "</table>\n",
       "</div>"
      ],
      "text/plain": [
       "     names  ages  tenure age_group\n",
       "6  Rebecca    18       4     Adlut\n",
       "5    Tyler    20       6     Adlut\n",
       "2    Sandy    22       2   Teenger\n",
       "0     Jess    25       5   Teenger\n",
       "3      Ted    29       8   Teenger\n",
       "4   Barney    33       7   Teenger\n",
       "1   Jordan    35       5   Teenger\n",
       "7       25  Jess       2     Adult"
      ]
     },
     "execution_count": 45,
     "metadata": {},
     "output_type": "execute_result"
    }
   ],
   "source": [
    "# adding a record to the bottom of the DataFrame\n",
    "df.loc[7] = [ 25, \"Jess\", 2, \"Adult\" ] # add a record\n",
    "df.head(10)"
   ]
  },
  {
   "cell_type": "markdown",
   "metadata": {},
   "source": [
    "**drop_duplicates( )**\n",
    "\n",
    "Way too often will you see data with duplicate information, or just duplicate IDs. It’s\n",
    "imperative that you remove all duplicate records as it will skew your data, resulting\n",
    "in incorrect answers. You can remove duplicate records based on a single column or\n",
    "an entire record being identical. In our case, let’s remove duplicates based on similar\n",
    "names, which will remove the record we just added into our DataFrame:"
   ]
  },
  {
   "cell_type": "code",
   "execution_count": 46,
   "metadata": {},
   "outputs": [
    {
     "data": {
      "text/html": [
       "<div>\n",
       "<style scoped>\n",
       "    .dataframe tbody tr th:only-of-type {\n",
       "        vertical-align: middle;\n",
       "    }\n",
       "\n",
       "    .dataframe tbody tr th {\n",
       "        vertical-align: top;\n",
       "    }\n",
       "\n",
       "    .dataframe thead th {\n",
       "        text-align: right;\n",
       "    }\n",
       "</style>\n",
       "<table border=\"1\" class=\"dataframe\">\n",
       "  <thead>\n",
       "    <tr style=\"text-align: right;\">\n",
       "      <th></th>\n",
       "      <th>names</th>\n",
       "      <th>ages</th>\n",
       "      <th>tenure</th>\n",
       "      <th>age_group</th>\n",
       "    </tr>\n",
       "  </thead>\n",
       "  <tbody>\n",
       "    <tr>\n",
       "      <th>6</th>\n",
       "      <td>Rebecca</td>\n",
       "      <td>18</td>\n",
       "      <td>4</td>\n",
       "      <td>Adlut</td>\n",
       "    </tr>\n",
       "    <tr>\n",
       "      <th>5</th>\n",
       "      <td>Tyler</td>\n",
       "      <td>20</td>\n",
       "      <td>6</td>\n",
       "      <td>Adlut</td>\n",
       "    </tr>\n",
       "    <tr>\n",
       "      <th>2</th>\n",
       "      <td>Sandy</td>\n",
       "      <td>22</td>\n",
       "      <td>2</td>\n",
       "      <td>Teenger</td>\n",
       "    </tr>\n",
       "    <tr>\n",
       "      <th>0</th>\n",
       "      <td>Jess</td>\n",
       "      <td>25</td>\n",
       "      <td>5</td>\n",
       "      <td>Teenger</td>\n",
       "    </tr>\n",
       "    <tr>\n",
       "      <th>3</th>\n",
       "      <td>Ted</td>\n",
       "      <td>29</td>\n",
       "      <td>8</td>\n",
       "      <td>Teenger</td>\n",
       "    </tr>\n",
       "    <tr>\n",
       "      <th>4</th>\n",
       "      <td>Barney</td>\n",
       "      <td>33</td>\n",
       "      <td>7</td>\n",
       "      <td>Teenger</td>\n",
       "    </tr>\n",
       "    <tr>\n",
       "      <th>1</th>\n",
       "      <td>Jordan</td>\n",
       "      <td>35</td>\n",
       "      <td>5</td>\n",
       "      <td>Teenger</td>\n",
       "    </tr>\n",
       "    <tr>\n",
       "      <th>7</th>\n",
       "      <td>25</td>\n",
       "      <td>Jess</td>\n",
       "      <td>2</td>\n",
       "      <td>Adult</td>\n",
       "    </tr>\n",
       "  </tbody>\n",
       "</table>\n",
       "</div>"
      ],
      "text/plain": [
       "     names  ages  tenure age_group\n",
       "6  Rebecca    18       4     Adlut\n",
       "5    Tyler    20       6     Adlut\n",
       "2    Sandy    22       2   Teenger\n",
       "0     Jess    25       5   Teenger\n",
       "3      Ted    29       8   Teenger\n",
       "4   Barney    33       7   Teenger\n",
       "1   Jordan    35       5   Teenger\n",
       "7       25  Jess       2     Adult"
      ]
     },
     "execution_count": 46,
     "metadata": {},
     "output_type": "execute_result"
    }
   ],
   "source": [
    "# removing duplicates based on same names\n",
    "df = df.drop_duplicates( subset=\"names\" )\n",
    "df.head(10)"
   ]
  },
  {
   "cell_type": "markdown",
   "metadata": {},
   "source": [
    "**Pandas Joins**\n",
    "Often, you will have to combine data from several different sources to obtain the actual\n",
    "dataset you need for your exploration or modeling. Pandas draws heavily on SQL in its\n",
    "design for joins. This section assumes some knowledge of SQL and SQL joins. If you’re\n",
    "not familiar with how joins work in SQL, visit w3schools for reference material<br>\n",
    "www.w3schools.com/sql/sql_join.asp"
   ]
  },
  {
   "cell_type": "markdown",
   "metadata": {},
   "source": [
    "**Creating a Second DataFrame**\n",
    "\n",
    "Let’s create a secondary DataFrame to represent our customers posting ratings about\n",
    "our company. We’ll create ratings for three users so we can see both inner joins and\n",
    "outer joins:"
   ]
  },
  {
   "cell_type": "code",
   "execution_count": 48,
   "metadata": {},
   "outputs": [
    {
     "data": {
      "text/html": [
       "<div>\n",
       "<style scoped>\n",
       "    .dataframe tbody tr th:only-of-type {\n",
       "        vertical-align: middle;\n",
       "    }\n",
       "\n",
       "    .dataframe tbody tr th {\n",
       "        vertical-align: top;\n",
       "    }\n",
       "\n",
       "    .dataframe thead th {\n",
       "        text-align: right;\n",
       "    }\n",
       "</style>\n",
       "<table border=\"1\" class=\"dataframe\">\n",
       "  <thead>\n",
       "    <tr style=\"text-align: right;\">\n",
       "      <th></th>\n",
       "      <th>names</th>\n",
       "      <th>ratings</th>\n",
       "    </tr>\n",
       "  </thead>\n",
       "  <tbody>\n",
       "    <tr>\n",
       "      <th>0</th>\n",
       "      <td>Jess</td>\n",
       "      <td>10</td>\n",
       "    </tr>\n",
       "    <tr>\n",
       "      <th>1</th>\n",
       "      <td>Tyler</td>\n",
       "      <td>9</td>\n",
       "    </tr>\n",
       "    <tr>\n",
       "      <th>2</th>\n",
       "      <td>Ted</td>\n",
       "      <td>6</td>\n",
       "    </tr>\n",
       "  </tbody>\n",
       "</table>\n",
       "</div>"
      ],
      "text/plain": [
       "   names  ratings\n",
       "0   Jess       10\n",
       "1  Tyler        9\n",
       "2    Ted        6"
      ]
     },
     "execution_count": 48,
     "metadata": {},
     "output_type": "execute_result"
    }
   ],
   "source": [
    "# creating another fake DataFrame to work with, having same names and a new ratings column\n",
    "ratings = {\n",
    "    \"names\" : [\"Jess\", \"Tyler\", \"Ted\"],\n",
    "    \"ratings\" : [ 10, 9, 6 ]\n",
    "}\n",
    "ratings = df.from_dict(ratings)\n",
    "ratings.head()\n"
   ]
  },
  {
   "cell_type": "markdown",
   "metadata": {},
   "source": [
    "**Inner Join**\n",
    "\n",
    "Anytime you perform a join, you need a unique column to join the data with. In our\n",
    "case, we can use the names column to join the ratings DataFrame with our original\n",
    "DataFrame. Let’s perform an inner join on these two datasets so that we can connect\n",
    "users with their ratings:"
   ]
  },
  {
   "cell_type": "code",
   "execution_count": 49,
   "metadata": {},
   "outputs": [
    {
     "data": {
      "text/html": [
       "<div>\n",
       "<style scoped>\n",
       "    .dataframe tbody tr th:only-of-type {\n",
       "        vertical-align: middle;\n",
       "    }\n",
       "\n",
       "    .dataframe tbody tr th {\n",
       "        vertical-align: top;\n",
       "    }\n",
       "\n",
       "    .dataframe thead th {\n",
       "        text-align: right;\n",
       "    }\n",
       "</style>\n",
       "<table border=\"1\" class=\"dataframe\">\n",
       "  <thead>\n",
       "    <tr style=\"text-align: right;\">\n",
       "      <th></th>\n",
       "      <th>names</th>\n",
       "      <th>ages</th>\n",
       "      <th>tenure</th>\n",
       "      <th>age_group</th>\n",
       "      <th>ratings</th>\n",
       "    </tr>\n",
       "  </thead>\n",
       "  <tbody>\n",
       "    <tr>\n",
       "      <th>0</th>\n",
       "      <td>Tyler</td>\n",
       "      <td>20</td>\n",
       "      <td>6</td>\n",
       "      <td>Adlut</td>\n",
       "      <td>9</td>\n",
       "    </tr>\n",
       "    <tr>\n",
       "      <th>1</th>\n",
       "      <td>Jess</td>\n",
       "      <td>25</td>\n",
       "      <td>5</td>\n",
       "      <td>Teenger</td>\n",
       "      <td>10</td>\n",
       "    </tr>\n",
       "    <tr>\n",
       "      <th>2</th>\n",
       "      <td>Ted</td>\n",
       "      <td>29</td>\n",
       "      <td>8</td>\n",
       "      <td>Teenger</td>\n",
       "      <td>6</td>\n",
       "    </tr>\n",
       "  </tbody>\n",
       "</table>\n",
       "</div>"
      ],
      "text/plain": [
       "   names ages  tenure age_group  ratings\n",
       "0  Tyler   20       6     Adlut        9\n",
       "1   Jess   25       5   Teenger       10\n",
       "2    Ted   29       8   Teenger        6"
      ]
     },
     "execution_count": 49,
     "metadata": {},
     "output_type": "execute_result"
    }
   ],
   "source": [
    "# performing an inner join with our df and ratings DataFrames based on names, get data that matches\n",
    "matched_ratings = df.merge(ratings, on=\"names\", how=\"inner\")\n",
    "matched_ratings.head( )"
   ]
  },
  {
   "cell_type": "markdown",
   "metadata": {},
   "source": [
    "**Outer Join**\n",
    "\n",
    "If we want to return all the records, but connect the ratings for people who gave one,\n",
    "we would need to perform an outer join. This would allow us to keep all records from\n",
    "our original DataFrame while adding the ratings column. We need to specify the how\n",
    "parameter to **“outer”**:"
   ]
  },
  {
   "cell_type": "code",
   "execution_count": 50,
   "metadata": {},
   "outputs": [
    {
     "data": {
      "text/html": [
       "<div>\n",
       "<style scoped>\n",
       "    .dataframe tbody tr th:only-of-type {\n",
       "        vertical-align: middle;\n",
       "    }\n",
       "\n",
       "    .dataframe tbody tr th {\n",
       "        vertical-align: top;\n",
       "    }\n",
       "\n",
       "    .dataframe thead th {\n",
       "        text-align: right;\n",
       "    }\n",
       "</style>\n",
       "<table border=\"1\" class=\"dataframe\">\n",
       "  <thead>\n",
       "    <tr style=\"text-align: right;\">\n",
       "      <th></th>\n",
       "      <th>names</th>\n",
       "      <th>ages</th>\n",
       "      <th>tenure</th>\n",
       "      <th>age_group</th>\n",
       "      <th>ratings</th>\n",
       "    </tr>\n",
       "  </thead>\n",
       "  <tbody>\n",
       "    <tr>\n",
       "      <th>0</th>\n",
       "      <td>Rebecca</td>\n",
       "      <td>18</td>\n",
       "      <td>4</td>\n",
       "      <td>Adlut</td>\n",
       "      <td>NaN</td>\n",
       "    </tr>\n",
       "    <tr>\n",
       "      <th>1</th>\n",
       "      <td>Tyler</td>\n",
       "      <td>20</td>\n",
       "      <td>6</td>\n",
       "      <td>Adlut</td>\n",
       "      <td>9.0</td>\n",
       "    </tr>\n",
       "    <tr>\n",
       "      <th>2</th>\n",
       "      <td>Sandy</td>\n",
       "      <td>22</td>\n",
       "      <td>2</td>\n",
       "      <td>Teenger</td>\n",
       "      <td>NaN</td>\n",
       "    </tr>\n",
       "    <tr>\n",
       "      <th>3</th>\n",
       "      <td>Jess</td>\n",
       "      <td>25</td>\n",
       "      <td>5</td>\n",
       "      <td>Teenger</td>\n",
       "      <td>10.0</td>\n",
       "    </tr>\n",
       "    <tr>\n",
       "      <th>4</th>\n",
       "      <td>Ted</td>\n",
       "      <td>29</td>\n",
       "      <td>8</td>\n",
       "      <td>Teenger</td>\n",
       "      <td>6.0</td>\n",
       "    </tr>\n",
       "  </tbody>\n",
       "</table>\n",
       "</div>"
      ],
      "text/plain": [
       "     names ages  tenure age_group  ratings\n",
       "0  Rebecca   18       4     Adlut      NaN\n",
       "1    Tyler   20       6     Adlut      9.0\n",
       "2    Sandy   22       2   Teenger      NaN\n",
       "3     Jess   25       5   Teenger     10.0\n",
       "4      Ted   29       8   Teenger      6.0"
      ]
     },
     "execution_count": 50,
     "metadata": {},
     "output_type": "execute_result"
    }
   ],
   "source": [
    "# performing an outer join with our df and ratings DataFrames based on names, get all data\n",
    "all_ratings = df.merge(ratings, on=\"names\", how=\"outer\")\n",
    "all_ratings.head( )"
   ]
  },
  {
   "cell_type": "markdown",
   "metadata": {},
   "source": [
    "# TUESDAY EXERCISES"
   ]
  },
  {
   "cell_type": "markdown",
   "metadata": {},
   "source": [
    "**1. Loading a Dataset:** Go to www.Kaggle.com, click “Datasets” in the top\n",
    "bar menu. Choose a dataset that you like, and download it into the “python_\n",
    "bootcamp” folder. Then, load the dataset into a Pandas DataFrame using the\n",
    "read_csv method, and display the top five records."
   ]
  },
  {
   "cell_type": "code",
<<<<<<< HEAD
   "execution_count": 2,
=======
   "execution_count": 3,
   "id": "160b67ae",
>>>>>>> d4a4f8c0ad0e709acb1b1295c7a67a8548f3e146
   "metadata": {},
   "outputs": [
    {
     "data": {
      "text/html": [
       "<div>\n",
       "<style scoped>\n",
       "    .dataframe tbody tr th:only-of-type {\n",
       "        vertical-align: middle;\n",
       "    }\n",
       "\n",
       "    .dataframe tbody tr th {\n",
       "        vertical-align: top;\n",
       "    }\n",
       "\n",
       "    .dataframe thead th {\n",
       "        text-align: right;\n",
       "    }\n",
       "</style>\n",
       "<table border=\"1\" class=\"dataframe\">\n",
       "  <thead>\n",
       "    <tr style=\"text-align: right;\">\n",
       "      <th></th>\n",
       "      <th>Row ID</th>\n",
       "      <th>Order ID</th>\n",
       "      <th>Order Date</th>\n",
       "      <th>Ship Date</th>\n",
       "      <th>Ship Mode</th>\n",
       "      <th>Customer ID</th>\n",
       "      <th>Customer Name</th>\n",
       "      <th>Segment</th>\n",
       "      <th>Country</th>\n",
       "      <th>City</th>\n",
       "      <th>State</th>\n",
       "      <th>Postal Code</th>\n",
       "      <th>Region</th>\n",
       "      <th>Product ID</th>\n",
       "      <th>Category</th>\n",
       "      <th>Sub-Category</th>\n",
       "      <th>Product Name</th>\n",
       "      <th>Sales</th>\n",
       "    </tr>\n",
       "  </thead>\n",
       "  <tbody>\n",
       "    <tr>\n",
       "      <th>0</th>\n",
       "      <td>1</td>\n",
       "      <td>CA-2017-152156</td>\n",
       "      <td>08/11/2017</td>\n",
       "      <td>11/11/2017</td>\n",
       "      <td>Second Class</td>\n",
       "      <td>CG-12520</td>\n",
       "      <td>Claire Gute</td>\n",
       "      <td>Consumer</td>\n",
       "      <td>United States</td>\n",
       "      <td>Henderson</td>\n",
       "      <td>Kentucky</td>\n",
       "      <td>42420.0</td>\n",
       "      <td>South</td>\n",
       "      <td>FUR-BO-10001798</td>\n",
       "      <td>Furniture</td>\n",
       "      <td>Bookcases</td>\n",
       "      <td>Bush Somerset Collection Bookcase</td>\n",
       "      <td>261.9600</td>\n",
       "    </tr>\n",
       "    <tr>\n",
       "      <th>1</th>\n",
       "      <td>2</td>\n",
       "      <td>CA-2017-152156</td>\n",
       "      <td>08/11/2017</td>\n",
       "      <td>11/11/2017</td>\n",
       "      <td>Second Class</td>\n",
       "      <td>CG-12520</td>\n",
       "      <td>Claire Gute</td>\n",
       "      <td>Consumer</td>\n",
       "      <td>United States</td>\n",
       "      <td>Henderson</td>\n",
       "      <td>Kentucky</td>\n",
       "      <td>42420.0</td>\n",
       "      <td>South</td>\n",
       "      <td>FUR-CH-10000454</td>\n",
       "      <td>Furniture</td>\n",
       "      <td>Chairs</td>\n",
       "      <td>Hon Deluxe Fabric Upholstered Stacking Chairs,...</td>\n",
       "      <td>731.9400</td>\n",
       "    </tr>\n",
       "    <tr>\n",
       "      <th>2</th>\n",
       "      <td>3</td>\n",
       "      <td>CA-2017-138688</td>\n",
       "      <td>12/06/2017</td>\n",
       "      <td>16/06/2017</td>\n",
       "      <td>Second Class</td>\n",
       "      <td>DV-13045</td>\n",
       "      <td>Darrin Van Huff</td>\n",
       "      <td>Corporate</td>\n",
       "      <td>United States</td>\n",
       "      <td>Los Angeles</td>\n",
       "      <td>California</td>\n",
       "      <td>90036.0</td>\n",
       "      <td>West</td>\n",
       "      <td>OFF-LA-10000240</td>\n",
       "      <td>Office Supplies</td>\n",
       "      <td>Labels</td>\n",
       "      <td>Self-Adhesive Address Labels for Typewriters b...</td>\n",
       "      <td>14.6200</td>\n",
       "    </tr>\n",
       "    <tr>\n",
       "      <th>3</th>\n",
       "      <td>4</td>\n",
       "      <td>US-2016-108966</td>\n",
       "      <td>11/10/2016</td>\n",
       "      <td>18/10/2016</td>\n",
       "      <td>Standard Class</td>\n",
       "      <td>SO-20335</td>\n",
       "      <td>Sean O'Donnell</td>\n",
       "      <td>Consumer</td>\n",
       "      <td>United States</td>\n",
       "      <td>Fort Lauderdale</td>\n",
       "      <td>Florida</td>\n",
       "      <td>33311.0</td>\n",
       "      <td>South</td>\n",
       "      <td>FUR-TA-10000577</td>\n",
       "      <td>Furniture</td>\n",
       "      <td>Tables</td>\n",
       "      <td>Bretford CR4500 Series Slim Rectangular Table</td>\n",
       "      <td>957.5775</td>\n",
       "    </tr>\n",
       "    <tr>\n",
       "      <th>4</th>\n",
       "      <td>5</td>\n",
       "      <td>US-2016-108966</td>\n",
       "      <td>11/10/2016</td>\n",
       "      <td>18/10/2016</td>\n",
       "      <td>Standard Class</td>\n",
       "      <td>SO-20335</td>\n",
       "      <td>Sean O'Donnell</td>\n",
       "      <td>Consumer</td>\n",
       "      <td>United States</td>\n",
       "      <td>Fort Lauderdale</td>\n",
       "      <td>Florida</td>\n",
       "      <td>33311.0</td>\n",
       "      <td>South</td>\n",
       "      <td>OFF-ST-10000760</td>\n",
       "      <td>Office Supplies</td>\n",
       "      <td>Storage</td>\n",
       "      <td>Eldon Fold 'N Roll Cart System</td>\n",
       "      <td>22.3680</td>\n",
       "    </tr>\n",
       "  </tbody>\n",
       "</table>\n",
       "</div>"
      ],
      "text/plain": [
       "   Row ID        Order ID  Order Date   Ship Date       Ship Mode Customer ID  \\\n",
       "0       1  CA-2017-152156  08/11/2017  11/11/2017    Second Class    CG-12520   \n",
       "1       2  CA-2017-152156  08/11/2017  11/11/2017    Second Class    CG-12520   \n",
       "2       3  CA-2017-138688  12/06/2017  16/06/2017    Second Class    DV-13045   \n",
       "3       4  US-2016-108966  11/10/2016  18/10/2016  Standard Class    SO-20335   \n",
       "4       5  US-2016-108966  11/10/2016  18/10/2016  Standard Class    SO-20335   \n",
       "\n",
       "     Customer Name    Segment        Country             City       State  \\\n",
       "0      Claire Gute   Consumer  United States        Henderson    Kentucky   \n",
       "1      Claire Gute   Consumer  United States        Henderson    Kentucky   \n",
       "2  Darrin Van Huff  Corporate  United States      Los Angeles  California   \n",
       "3   Sean O'Donnell   Consumer  United States  Fort Lauderdale     Florida   \n",
       "4   Sean O'Donnell   Consumer  United States  Fort Lauderdale     Florida   \n",
       "\n",
       "   Postal Code Region       Product ID         Category Sub-Category  \\\n",
       "0      42420.0  South  FUR-BO-10001798        Furniture    Bookcases   \n",
       "1      42420.0  South  FUR-CH-10000454        Furniture       Chairs   \n",
       "2      90036.0   West  OFF-LA-10000240  Office Supplies       Labels   \n",
       "3      33311.0  South  FUR-TA-10000577        Furniture       Tables   \n",
       "4      33311.0  South  OFF-ST-10000760  Office Supplies      Storage   \n",
       "\n",
       "                                        Product Name     Sales  \n",
       "0                  Bush Somerset Collection Bookcase  261.9600  \n",
       "1  Hon Deluxe Fabric Upholstered Stacking Chairs,...  731.9400  \n",
       "2  Self-Adhesive Address Labels for Typewriters b...   14.6200  \n",
       "3      Bretford CR4500 Series Slim Rectangular Table  957.5775  \n",
       "4                     Eldon Fold 'N Roll Cart System   22.3680  "
      ]
     },
     "execution_count": 3,
     "metadata": {},
     "output_type": "execute_result"
    }
   ],
   "source": [
    "import pandas as pd\n",
    "import csv\n",
    "dataset= \"train.csv\"\n",
    "df = pd.read_csv(dataset)\n",
    "\n",
    "df.head(5) "
   ]
  },
  {
   "cell_type": "markdown",
   "metadata": {},
   "source": [
    "**2. Dataset Analysis:** This is an open-ended exercise. Run some analysis on the<br>\n",
    "dataset you chose from exercise \n",
    "\n",
    "#1. Try to answer questions like these:\n",
    "\n",
    "a. How many records are there?\n",
    "\n",
    "b. What are the data types of each column?\n",
    "\n",
    "c. Are there duplicate records or columns?\n",
    "\n",
    "d. Is there missing data?\n",
    "\n",
    "e. Is there a correlation between two or more columns?2. Dataset Analysis: This is an open-ended exercise. Run some analysis on the\n"
   ]
  },
  {
   "cell_type": "markdown",
   "metadata": {},
   "source": [
    "# Wednesday: Data Visualization"
   ]
  },
  {
   "cell_type": "markdown",
   "metadata": {},
   "source": [
    "Data visualization is one of the most powerful tools an analyst has for two main reasons.\n",
    "Firstly, it is unrivalled in its ability to guide the analyst’s hand in determining “what\n",
    "to look at next.” Often, a visual is revealing of patterns in the data that are not easily\n",
    "discernable by just looking at DataFrames. Secondly, they are an analyst’s greatest\n",
    "communication tool. Professional analysts need to present their results to groups of\n",
    "people responsible for acting based on what the data says. Visuals can tell your story\n",
    "much better than raw numbers.\n",
    "\n",
    "\n",
    "**Types of Charts**\n",
    "\n",
    "Knowing which chart to use is important in presenting your data properly. We’ll go over several charts today; however, these are some of the common charts you’ll want to know:   \n",
    "**• Line Chart:** Exploring data over time   \n",
    "**• Bar Chart:** Comparing categories of data and tracks changes over time   \n",
    "**• Pie Chart:** Explores parts of a whole, that is, fractions   \n",
    "**• Scatter Plot:** Like line charts, tracks correlations between two categories   \n",
    "**• Histogram:** Unrelated from bar charts, shows distribution of variables   \n",
    "**• Candlestick Chart:** Used a lot in financial sector, that is, can compare a stock over a period   \n",
    "**• Box Chart:** Looks identical to candlestick charts, and compares minimum, 1st, median, 3rd quartiles, and max values    \n",
    "Depending on what you need to accomplish in conceptualizing your data, you will be able to choose a specific type of chart to portray your data\n",
    "\n",
    "\n",
    "**Installing Matplotlib**\n",
    "\n",
    "To install matplotlib, make sure your virtual environment is activated first, then write the\n",
    "following   \n",
    "----> $ pip install matplotlib\n",
    "\n",
    "\n",
    "**Importing Matplotlib**"
   ]
  },
  {
   "cell_type": "code",
<<<<<<< HEAD
   "execution_count": 2,
   "metadata": {},
   "outputs": [],
   "source": [
    "# importing the matplotlib library \n",
    "from matplotlib import pyplot as plt # industry standard name of plt when importing"
   ]
  },
  {
   "cell_type": "markdown",
   "metadata": {},
   "source": [
    "**Line Plot**"
   ]
  },
  {
   "cell_type": "code",
   "execution_count": 3,
   "metadata": {},
   "outputs": [
    {
     "data": {
      "image/png": "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\n",
      "text/plain": [
       "<Figure size 432x288 with 1 Axes>"
      ]
     },
     "metadata": {
      "needs_background": "light"
     },
     "output_type": "display_data"
    }
   ],
   "source": [
    "# creating a line plot using x and y coords\n",
    "x, y = [ 1600, 1700, 1800, 1900, 2000 ] , [ 0.2, 0.5, 1.1, 2.2, 7.7 ]\n",
    "plt.plot(x, y) # creates the line\n",
    "plt.title(\"World Population Over Time\")\n",
    "plt.xlabel(\"Year\")\n",
    "plt.ylabel(\"Population (billions)\")\n",
    "plt.show()"
   ]
  },
  {
   "cell_type": "markdown",
   "metadata": {},
   "source": [
    "When you want to add more lines to the chart, you simply apply as many plot()\n",
    "methods as necessary. Let’s add some more customization to each plot line this time:"
   ]
  },
  {
   "cell_type": "code",
   "execution_count": 4,
   "metadata": {},
   "outputs": [
    {
     "data": {
      "image/png": "iVBORw0KGgoAAAANSUhEUgAAAXgAAAEWCAYAAABsY4yMAAAABHNCSVQICAgIfAhkiAAAAAlwSFlzAAALEgAACxIB0t1+/AAAADh0RVh0U29mdHdhcmUAbWF0cGxvdGxpYiB2ZXJzaW9uMy4xLjMsIGh0dHA6Ly9tYXRwbG90bGliLm9yZy+AADFEAAAgAElEQVR4nO3dd3xUZfb48c+hKEWQKlKEgO2LBRGCHRXXtZe1fBEWu7usa3f3t66IiA0Lun4tWJYVsGEQKfZdQUVcGxIQBcUuICJIkV5Nzu+Pc4dMwmSYJHPnTibn/XrllZl779x7cjM5eea5zz2PqCrOOedyT62oA3DOORcOT/DOOZejPME751yO8gTvnHM5yhO8c87lKE/wzjmXozzBu0oRkbdF5A/lrMsTERWROpmOqzwicrSILKzC6x8TkUHpjKk6EJF+IjIp6jhc5XiCz0EiMkBEXiuz7OtylvXJbHQgIvNEZIOIrBWRJSIySkR2ynQc5RGRC0Xk3fhlqnqpqt4W0vH2EZGXRGSViKwRkSkiclgYx0pw7M+C38NaESkSkY1xz29Q1dGqelwmYnHp5wk+N70DHC4itQFEZFegLtCtzLI9gm1TJiYd75tTVXUnoBvQA7gxDfusdkRkd+A9YDbQEWgDTAQmicihIRyvdvxzVd1XVXcKfhf/Ba6IPVfVO9J9fJdZnuBz03QsoXcNnh8JTAG+LLPsW1VdBCAih4nI9KAVOT2+BRl0xwwRkfeA9UCn+IOJSG0RuVdElonId8DJqQaqqj8C/wb2C/bVJmjNrhCRb0Tkj3HHuVlExonIc0FLd6aIHBC3XkVkj7jnT4jI7YmOKyLXi8i3wX4+F5EzguWdgceAQ4NW7MpE+xKRPwbxrQjibVMmjkuDT0i/iMjDIiLlnIKbgQ9UdaCqrlDVNar6IPA0cHewv/+IyBVl4v9ERM4MHv+PiEwOYvlSRHqXOQePishrIrIO6FX+byPheSr1aSb42S4LfrY1InKbiOwuIh+IyGoRGSsiO8Rtf4qIzBKRlSLyvoh0qcjxXdV4gs9BqroZmIYlcYLv/wXeLbPsHQARaQa8CjwINAfuA14VkeZxuz0P6A80AuaXOeQfgVOAA4F84OxUYxWR3YCTgI+DRQXAQqwlezZwh4j8Ju4lpwPPA82AZ4EXRKRuqseL8y3QE9gZuAV4RkRaq+pc4FIs6e6kqk0SxHwMcCfQG2iNnY8xZTY7BftkckCw3fHlxPHb4Ocpayz2KawB9nP2jTv+PkAH7HfUEJgcbLNLsN0jIrJv3L5+DwzBfnelup4q6QSgO3AIcB0wHOgH7Ib9o+4bxNkNGAn8CXtf/RN4SUR2TEMMLgWe4HPXVEqSeU8swf+3zLKpweOTga9V9WlV/VVVC4AvgFPj9veEqn4WrN9S5li9gftV9QdVXYElv+15IWgdvxvEcUeQ7I8A/q6qG1V1FvA49s8lZoaqjgtiuA+ohyWaClHV51V1kaoWq+pzwNfAQSm+vB8wUlVnquomYADW4s+L2+YuVV2pqguwT09dt90NAC2AnxIs/wn7+2yKddl0FZEOccefEBz7FGCeqo4KfjczgfGU/if7oqq+F/ysG1P8GZO5W1VXq+pnwBxgkqp+p6qrsE9jBwbb/RH4p6pOU9UiVX0S2EQlfl+ucjzB5653gCNEpCnQUlW/Bt4HDguW7UdJ/3sbtm2Vzwfaxj3/Icmx2pRZX3ZfifxOVZuoagdVvUxVNwT7WaGqa1KJQ1WLKWntV4iInB/XdbASOx8tUnx5qfOlqmuB5WXiXBz3eD1Q3kXkZdingLJaA8XAL8H5eBWIXRDvA4wOHncADo79HMHP0g/YNW5fyX53lbEk7vGGBM9jP2sH4K9lYtuNSvy+XOV4gs9dH2DdD/2xi3io6mpgUbBskap+H2y7CPtjjNce+DHuebKyoz9hf7jxr62MRUAzEWmUJI6txwku9rYLXgeWSBvEbRuf5LYKWsL/Aq4AmgfdMHOAWD/59kqsljpfQTdJ8zJxpuoN4H8TLO+NdROtD54XAH2DC6/1sU8FYMl7avDPMva1k6r+OW5fUZWM/QEYUia2BsEnRJcBnuBzVNAiLgT+gnXNxLwbLIsfPfMasJeI/F5E6ojIOcA+wCspHm4scJWItAs+HVxfyZh/wD5l3Cki9YILcpdQ0loF6C4iZ4qNsb8G+8j/YbBuFvD74KLvCcBR5RyqIZb0lgKIyEUEF3kDS4B28RcLy3gWuEhEugb9yXcA01R1XsV+YsD6/w8LLmI3E5FGInIlcD7w97jtXsP+qdwKPBd8egH7He0lIueJSN3gq0dwsThq/wIuFZGDxTQUkZPL/AN3IfIEn9umYhfe4i+s/TdYtjXBq+pyrC/3r1hXw3XAKaq6LMXj/At4HfgEmAlMqELMfYE8rJU8ERisqpPj1r8InAP8gvXNnxl3TeBq7LpBrJvihUQHUNXPgX9gn3KWAPsTfMoJvAV8BiwWkW3Ogaq+CQzC+rp/AnanpPukQoKusyOwi7Hzgv2dBRyvqu/FbbcJO6/HYv9gYsvXAMcFx1+EdQ3dDUR+IVNVC7F++GHY7+sb4MIoY6ppxCf8cNWFiNwM7KGq50Ydi3PVgbfgnXMuR3mCd865HOVdNM45l6NCbcGLyLVixYzmiEiBiNQL83jOOedKhNaCF5G22OiNfVR1g4iMBV5T1SfKe02LFi00Ly8vlHiccy4XzZgxY5mqtky0Lux63XWA+iKyBbsBZVGyjfPy8igsLAw5JOecyx0iUu6d46F10QRVAu8FFmBje1ep6jYTB4hIfxEpFJHCpUuXhhWOc87VOKEl+OCOxtMpqXHdUES2Gb+sqsNVNV9V81u2TPgpwznnXCWEeZH1WOB7VV0a3Gk4AcjILDXOOefC7YNfABwS1LPeAPwGq41SIVu2bGHhwoVs3JiOKqfVV7169WjXrh1161am9LlzriYKLcGr6jQRGYfVJvkVm9BheEX3s3DhQho1akReXh7lT4qT21SV5cuXs3DhQjp27Bh1OM65aiLUcfCqOlhV/0dV91PV84KCSRWyceNGmjdvXmOTO4CI0Lx58xr/Kca5nDJ0KEyZUnrZlCm2PE2qRamCmpzcY/wcOJdjevSA3r1LkvyUKfa8R4+0HSLscfDOOecS6dULxo6FM86AQw6BGTPsea8KzYueVLVowWeDiRMnIiJ88cUXSbd74oknWLQo6f1cSb399tuccsoplX69c64aOeoo2GEHeP116N8/rckdci3Bh9inVVBQwBFHHMGYMWOSblfVBO+cq0EGDYKlS+HMM2H48G3zVxXlVoIPqU9r7dq1vPfee4wYMaJUgh86dCj7778/BxxwANdffz3jxo2jsLCQfv360bVrVzZs2EBeXh7LltmkQIWFhRx99NEAfPTRRxx22GEceOCBHHbYYXz55ZdVitE5V81Mngx33QW77w7PP2/dM/H5Kw2qVx/8NdfArFnJt2nTBo4/Hlq3hp9+gs6d4ZZb7CuRrl3h/vuT7vKFF17ghBNOYK+99qJZs2bMnDmTJUuW8MILLzBt2jQaNGjAihUraNasGcOGDePee+8lPz8/6T7/53/+h3feeYc6derwxhtvcMMNNzB+/PjkP5tzLnc8+igUF8MDD0CtWiV98tOnp62rpnol+FQ0bWrJfcECaN/enldRQUEB11xzDQB9+vShoKCA4uJiLrroIho0aABAs2bNKrTPVatWccEFF/D1118jImzZsmX7L3LO5YYNG2DaNDjsMDjppJLlvXqltR++eiX47bS0gZJumUGD7D/k4MFVOmHLly/nrbfeYs6cOYgIRUVFiAhnnXVWSkMX69SpQ3FxMUCpceyDBg2iV69eTJw4kXnz5m3tunHO1QAPPwyLFkFBAYQ4BDq3+uBjyX3sWLj11rT0aY0bN47zzz+f+fPnM2/ePH744Qc6duxIs2bNGDlyJOvXrwdgxYoVADRq1Ig1a9ZsfX1eXh4zZswAKNUFs2rVKtq2bQvYhVnnXA2xejXcead1JR95ZKiHyq0EP3166XGk8X1alVRQUMAZZ5xRatlZZ53FokWLOO2008jPz6dr167ce++9AFx44YVceumlWy+yDh48mKuvvpqePXtSu3btrfu47rrrGDBgAIcffjhFRUWVjs85V8384x+wYgUMGRL6obJqTtb8/HwtO+HH3Llz6dy5c0QRZRc/F85Vc0uXQqdOcMIJNnImDURkhqomHNWRWy1455zLZnfeCevXWxdyBniCd865TPjhB3jkEbjgAhu+nQGe4J1zLhNuu83GvQ8enLFDeoJ3zrmwffUVjBwJl14KHTpk7LCe4J1zLmyDB8OOO8LAgRk9rCd455wL0yefwJgxVmqlVauMHtoTfApq165N165dt37Nmzev3G293K9zrpSBA6FJE/jb3zJ+6NASvIjsLSKz4r5Wi8g1YR0vZvRoyMuz2j15efa8qurXr8+sWbO2fuXl5VV9p8653Pfee/Dqq/D3v1uSz7DQEryqfqmqXVW1K9AdWA9MDOt4YMm8f3+YPx9U7Xv//ulJ8mXNmzePnj170q1bN7p168b777+/zTbTp0/nwAMP5LvvvmPdunVcfPHF9OjRgwMPPJAXX3wx/UE557KHKtxwg3XLXHllJCFkqtjYb4BvVXV+VXeUqCZX795w2WUwYIDdQxBv/Xq4+mro1w+WLYOzzy69/u23t3/MDRs20LVrVwA6duzIxIkT2WWXXZg8eTL16tXj66+/pm/fvsTfhfv+++9z5ZVX8uKLL9K+fXtuuOEGjjnmGEaOHMnKlSs56KCDOPbYY2nYsGHFToBzrnqYNAneeQeGDYOI/s4zleD7AAWJVohIf6A/QPv27at0kIULEy9fvrxKu93aRRNvy5YtXHHFFcyaNYvatWvz1VdfbV03d+5c+vfvz6RJk2jTpg0AkyZN4qWXXtpas2bjxo0sWLDASw84l4tirfe8PPjjHyMLI/QELyI7AKcBAxKtV9XhwHCwWjTb21+yFnf79tYtU1Zs2GmLFqm12FPxf//3f7Rq1YpPPvmE4uJi6tWrt3Vd69at2bhxIx9//PHWBK+qjB8/nr333js9ATjnstf48TBzJjzxhM25GpFMjKI5EZipqkvCPtCQIRDMv7FVgwbhFG1btWoVrVu3platWjz99NOlKkI2adKEV199lRtuuIG3g/8oxx9/PA899BCx4m4ff/xx+oNyzkXv119tPorOneHccyMNJRMJvi/ldM+kW79+Nm9thw5WQ79DB3ver1/6j3XZZZfx5JNPcsghh/DVV19t05feqlUrXn75ZS6//HKmTZvGoEGD2LJlC126dGG//fZj0KBB6Q/KORe9Z56BL76A22+HuBLhUQi1XLCINAB+ADqp6qrtbe/lgpPzc+Fcltu0CfbaC3bZBT76KNTZmmKSlQsOtQ9eVdcDzcM8hnPOZY3hw20+6Mcfz0hy3x6/k9U559Jh7Vrrljn6aDj22KijAarJpNuqmtIE17ksm2becs4l8OCD8PPP8MILWdF6h2rQgq9Xrx7Lly+v0QlOVVm+fHmpoZjOuSzyyy8wdCiceiocemjU0WyV9S34du3asXDhQpYuXRp1KJGqV68e7dq1izoM51wiQ4fC6tXWRZNFsj7B161bl44dO0YdhnPOJbZ4MTzwAPTtC126RB1NKVnfReOcc1ltyBDYsgVuuSXqSLbhCd455yrr++/hn/+ESy6BPfaIOppteIJ3zrnKuuUWm3wiS+9M9wTvnHOV8fnn8PTTcMUV0LZt1NEk5AneOecqY9Agq/N+/fVRR1IuT/DOOVdR06fDhAnw179aHfIs5QneOecqauBAaN4crr026kiSyvpx8M45l1WmTIHJk+Ef/4DGjaOOJilvwTvnXKpUrfXeti38+c9RR7Nd3oJ3zrlUvfIKfPCBlQWuXz/qaLbLW/DOOZeK4mJrve+xB1x4YdTRpMRb8M45l4rnnoPZs+HZZ6Fu3aijSUmoLXgRaSIi40TkCxGZKyLZU0fTOedStWWLjXvv0gXOOSfqaFIWdgv+AeA/qnq2iOwANAj5eM45l36jRsG338LLL1tpgmoitAQvIo2BI4ELAVR1M7A5rOM551woNmywmjOHHgonnxx1NBUS5r+iTsBSYJSIfCwij4tIw7IbiUh/ESkUkcKaPqmHcy4LPfIILFoEd96ZNVPxpSrMBF8H6AY8qqoHAuuAbYo2qOpwVc1X1fyWLVuGGI5zzlXQ6tWW2I87Do46KupoKizMBL8QWKiq04Ln47CE75xz1cN998Hy5XDHHVFHUimhJXhVXQz8ICJ7B4t+A3we1vGccy6tli2zcgRnnQXdu0cdTaWEPYrmSmB0MILmO+CikI/nnHPpcdddsH493HZb1JFUWqgJXlVnAflhHsM559Ju4UIYNgzOPx86d446mkpLKcGLSFOgDbABmKeqxaFG5ZxzUbrtNitNMHhw1JFUSbkJXkR2Bi4H+gI7YEMe6wGtRORD4BFVnZKRKJ1zLlO++QZGjIDLLoO8vKijqZJkLfhxwFNAT1VdGb9CRLoD54lIJ1UdEWaAzjmXUTfdBDvuCDfcEHUkVVZuglfV3yZZNwOYEUpEzjkXlU8+gYICGDAAdt016miqbLvDJEXk8NgdqCJyrojcJyIdwg/NOecy7MYboUkT+Nvfoo4kLVIZB/8osF5EDgCuA+ZjXTfOOZc73n/fJvS47jpo2jTqaNIilQT/q6oqcDrwgKo+ADQKNyznnMsgVetzb9UKrroq6mjSJpVhkmtEZABwLnCkiNQGqke1e+ecS8XkyTB1Kjz0EDTcpiZitZVKC/4cYBNwSVB+oC1wT6hROedcpsRa7x06wB//GHU0abXdFnyQ1O+Le74A74N3zuWKiRNhxgx44gkbHplDUhlFc6aIfC0iq0RktYisEZHVmQjOOedCVVRkI2c6d4Zzz406mrRLpQ9+KHCqqs4NOxjnnMuoZ56BuXNh3DioXTvqaNIulT74JZ7cnXM5Z9MmqzXTvTuceWbU0YQilRZ8oYg8B7yAXWwFQFUnhBaVc86F7V//gvnzYfjwajcVX6pSSfCNgfXAcXHLFPAE75yrntatg9tvt2n4fltuVZZqL5VRND5Jh3Mutzz4ICxZAhMm5GzrHVIbRdNORCaKyM8iskRExotIu0wE55xzaffLLzB0KJxyChx2WNTRhCqVi6yjgJewCT/aAi8Hy7ZLROaJyGwRmSUihZUP0znn0uTee2HlShgyJOpIQpdKH3xLVY1P6E+IyDUVOEYvVV1Wwbiccy79Fi+G+++Hvn2hS5eoowldKi34ZUGZ4NrB17nA8rADc865tLvjDhseecstUUeSEakk+IuB3sBi4Cfg7GBZKhSYJCIzRKR/og1EpL+IFIpI4dKlS1PcrXPOVdC8efDYY3DJJbDnnlFHkxFilYBD2rlIG1VdJCK7AJOBK1X1nfK2z8/P18JC76p3zoXgootstqZvvoF2uTNORERmqGp+onXJJt2+TlWHishDWEu8FFXdbtFkVV0UfP9ZRCYCBwHlJnjnnAvF3Lnw1FNwzTU5ldy3J9lF1lh5gko1qYNp/mqp6prg8XHArZXZl3POVcmgQdCggc21WoMkm3T75eD7k5XcdytgothNBHWAZ1X1P5Xcl3POVU5hIYwfb3VnWrSIOpqMStZF8zIJumZiVPW0ZDtW1e+AAyofmnPOpcGNN0Lz5vCXv0QdScYl66K5N2NROOdcGKZOhddft5ubGjeOOpqMS9ZFMzWTgTjnXFrFpuJr2xYuuyzqaCKRrItmNsm7aHL/NjDnXPX12mvw/vvwz39C/fpRRxOJZF00p2QsCuecS6fiYhg4EHbf3ca/11DJumjmZzIQ55xLm7Fj4ZNPYPRoqFs36mgiU26pAhF5N/i+Jn6ybZ902zmX1bZssXHv++8PffpEHU2kkrXgjwi+N8pcOM45V0VPPGHlCF56CWqlUm4rd6VSLhgR6QYcgV10fVdVPw41Kuecq4yNG61S5KGH2oQeNVwqMzrdBDwJNAdaYPXgbww7MOecq7BHHoEff7SywDk8FV+qtltNUkTmAgeq6sbgeX1gpqp2TncwXk3SOVdpq1dDp07QrRtMmhR1NBmTrJpkKh1U84B6cc93BL5NQ1zOOZc+998Py5db690ByW90ipUJ3gR8JiKTg+e/Bd7NTHjOOZeCZcusHMGZZ0J+wsZsjZTsImusr2QGMDFu+duhReOcc5Vx992wbh3cdlvUkWSVZMMkK1sm2DnnMufHH2HYMDjvPNhnn6ijySrJbnR6WUROFZFtbgMTkU4icquIpDo3q3POheO226CoCG6+OepIsk6yLpo/An8B7heRFcBS7GJrR+AbYJiqvhh+iM45V45vvoERI+DSSyEvL+posk6yLprFwHXAdSKSB7QGNgBfqer6jETnnHPJDB5stWYGDow6kqyU0p2sqjoPGy7pnHPZ4dNPoaAA/v532HXXqKPJSqEXahCR2iLysYi8EvaxnHM1yKBBNkvTdddFHUmljR5tPUu1atn30aPTu/+UWvBVdDUwF6h582U558LxwQdWTGzIEGjaNOpoKmX0aOjfH9YHHd7z59tzgH790nOMUFvwItIOOBl4PMzjOOdqkNhUfLvsAlddFXU0lfb3v5ck95j169N7OWG7LXgRORy4GegQbC+AqmqnFPZ/P3ahttySwyLSH+gP0L59+xR26Zyr0d54A95+Gx58EHbaKepoKmTJEnj+ebt08OOPibdZsCB9x0ulBT8CuA8rF9wDyA++JyUipwA/q+qMZNup6nBVzVfV/JYtW6YQjnOuxoq13jt0KOnPqAZ++AF++1to0wauvBLWrIEmTRJvm852bioJfpWq/ltVf1bV5bGvFF53OHCaiMwDxgDHiMgzVQnWOVfDvfACFBbaTU077hh1NOVatw7GjIHnnrPnu+wCv/wCAwbAnDk2AGjYMGjQoPTrGjSwywrpkkq54LuA2sAErPAYAKo6M+WDiBwN/D9VTVqB38sFO+fKVVQEXbrYhNqzZ0OdTIwRSd2mTfD669b98tJL1p9+9NEwZUr5rxk92vrcFyywlvuQIRW/wJqsXHAqZ+jg4Hv8DhQ4pmJhOOdcFYweDZ9/bp3YWZLci4tLZgW8+GJ49llo3tzK4vTtCz17Jn99v37pGzGTyHZb8JnkLXjnXEKbN8Pee1v2nD490tmaiovhww+tpf788zZis2NHmDYNVqyAY4+1m2szpUoteBHZGRgMHBksmgrcqqqr0heic84l8a9/wbx58NhjkSX3n3+Gf/zD+tYXLIB69Wza140bbf3BByd/fRRSucg6ElgD9A6+VgOjwgzKOee2itV5P/JIOO64jB76q6/smi5A7drw0EOw777w1FMlQx47p33y0vRJpSNrd1U9K+75LSIyK6yAnHOulGHDLJuOH5+R1vsPP1grvaAAPv4YjjrKht03b26t+Oo09D6VFvwGETki9iS48WlDeCE551xg5Uqbrenkk+Hww0M/3OWX22iW666zfvT77itdH6Y6JXdIrQX/Z+DJoC9egBXAhWEG5ZxzgM2z+ssv6R0cHli1CiZOtG6W0aPtxqOePe1mpD59YPfd037IjNtuglfVWcABItI4eL469Kicc27JErj/fsu2BxyQll1u2AAvv2zdL6+9ZoNzOnWC776Dbt3sULmk3AQvIueq6jMi8pcyywFQ1ftCjs05V5PdcYcNUbn11irtZvNm+xDQqpWNfjnnHGjdGi67zMaq9+gR6ajLUCVrwTcMvicqFJY9g+edc7ln/nwbEnnxxbDnnhV+eVERTJ1qLfXx423wzZgxNpT+ww8hP99GxeS6ZFP2/TN4+Iaqvhe/LrjQ6pxz4bjlFmtWDxpU4ZfedRc88AAsXgwNG8Lvfgfnn1+yPhvHq4cllVE0D6W4zDnnqu6LL+DJJ60PZbfdkm6qaoW7Bg+GLVts2aZNcOihMHasDWt85pmMD5/PGsn64A8FDgNalumHb4wVH3POufS76SYrqzhgQLmbfP11yVj1uXOtu+Xkk+GggyzZO5OsD34HYKdgm/h++NXA2WEG5ZyroWbOtHGLN90EZeaHiBX2+uijkm6WI4+0+upnn73N5o7UygV3UNX5mQjGi405V8OdeKJl8O+/h8aNWboUxo2zlnp+vt14VFQEjz5qfevt2kUdcPSqWi54vYjcA+wL1IstVFUvF+ycS5933oH//AfuuYfnX2/MiBE2O19RkdV76RRMElq7NlxxRbShVhepXGQdDXwBdARuAeYB00OMyTlXw6xfp7x86ato6zZw+eW89hp8+SX87W/wySfw2Wee1CsjlRZ8c1UdISJXq+pUYKqITA07MOdcbtu8GSZPtu6XFycUsXbD3Xw8sAdd69ffOp92rt6AlCmpJPhg8BE/icjJwCLAe76cc5VWWAjHH28TZDRtqvSp/xJ9m0xg/xutEnmjRLdXugpLpYvm9qDQ2F+B/wc8Dly7vReJSD0R+UhEPhGRz0TklirG6pzLcqNHQ16ejXbJy7Pnqjbb0TXXwD+D2yc7d7bJMl5+GRY/NI5/rTiLY+45kdr1MjgVUg0Q2pR9YkVrGqrqWhGpC7wLXK2qH5b3Gh9F41z1NXo09O9vk03H1KljVRqXLYMddoCrr4ahQ+Ne9OuvsM8+Nj3SrFklE5y6lFVqFI2IPESSmjOqelWyg6r951gbPK0bfHkNG+dy1MCBpZM7WP5euxZGjYIzzoCddy7zoieesLuWXnzRk3sIkvXBV7kpLSK1gRnAHsDDqjotwTb9gf4A7du3r+ohnXMZ9uOP8NxzVh8skU2b4MILE6zYuNFqzhxyCJx6apgh1ljJio09WdWdq2oR0FVEmgATRWQ/VZ1TZpvhwHCwLpqqHtM5lxmzZ9vQxf/+1/rZ69YtqQcTr9x222OPwcKFNsGpD5cJxXY/E4nIFBF5q+xXRQ6iqiuBt4ETKhmncy5iq1dbLn7jDXveogUsXw4332xj1keNshIy8Ro0KGcypjVrbMWxx0KvXmGHXmOlMkzy/8U9rgecBfy6vReJSEtgi6quFJH6wLHA3ZWK0jkXiQ0bbOajggJ49VXrVTn3XJYrEd8AABfvSURBVMvLrVvDnLjP43vtZd8HDrSJNdq3txzer1+CHd9/v115veOOjPwcNVWlRtGIyFRVPWo723QBnsQqT9YCxqpq0qlZfBSNc9FTLekx6dkT3n3XZkPq3dtmQDrkkCr2qCxfbnUHfvMbmDAhLTHXZFWqRSMizeKe1gK6A7tu73Wq+ilwYKpBOueiU1xsfekFBVYO5rPPbLKMgQOtb/3oo9M4A9Ldd1sXzW23pWmHrjypdNHMwIY3CtY18z1wSZhBOecyY948ePBBGwWzaJH1mZ9+OqxcaQn+hHRfNVu0CB56CM47D/bdN807d2VtN8GrasdMBOKcy4zPPrMbkPbeG1atgocftiq9ffva3aUNG25/H5V2221WHvLmm0M8iItJpYumHnAZcATWkn8XeFRVN4Ycm3MuTb77rmQGpDlz4IIL7B6jLl1sWrttbkAKw7ffwuOPw5/+BB293ZgJqXTRPAWsoWQe1r7A08D/hhWUcy59zjwTJk60x4cdZj0k/xv89YpkKLmDtdrr1rWOfZcRqST4vVX1gLjnU0Tkk7ACcs5V3vLlMH68leEdM8YujB55pI18Oecc6NAhosBmz7ZiNdddZ+MrXUakkuA/FpFDYkXCRORg4L1ww3LOpWrNGivlUlAAkyZZ/Ze99rISAu3bWxXHyA0aBI0bW4J3GZNKgj8YOF9EFgTP2wNzRWQ2VlOsS2jROecS2rjRvpo0gffft0Epu+0G115rF0u7ds2iu/8//ND+A91+OzRrtv3tXdqkkuC9vIBzWWDLFnjzTWupT5wIl10Gd90FxxxjNyMdemiWFmQcOBB22cVqBbuMSmWY5HwROQDoGSz6r6p6H7xzGfS3v9mol2XL7KLo2WfbkEaw65aHHx5peOV780146y144AGbg89lVCrFxq7GJt7eJfh6RkSuDDsw52oqVZvS7p57SpatWGF39r/wAixZAiNHwhFHRBdjSlThhhvsQsCf/hR1NDVSKl00lwAHq+o6ABG5G/iAkmGTzrk0+Pxz634ZMwa++cZa5r//PbRtCyNGRB1dJbz4Inz0kf032nHHqKOpkVLpsROgKO55UbDMOVdFsVp/48fbnft33GFDGR9/HBYvtuReLRUVwY032u2y550XdTQ1VioJfhQwTURuFpGbgQ+B6tiecC4r/PSTdUkfeqjVgQErv/vggza08Y034JJLquGAk6FDYcoUe/zss1YT4Zxz4L77oo2rBkvlIut9IvI2VqpAgItU9eOwA3Mu14wYYff6vP22tdwPOMAmzQC7cHpldb+y1aOH1RQePRoGD4Y994RHHoGxY6OOrMZKNul2PeBSbD7V2cAjqrrdiT6cc2btWpg2zS6OAjz9tBVTHDQI+vSBzp2jjS/tevWyoT6/+53NFNK4sV0V9hmbIpOsBf8ksAX4L3Ai0BnIhnvinMtaGzfCv/9tF0tfeQU2b7a+9BYtbOx6kyZZdANSuqhaMfmRI+H55y25A1x1lSf3iCVL8Puo6v4AIjIC+CgzITlXPb3yik1Pt3o1tGwJF11kd5XG+tKbNo02vrRbuBCefNJa7d98A40aWUJ/7z2bjfuxx+wuLE/ykUl2kXXr/OiV6ZoRkd2CCbvnishnwXh656qV0aMhL8/uEM3Ls+dQMgPS5ZfDyy/bsn33tcqNr79uXTEPP2xj1bPy7tLK2rTJ+tRPOMGG+9x4I7RrZ7NxjxljfVITJljd97FjrU8+duHVZVy5c7KKSBGwLvYUqA+sDx6rqjZOumOR1kBrVZ0pIo2wmaF+p6qfl/can5PVZZPRo6F/f1i/vmRZvXrWKP30U2vA1q9vueyvf40uzoz4+GPrghk9Gn75xQrfXHihfXXqZNsMHWoXWuNb7FOmwPTpXmQsRMnmZK3UpNuVDOJFYJiqTi5vG0/wLpvk5cH8+YnXnXKKdb+cdloO34G/bJkNdxw5Ej75xG5WOuMMuPhi+y+XtklaXVVUadLtNAWQh03APS3Buv5Af4D27dtnIhzntmv+/PKTu0hJt0zO+fVXqzk8apTdibplC+TnW39T3745eCEht4We4EVkJ2A8cI2qri67XlWHA8PBWvBhx+NcMu+8AwMGWAne8uRkO+SrryypP/WUXUBo0cIulF50Eey/f9TRuUoKNcGLSF0suY9W1QlhHsu5yvjlF7sm2L271VDfYQcbv37nndbfPnBg6T74Bg1gyJDo4k2rNWtsWOPIkTbypXZtm3172DA4+WQ7Ga5aCy3Bi4hgJQ3mqqrfq+yyxrp18NJLNlb9P/+xXogBAyzBH3ywdTfHtGxpSX7BAmu5DxliQyGrrdiY9VGjLLmvW2f1Yu6+22rG+HR6OSW0i6wicgR2k9RsoDhYfIOqvlbea/wiqwuLqvWdq9rF0wULrJDXOedY13L37jl4A1K8RGPWzznHLpgeckiO//C5LZKLrKr6Ll510kXo119tlF5BgbXKCwstj915pyX3nj1zbIx6WZs22YXSkSNtFu7iYjj6aKuVcNZZ0LBh1BG6kGVkFI1zmfT551bj6vnn4eefrbF6xhnWt96okdVYz2mJxqwPHAgXXAC77x51dC6DPMG7ak8VZs2CVq2gTRsbEDJiRMlY9RNPtBuScpqPWXcJeIJ31daXX5bMgPTll3DzzVal9qSTbFq7xknvtc4Bicasd+/uY9bdVp7gXbVTXGyTTH/4ofWpH3UU/OUvVgcGbHRfTo/wSzRm/fLLbcx6ly5RR+eyiCd4l/WWLLH+9Fjfeq1adq3wnHOsllWbNlFHmAFlx6zXqmUfVR56yPqicvo/mqssT/AuK61caTcgjRkDb75prfb997ebjho0sJEwOc/HrLsq8gTvssa6ddbl0qCBJfY//9kKFQ4YYDMg7bdf1BFmSNkx6zvtZH3qF11kE7n6mHWXIk/wLlKbNln99DFj7DrhfffBn/5k3S/duln12RqRz2Jj1keNsgunxcV2ccHHrLsq8ATvIvHrr9ZCHzfOumOaN7dehx49bH3TpnDQQdHGmBGxMevPPgsrVtiY9RtusDrrPmbdVZEneJcRqvDBB3ah9A9/gDp1YN48OPVU63049lioWzfqKDNk+XK7CansmPWLLrIZun3MuksTT/AuNKqWvwoK4LnnrL76zjvDuedapcZJk2pI9wtAUZH9wCNH+ph1lzGe4F3axQp7PfAAXHutNUiPO86mtjv9dEvuUEOS+1df2cXSJ5/0Mesu4zzBu7T44Qe7UDpmDNx0kyXyU0+1EgFnnWV5rcaIjVkfNQrefdfGrJ94oo9ZdxnnCd5V2pYtMHy4JfV337VlPXqU9KXvvnsNuk6oaidh5MjSY9bvusuuHteIu7FctvEE7ypk1SqYO9dKiNepA/fcY8O0b7/dhjbusUfUEWbYwoVWMmDUqJIx6336WJEvH7PuIuYJ3m3X+vXwyivWUn/tNSu5+9NPluALC3O4+2XoUPtI0qtXybIpU2w40B57bDtm/cYb4eyzfcy6yxqe4F1SI0fC1VdbLfXWrW3sep8+JSP5cja5gyX33r1h7FhL8sOH28moW9f62du18zHrLqt5gndbFRXB1KnWUv/Tn2wU39572wQZffrAkUfWsCHaXbvCddfZhdFGjazqWd26dgX54ot9zLrLemFOuj0SOAX4WVVDqyIyenSOTYocskTna/fdLamPHWtdLw0bWjLv3t3K8h5+eNRRZ8D69XZX6fTpJV9ff116/Qkn2Als1iy6OJ2rgDBb8E8Aw4CnwjrA6NHQv7/97YHdSNO/vz32JL+t8s5XcbENAjnpJLvn5uSTreBXztqyBebMKZ3M58yxjzBgE7b26GFdLzvsYCNhLrsMHn3U7tyK75N3LpupamhfQB4wJ9Xtu3fvrhXRoYOqpabSX7VqqbZooTphgm33zjv2vOzXpEm2/rXXEq9//31b//zzidd/+qmtHzUq8fpvv7X1Dz2UeP3ixbb+zjsTr1+71tYPHLjtupYtS87DNddsu75jx5L1f/iDLatVK/H5atVKdeXKCp366qOoSPWLL1Sfflr1qqtUDz1UtV69kh++aVPV446zk/zii6qLFpW89q237MS99Vbi585lAaBQy8mpkffBi0h/oD9A+/btK/TaBQsSLy8utmtju+1mz3fZxZ6XFSun3bZt4vWxC4gdOiRe36SJfd9998Trd9rJvu+9d+L1sXlC99sv8fo6wW+na9dt18ePvsvPh82bS6+P3S0KNlpvhx1ssoxEfv7ZSghUe6o2bDG+ZV5YaGM7wT6WdOtmV4oPOsha6Z06lT+Ucfr0kgusYN/HjrXl3op31YDYP4CQdi6SB7yiKfbB5+fna2FhYcr7z8uzboayOnSwQlautJw7X8uXl07mH31kF0LB/jt26WJJPJbMO3cu+a/pXI4QkRmqmp9oXbV+tw8ZUrpPGayRNmRIdDFls2p9vtauhZkzSyfz77+3dSL2Mem440qS+QEHlP4Y41wNVK0TfOxCqo+iSU21OV+bN8Onn5ZunX/+ufW9gQXeowdceql9794dGjeONmbnslBoXTQiUgAcDbQAlgCDVXVEstdUtIvG5YCiIvjyy9LJfNaskosKLVqU7mbp0cMuqjjngIi6aFS1b1j7dtWUql0EKHsRdO1aW7/TTnbF+OqrS5J5hw5ez8W5SqrWXTQuy/38c+lkPn06LF1q63bYwYYHXXBBSTLfe2+/M9S5NPIE79Jj9WqYMaP0RdDYOFYR2Gcfu+U/lsy7dPG66M6FzBO8q7iNG+2Ozlginz7d+tFj13M6drTB91ddZcm8W7eSmwKccxnjCd4lV1RkI1jik/ns2Xa7P0CrVnYB9Pe/t2Sen5/jJSadqz48wdck5dU3nz7dqiaqwnffle5mmTmzZOB848b2+r/+taSrpV07vwjqXJbyBF+TlK1vPm4cXHIJnHYaHH+8jWhZscK2rVcPDjwQ/vCHkmS+5542v6hzrlrwBJ+rioth2TL48UdYtKjk+0EHWTKvV88mrQAoKLCCOGeeWZLM99uvZHJV51y15Am+Olq7dtvE/eOPpR//9FNJP3mMiN0k1Lw5LF5st/bfdJO11HO6PrBzNZMn+GyyZYsl3mSJe9EiG5JYVqNGVhazbVubH7RtW2jTpmRZmzaw667w7rvWTTNokNU337zZk7tzOcoTfCaoWt/29hL3kiUlQw1j6tQpSdT77mut7rKJu00bS/DbM2VK6T74Xr1KP3fO5RRP8FW1YcP2E/eiRTZ2vKwWLUqSdbdu2ybutm1tm3Rd2PT65s7VKKHWg6+orCo2VlRkt9onS9w//gi//LLta+vXL0nU8ck6PoG3bg077pj5n8s5l1Nyth78dsd1J6JqfdjbS9yLF5fM0RlTq5Yl5jZtYI89bGbqREl85519bLhzLnLVO8GXHdc9aZLNGn3zzfD88+WPNImf8SKmSZOSZL3PPokvUrZq5cWwnHPVRvXvonnzTTjhBBuzvWHDtut33HHbLpJEFyl9JIlzrhrK3S4agN/8xubanD3bhgeed17pJN6smXeXOOdqpOqf4KdMsZt6YuO6O3XyESHOOQeEWlhERE4QkS9F5BsRuT7tB4gf133rrfa9d29b7pxzNVxoCV5EagMPAycC+wB9RWSftB4k2bhu55yr4cLsojkI+EZVvwMQkTHA6cDnaTtCoqGQsTs0nXOuhguzi6Yt8EPc84XBslJEpL+IFIpI4dLYfJ3OOeeqLMwEn2joyjZjMlV1uKrmq2p+y5YtQwzHOedqljAT/EJgt7jn7YBFIR7POedcnDAT/HRgTxHpKCI7AH2Al0I8nnPOuTihXWRV1V9F5ArgdaA2MFJVPwvreM4550rLqlIFIrIUmF/Jl7cAlqUxnHTxuCrG46oYj6ticjGuDqqa8AJmViX4qhCRwvLqMUTJ46oYj6tiPK6KqWlxhXonq3POueh4gnfOuRyVSwl+eNQBlMPjqhiPq2I8roqpUXHlTB+8c8650nKpBe+ccy6OJ3jnnMtRWZvgRWSkiPwsInPKLL8yqDH/mYgMjVs+IKg7/6WIHB+3PK016SsSl4jkicgGEZkVfD0Wt313EZkdxPWgSNWmnUoUl4g8F3fseSIyK25dZOervLgyeb6SxNZVRD4Mjl8oIgcFyyU47jci8qmIdIt7zQUi8nXwdUGG4zpaRFbFnbOb4l6Tid/lASLyQfC7eVlEGseti/I9ljCuTL3HRGQ3EZkiInODnHB1sLyZiEwO3iuTRaRpsDyc95eqZuUXcCTQDZgTt6wX8AawY/B8l+D7PsAnwI5AR+Bb7O7Z2sHjTsAOwTb7ZDCuvPjtyuznI+BQrCjbv4ET0x1XmfX/AG7KhvOVJK6Mna8kv8tJsX0DJwFvxz3+d3D8Q4BpwfJmwHfB96bB46YZjOto4JUE+8jUe386cFTw+GLgtmx4jyWJKyPvMaA10C143Aj4KjgnQ4Hrg+XXA3eH+f7K2ha8qr4DrCiz+M/AXaq6Kdjm52D56cAYVd2kqt8D32D16LfWpFfVzUCsJn2m4kpIRFoDjVX1A7Xf4lPA70KIK3Y8AXoDBcGiqM9XeXElFMb5ShKbArFW6M6UFMg7HXhKzYdAkyCu44HJqrpCVX8BJgMnZDCu8mTqd7k38E7weDJwVvA46vdYeXEllO73mKr+pKozg8drgLlYufTTgSeDzZ6MO0Yo76+sTfDl2AvoKSLTRGSqiPQIlpdXez6lmvQhxgXQUUQ+Dpb3jIt3YQbiiukJLFHVr+OOH+X5Ki8uiP58XQPcIyI/APcCA+JiiPKclRcXwKEi8omI/FtE9t1OvOk2BzgtePy/lFSQjfp8lRcXZPg9JiJ5wIHANKCVqv4E9k8A2CXu+Gk/X9UtwdfBPqYcAvwNGBu0AsurPZ9STfoQ4/oJaK+qBwJ/AZ4N+gIzFVdMX0q3kqM+XzFl48qG8/Vn4FpV3Q24FhgRLI/6nJUX10ysFskBwEPAC8HyTMV1MXC5iMzAuiI2b+f4UceV0feYiOwEjAeuUdXVyTYt5/hViqu6JfiFwITgY8xHQDFWpKe82vOZqkmfMK7g4+lyAFWdgfU97hVs3y4DcSEidYAzgefKxBvl+UoYVzacL+ACYELw+HmsSwGiP2cJ41LV1aq6Nnj8GlBXRJL9TaSVqn6hqsepanfsn/W3wapIz1d5cWXyPSYidbHkPlpVY7+7JUHXS6xbKNadG875quxFhEx8UeaCCHApcGvweC/so4sA+1L6gs532MWcOsHjjpRc0Nk3g3G1BGoHyzsBPwLNtOQi0CGUXNA5Kd1xBctOAKaWWRbp+UoSV0bPVzm/y7nA0cHj3wAzgscnU/oi2EfB8mbA99gnuKbB42YZjGtXSm5YPAhYEMSYqfd+bEBBLazf+uJseI8liSsj77FgH08B95dZfg+lL7IODfP9VeU/kLC+sP+6PwFbsP9ilwRviGew/rWZwDFx2w/E/ht/SdzVb+zq9FfBuoGZjAu7sPNZ8CaeCZwat5/8YPtvgWGxP9J0xhUsfwK4NMH2kZ2v8uLK5PlK8rs8ApgRxDAN6B5sK8DDwfFnA/lx+7kYu4j4DXBRhuO6Iu6cfQgcluH3/tXBMb4C7or/vUT5Hisvrky9x4LflwKfArOCr5OA5sCbwNfB99g/l1DeX16qwDnnclR164N3zjmXIk/wzjmXozzBO+dcjvIE75xzOcoTvHPO5ShP8K7GCir4vSsiJ8Yt6y0i/4kyLufSxYdJuhpNRPbD7gw9ELsRZxZwgqp+m/SFyfdZR1V/TVOIzlWaJ3hX44nV718HNATWqOptQd3ty7Gb2N4HrlDVYhEZjpWmrQ88p6q3BvtYCPwTu0P3flV9PoIfxblS6kQdgHNZ4BbsrsbNQH7Qqj8Duyv01yCp9wGexW4zXxHU0pkiIuNU9fNgP+tU9fAofgDnEvEE72o8VV0nIs8Ba1V1k4gcC/QACoNJfepTUrK1r4hcgv3ttMEmcYgl+OdwLot4gnfOFAdfYHVBRqrqoPgNRGRPrMbJQaq6UkSeAerFbbIuI5E6lyIfRePctt4AegdldxGR5iLSHptRaQ2wOm62HeeylrfgnStDVWeLyC3AGyJSC6tSeClQiHXHzMFK3r4XXZTObZ+PonHOuRzlXTTOOZejPME751yO8gTvnHM5yhO8c87lKE/wzjmXozzBO+dcjvIE75xzOer/AwhGYkUhMlekAAAAAElFTkSuQmCC\n",
      "text/plain": [
       "<Figure size 432x288 with 1 Axes>"
      ]
     },
     "metadata": {
      "needs_background": "light"
     },
     "output_type": "display_data"
    }
   ],
   "source": [
    "# creating a line plot with multiple lines\n",
    "x1, y1 = [ 1600, 1700, 1800, 1900, 2000 ] , [ 0.2, 0.5, 1.1, 2.2, 7.7 ]\n",
    "x2, y2 = [ 1600, 1700, 1800, 1900, 2000 ] , [ 1, 1, 2, 3, 4 ]\n",
    "plt.plot(x1, y1, \"rx-\", label=\"Actual\") # create a red solid line with x dots\n",
    "plt.plot(x2, y2, \"bo--\", label=\"Fake\") # create a blue dashed line with circle dots\n",
    "plt.title(\"World Population Over Time\")\n",
    "plt.xlabel(\"Year\")\n",
    "plt.ylabel(\"Population (billions)\")\n",
    "plt.legend() # shows labels in best corner\n",
    "plt.show()"
   ]
  },
  {
   "cell_type": "markdown",
   "metadata": {},
   "source": [
    "**Bar Plot**   \n",
    "When you need to plot categorical data, a bar plot is a much better choice. "
   ]
  },
  {
   "cell_type": "code",
   "execution_count": 5,
   "metadata": {},
   "outputs": [
    {
     "data": {
      "image/png": "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\n",
      "text/plain": [
       "<Figure size 432x288 with 1 Axes>"
      ]
     },
     "metadata": {
      "needs_background": "light"
     },
     "output_type": "display_data"
    }
   ],
   "source": [
    "# creating a bar plot using x and y coords\n",
    "num_people, categories = [ 4, 8, 3, 6, 2 ] , [ \"Comedy\", \"Action\", \"Thriller\", \"Romance\", \"Horror\" ]\n",
    "plt.bar(categories, num_people)\n",
    "plt.title(\"Favorite Movie Category\", fontsize=24)\n",
    "plt.xlabel(\"Category\", fontsize=16)\n",
    "plt.ylabel(\"# of People\", fontsize=16)\n",
    "plt.xticks(fontname=\"Fantasy\")\n",
    "plt.yticks(fontname=\"Fantasy\")\n",
    "plt.show()"
   ]
  },
  {
   "cell_type": "markdown",
   "metadata": {},
   "source": [
    "**Box Plot**   \n",
    "Box plots are useful in situations where you need to compare a single statistic either\n",
    "over time or against categories. They are like candlestick charts in their design, where\n",
    "you can view the min, max, 25% quartile, 75% quartile, and median, which can be useful\n",
    "for displaying data over time. In the case of stocks, currency would be the y axis data\n",
    "and time would be the x axis data."
=======
   "execution_count": 1,
   "id": "615ca5a7",
   "metadata": {},
   "outputs": [],
   "source": [
    "##all done"
>>>>>>> d4a4f8c0ad0e709acb1b1295c7a67a8548f3e146
   ]
  },
  {
   "cell_type": "code",
<<<<<<< HEAD
   "execution_count": 6,
   "metadata": {},
   "outputs": [
    {
     "data": {
      "image/png": "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\n",
      "text/plain": [
       "<Figure size 1080x576 with 1 Axes>"
      ]
     },
     "metadata": {
      "needs_background": "light"
     },
     "output_type": "display_data"
    }
   ],
   "source": [
    "# creating a box plot – showing height data for male-female\n",
    "males, females = [ 72, 68, 65, 77, 73, 71, 69 ] , [ 60, 65, 68, 61, 63, 64 ]\n",
    "heights = [ males, females ]\n",
    "plt.figure(figsize=(15, 8)) # makes chart bigger\n",
    "plt.boxplot(heights) # takes in list of data, each box is its' own array, heights contains two lists\n",
    "plt.xticks( [ 1, 2 ] , [ \"Male\" , \"Female \" ] ) # sets number of ticks and labels on x-axis\n",
    "plt.title(\"Height by Gender\", fontsize=22)\n",
    "plt.ylabel(\"Height (inches)\", fontsize=14)\n",
    "plt.xlabel(\"Gender\", fontsize=14)\n",
    "plt.show()"
   ]
  },
  {
   "cell_type": "markdown",
   "metadata": {},
   "source": [
    "**Scatter Plot**   \n",
    "If you’re familiar with clusters, then you’ll know the importance of scatter plots.\n",
    "These types of plots help to distinguish groups apart from each other by plotting a\n",
    "dot for each set of data. Using two characteristics, like height and width of a flower,\n",
    "we can classify which species a flower belongs to."
   ]
  },
  {
   "cell_type": "code",
   "execution_count": 12,
   "metadata": {},
   "outputs": [
    {
     "data": {
      "image/png": "iVBORw0KGgoAAAANSUhEUgAAAYgAAAEWCAYAAAB8LwAVAAAABHNCSVQICAgIfAhkiAAAAAlwSFlzAAALEgAACxIB0t1+/AAAADh0RVh0U29mdHdhcmUAbWF0cGxvdGxpYiB2ZXJzaW9uMy4xLjMsIGh0dHA6Ly9tYXRwbG90bGliLm9yZy+AADFEAAAgAElEQVR4nO3deZhkdX3v8feHGZBhc1gGZAbIiAvGiMKkJSpKRAzLPApIiIGLBiVm5EbNJQkoaK5LFkFxiZpEQ1CjBhVFBiEiS7wJiArSrIMsUcfBWXBogsM6yva5f5xTTFFzqrq6p09Vddfn9Tz1VJ3fWerbp7vq2+d3fotsExER0WqzfgcQERGDKQkiIiIqJUFERESlJIiIiKiUBBEREZWSICIiolISRPSEpHdLOrvLbd8v6d/qjqlbgxi7pAcl7TlFx3ry55O0UJIlzZ6iY+9RxjprKo4XvZUEEV2RtELSq1vK3iTpqm72t/1B22+pK5aW9cdKurWl7PI2ZaeO9349jv2Vkp4ov1QflLRK0tckvbglpm1sLx/nvV4padV4MdX589n+eRnr41Nx/OitJIiYia4AflPSPIDyv+EXAVu1lL0UuLJvUba3xvY2wLbAS4Dbge9KOmiq32iqrhRiZkqCiCkjab6kb0gak/QzSX/WtO4pVS+S/kjSnZL+R9L/rfjPegtJX5T0gKQfSRop9/sSsAdwUfkf9jtb47C9BlgOHFAWLQJ+RJE4mss2A0YHKfaWn8O2V9l+L3A28KGmGCzp2eXrxZJuLd9vtaSTJW0NfBuY33Q1Mr/8Wc6T9G+S7gfe1KZa7ARJayTdJekvm973XyX9bdPyk1cpVT9fa5VVGcOFku6V9BNJf9Jynr9Wde6iP5IgYkpI2gy4CLgJWAAcBJwk6ZCKbZ8P/BNwHLAr8PRyn2aHA18F5gIXAv8AYPuNwM+B15ZVFx9uE9KVbEgGBwDfBa5qKbva9iMDGHuV84FF5Rd/q88Cb7W9LfAC4P/Zfgg4jPJqpHysKbc/AjivjO+cNu93IPAc4GDg1E7VYg1d/nxfAVYB84GjgQ+2XBlVnrvojySImIgLJK1rPCi+KBteDMyz/de2Hynrx/8FOKbiOEcDF9m+yvYjwHuB1kHBrrJ9cVl3/SWKKqKJaL5aeAVFgvhuS9kVAxp7lTWAKL44Wz0KPF/SdrZ/afv6cY71A9sX2H7C9vo223zA9kO2lwGfB46dfOgFSbsDLwfeZftXtm+kuDJ6Y9NmdZy7mKQkiJiII23PbTyAP21a9xsU1RnNCeTdwC4Vx5kPrGws2H4Y+J+WbX7R9PphYMt29eWSPtNUjfLusvhK4IWStqeox/+B7duBXcuyl7Ph/kPfYp+ABRSJaF3Fut8HFgN3SrpC0kvHOdbKcda3bnMnxc+9qeYD99p+oOXYzVdgdZy7mKSc+JgqK4Gf2X5OF9veBezVWJA0B9hxAu/1lP/YbZ8InNhStlzSGmAJ8HPbD5arflCWbQNc3e/YJ+B1wPVl1dFTD2hfCxwhaXPg7cDXgN07vFc3MexOcXMcivsKjeqph4CtmrZ7xgSOvQbYQdK2TUliD2B1F/FEH+QKIqbKD4H7Jb1L0hxJsyS9QC3NM0vnAa+V9DJJWwAfoKg+6dZaoJs+AN8F/qJ8briqLBttql4ZxNhRYYGk9wFvobiqad1mC0nHSXq67UeB+4FGk9K1wI6Snj6B+Br+r6StJP0W8Gbg3LL8RmCxpB0kPQM4qWW/tj+f7ZXA94HTJW0p6YXAH9P+Pkj0WRJETImyzvi1wD7Az4B7KOqXN/pysv0j4B0UNyPvAh4A7gZ+3eXbnQ78VVkddHKH7a4AdqZICg3fLcuebN46gLHPl/Qg8CBwLbA38Erbl7XZ/o3AirJV0onAG8pYb6e4Kby8fL+JVBNdAfwE+A7wkab3/hLFzfwVwGVsSBzd/nzHAgspriaWAu+zffkE4ooeUiYMin6TtA1F3fpzbP+s3/FMxHSOPWI8uYKIvpD02rIKY2vgI8Ayiv9KB950jj1iIpIgol+OoKhmWEPR3v4YT5/L2ekce0TXUsUUERGVcgURERGVZlQ/iJ122skLFy7sdxgREdPGddddd4/teVXrZlSCWLhwIaOjo/0OIyJi2pB0Z7t1qWKKiIhKSRAREVEpCSIiIiolQURERKUkiIiIqDSjWjHFprnghtWceekdrFm3nvlz53DKIXtx5L6tk6UNn5yXGFZJEAEUX4Knnb+M9Y8WI0WvXree085fBjDUX4Y5LzHMUsUUAJx56R1Pfgk2rH/0cc689I4+RTQYcl5imCVBBABr1lVPTdyufFjkvMQwS4IIAObPnTOh8mGR8xLDrLYEIWkvSTc2Pe6XdJKkc5vKVki6sc3+KyQtK7fL+Bk1O+WQvZiz+aynlM3ZfBanHLJXmz2GQ85LDLPablLbvoNiCkckzaKYmHyp7b9vbCPpo8B9HQ5zoO176ooxNmjccE1rnafKeYlh1qtWTAcBP7X95KBQkgS8HnhVj2KIcRy574J88VXIeYlh1at7EMdQTJ7e7BXAWts/brOPgcskXSdpSbsDS1oiaVTS6NjY2BSFGxERtScISVsAhwNfb1l1LBsnjWb7214EHAa8TdIBVRvZPsv2iO2RefMqhzSPiIhJ6EUV02HA9bbXNgokzQaOAn673U6215TPd0taCuwHXFlzrE9K79mIGHa9qGKqulJ4NXC77VVVO0jaWtK2jdfAwcAttUbZpNF7dvW69ZgNvWcvuGF1r0KIiOi7WhOEpK2A3wPOb1m10T0JSfMlXVwu7gJcJekm4IfAt2xfUmeszdJ7NiKi5iom2w8DO1aUv6mibA2wuHy9HHhRnbF1kt6zERHpSV0pvWcjIpIgKqX3bEREhvuulN6zERFJEG2l92xEDLtUMUVERKUkiIiIqJQqpthk6XUeMTMlQcQmyZzNETNXqphik6TXecTMlQQRmyS9ziNmriSI2CTpdR4xcyVBxCZJr/OImSs3qWOTpNd5xMyVBBGbLL3OI2amVDFFRESlJIiIiKhUWxWTpL2Ac5uK9gTeC8wF/gQYK8vfbfvilt2RdCjwCWAWcLbtM+qKNQZPemdH9F9tCcL2HcA+AJJmAauBpcCbgY/b/ki7fcvt/5FiutJVwLWSLrR9a13xxuBI7+yIwdCrKqaDgJ/avrPL7fcDfmJ7ue1HgK8CR9QWXQyU9M6OGAy9ShDHAF9pWn67pJslfU7S9hXbLwBWNi2vKss2ImmJpFFJo2NjY1WbxDST3tkRg6H2BCFpC+Bw4Otl0aeBZ1FUP90FfLRqt4oyVx3f9lm2R2yPzJs3bwoijn5L7+yIwdCLK4jDgOttrwWwvdb247afAP6Fojqp1Spg96bl3YA1tUcaAyG9syMGQy8SxLE0VS9J2rVp3euAWyr2uRZ4jqRnllcgxwAX1hplDIwj913A6UftzYK5cxCwYO4cTj9q79ygjuixWntSS9qKoiXSW5uKPyxpH4oqoxWNdZLmUzRnXWz7MUlvBy6laOb6Ods/qjPWGCzpnR3Rf7UmCNsPAzu2lL2xzbZrgMVNyxcDG/WPiIiI3khP6oiIqJTB+qJW6REdMX0lQURt0iM6YnpLFVPUJj2iI6a3JIioTXpER0xvSRBRm/SIjpjekiCiNukRHTG95SZ11CbzVUdMb0kQUav0iI6YvlLFFBERlZIgIiKiUqqYhlh6OUdEJ0kQQyq9nCNiPKliGlLp5RwR40mCGFLp5RwR40mCGFLp5RwR46ktQUjaS9KNTY/7JZ0k6UxJt0u6WdJSSXPb7L9C0rJy39G64hxW6eUcEeOp7Sa17TuAfQAkzQJWA0uBvYDTymlFPwScBryrzWEOtH1PXTEOs/Ryjojx9KoV00HAT23fCdzZVH41cHSPYogW6eUcEZ306h7EMcBXKspPAL7dZh8Dl0m6TtKSdgeWtETSqKTRsbGxKQg1IiKgBwlC0hbA4cDXW8rfAzwGnNNm1/1tLwIOA94m6YCqjWyfZXvE9si8efOmMPKIiOHWiyqmw4Drba9tFEg6HngNcJBtV+1ke035fLekpcB+wJU9iDfGkR7YEcOhF1VMx9JUvSTpUIqb0ofbfrhqB0lbS9q28Ro4GLilB7HGOBo9sFevW4/Z0AP7ghtW9zu0iJhitSYISVsBvwec31T8D8C2wOVlE9bPlNvOl3Rxuc0uwFWSbgJ+CHzL9iV1xhrdSQ/siOFRaxVTeYWwY0vZs9tsuwZYXL5eDryozthictIDO2J4pCd1TEh6YEcMjySImJD0wI4YHh2rmCRtSdHa6BXAfGA9xc3ib9n+Uf3hxaBJD+yI4dE2QUh6P/Ba4L+Aa4C7gS2B5wJnlMnjL23fXH+YMUjSAztiOHS6grjW9vvbrPuYpJ2BPaY+pIiIGARtE4Ttb7WWSdoM2Mb2/bbvpriqiIiIGWjcm9SSvixpu7LD2q3AHZJOqT+0iIjop25aMT3f9v3AkcDFFNVKb6w1qoiI6LtuEsTmkjanSBDftP0oxUirERExg3WTIP4ZWAFsDVwp6TeA++sMKiIi+m/coTZsfxL4ZFPRnZIOrC+kiIgYBN3cpN5F0mclfbtcfj5wfO2RRUREX3VTxfSvwKUUPakB/hs4qa6AIiJiMHSTIHay/TXgCQDbjwGPd94lIiKmu24SxEOSdqRsuSTpJcB9tUYVERF91818EH8BXAg8S9L3gHnA0ePtJGkv4Nymoj2B9wJfLMsXUrSOer3tX1bsfzzwV+Xi39r+QhexTlqm0YyIeCq1mRL6qRtJs4G9AAF3lH0hun8TaRawGvgd4G3AvbbPkHQqsL3td7VsvwMwCoxQXLlcB/x2VSJpNjIy4tHR0YmEBmyYRrN5prQ5m8/i9KP2TpKIiBlN0nW2R6rWdTsfxH4UM7wtAo6V9EcTjOEg4Ke27wSOABpXA1+g6IDX6hDgctv3lknhcuDQCb5n1zKNZkTExsatYpL0JeBZwI1suDltiqqibh0DfKV8vYvtuwBs31WOCttqAbCyaXlVWVYV3xJgCcAee0xucNlMoxkRsbFu7kGMUIzHNKnhNSRtARwOnDaR3SrKKt/f9lnAWVBUMU04QIrpMldXJINMoxkRw6ybKqZbgGdswnscBlxve225vFbSrgDlc9WQ4auA3ZuWdwPWbEIMHWUazYiIjXWaUe4iiv/atwVulfRD4NeN9bYP7/I9jmVD9RIULaKOB84on79Zsc+lwAclbV8uH8zErkAmJNNoRkRsrG0rJkm/22lH21eMe3BpK4p7CXvavq8s2xH4GsWw4T8H/sD2vZJGgBNtv6Xc7gTg3eWh/s7258d7v8m2YoqIGFadWjGN28xV0jOBu2z/qlyeQ3GjecVUB7qpkiAiIiZmU5u5fp1ymI3S42VZRETMYN20Yppt+5HGgu1HypZJMU2l13h0K38rw62bK4gxSU/ekJZ0BHBPfSFFnRq9xlevW4+B1evWc9r5y7jghtX9Di0GTP5WopsEcSLwbkk/l7QSeBfw1nrDirqk13h0K38r0c2Mcj8FXiJpG4qb2g/UH1bUJb3Go1v5W4luhtp4GvD7FKOvzpaKTs62/7rWyKIW6TUe3crfSnRTxfRNigH2HgMeanrENJRe49Gt/K1EN62YdrNd20iq0VvpNR7dyt9KdNNR7izgU7aX9SakyUtHuYiIienUUa6bK4iXA2+S9DOKsZgE2PYLpzDGiIgYMN0kiMNqjyIiIgZOp9Fct7N9P5BmrRERQ6jTFcSXgddQzAdtnjqJj4E9a4wrIiL6rG2CsP2a8vmZvQsnIiIGRdt+EJIWdtpRhd2mOqCIiBgMnaqYzpS0GUVHueuAMWBL4NnAgcBBwPsopgeNiIgZplMV0x9Iej5wHHACsCvwMHAbcDHFLG+/6nRwSXOBs4EXUNy3OAE4CWh0xZwLrLO9T8W+KyhukD8OPNaunW5ERNSjYzNX27cC79mE438CuMT20eUcElvZ/sPGSkkfBe7rsP+BtjO0eEREH3TTD2JSJG0HHAC8CYqJhoBHmtYLeD3wqrpiiIiIyetmsL7J2pPivsXnJd0g6WxJWzetfwWw1vaP2+xv4DJJ10la0u5NJC2RNCppdGxsbOqij4gYcnUmiNnAIuDTtvelGAH21Kb1xwJf6bD//rYXUfTkfpukA6o2sn2W7RHbI/PmzZui0CMiYtwEIek73ZRVWAWssn1NuXweRcJA0mzgKODcdjvbXlM+3w0sBfbr4j0jImKKdOoHsaWkHYCdJG0vaYfysRCYP96Bbf8CWCmp0WLpIODW8vWrgdttVzaRlbS1pG0br4GDgVu6/JkiImIKdLpJ/VaKJqnzKfpBNIbauB/4xy6P/w7gnLIF03LgzWX5MbRUL0maD5xtezGwC7C0nL1uNvBl25d0+Z4RETEFupkP4h22P9WjeDZJ5oOIiJiYTZoPwvanJL2Mck7qpvIvTlmEERExcMZNEJK+BDwLuJGiVzMUTVCTICIiZrBuOsqNAM/3eHVRERExo3TTD+IW4Bl1BxIREYOl04xyF1FUJW0L3CrphxRzUgNg+/D6w4uIiH7pVMX0kZ5FERERA6fTcN9X9DKQiE4uuGE1Z156B2vWrWf+3DmccsheHLnvgn6HFTGjddOK6QGKqqZm9wGjwF/aXl5HYBENF9ywmtPOX8b6R4tGdKvXree085cBJElE1Kibm9QfA04BFgC7AScD/wJ8FfhcfaFFFM689I4nk0PD+kcf58xL7+hTRBHDoZsEcajtf7b9gO37bZ8FLLZ9LrB9zfFFsGbd+gmVR8TU6CZBPCHp9ZI2Kx+vb1qXvhFRu/lz50yoPCKmRjcJ4jjgjcDdwNry9RskzQHeXmNsEQCccshezNl81lPK5mw+i1MO2avNHhExFboZi2k58No2q6+a2nAiNta4EZ1WTBG91amj3Dttf1jSp6ioSrL9Z7VGFtHkyH0XJCFE9FinK4jbyueMnx0RMYQ6dZS7qHz+AhQzu9l+qFeBRUREf3XTUe6lwGeBbYA9JL0IeKvtP+1i37nA2cALKKqpTgAOAf4EGCs3e7ftiyv2PRT4BDCLYqa5M7r6iSZoUHroDkockzGdY4+I9roZ7vvvKb7ULwSwfZOkA7o8/ieAS2wfXU47ulV5rI/bbjvWk6RZFNOa/h6wCrhW0oW2b223z2QMSg/dQYljMqZz7BHRWTfNXLG9sqXo8coNm0jaDjiA4uoD24/YXtdlXPsBP7G93PYjFL22j+hy364NSg/dQYljMqZz7BHRWTcJYmU55aglbSHpZDbcwO5kT4pqpM9LukHS2ZK2Lte9XdLNkj4nqao39gKgOSmtKss2ImmJpFFJo2NjY1WbtDUoPXQHJY7JmM6xR0Rn3SSIE4G3UXxBrwL2KZfHMxtYBHza9r7AQ8CpwKcppjDdB7gL+GjFvqooq+y1bfss2yO2R+bNm9dFWBsMSg/dQYljMqZz7BHR2bgJwvY9to+zvYvtnW2/wfb/dHHsVcAq29eUy+cBi2yvtf247ScoBv3br82+uzct7was6eI9J2RQeugOShyTMZ1jj4jOOnWUq+wg1zBeRznbv5C0UtJetu8ADqKYmW5X23eVm72OYkrTVtcCz5H0TGA1cAzwvzr/KBM3KD10ByWOyZjOsUdEZ7Krc4Ck45sWPwC8r3l9o39Ex4NL+1A0c90CWA68GfgkRfWSgRUUTWbvkjSfojnr4nLfxRQtqGYBn7P9d+O938jIiEdH068vIqJbkq6zPVK5rl2CaDnADeV9hIGWBBERMTGdEkRXzVzJsN4REUOn2wQRERFDptNN6ua5qLeSdH9jFWDb29UdXERE9E+nwfq27WUgERExWFLFFBERlZIgIiKiUhJERERUSoKIiIhKSRAREVEpCSIiIip1M6NcREQMoLqn+02CiIiYhnox3W+qmCIipqFeTPebBBERMQ31YrrfJIiIiGmoF9P91pogJM2VdJ6k2yXdJumlks4sl2+WtFTS3Db7rpC0TNKNkjLJQ0REk15M91v3FcQngEtsPw94EXAbcDnwAtsvBP4bOK3D/gfa3qfdZBYREcPqyH0XcPpRe7Ng7hwELJg7h9OP2nt6tGKStB1wAPAmANuPAI8AlzVtdjVwdF0xRETMZEfuu6DW+d/rvILYExgDPi/pBklnS9q6ZZsTgG+32d/AZZKuk7Sk3ZtIWiJpVNLo2NjY1EQeERG1JojZwCLg0+V81g8BpzZWSnoP8BhwTpv997e9CDgMeJukA6o2sn2W7RHbI/PmzZvSHyAiYpjVmSBWAatsX1Mun0eRMJB0PPAa4DjblfNd215TPt8NLAX2qzHWiIhoUVuCsP0LYKWkxi31g4BbJR0KvAs43PbDVftK2lrSto3XwMHALXXFGhERG6t7qI13AOdI2gJYDrwZuBZ4GnC5JICrbZ8oaT5wtu3FwC7A0nL9bODLti+pOdaIiGhSa4KwfSPQ2kT12W22XQMsLl8vp2gWGxERfZKe1BERUSkJIiIiKiVBREREpSSIiIiolAQRERGVkiAiIqJSphyNaaHuuXejPvndTV9JEDHwejH3btQjv7vpLVVMMfB6Mfdu1CO/u+ktCSIGXi/m3o165Hc3vSVBxMDrxdy7UY/87qa3JIgYeL2Yezfqkd/d9Jab1DHwGjcz0xJm+snvbnpTm/l6pqWRkRGPjo72O4yIiGlD0nW2W0fdBlLFFBERbSRBREREpVoThKS5ks6TdLuk2yS9VNIOki6X9OPyefs2+x5fbvPjcg7riIjoobqvID4BXGL7eRQzxN0GnAp8x/ZzgO+Uy08haQfgfcDvAPsB72uXSCIioh61JQhJ2wEHAJ8FsP2I7XXAEcAXys2+ABxZsfshwOW277X9S+By4NC6Yo2IiI3VeQWxJzAGfF7SDZLOlrQ1sIvtuwDK550r9l0ArGxaXlWWbUTSEkmjkkbHxsam9ieIiBhidSaI2cAi4NO29wUeoqI6qQ1VlFW2x7V9lu0R2yPz5s2bXKQREbGROhPEKmCV7WvK5fMoEsZaSbsClM93t9l396bl3YA1NcYaEREtaksQtn8BrJTU6FN/EHArcCHQaJV0PPDNit0vBQ6WtH15c/rgsiwiInqk7qE23gGcI2kLYDnwZoqk9DVJfwz8HPgDAEkjwIm232L7Xkl/A1xbHuevbd9bc6wREdEkQ21ERAyxDLURERETltFcIyKmqbrn+06CiIiYhnox33eqmCIipqFezPedBBERMQ31Yr7vJIiIiGmoF/N9J0FERExDvZjvOzepIyKmoV7M950EERExTR2574IpTQitUsUUERGVkiAiIqJSqpgihlDdPXBjZkiCiBgyveiBGzNDqpgihkwveuDGzJAEETFketEDN2aGJIiIIdOLHrgxM9SaICStkLRM0o2SRsuyc8vlG8v1N3a7b0Rsul70wI2ZoRc3qQ+0fU9jwfYfNl5L+ihwX7f7RsSm60UP3JgZ+taKSZKA1wOv6lcMEcOq7h64MTPUfQ/CwGWSrpO0pGXdK4C1tn88iX2fJGmJpFFJo2NjY1MUdkRE1H0Fsb/tNZJ2Bi6XdLvtK8t1xwJfmeS+T7J9FnAWwMjIiKf6B4iIGFa1XkHYXlM+3w0sBfYDkDQbOAo4d6L7RkREb9SWICRtLWnbxmvgYOCWcvWrgdttr5rEvhER0QN1VjHtAiwt7kUzG/iy7UvKdcfQUr0kaT5wtu3F4+wbERE9IHvmVNtLGgPu7HccwE7AoDbPHdTYBjUuGNzYBjUuGNzYBjUu6F9sv2F7XtWKGZUgBoWkUdsj/Y6jyqDGNqhxweDGNqhxweDGNqhxwWDGlqE2IiKiUhJERERUSoKox1n9DqCDQY1tUOOCwY1tUOOCwY1tUOOCAYwt9yAiIqJSriAiIqJSEkRERFRKgpgESZ+TdLekW5rKdpB0uaQfl8/bl+WS9ElJP5F0s6RFPY7rTEm3l++9VNLcpnWnlXHdIemQuuJqF1vTupMlWdJO5XJfz1lZ/o7yvPxI0oebyvt6ziTtI+nqxjwpkhrD1/TynO0u6T8l3Vaen/9Tlvf1M9Ahrr5/BtrF1rS+b5+BjmznMcEHcACwCLilqezDwKnl61OBD5WvFwPfBgS8BLimx3EdDMwuX3+oKa7nAzcBTwOeCfwUmNXL2Mry3YFLKTo47jQg5+xA4D+Ap5XLOw/KOQMuAw5rOk//1YdztiuwqHy9LfDf5bnp62egQ1x9/wy0i20QPgOdHrmCmAQXo8re21J8BPCF8vUXgCObyr/owtXAXEm79iou25fZfqxcvBrYrSmur9r+te2fAT+hxgER25wzgI8D76QY3r2hr+cM+N/AGbZ/XW5zd1Nc/T5nBrYrXz8dWNMUW6/O2V22ry9fPwDcBiygz5+BdnENwmegwzmDPn8GOkmCmDq72L4Lij8GYOeyfAGwsmm7VWz4w+i1Eyj+K4EBiEvS4cBq2ze1rOp3bM8FXiHpGklXSHrxgMQFcBJwpqSVwEeA0/oZm6SFwL7ANQzQZ6AlrmZ9/ww0xzbAnwGgjzPKDRFVlPW8bbGk9wCPAec0iio261lckrYC3kNx+b/R6oqyXp6z2cD2FJf2Lwa+JmnPAYgLiqubP7f9DUmvBz5LMTpyz2OTtA3wDeAk2/dLVSEUm1aU1RZba1xN5X3/DDTHVsYyqJ8BIFcQU2lt4xKwfG5US6yiqGNs2I0N1QI9Iel44DXAcS4rOAcgrmdR1PveJGlF+f7XS3rGAMS2Cji/vLz/IfAExUBq/Y4L4Hjg/PL119lQJdLT2CRtTvFFd47tRjx9/wy0iWsgPgMVsQ3yZwBIgphKF1J8eCmfv9lU/kdlq4SXAPc1LsN7QdKhwLuAw20/3BLvMZKeJumZwHOAH/YqLtvLbO9se6HthRQfiEW2f0GfzxlwAeVc6ZKeC2xBMcpmX89ZaQ3wu+XrVwGNKXt7ds5UXCp8FrjN9seaVvX1M9AurkH4DFTFNuCfgUI/7oxP9wfFXBZ3AY+Wv9Q/BnYEvkPxgf0OsEO5rYB/pGghsQwY6XFcP6Goy7yxfHymafv3lHHdQdkyppextaxfwYYWHP0+Z1sA/0YxSdX1wKsG5ZwBL0fbb0UAAANnSURBVAeuo2h9cw3w2304Zy+nqO64uenvanG/PwMd4ur7Z6BdbIPwGej0yFAbERFRKVVMERFRKQkiIiIqJUFERESlJIiIiKiUBBEREZWSIGKoSPq4pJOali+VdHbT8kcl/cU4x/h+F++zojEyZ0v5KyW9rMN+R0p6b/n6/ZJOLl//l6SuJrSXNE/SJd1sG9FJEkQMm+8DLwOQtBlFD+nfalr/MuB7nQ5gu+0XfBde2Xj/Nt4J/NMmHB/bY8BdkvbflONEJEHEsPkeG76gf4uiM9wDkraX9DTgN4EbACSdIunacjz+DzQOIOnB8nkzSf9Uju//75IulnR003u9Q9L1kpZJel45SNuJwJ+rmM/hFc2Blb22f237njaxv0HS9yXdog3zQPxueawbJd0gadty2wuA4yZ9liLIYH0xZGyvkfSYpD0oEsUPKEbJfClwH3Cz7UckHUwx9MJ+FL1aL5R0gIshuBuOAhYCe1OMXHob8Lmm9ffYXiTpT4GTbb9F0meAB21/pCK8/Sl6brezte2XSTqgfJ8XACcDb7P9vXIguF+V244Cf9vteYmokiuIGEaNq4hGgvhB03Lj/sLB5eMGii/t51EkjGYvB75u+wkX4+f8Z8v6xmBx11EkkvHsCox1WP8VeHKeiO1UzIz2PeBjkv4MmOsN8x7cDczv4j0j2kqCiGHUuA+xN0UV09UUVxDN9x8EnG57n/LxbNufbTlO2/GtS78unx+nu6v19cCWHda3jotj22cAbwHmAFdLel65bsvyeBGTlgQRw+h7FEM/32v7cdv3AnMpksQPym0uBU4oq22QtEDSzi3HuQr4/fJexC4UN6DH8wDFlJNVbgOe3WHfPyxjeTnF6J73SXqWi1FBP0RRrdRIEM+lSH4Rk5YEEcNoGUXrpatbyu5r3CC2fRnwZeAHkpYB57HxF/s3KEZZvQX4Z4rRVe8b570vAl5XdZMauBLYV+1n3vll2cT2MxQjuwKcVN60voniiqExW9qBwLfGiSWio4zmGrEJJG1j+0FJO1LMJbB/eT9issf7BHCR7f/YxLiuBI6w/ctNOU4Mt7Riitg0/17eLN4C+JtNSQ6lDwK/sykHkDQP+FiSQ2yqXEFERESl3IOIiIhKSRAREVEpCSIiIiolQURERKUkiIiIqPT/AZtGR5rR6xf3AAAAAElFTkSuQmCC\n",
      "text/plain": [
       "<Figure size 432x288 with 1 Axes>"
      ]
     },
     "metadata": {
      "needs_background": "light"
     },
     "output_type": "display_data"
    }
   ],
   "source": [
    "# creating a scatter plot to represent height-weight distribution\n",
    "import random\n",
    "random.seed(5)\n",
    "height = [ random.randint(58, 78) for x in range(20) ] # 20 records between 4'10\" and 6'6\"\n",
    "weight = [ random.randint(90, 250) for x in range(20) ] # 20 records between 90lbs. and 250lbs.\n",
    "plt.scatter(weight, height)\n",
    "plt.title(\"Height-Weight Distribution\")\n",
    "plt.xlabel(\"Weight (lbs)\")\n",
    "plt.ylabel(\"Height (inches)\")\n",
    "plt.show()"
   ]
  },
  {
   "cell_type": "markdown",
   "metadata": {},
   "source": [
    "**Histogram**   \n",
    "While line plots are great for visualizing trends in time series data, histograms are the\n",
    "king of visualizing distributions. Often, the distribution of a variable is what you’re\n",
    "interested in, and a visualization provides a lot more information than a group of\n",
    "summary statistics."
   ]
  },
  {
   "cell_type": "code",
   "execution_count": 10,
   "metadata": {},
   "outputs": [
    {
     "data": {
      "image/png": "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\n",
      "text/plain": [
       "<Figure size 432x288 with 1 Axes>"
      ]
     },
     "metadata": {
      "needs_background": "light"
     },
     "output_type": "display_data"
    }
   ],
   "source": [
    "# creating a histogram to show age data for a fake population\n",
    "import numpy as np # import the numpy module to generate data\n",
    "np.random.seed(5)\n",
    "ages = [ np.random.normal(loc=40, scale=10) for x in range(1000) ] # ages distributed around 40\n",
    "plt.hist(ages, bins=45) # bins is the number of bars\n",
    "plt.title(\"Ages per Population\")\n",
    "plt.xlabel(\"Age\")\n",
    "plt.ylabel(\"# of People\")\n",
    "plt.show( )"
   ]
  },
  {
   "cell_type": "markdown",
   "metadata": {},
   "source": [
    "**mportance of Histogram Distribution**   \n",
    "To see why histograms are so important with understanding central distribution, we’ll\n",
    "need to create some more fake data. We’ll then plot both datasets and see how they\n",
    "stack up:"
   ]
  },
  {
   "cell_type": "code",
   "execution_count": 14,
   "metadata": {},
   "outputs": [
    {
     "data": {
      "image/png": "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\n",
      "text/plain": [
       "<Figure size 432x288 with 1 Axes>"
      ]
     },
     "metadata": {
      "needs_background": "light"
     },
     "output_type": "display_data"
    },
    {
     "data": {
      "image/png": "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\n",
      "text/plain": [
       "<Figure size 432x288 with 1 Axes>"
      ]
     },
     "metadata": {
      "needs_background": "light"
     },
     "output_type": "display_data"
    },
    {
     "data": {
      "image/png": "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\n",
      "text/plain": [
       "<Figure size 432x288 with 1 Axes>"
      ]
     },
     "metadata": {
      "needs_background": "light"
     },
     "output_type": "display_data"
    }
   ],
   "source": [
    "# showing the importance of histogram's display central distribution\n",
    "florida = [ np.random.normal(loc=60, scale=15) for x in range(1000) ]\n",
    "# assume numpy is imported\n",
    "california = [ np.random.normal(loc=35, scale=5) for x in range(1000) ]\n",
    "# chart 1\n",
    "plt.hist(florida, bins=45, color=\"r\", alpha=0.4) # alpha is opacity, making it see through\n",
    "plt.show( )\n",
    "# chart 2\n",
    "plt.hist(california, bins=45, color=\"b\", alpha=0.4) # alpha is opacity, making it see through\n",
    "plt.show( )\n",
    "# chart 3\n",
    "plt.hist(florida, bins=45, color=\"r\", alpha=0.4) # alpha is opacity, making it see through\n",
    "plt.hist(california, bins=45, color=\"b\", alpha=0.4) # alpha is opacity, making it see through\n",
    "plt.show()"
   ]
  },
  {
   "cell_type": "markdown",
   "metadata": {},
   "source": [
    "**Note :** When rendering several charts, matplotlib understands how to separate\n",
    "each plot by resetting the chart to empty after the show method is run, until then\n",
    "all information being plotted will be included in one chart.\n",
    "\n",
    "\n",
    "**Saving the Chart**   \n",
    "Being able to render these charts is wonderful; however, at times you need to use them\n",
    "within a presentation. Luckily for us, matplotlib comes with a method that can save the\n",
    "charts we create to a file. The **savefig()** method supports many different file extensions;\n",
    "the most common “.jpg” is what we’ll use."
   ]
  },
  {
   "cell_type": "code",
   "execution_count": 15,
   "metadata": {},
   "outputs": [
    {
     "data": {
      "image/png": "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\n",
      "text/plain": [
       "<Figure size 432x288 with 1 Axes>"
      ]
     },
     "metadata": {
      "needs_background": "light"
     },
     "output_type": "display_data"
    }
   ],
   "source": [
    "# using savefig method to save the chart as a jpg to the local folder\n",
    "x, y = [ 1600, 1700, 1800, 1900, 2000 ] , [ 0.2, 0.5, 1.1, 2.2, 7.7 ]\n",
    "plt.plot(x, y, \"bo-\") # creates a blue solid line with circle dots\n",
    "plt.title(\"World Population Over Time\")\n",
    "plt.xlabel(\"Year\")\n",
    "plt.ylabel(\"Population (billions)\")\n",
    "plt.savefig(\"population.jpg\")"
   ]
  },
  {
   "cell_type": "markdown",
   "metadata": {},
   "source": [
    "**Note :** You can save the chart in other formats like PdF or PNG.\n",
    "\n",
    "\n",
    "**Flattening Multidimensional Data**   \n",
    "Generally, in data analysis you want to avoid 3D plotting wherever possible. It’s not\n",
    "because the information you want to convey isn’t contained within the result, but\n",
    "sometimes it is simply easier to express a point by other means. One of the best ways to\n",
    "represent a third dimension is to use color instead of depth.   \n",
    "For instance, imagine that you have three datasets that you need to plot: height,\n",
    "weight, and age. You could render a 3D model, but that would be excessive. Instead,\n",
    "you can render the height and weight like we have before on a scatter plot and color\n",
    "each dot to represent the age. The third dimension of color is now easily readable rather\n",
    "than trying to depict the data using the z axis (depth)"
   ]
  },
  {
   "cell_type": "code",
   "execution_count": 17,
   "metadata": {},
   "outputs": [
    {
     "data": {
      "image/png": "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\n",
      "text/plain": [
       "<Figure size 432x288 with 2 Axes>"
      ]
     },
     "metadata": {
      "needs_background": "light"
     },
     "output_type": "display_data"
    }
   ],
   "source": [
    "# creating a scatter plot to represent height-weight distribution\n",
    "from random import randint\n",
    "random.seed(2)\n",
    "height = [ randint(58, 78) for x in range(20) ]\n",
    "weight = [ randint(90, 250) for x in range(20)]\n",
    "age = [ randint(18, 65) for x in range(20) ] # 20 records between 18 and 65 years old\n",
    "plt.scatter(weight, height, c=age) # sets the age list to be shown by color\n",
    "plt.title(\"Height-Weight Distribution\")\n",
    "plt.xlabel(\"Weight (lbs)\")\n",
    "plt.ylabel(\"Height (inches)\")\n",
    "plt.colorbar(label=\"Age\") # adds color bar to right side\n",
    "plt.show( )"
   ]
  },
  {
   "cell_type": "markdown",
   "metadata": {},
   "source": [
    "### WEDNESDAY EXERCISES"
   ]
  },
  {
   "cell_type": "raw",
   "metadata": {},
   "source": [
    "1. Three Line Plot: Create three random lists of data that have 20 numbers between 1 and 10. then create a line plot with three lines, one for each list. Give each line their own color, dot symbol, and line style."
   ]
  },
  {
   "cell_type": "code",
   "execution_count": 15,
   "metadata": {},
   "outputs": [
    {
     "data": {
      "image/png": "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\n",
      "text/plain": [
       "<Figure size 432x288 with 1 Axes>"
      ]
     },
     "metadata": {
      "needs_background": "light"
     },
     "output_type": "display_data"
    }
   ],
   "source": [
    "from matplotlib import pyplot as plt\n",
    "import random\n",
    "\n",
    "nums1 = sorted([random.randint(1, 11) for x in range(20)])\n",
    "nums2 = sorted([random.randint(1, 11) for x in range(20)])\n",
    "nums3 = sorted([random.randint(1, 11) for x in range(20)])\n",
    "\n",
    "points = [x for x in range(1, 21)]\n",
    "\n",
    "plt.plot(nums1, points, 'bo:')\n",
    "plt.plot(nums2, points, 'go--')\n",
    "plt.plot(nums3, points, 'ro-')\n",
    "\n",
    "plt.show()"
   ]
  },
  {
   "cell_type": "raw",
   "metadata": {},
   "source": [
    "2. User Information: Create a program that asks any number of users to give a rating between 1 and 5 stars and plots a bar chart of the data when no more users would like to answer. use the following text as an example of what to ask:\n",
    ">>> What would you rate this movie (1-5)? 4\n",
    ">>> Is there another user that would like to review (y/n)? y\n",
    ">>> What would you rate this movie (1-5)? 5\n",
    ">>> Is there another user that would like to review (y/n)? n\n",
    "*** bar plot renders with two categories and two ratings ***"
   ]
  },
  {
   "cell_type": "code",
   "execution_count": 16,
   "metadata": {},
   "outputs": [
    {
     "name": "stdout",
     "output_type": "stream",
     "text": [
      "What movie are you rating? tomorrow raw\n",
      "Is there another user that would like to review (y/n)? y\n",
      "What would you rate this movie (1-5)? 4\n",
      "Is there another user that would like to review (y/n)? n\n"
     ]
    },
    {
     "data": {
      "image/png": "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\n",
      "text/plain": [
       "<Figure size 432x288 with 1 Axes>"
      ]
     },
     "metadata": {
      "needs_background": "light"
     },
     "output_type": "display_data"
    }
   ],
   "source": [
    "def createGraph(data, movie):\n",
    "    categories = [k for k in data.keys()]\n",
    "    ratings_per_category = [v for v in data.values()]\n",
    "    \n",
    "    plt.bar(categories, ratings_per_category)\n",
    "\n",
    "    plt.title(\"{}\".format(movie.title()), fontsize=24)\n",
    "    plt.xlabel(\"Rating\", fontsize=16)\n",
    "    plt.ylabel(\"# of People\", fontsize=16)\n",
    "    plt.xticks(fontname=\"Fantasy\")\n",
    "    plt.yticks(fontname=\"Fantasy\")\n",
    "\n",
    "    plt.show()\n",
    "\n",
    "def main():\n",
    "    data = {}\n",
    "    \n",
    "    movie = input('What movie are you rating? ')\n",
    "    \n",
    "    while input('Is there another user that would like to review (y/n)? ') == 'y':\n",
    "        try:\n",
    "            ans = int(input('What would you rate this movie (1-5)? '))\n",
    "            \n",
    "            if ans in data:\n",
    "                data[ans] += 1   # add to the category in the dictionary\n",
    "            else:\n",
    "                data[ans] = 1\n",
    "        except:\n",
    "            clear_output()\n",
    "            print(\"Something went wrong, try again!\")\n",
    "            \n",
    "    createGraph(data, movie)\n",
    "    \n",
    "main()"
   ]
  },
  {
   "cell_type": "markdown",
   "metadata": {},
   "source": [
    "# Thursday: Web Scraping"
   ]
  },
  {
   "cell_type": "markdown",
   "metadata": {},
   "source": [
    "You may have heard the term “web scraping” previously. In most languages like Python,\n",
    "web scraping is comprised of two parts: sending out a request and parsing the data. We’ll\n",
    "need to use the requests module for the first part and a library called Beautiful Soup for\n",
    "the second part. In a nutshell, the script you write to request data and parse it is called a\n",
    "“scraper.” For today’s lesson, we’ll be collecting some data using these two libraries.\n",
    "\n",
    "**Installing Beautiful Soup**   \n",
    "To install Beautiful Soup, make sure your virtual environment is activated first, then write\n",
    "the following command into the terminal:   \n",
    "---> $ pip install bs4\n",
    "\n",
    "\n",
    "**Importing Beautiful Soup**"
   ]
  },
  {
   "cell_type": "code",
   "execution_count": 1,
   "metadata": {},
   "outputs": [],
   "source": [
    "# importing the beautiful soup and requests library\n",
    "from bs4 import BeautifulSoup\n",
    "import requests"
   ]
  },
  {
   "cell_type": "markdown",
   "metadata": {},
   "source": [
    "We’ll use the requests module to send out a request\n",
    "to a given URL. When the URL endpoint is not an API that gives back properly\n",
    "formatted data but rather a web page that renders HTML and CSS, the response that\n",
    "we get back is the code for that web page. In order to parse through this code, we\n",
    "pass it into the BeautifulSoup object, which makes it easy to manipulate and traverse\n",
    "through the code.\n",
    "\n",
    "\n",
    "\n",
    "**Requesting Page Content**   \n",
    "To begin scraping data, let’s send a request to a simple web page that contains only\n",
    "a poem:"
   ]
  },
  {
   "cell_type": "code",
   "execution_count": 2,
   "metadata": {},
   "outputs": [
    {
     "name": "stdout",
     "output_type": "stream",
     "text": [
      "<Response [200]>\n"
     ]
    }
   ],
   "source": [
    "# performing a request and outputting the status code\n",
    "page = requests.get(\"http://www.arthurleej.com/e-love.html\")\n",
    "print(page)"
   ]
  },
  {
   "cell_type": "markdown",
   "metadata": {},
   "source": [
    "We’ll get an output of “<Response [200]>”. This lets\n",
    "us know that the request to the web page was a success. In order to see what we\n",
    "received back as a response though, we need to access the content attribute of the\n",
    "page variable:"
   ]
  },
  {
   "cell_type": "code",
   "execution_count": 3,
   "metadata": {},
   "outputs": [
    {
     "name": "stdout",
     "output_type": "stream",
     "text": [
      "b'<!DOCTYPE HTML PUBLIC \"-//W3C//DTD HTML 3.2 Final//EN\">\\r<html>\\r<head>\\r\\t<title>Essay on Love by Arthur Lee Jacobson</title>\\r<meta name=\"description\" content=\"Trees,gardening, wild and domestic plant life are the specialty of author Arthur Lee Jacobson.\">\\r<meta name=\"keywords\" content=\"trees, gardening, wild plants, domestic plants, gardening author, gardening books, Arthur Lee Jacobson, A L J, A L Jacobson, Arthur Jacobson, arthur lee, plants, flowers, seattle, washington\">\\r<meta name=\"resource-type\" content=\"document\">\\r<meta name=\"generator\" content=\"BBEdit 4.5\">\\r<meta name=\"robots\" content=\"all\">\\r<meta name=\"classification\" content=\"Gardening\">\\r<meta name=\"distribution\" content=\"global\">\\r<meta name=\"rating\" content=\"general\">\\r<meta name=\"copyright\" content=\"2001 Arthur Lee Jacobson\">\\r<meta name=\"author\" content=\"eriktyme@eriktyme.com\">\\r<meta name=\"language\" content=\"en-us\">\\r</head>\\r<body background=\"images/background1a.jpg\" bgcolor=\"#FFFFCC\" text=\"#000000\" link=\"#0000FF\" alink=\"#33CC33\" vlink=\"#FF00FF\">\\r<! -- #include virtual=\"/includes/header.html\" -- >\\r<br><center><table border=\"0\" cellspacing=\"2\" cellpadding=\"1\">\\r\\t<tr>\\r\\t\\t<td width=\"480\" align=\"center\" valign=\"top\">\\r<table border=\"0\" cellspacing=\"2\" cellpadding=\"1\">\\r\\t<tr>\\r\\t\\t<td width=\"480\" align=\"center\" valign=\"top\"><font size=\"5\"><b>Love</b></font></td>\\r\\t</tr>\\r\\t<tr>\\r\\t\\t<td width=\"480\" align=\"left\" valign=\"top\"><font size=\"3\"><b>&nbsp;&nbsp;&nbsp;&nbsp;Of the fourteen essays I\\'m writing, only this one treats an emotion. That love is the most important emotion is the deduction. I think other emotions may be as important, but are not so powerfully moving or interesting to most of us. Love is exciting. There is no need to justify choosing to write about it. Are not most songs love songs? Are not most novels stories featuring love?</b></font></td>\\r\\t</tr>\\r\\t<tr>\\r\\t\\t<td width=\"480\" align=\"left\" valign=\"top\"><font size=\"3\"><b>&nbsp;&nbsp;&nbsp;&nbsp;Love in its broad sense is the feeling of strong attraction, and often attachment and protection. It is felt towards other people, towards pets, towards inanimate objects, towards abstractions such as patriotism, religious matters, hobbies, and I suppose nearly everything. It is multifaceted, and includes ordinary self-love, chivalrous love, carnal or sexual love, friendly love, family love. It is an emotion that is closely related to certain others, such as hope. At its simplest level it is what we strongly like.</b></font></td>\\r\\t</tr>\\r\\t<tr>\\r\\t\\t<td width=\"480\" align=\"left\" valign=\"top\"><font size=\"3\"><b>&nbsp;&nbsp;&nbsp;&nbsp;I have a hunch that love, like the rose, owes much of its appeal to our mainstream Western culture -- and that in some other societies it is by no means such a big deal. Somehow, especially in recent centuries, the notion of romantic love has become elevated far more than it used to be. Why this has happened is for social historians to explain; I don\\'t know. I will merely say that if one reads the ancient Greeks and Romans, then it is obvious that today love is relatively more significant in our culture. A plethora of differences exist between us and people 2,000 years ago. That doesn\\'t invalidate my observation that we moderns rate love more importantly now than our ancestors used to.</b></font></td>\\r\\t</tr>\\r\\t<tr>\\r\\t\\t<td width=\"480\" align=\"left\" valign=\"top\"><font size=\"3\"><b>&nbsp;&nbsp;&nbsp;&nbsp;It is presumed that sexual attraction, being instinctive, is comparatively constant over the centuries and across cultures. But let\\'s be clear: sexual attraction is only one manifestation of love. One can be sexually aroused and still feel no love, just as a couple can be married and possess no mutual sexual appetite or love. Some people find they can fulfill sexual needs one way, and they love something else, such as a hobby or their work.</b></font></td>\\r\\t</tr>\\r\\t<tr>\\r\\t\\t<td width=\"480\" align=\"left\" valign=\"top\"><font size=\"3\"><b>&nbsp;&nbsp;&nbsp;&nbsp;When sexual desire, or go ahead and call it sexual need, is very strong, it certainly gets called love. To be precise it may be best termed carnal love. Similarly, a glutton loves food, and an addict perversely loves whatever drug or activity he\\'s hooked on. Sexual love, then, is not necessarily anything more than an equivalent of an animal being in heat. On the other hand, if two people share a wholehearted, broad-based love for each other, then their sexual relations may be more an expression of their affection than of their instinctive drive.</b></font></td>\\r\\t</tr>\\r\\t<tr>\\r\\t\\t<td width=\"480\" align=\"left\" valign=\"top\"><font size=\"3\"><b>&nbsp;&nbsp;&nbsp;&nbsp;Yes, love and sex are too much confused. It is frightful how many beastly rapes and molestations take place, which are sexual but devoid of love completely. Love can be found thriving far from sex, as in a mother\\'s love for her child, or a religious order\\'s mystical love of doing glory to God, or of the knight\\'s chivalrous love towards his country and rulers. The soldier\\'s courage to defend his family is a kind of love in action. The artist who starves in an attic, living a celibate existence to produce masterpieces, is illuminated by love. Childhood friends who go through life together know love, though not sex, as regards each other. Have I made my point obvious?</b></font></td>\\r\\t</tr>\\r\\t<tr>\\r\\t\\t<td width=\"480\" align=\"left\" valign=\"top\"><font size=\"3\"><b>&nbsp;&nbsp;&nbsp;&nbsp;It is, I\\'m sure. But I\\'m on a roll and don\\'t want to stop yet. Love\\'s antithesis is hate. Hate is often associated with harm or destruction, even death. But again, it is not <i>equal</i> to those. It is strongly held negative emotions, even as love is strongly held positive ones.</b><br><br></font></td>\\r\\t</tr>\\r\\t<tr>\\r\\t\\t<td width=\"480\" align=\"left\" valign=\"top\"><font size=\"3\"><b>&nbsp;&nbsp;&nbsp;&nbsp;The golden rule, &quot;Love thy neighbor as thyself,&quot; or &quot;do unto others as you would have them do unto you,&quot; helps us see that if we want people to enjoy peaceful, content existence, we must work together cooperatively, and not let our passions, of either love or hate, get us out of line.</b></font></td>\\r\\t</tr>\\r\\t<tr>\\r\\t\\t<td width=\"480\" align=\"left\" valign=\"top\"><font size=\"3\"><b>&nbsp;&nbsp;&nbsp;&nbsp;One thing I\\'m sure of, is the world would be a better place if all of us individuals had someone or something we loved. I feel sorry for people who are neutral about this, indifferent regarding that, and don\\'t know what really turns them on. I almost wish there was a law against having no love in one\\'s life. Well, that kind of thinking is too extreme. Is it possible, without love, to be healthy in a mental sense? To be balanced? Can an individual\\'s self-esteem be proper without love? It is certainly possible for a person to be <i>temporarily</i> devoid of love. For example, pick up a random individual, transport him across the planet, and set him into a strange culture, where he knows no one, he knows not a word of the language. He will be in shock, and will love no one, and probably his only love then would be of longing for his familiar life. Temporarily, his shock, his sadness, and his bewilderment will be more powerful feelings than any love he feels.</b></font></td>\\r\\t</tr>\\r\\t<tr>\\r\\t\\t<td width=\"480\" align=\"left\" valign=\"top\"><font size=\"3\"><b>&nbsp;&nbsp;&nbsp;&nbsp;Since love can be felt in so many different ways, it is a good thing our culture allows people freedom to choose. All the more wondrous that some of us seem to love nothing! What explains this? Are children who were in dysfunctional, abusive situations forced to retreat as it were into a shell, to be calloused against freely opening themselves to the flow of their emotions? Are certain people born with chemical imbalances in their brains which make it impossible for them to feel love? Are some people so prone to liking numerous things that they tend to not strongly like (<i>i.e.,</i> love) any one thing in particular?</b></font></td>\\r\\t</tr>\\r\\t<tr>\\r\\t\\t<td width=\"480\" align=\"left\" valign=\"top\"><font size=\"3\"><b>&nbsp;&nbsp;&nbsp;&nbsp;To love is to express oneself. Usually one\\'s love is obviously manifested. It may be that even as some of us are generally shy and inhibited, some of us are poorer at loving. Doubtless there are complex, peculiar combinations of factors operating in every individual case. And most of our general rules or commonplace assumptions are based on behavior prevalent in our <i>culture.</i></b></font></td>\\r\\t</tr>\\r\\t<tr>\\r\\t\\t<td width=\"480\" align=\"left\" valign=\"top\"><font size=\"3\"><b>&nbsp;&nbsp;&nbsp;&nbsp;The chief motivating factor in many of our lives is love. People go to extraordinary lengths and costs to find love, or to give it, to keep it, to hope for it. In some cultures, such as primitive stone-age ones, I\\'m sure that basic food gathering and survival work is more dominating than any interpretation of love other than love of continuing to <i>live.</i></b></font></td>\\r\\t</tr>\\r\\t<tr>\\r\\t\\t<td width=\"480\" align=\"left\" valign=\"top\"><font size=\"3\"><b>&nbsp;&nbsp;&nbsp;&nbsp;In my life, I prefer to give my time to being with people I love, rather than being paid to spend time working for people whom I don\\'t love. Similarly, I would rather remain single and wait until I can marry a woman with whom I can share profound love, than cohabit with a woman about who I am indifferent. It is often said &quot;what really counts is that a person does what he or she loves.&quot; Yet how many of us <i>really</i> do? How many of us <i>would</i> keep doing our jobs if we didn\\'t need the money? Few of us. Even if I was suddenly rich financially, I\\'d still do most of what I do now; I\\'d not fundamentally change.</b></font></td>\\r\\t</tr>\\r\\t<tr>\\r\\t\\t<td width=\"480\" align=\"left\" valign=\"top\"><font size=\"3\"><b>&nbsp;&nbsp;&nbsp;&nbsp;No, money won\\'t alter me much. Love may. If I decide to marry a woman, and she is eager also, I would stop merely doing whatever I please, and start giving my attention equally to pleasing her. Ideally we\\'d work very well together. But times would occur when we\\'d disagree, so I\\'d yield whenever I possibly could, out of my love and respect, and concern for our marriage.</b></font></td>\\r\\t</tr>\\r\\t<tr>\\r\\t\\t<td width=\"480\" align=\"left\" valign=\"top\"><font size=\"3\"><b>&nbsp;&nbsp;&nbsp;&nbsp;The love that motivates people to give freely their very lives is greatly inspiring. If martyrs didn\\'t have love propelling them, then they at any rate had <i>strong</i> emotions. Sometimes I dream about hypothetical situations that test my love. For example, if the woman I think the very world of, asked me to give up my Seattle existence, to live with her 1,000 miles away -- would I do it? Maybe. If I figured there was good odds of living happily ever after, I might. But such questions are answered not just by deliberation, they\\'re affected by emotion. Love can blind us to logic, reason and common sense. I love so many things about my life in Seattle, and there are so many eligible women here  -- that the chance of me heading out of town, loveblind, is remote. But that I <i>think</i> about such things, shows I am moved mightily by love.</b></font></td>\\r\\t</tr>\\r\\t<tr>\\r\\t\\t<td width=\"480\" align=\"left\" valign=\"top\"><font size=\"3\"><b>&nbsp;&nbsp;&nbsp;&nbsp;I am so glad to love my work, to love my family and friends, to love my city, and to love nature. Yes, I want to also love a woman who loves me. That will come. So far it has alway been one-way rather than mutual. I\\'m particular, patient, and confident. It\\'s sort of a &quot;patting oneself on the back&quot; to say it, but I wish more people would show restraint about forming intimate relationships of the sort that are called marriages. Too many young folks hurry into such arrangements, and all too soon failure comes about. People think it\\'s easier than it really is. Loving is often easy, but the long-term nurturing and sustaining of the love is work. I develop this theme more in my essay FAMILY.</b></font></td>\\r\\t</tr>\\r\\t<tr>\\r\\r</table>\\r\\r</td>\\r\\t\\t<td width=\"125\" align=\"center\" valign=\"top\"><br><br><br><! -- #include virtual=\"/includes/panel1.html\" -- >\\r</td>\\r\\t</tr>\\r</table></center>\\r<! -- #include virtual=\"/includes/footer.html\" -- >\\r\\r</body>\\r</html>\\r'\n"
     ]
    }
   ],
   "source": [
    "# outputting the request response content\n",
    "print(page.content)"
   ]
  },
  {
   "cell_type": "markdown",
   "metadata": {},
   "source": [
    " This will output a large string of all the code that was\n",
    "used to write this web page, including tags, styles, scripts, etc. As the book stated\n",
    "earlier, this URL renders a web page, so the response we get back is a string of all the\n",
    "code. The next step is to turn the response into an object that we can work with and\n",
    "parse through the data.\n",
    "\n",
    "\n",
    "**Parsing the Response with Beautiful Soup**   \n",
    "The Beautiful Soup library comes with many attributes and methods that make\n",
    "parsing the code easier for ourselves. Using this library, we can make the code easy\n",
    "to view, scrape, and traverse through. We’ll need to create a BeautifulSoup object to\n",
    "work with by passing the page content into it, along with the type of parser we want\n",
    "to use. In our case, we’re working with HTML code, so we’ll need to use the HTML\n",
    "parser:"
   ]
  },
  {
   "cell_type": "code",
   "execution_count": 4,
   "metadata": {},
   "outputs": [
    {
     "name": "stdout",
     "output_type": "stream",
     "text": [
      "<!DOCTYPE HTML PUBLIC \"-//W3C//DTD HTML 3.2 Final//EN\">\n",
      "<html>\n",
      " <head>\n",
      "  <title>\n",
      "   Essay on Love by Arthur Lee Jacobson\n",
      "  </title>\n",
      "  <meta content=\"Trees,gardening, wild and domestic plant life are the specialty of author Arthur Lee Jacobson.\" name=\"description\"/>\n",
      "  <meta content=\"trees, gardening, wild plants, domestic plants, gardening author, gardening books, Arthur Lee Jacobson, A L J, A L Jacobson, Arthur Jacobson, arthur lee, plants, flowers, seattle, washington\" name=\"keywords\"/>\n",
      "  <meta content=\"document\" name=\"resource-type\"/>\n",
      "  <meta content=\"BBEdit 4.5\" name=\"generator\"/>\n",
      "  <meta content=\"all\" name=\"robots\"/>\n",
      "  <meta content=\"Gardening\" name=\"classification\"/>\n",
      "  <meta content=\"global\" name=\"distribution\"/>\n",
      "  <meta content=\"general\" name=\"rating\"/>\n",
      "  <meta content=\"2001 Arthur Lee Jacobson\" name=\"copyright\"/>\n",
      "  <meta content=\"eriktyme@eriktyme.com\" name=\"author\"/>\n",
      "  <meta content=\"en-us\" name=\"language\"/>\n",
      " </head>\n",
      " <body alink=\"#33CC33\" background=\"images/background1a.jpg\" bgcolor=\"#FFFFCC\" link=\"#0000FF\" text=\"#000000\" vlink=\"#FF00FF\">\n",
      "  <!-- -- #include virtual=\"/includes/header.html\" -- -->\n",
      "  <br/>\n",
      "  <center>\n",
      "   <table border=\"0\" cellpadding=\"1\" cellspacing=\"2\">\n",
      "    <tr>\n",
      "     <td align=\"center\" valign=\"top\" width=\"480\">\n",
      "      <table border=\"0\" cellpadding=\"1\" cellspacing=\"2\">\n",
      "       <tr>\n",
      "        <td align=\"center\" valign=\"top\" width=\"480\">\n",
      "         <font size=\"5\">\n",
      "          <b>\n",
      "           Love\n",
      "          </b>\n",
      "         </font>\n",
      "        </td>\n",
      "       </tr>\n",
      "       <tr>\n",
      "        <td align=\"left\" valign=\"top\" width=\"480\">\n",
      "         <font size=\"3\">\n",
      "          <b>\n",
      "           Of the fourteen essays I'm writing, only this one treats an emotion. That love is the most important emotion is the deduction. I think other emotions may be as important, but are not so powerfully moving or interesting to most of us. Love is exciting. There is no need to justify choosing to write about it. Are not most songs love songs? Are not most novels stories featuring love?\n",
      "          </b>\n",
      "         </font>\n",
      "        </td>\n",
      "       </tr>\n",
      "       <tr>\n",
      "        <td align=\"left\" valign=\"top\" width=\"480\">\n",
      "         <font size=\"3\">\n",
      "          <b>\n",
      "           Love in its broad sense is the feeling of strong attraction, and often attachment and protection. It is felt towards other people, towards pets, towards inanimate objects, towards abstractions such as patriotism, religious matters, hobbies, and I suppose nearly everything. It is multifaceted, and includes ordinary self-love, chivalrous love, carnal or sexual love, friendly love, family love. It is an emotion that is closely related to certain others, such as hope. At its simplest level it is what we strongly like.\n",
      "          </b>\n",
      "         </font>\n",
      "        </td>\n",
      "       </tr>\n",
      "       <tr>\n",
      "        <td align=\"left\" valign=\"top\" width=\"480\">\n",
      "         <font size=\"3\">\n",
      "          <b>\n",
      "           I have a hunch that love, like the rose, owes much of its appeal to our mainstream Western culture -- and that in some other societies it is by no means such a big deal. Somehow, especially in recent centuries, the notion of romantic love has become elevated far more than it used to be. Why this has happened is for social historians to explain; I don't know. I will merely say that if one reads the ancient Greeks and Romans, then it is obvious that today love is relatively more significant in our culture. A plethora of differences exist between us and people 2,000 years ago. That doesn't invalidate my observation that we moderns rate love more importantly now than our ancestors used to.\n",
      "          </b>\n",
      "         </font>\n",
      "        </td>\n",
      "       </tr>\n",
      "       <tr>\n",
      "        <td align=\"left\" valign=\"top\" width=\"480\">\n",
      "         <font size=\"3\">\n",
      "          <b>\n",
      "           It is presumed that sexual attraction, being instinctive, is comparatively constant over the centuries and across cultures. But let's be clear: sexual attraction is only one manifestation of love. One can be sexually aroused and still feel no love, just as a couple can be married and possess no mutual sexual appetite or love. Some people find they can fulfill sexual needs one way, and they love something else, such as a hobby or their work.\n",
      "          </b>\n",
      "         </font>\n",
      "        </td>\n",
      "       </tr>\n",
      "       <tr>\n",
      "        <td align=\"left\" valign=\"top\" width=\"480\">\n",
      "         <font size=\"3\">\n",
      "          <b>\n",
      "           When sexual desire, or go ahead and call it sexual need, is very strong, it certainly gets called love. To be precise it may be best termed carnal love. Similarly, a glutton loves food, and an addict perversely loves whatever drug or activity he's hooked on. Sexual love, then, is not necessarily anything more than an equivalent of an animal being in heat. On the other hand, if two people share a wholehearted, broad-based love for each other, then their sexual relations may be more an expression of their affection than of their instinctive drive.\n",
      "          </b>\n",
      "         </font>\n",
      "        </td>\n",
      "       </tr>\n",
      "       <tr>\n",
      "        <td align=\"left\" valign=\"top\" width=\"480\">\n",
      "         <font size=\"3\">\n",
      "          <b>\n",
      "           Yes, love and sex are too much confused. It is frightful how many beastly rapes and molestations take place, which are sexual but devoid of love completely. Love can be found thriving far from sex, as in a mother's love for her child, or a religious order's mystical love of doing glory to God, or of the knight's chivalrous love towards his country and rulers. The soldier's courage to defend his family is a kind of love in action. The artist who starves in an attic, living a celibate existence to produce masterpieces, is illuminated by love. Childhood friends who go through life together know love, though not sex, as regards each other. Have I made my point obvious?\n",
      "          </b>\n",
      "         </font>\n",
      "        </td>\n",
      "       </tr>\n",
      "       <tr>\n",
      "        <td align=\"left\" valign=\"top\" width=\"480\">\n",
      "         <font size=\"3\">\n",
      "          <b>\n",
      "           It is, I'm sure. But I'm on a roll and don't want to stop yet. Love's antithesis is hate. Hate is often associated with harm or destruction, even death. But again, it is not\n",
      "           <i>\n",
      "            equal\n",
      "           </i>\n",
      "           to those. It is strongly held negative emotions, even as love is strongly held positive ones.\n",
      "          </b>\n",
      "          <br/>\n",
      "          <br/>\n",
      "         </font>\n",
      "        </td>\n",
      "       </tr>\n",
      "       <tr>\n",
      "        <td align=\"left\" valign=\"top\" width=\"480\">\n",
      "         <font size=\"3\">\n",
      "          <b>\n",
      "           The golden rule, \"Love thy neighbor as thyself,\" or \"do unto others as you would have them do unto you,\" helps us see that if we want people to enjoy peaceful, content existence, we must work together cooperatively, and not let our passions, of either love or hate, get us out of line.\n",
      "          </b>\n",
      "         </font>\n",
      "        </td>\n",
      "       </tr>\n",
      "       <tr>\n",
      "        <td align=\"left\" valign=\"top\" width=\"480\">\n",
      "         <font size=\"3\">\n",
      "          <b>\n",
      "           One thing I'm sure of, is the world would be a better place if all of us individuals had someone or something we loved. I feel sorry for people who are neutral about this, indifferent regarding that, and don't know what really turns them on. I almost wish there was a law against having no love in one's life. Well, that kind of thinking is too extreme. Is it possible, without love, to be healthy in a mental sense? To be balanced? Can an individual's self-esteem be proper without love? It is certainly possible for a person to be\n",
      "           <i>\n",
      "            temporarily\n",
      "           </i>\n",
      "           devoid of love. For example, pick up a random individual, transport him across the planet, and set him into a strange culture, where he knows no one, he knows not a word of the language. He will be in shock, and will love no one, and probably his only love then would be of longing for his familiar life. Temporarily, his shock, his sadness, and his bewilderment will be more powerful feelings than any love he feels.\n",
      "          </b>\n",
      "         </font>\n",
      "        </td>\n",
      "       </tr>\n",
      "       <tr>\n",
      "        <td align=\"left\" valign=\"top\" width=\"480\">\n",
      "         <font size=\"3\">\n",
      "          <b>\n",
      "           Since love can be felt in so many different ways, it is a good thing our culture allows people freedom to choose. All the more wondrous that some of us seem to love nothing! What explains this? Are children who were in dysfunctional, abusive situations forced to retreat as it were into a shell, to be calloused against freely opening themselves to the flow of their emotions? Are certain people born with chemical imbalances in their brains which make it impossible for them to feel love? Are some people so prone to liking numerous things that they tend to not strongly like (\n",
      "           <i>\n",
      "            i.e.,\n",
      "           </i>\n",
      "           love) any one thing in particular?\n",
      "          </b>\n",
      "         </font>\n",
      "        </td>\n",
      "       </tr>\n",
      "       <tr>\n",
      "        <td align=\"left\" valign=\"top\" width=\"480\">\n",
      "         <font size=\"3\">\n",
      "          <b>\n",
      "           To love is to express oneself. Usually one's love is obviously manifested. It may be that even as some of us are generally shy and inhibited, some of us are poorer at loving. Doubtless there are complex, peculiar combinations of factors operating in every individual case. And most of our general rules or commonplace assumptions are based on behavior prevalent in our\n",
      "           <i>\n",
      "            culture.\n",
      "           </i>\n",
      "          </b>\n",
      "         </font>\n",
      "        </td>\n",
      "       </tr>\n",
      "       <tr>\n",
      "        <td align=\"left\" valign=\"top\" width=\"480\">\n",
      "         <font size=\"3\">\n",
      "          <b>\n",
      "           The chief motivating factor in many of our lives is love. People go to extraordinary lengths and costs to find love, or to give it, to keep it, to hope for it. In some cultures, such as primitive stone-age ones, I'm sure that basic food gathering and survival work is more dominating than any interpretation of love other than love of continuing to\n",
      "           <i>\n",
      "            live.\n",
      "           </i>\n",
      "          </b>\n",
      "         </font>\n",
      "        </td>\n",
      "       </tr>\n",
      "       <tr>\n",
      "        <td align=\"left\" valign=\"top\" width=\"480\">\n",
      "         <font size=\"3\">\n",
      "          <b>\n",
      "           In my life, I prefer to give my time to being with people I love, rather than being paid to spend time working for people whom I don't love. Similarly, I would rather remain single and wait until I can marry a woman with whom I can share profound love, than cohabit with a woman about who I am indifferent. It is often said \"what really counts is that a person does what he or she loves.\" Yet how many of us\n",
      "           <i>\n",
      "            really\n",
      "           </i>\n",
      "           do? How many of us\n",
      "           <i>\n",
      "            would\n",
      "           </i>\n",
      "           keep doing our jobs if we didn't need the money? Few of us. Even if I was suddenly rich financially, I'd still do most of what I do now; I'd not fundamentally change.\n",
      "          </b>\n",
      "         </font>\n",
      "        </td>\n",
      "       </tr>\n",
      "       <tr>\n",
      "        <td align=\"left\" valign=\"top\" width=\"480\">\n",
      "         <font size=\"3\">\n",
      "          <b>\n",
      "           No, money won't alter me much. Love may. If I decide to marry a woman, and she is eager also, I would stop merely doing whatever I please, and start giving my attention equally to pleasing her. Ideally we'd work very well together. But times would occur when we'd disagree, so I'd yield whenever I possibly could, out of my love and respect, and concern for our marriage.\n",
      "          </b>\n",
      "         </font>\n",
      "        </td>\n",
      "       </tr>\n",
      "       <tr>\n",
      "        <td align=\"left\" valign=\"top\" width=\"480\">\n",
      "         <font size=\"3\">\n",
      "          <b>\n",
      "           The love that motivates people to give freely their very lives is greatly inspiring. If martyrs didn't have love propelling them, then they at any rate had\n",
      "           <i>\n",
      "            strong\n",
      "           </i>\n",
      "           emotions. Sometimes I dream about hypothetical situations that test my love. For example, if the woman I think the very world of, asked me to give up my Seattle existence, to live with her 1,000 miles away -- would I do it? Maybe. If I figured there was good odds of living happily ever after, I might. But such questions are answered not just by deliberation, they're affected by emotion. Love can blind us to logic, reason and common sense. I love so many things about my life in Seattle, and there are so many eligible women here  -- that the chance of me heading out of town, loveblind, is remote. But that I\n",
      "           <i>\n",
      "            think\n",
      "           </i>\n",
      "           about such things, shows I am moved mightily by love.\n",
      "          </b>\n",
      "         </font>\n",
      "        </td>\n",
      "       </tr>\n",
      "       <tr>\n",
      "        <td align=\"left\" valign=\"top\" width=\"480\">\n",
      "         <font size=\"3\">\n",
      "          <b>\n",
      "           I am so glad to love my work, to love my family and friends, to love my city, and to love nature. Yes, I want to also love a woman who loves me. That will come. So far it has alway been one-way rather than mutual. I'm particular, patient, and confident. It's sort of a \"patting oneself on the back\" to say it, but I wish more people would show restraint about forming intimate relationships of the sort that are called marriages. Too many young folks hurry into such arrangements, and all too soon failure comes about. People think it's easier than it really is. Loving is often easy, but the long-term nurturing and sustaining of the love is work. I develop this theme more in my essay FAMILY.\n",
      "          </b>\n",
      "         </font>\n",
      "        </td>\n",
      "       </tr>\n",
      "       <tr>\n",
      "       </tr>\n",
      "      </table>\n",
      "     </td>\n",
      "     <td align=\"center\" valign=\"top\" width=\"125\">\n",
      "      <br/>\n",
      "      <br/>\n",
      "      <br/>\n",
      "      <!-- -- #include virtual=\"/includes/panel1.html\" -- -->\n",
      "     </td>\n",
      "    </tr>\n",
      "   </table>\n",
      "  </center>\n",
      "  <!-- -- #include virtual=\"/includes/footer.html\" -- -->\n",
      " </body>\n",
      "</html>\n",
      "\n"
     ]
    }
   ],
   "source": [
    "# turning the response into a BeautifulSoup object to extract data\n",
    "soup = BeautifulSoup(page.content, \"html.parser\")\n",
    "print(soup.prettify())"
   ]
  },
  {
   "cell_type": "markdown",
   "metadata": {},
   "source": [
    "The prettify() method will create a well-formatted output\n",
    "for us to view. This makes it easier for us to see the actual code that is written. The soup\n",
    "object knew how to parse the content properly because of the parser that we specified.\n",
    "Beautiful Soup works with other languages, but we’ll be working with HTML for this\n",
    "book. Now that we’ve turned the content into an object we can use, let’s learn how to\n",
    "extract the data from the code.\n",
    "\n",
    "\n",
    "\n",
    "**Scraping Data**   \n",
    "There are many methods to extract data using Beautiful Soup. The following sections will\n",
    "cover a few of the main methods in doing so. Basic HTML knowledge is assumed for this\n",
    "section.   \n",
    "**.find( )**   \n",
    "To find a specific element within the code, we can use the find() method. The argument\n",
    "we pass is the tag that we want to search for, but it will only find the first instance and\n",
    "return it. Meaning that if there are four bold element tags within our code, and we use\n",
    "this method to find a bold tag, it will respond back with only the first bold element tag\n",
    "found."
   ]
  },
  {
   "cell_type": "code",
   "execution_count": 5,
   "metadata": {},
   "outputs": [
    {
     "name": "stdout",
     "output_type": "stream",
     "text": [
      "<b>Love</b>\n",
      "Love\n"
     ]
    }
   ],
   "source": [
    "# using the find method to scrape the text within the first bold tag\n",
    "title = soup.find(\"b\")\n",
    "print(title)\n",
    "print( title.get_text( ) ) # extracts all text within element"
   ]
  },
  {
   "cell_type": "markdown",
   "metadata": {},
   "source": [
    "If you look at the code using the inspector tab in your\n",
    "web browser’s console tools, you’ll be able to see that the first bold tag within the code is\n",
    "the title of the poem. The first print statement results in “<b>Love</b>” and the second\n",
    "is simply the text within the element. We were able to extract the text by using the get_\n",
    "text() method.   \n",
    "**.find_all( )**   \n",
    "To find all instances of a given element, we use the find_all() method. This will give us\n",
    "back a list of all tags found within the code. Let’s find all bold tags within the code and\n",
    "extract the text:"
   ]
  },
  {
   "cell_type": "code",
   "execution_count": 6,
   "metadata": {},
   "outputs": [
    {
     "name": "stdout",
     "output_type": "stream",
     "text": [
      "Love\n",
      "    Of the fourteen essays I'm writing, only this one treats an emotion. That love is the most important emotion is the deduction. I think other emotions may be as important, but are not so powerfully moving or interesting to most of us. Love is exciting. There is no need to justify choosing to write about it. Are not most songs love songs? Are not most novels stories featuring love?\n",
      "    Love in its broad sense is the feeling of strong attraction, and often attachment and protection. It is felt towards other people, towards pets, towards inanimate objects, towards abstractions such as patriotism, religious matters, hobbies, and I suppose nearly everything. It is multifaceted, and includes ordinary self-love, chivalrous love, carnal or sexual love, friendly love, family love. It is an emotion that is closely related to certain others, such as hope. At its simplest level it is what we strongly like.\n",
      "    I have a hunch that love, like the rose, owes much of its appeal to our mainstream Western culture -- and that in some other societies it is by no means such a big deal. Somehow, especially in recent centuries, the notion of romantic love has become elevated far more than it used to be. Why this has happened is for social historians to explain; I don't know. I will merely say that if one reads the ancient Greeks and Romans, then it is obvious that today love is relatively more significant in our culture. A plethora of differences exist between us and people 2,000 years ago. That doesn't invalidate my observation that we moderns rate love more importantly now than our ancestors used to.\n",
      "    It is presumed that sexual attraction, being instinctive, is comparatively constant over the centuries and across cultures. But let's be clear: sexual attraction is only one manifestation of love. One can be sexually aroused and still feel no love, just as a couple can be married and possess no mutual sexual appetite or love. Some people find they can fulfill sexual needs one way, and they love something else, such as a hobby or their work.\n",
      "    When sexual desire, or go ahead and call it sexual need, is very strong, it certainly gets called love. To be precise it may be best termed carnal love. Similarly, a glutton loves food, and an addict perversely loves whatever drug or activity he's hooked on. Sexual love, then, is not necessarily anything more than an equivalent of an animal being in heat. On the other hand, if two people share a wholehearted, broad-based love for each other, then their sexual relations may be more an expression of their affection than of their instinctive drive.\n",
      "    Yes, love and sex are too much confused. It is frightful how many beastly rapes and molestations take place, which are sexual but devoid of love completely. Love can be found thriving far from sex, as in a mother's love for her child, or a religious order's mystical love of doing glory to God, or of the knight's chivalrous love towards his country and rulers. The soldier's courage to defend his family is a kind of love in action. The artist who starves in an attic, living a celibate existence to produce masterpieces, is illuminated by love. Childhood friends who go through life together know love, though not sex, as regards each other. Have I made my point obvious?\n",
      "    It is, I'm sure. But I'm on a roll and don't want to stop yet. Love's antithesis is hate. Hate is often associated with harm or destruction, even death. But again, it is not equal to those. It is strongly held negative emotions, even as love is strongly held positive ones.\n",
      "    The golden rule, \"Love thy neighbor as thyself,\" or \"do unto others as you would have them do unto you,\" helps us see that if we want people to enjoy peaceful, content existence, we must work together cooperatively, and not let our passions, of either love or hate, get us out of line.\n",
      "    One thing I'm sure of, is the world would be a better place if all of us individuals had someone or something we loved. I feel sorry for people who are neutral about this, indifferent regarding that, and don't know what really turns them on. I almost wish there was a law against having no love in one's life. Well, that kind of thinking is too extreme. Is it possible, without love, to be healthy in a mental sense? To be balanced? Can an individual's self-esteem be proper without love? It is certainly possible for a person to be temporarily devoid of love. For example, pick up a random individual, transport him across the planet, and set him into a strange culture, where he knows no one, he knows not a word of the language. He will be in shock, and will love no one, and probably his only love then would be of longing for his familiar life. Temporarily, his shock, his sadness, and his bewilderment will be more powerful feelings than any love he feels.\n",
      "    Since love can be felt in so many different ways, it is a good thing our culture allows people freedom to choose. All the more wondrous that some of us seem to love nothing! What explains this? Are children who were in dysfunctional, abusive situations forced to retreat as it were into a shell, to be calloused against freely opening themselves to the flow of their emotions? Are certain people born with chemical imbalances in their brains which make it impossible for them to feel love? Are some people so prone to liking numerous things that they tend to not strongly like (i.e., love) any one thing in particular?\n",
      "    To love is to express oneself. Usually one's love is obviously manifested. It may be that even as some of us are generally shy and inhibited, some of us are poorer at loving. Doubtless there are complex, peculiar combinations of factors operating in every individual case. And most of our general rules or commonplace assumptions are based on behavior prevalent in our culture.\n",
      "    The chief motivating factor in many of our lives is love. People go to extraordinary lengths and costs to find love, or to give it, to keep it, to hope for it. In some cultures, such as primitive stone-age ones, I'm sure that basic food gathering and survival work is more dominating than any interpretation of love other than love of continuing to live.\n",
      "    In my life, I prefer to give my time to being with people I love, rather than being paid to spend time working for people whom I don't love. Similarly, I would rather remain single and wait until I can marry a woman with whom I can share profound love, than cohabit with a woman about who I am indifferent. It is often said \"what really counts is that a person does what he or she loves.\" Yet how many of us really do? How many of us would keep doing our jobs if we didn't need the money? Few of us. Even if I was suddenly rich financially, I'd still do most of what I do now; I'd not fundamentally change.\n",
      "    No, money won't alter me much. Love may. If I decide to marry a woman, and she is eager also, I would stop merely doing whatever I please, and start giving my attention equally to pleasing her. Ideally we'd work very well together. But times would occur when we'd disagree, so I'd yield whenever I possibly could, out of my love and respect, and concern for our marriage.\n",
      "    The love that motivates people to give freely their very lives is greatly inspiring. If martyrs didn't have love propelling them, then they at any rate had strong emotions. Sometimes I dream about hypothetical situations that test my love. For example, if the woman I think the very world of, asked me to give up my Seattle existence, to live with her 1,000 miles away -- would I do it? Maybe. If I figured there was good odds of living happily ever after, I might. But such questions are answered not just by deliberation, they're affected by emotion. Love can blind us to logic, reason and common sense. I love so many things about my life in Seattle, and there are so many eligible women here  -- that the chance of me heading out of town, loveblind, is remote. But that I think about such things, shows I am moved mightily by love.\n",
      "    I am so glad to love my work, to love my family and friends, to love my city, and to love nature. Yes, I want to also love a woman who loves me. That will come. So far it has alway been one-way rather than mutual. I'm particular, patient, and confident. It's sort of a \"patting oneself on the back\" to say it, but I wish more people would show restraint about forming intimate relationships of the sort that are called marriages. Too many young folks hurry into such arrangements, and all too soon failure comes about. People think it's easier than it really is. Loving is often easy, but the long-term nurturing and sustaining of the love is work. I develop this theme more in my essay FAMILY.\n"
     ]
    }
   ],
   "source": [
    "# get all text within the bold element tag then output each\n",
    "poem_text = soup.find_all(\"b\")\n",
    "for text in poem_text:\n",
    "    print(text.get_text())"
   ]
  },
  {
   "cell_type": "code",
   "execution_count": 19,
   "metadata": {},
   "outputs": [
    {
     "ename": "ConnectionError",
     "evalue": "HTTPSConnectionPool(host='github.com', port=443): Max retries exceeded with url: /Connor-SM (Caused by NewConnectionError('<urllib3.connection.VerifiedHTTPSConnection object at 0x000000DC7AEE3D48>: Failed to establish a new connection: [Errno 11001] getaddrinfo failed'))",
     "output_type": "error",
     "traceback": [
      "\u001b[1;31m---------------------------------------------------------------------------\u001b[0m",
      "\u001b[1;31mgaierror\u001b[0m                                  Traceback (most recent call last)",
      "\u001b[1;32m~\\anaconda3\\lib\\site-packages\\urllib3\\connection.py\u001b[0m in \u001b[0;36m_new_conn\u001b[1;34m(self)\u001b[0m\n\u001b[0;32m    156\u001b[0m             conn = connection.create_connection(\n\u001b[1;32m--> 157\u001b[1;33m                 \u001b[1;33m(\u001b[0m\u001b[0mself\u001b[0m\u001b[1;33m.\u001b[0m\u001b[0m_dns_host\u001b[0m\u001b[1;33m,\u001b[0m \u001b[0mself\u001b[0m\u001b[1;33m.\u001b[0m\u001b[0mport\u001b[0m\u001b[1;33m)\u001b[0m\u001b[1;33m,\u001b[0m \u001b[0mself\u001b[0m\u001b[1;33m.\u001b[0m\u001b[0mtimeout\u001b[0m\u001b[1;33m,\u001b[0m \u001b[1;33m**\u001b[0m\u001b[0mextra_kw\u001b[0m\u001b[1;33m\u001b[0m\u001b[1;33m\u001b[0m\u001b[0m\n\u001b[0m\u001b[0;32m    158\u001b[0m             )\n",
      "\u001b[1;32m~\\anaconda3\\lib\\site-packages\\urllib3\\util\\connection.py\u001b[0m in \u001b[0;36mcreate_connection\u001b[1;34m(address, timeout, source_address, socket_options)\u001b[0m\n\u001b[0;32m     60\u001b[0m \u001b[1;33m\u001b[0m\u001b[0m\n\u001b[1;32m---> 61\u001b[1;33m     \u001b[1;32mfor\u001b[0m \u001b[0mres\u001b[0m \u001b[1;32min\u001b[0m \u001b[0msocket\u001b[0m\u001b[1;33m.\u001b[0m\u001b[0mgetaddrinfo\u001b[0m\u001b[1;33m(\u001b[0m\u001b[0mhost\u001b[0m\u001b[1;33m,\u001b[0m \u001b[0mport\u001b[0m\u001b[1;33m,\u001b[0m \u001b[0mfamily\u001b[0m\u001b[1;33m,\u001b[0m \u001b[0msocket\u001b[0m\u001b[1;33m.\u001b[0m\u001b[0mSOCK_STREAM\u001b[0m\u001b[1;33m)\u001b[0m\u001b[1;33m:\u001b[0m\u001b[1;33m\u001b[0m\u001b[1;33m\u001b[0m\u001b[0m\n\u001b[0m\u001b[0;32m     62\u001b[0m         \u001b[0maf\u001b[0m\u001b[1;33m,\u001b[0m \u001b[0msocktype\u001b[0m\u001b[1;33m,\u001b[0m \u001b[0mproto\u001b[0m\u001b[1;33m,\u001b[0m \u001b[0mcanonname\u001b[0m\u001b[1;33m,\u001b[0m \u001b[0msa\u001b[0m \u001b[1;33m=\u001b[0m \u001b[0mres\u001b[0m\u001b[1;33m\u001b[0m\u001b[1;33m\u001b[0m\u001b[0m\n",
      "\u001b[1;32m~\\anaconda3\\lib\\socket.py\u001b[0m in \u001b[0;36mgetaddrinfo\u001b[1;34m(host, port, family, type, proto, flags)\u001b[0m\n\u001b[0;32m    751\u001b[0m     \u001b[0maddrlist\u001b[0m \u001b[1;33m=\u001b[0m \u001b[1;33m[\u001b[0m\u001b[1;33m]\u001b[0m\u001b[1;33m\u001b[0m\u001b[1;33m\u001b[0m\u001b[0m\n\u001b[1;32m--> 752\u001b[1;33m     \u001b[1;32mfor\u001b[0m \u001b[0mres\u001b[0m \u001b[1;32min\u001b[0m \u001b[0m_socket\u001b[0m\u001b[1;33m.\u001b[0m\u001b[0mgetaddrinfo\u001b[0m\u001b[1;33m(\u001b[0m\u001b[0mhost\u001b[0m\u001b[1;33m,\u001b[0m \u001b[0mport\u001b[0m\u001b[1;33m,\u001b[0m \u001b[0mfamily\u001b[0m\u001b[1;33m,\u001b[0m \u001b[0mtype\u001b[0m\u001b[1;33m,\u001b[0m \u001b[0mproto\u001b[0m\u001b[1;33m,\u001b[0m \u001b[0mflags\u001b[0m\u001b[1;33m)\u001b[0m\u001b[1;33m:\u001b[0m\u001b[1;33m\u001b[0m\u001b[1;33m\u001b[0m\u001b[0m\n\u001b[0m\u001b[0;32m    753\u001b[0m         \u001b[0maf\u001b[0m\u001b[1;33m,\u001b[0m \u001b[0msocktype\u001b[0m\u001b[1;33m,\u001b[0m \u001b[0mproto\u001b[0m\u001b[1;33m,\u001b[0m \u001b[0mcanonname\u001b[0m\u001b[1;33m,\u001b[0m \u001b[0msa\u001b[0m \u001b[1;33m=\u001b[0m \u001b[0mres\u001b[0m\u001b[1;33m\u001b[0m\u001b[1;33m\u001b[0m\u001b[0m\n",
      "\u001b[1;31mgaierror\u001b[0m: [Errno 11001] getaddrinfo failed",
      "\nDuring handling of the above exception, another exception occurred:\n",
      "\u001b[1;31mNewConnectionError\u001b[0m                        Traceback (most recent call last)",
      "\u001b[1;32m~\\anaconda3\\lib\\site-packages\\urllib3\\connectionpool.py\u001b[0m in \u001b[0;36murlopen\u001b[1;34m(self, method, url, body, headers, retries, redirect, assert_same_host, timeout, pool_timeout, release_conn, chunked, body_pos, **response_kw)\u001b[0m\n\u001b[0;32m    671\u001b[0m                 \u001b[0mheaders\u001b[0m\u001b[1;33m=\u001b[0m\u001b[0mheaders\u001b[0m\u001b[1;33m,\u001b[0m\u001b[1;33m\u001b[0m\u001b[1;33m\u001b[0m\u001b[0m\n\u001b[1;32m--> 672\u001b[1;33m                 \u001b[0mchunked\u001b[0m\u001b[1;33m=\u001b[0m\u001b[0mchunked\u001b[0m\u001b[1;33m,\u001b[0m\u001b[1;33m\u001b[0m\u001b[1;33m\u001b[0m\u001b[0m\n\u001b[0m\u001b[0;32m    673\u001b[0m             )\n",
      "\u001b[1;32m~\\anaconda3\\lib\\site-packages\\urllib3\\connectionpool.py\u001b[0m in \u001b[0;36m_make_request\u001b[1;34m(self, conn, method, url, timeout, chunked, **httplib_request_kw)\u001b[0m\n\u001b[0;32m    375\u001b[0m         \u001b[1;32mtry\u001b[0m\u001b[1;33m:\u001b[0m\u001b[1;33m\u001b[0m\u001b[1;33m\u001b[0m\u001b[0m\n\u001b[1;32m--> 376\u001b[1;33m             \u001b[0mself\u001b[0m\u001b[1;33m.\u001b[0m\u001b[0m_validate_conn\u001b[0m\u001b[1;33m(\u001b[0m\u001b[0mconn\u001b[0m\u001b[1;33m)\u001b[0m\u001b[1;33m\u001b[0m\u001b[1;33m\u001b[0m\u001b[0m\n\u001b[0m\u001b[0;32m    377\u001b[0m         \u001b[1;32mexcept\u001b[0m \u001b[1;33m(\u001b[0m\u001b[0mSocketTimeout\u001b[0m\u001b[1;33m,\u001b[0m \u001b[0mBaseSSLError\u001b[0m\u001b[1;33m)\u001b[0m \u001b[1;32mas\u001b[0m \u001b[0me\u001b[0m\u001b[1;33m:\u001b[0m\u001b[1;33m\u001b[0m\u001b[1;33m\u001b[0m\u001b[0m\n",
      "\u001b[1;32m~\\anaconda3\\lib\\site-packages\\urllib3\\connectionpool.py\u001b[0m in \u001b[0;36m_validate_conn\u001b[1;34m(self, conn)\u001b[0m\n\u001b[0;32m    993\u001b[0m         \u001b[1;32mif\u001b[0m \u001b[1;32mnot\u001b[0m \u001b[0mgetattr\u001b[0m\u001b[1;33m(\u001b[0m\u001b[0mconn\u001b[0m\u001b[1;33m,\u001b[0m \u001b[1;34m\"sock\"\u001b[0m\u001b[1;33m,\u001b[0m \u001b[1;32mNone\u001b[0m\u001b[1;33m)\u001b[0m\u001b[1;33m:\u001b[0m  \u001b[1;31m# AppEngine might not have  `.sock`\u001b[0m\u001b[1;33m\u001b[0m\u001b[1;33m\u001b[0m\u001b[0m\n\u001b[1;32m--> 994\u001b[1;33m             \u001b[0mconn\u001b[0m\u001b[1;33m.\u001b[0m\u001b[0mconnect\u001b[0m\u001b[1;33m(\u001b[0m\u001b[1;33m)\u001b[0m\u001b[1;33m\u001b[0m\u001b[1;33m\u001b[0m\u001b[0m\n\u001b[0m\u001b[0;32m    995\u001b[0m \u001b[1;33m\u001b[0m\u001b[0m\n",
      "\u001b[1;32m~\\anaconda3\\lib\\site-packages\\urllib3\\connection.py\u001b[0m in \u001b[0;36mconnect\u001b[1;34m(self)\u001b[0m\n\u001b[0;32m    299\u001b[0m         \u001b[1;31m# Add certificate verification\u001b[0m\u001b[1;33m\u001b[0m\u001b[1;33m\u001b[0m\u001b[1;33m\u001b[0m\u001b[0m\n\u001b[1;32m--> 300\u001b[1;33m         \u001b[0mconn\u001b[0m \u001b[1;33m=\u001b[0m \u001b[0mself\u001b[0m\u001b[1;33m.\u001b[0m\u001b[0m_new_conn\u001b[0m\u001b[1;33m(\u001b[0m\u001b[1;33m)\u001b[0m\u001b[1;33m\u001b[0m\u001b[1;33m\u001b[0m\u001b[0m\n\u001b[0m\u001b[0;32m    301\u001b[0m         \u001b[0mhostname\u001b[0m \u001b[1;33m=\u001b[0m \u001b[0mself\u001b[0m\u001b[1;33m.\u001b[0m\u001b[0mhost\u001b[0m\u001b[1;33m\u001b[0m\u001b[1;33m\u001b[0m\u001b[0m\n",
      "\u001b[1;32m~\\anaconda3\\lib\\site-packages\\urllib3\\connection.py\u001b[0m in \u001b[0;36m_new_conn\u001b[1;34m(self)\u001b[0m\n\u001b[0;32m    168\u001b[0m             raise NewConnectionError(\n\u001b[1;32m--> 169\u001b[1;33m                 \u001b[0mself\u001b[0m\u001b[1;33m,\u001b[0m \u001b[1;34m\"Failed to establish a new connection: %s\"\u001b[0m \u001b[1;33m%\u001b[0m \u001b[0me\u001b[0m\u001b[1;33m\u001b[0m\u001b[1;33m\u001b[0m\u001b[0m\n\u001b[0m\u001b[0;32m    170\u001b[0m             )\n",
      "\u001b[1;31mNewConnectionError\u001b[0m: <urllib3.connection.VerifiedHTTPSConnection object at 0x000000DC7AEE3D48>: Failed to establish a new connection: [Errno 11001] getaddrinfo failed",
      "\nDuring handling of the above exception, another exception occurred:\n",
      "\u001b[1;31mMaxRetryError\u001b[0m                             Traceback (most recent call last)",
      "\u001b[1;32m~\\anaconda3\\lib\\site-packages\\requests\\adapters.py\u001b[0m in \u001b[0;36msend\u001b[1;34m(self, request, stream, timeout, verify, cert, proxies)\u001b[0m\n\u001b[0;32m    448\u001b[0m                     \u001b[0mretries\u001b[0m\u001b[1;33m=\u001b[0m\u001b[0mself\u001b[0m\u001b[1;33m.\u001b[0m\u001b[0mmax_retries\u001b[0m\u001b[1;33m,\u001b[0m\u001b[1;33m\u001b[0m\u001b[1;33m\u001b[0m\u001b[0m\n\u001b[1;32m--> 449\u001b[1;33m                     \u001b[0mtimeout\u001b[0m\u001b[1;33m=\u001b[0m\u001b[0mtimeout\u001b[0m\u001b[1;33m\u001b[0m\u001b[1;33m\u001b[0m\u001b[0m\n\u001b[0m\u001b[0;32m    450\u001b[0m                 )\n",
      "\u001b[1;32m~\\anaconda3\\lib\\site-packages\\urllib3\\connectionpool.py\u001b[0m in \u001b[0;36murlopen\u001b[1;34m(self, method, url, body, headers, retries, redirect, assert_same_host, timeout, pool_timeout, release_conn, chunked, body_pos, **response_kw)\u001b[0m\n\u001b[0;32m    719\u001b[0m             retries = retries.increment(\n\u001b[1;32m--> 720\u001b[1;33m                 \u001b[0mmethod\u001b[0m\u001b[1;33m,\u001b[0m \u001b[0murl\u001b[0m\u001b[1;33m,\u001b[0m \u001b[0merror\u001b[0m\u001b[1;33m=\u001b[0m\u001b[0me\u001b[0m\u001b[1;33m,\u001b[0m \u001b[0m_pool\u001b[0m\u001b[1;33m=\u001b[0m\u001b[0mself\u001b[0m\u001b[1;33m,\u001b[0m \u001b[0m_stacktrace\u001b[0m\u001b[1;33m=\u001b[0m\u001b[0msys\u001b[0m\u001b[1;33m.\u001b[0m\u001b[0mexc_info\u001b[0m\u001b[1;33m(\u001b[0m\u001b[1;33m)\u001b[0m\u001b[1;33m[\u001b[0m\u001b[1;36m2\u001b[0m\u001b[1;33m]\u001b[0m\u001b[1;33m\u001b[0m\u001b[1;33m\u001b[0m\u001b[0m\n\u001b[0m\u001b[0;32m    721\u001b[0m             )\n",
      "\u001b[1;32m~\\anaconda3\\lib\\site-packages\\urllib3\\util\\retry.py\u001b[0m in \u001b[0;36mincrement\u001b[1;34m(self, method, url, response, error, _pool, _stacktrace)\u001b[0m\n\u001b[0;32m    435\u001b[0m         \u001b[1;32mif\u001b[0m \u001b[0mnew_retry\u001b[0m\u001b[1;33m.\u001b[0m\u001b[0mis_exhausted\u001b[0m\u001b[1;33m(\u001b[0m\u001b[1;33m)\u001b[0m\u001b[1;33m:\u001b[0m\u001b[1;33m\u001b[0m\u001b[1;33m\u001b[0m\u001b[0m\n\u001b[1;32m--> 436\u001b[1;33m             \u001b[1;32mraise\u001b[0m \u001b[0mMaxRetryError\u001b[0m\u001b[1;33m(\u001b[0m\u001b[0m_pool\u001b[0m\u001b[1;33m,\u001b[0m \u001b[0murl\u001b[0m\u001b[1;33m,\u001b[0m \u001b[0merror\u001b[0m \u001b[1;32mor\u001b[0m \u001b[0mResponseError\u001b[0m\u001b[1;33m(\u001b[0m\u001b[0mcause\u001b[0m\u001b[1;33m)\u001b[0m\u001b[1;33m)\u001b[0m\u001b[1;33m\u001b[0m\u001b[1;33m\u001b[0m\u001b[0m\n\u001b[0m\u001b[0;32m    437\u001b[0m \u001b[1;33m\u001b[0m\u001b[0m\n",
      "\u001b[1;31mMaxRetryError\u001b[0m: HTTPSConnectionPool(host='github.com', port=443): Max retries exceeded with url: /Connor-SM (Caused by NewConnectionError('<urllib3.connection.VerifiedHTTPSConnection object at 0x000000DC7AEE3D48>: Failed to establish a new connection: [Errno 11001] getaddrinfo failed'))",
      "\nDuring handling of the above exception, another exception occurred:\n",
      "\u001b[1;31mConnectionError\u001b[0m                           Traceback (most recent call last)",
      "\u001b[1;32m<ipython-input-19-5dac857a5056>\u001b[0m in \u001b[0;36m<module>\u001b[1;34m\u001b[0m\n\u001b[0;32m      1\u001b[0m \u001b[1;31m# finding an element by specific attribute key-values\u001b[0m\u001b[1;33m\u001b[0m\u001b[1;33m\u001b[0m\u001b[1;33m\u001b[0m\u001b[0m\n\u001b[1;32m----> 2\u001b[1;33m \u001b[0mpage\u001b[0m \u001b[1;33m=\u001b[0m \u001b[0mrequests\u001b[0m\u001b[1;33m.\u001b[0m\u001b[0mget\u001b[0m\u001b[1;33m(\u001b[0m\u001b[1;34m\"https://github.com/Connor-SM\"\u001b[0m\u001b[1;33m)\u001b[0m\u001b[1;33m\u001b[0m\u001b[1;33m\u001b[0m\u001b[0m\n\u001b[0m\u001b[0;32m      3\u001b[0m \u001b[0msoup\u001b[0m \u001b[1;33m=\u001b[0m \u001b[0mBeautifulSoup\u001b[0m\u001b[1;33m(\u001b[0m\u001b[0mpage\u001b[0m\u001b[1;33m.\u001b[0m\u001b[0mcontent\u001b[0m\u001b[1;33m,\u001b[0m \u001b[1;34m\"html.parser\"\u001b[0m\u001b[1;33m)\u001b[0m\u001b[1;33m\u001b[0m\u001b[1;33m\u001b[0m\u001b[0m\n\u001b[0;32m      4\u001b[0m \u001b[0musername\u001b[0m \u001b[1;33m=\u001b[0m \u001b[0msoup\u001b[0m\u001b[1;33m.\u001b[0m\u001b[0mfind\u001b[0m\u001b[1;33m(\u001b[0m \u001b[1;34m\"span\"\u001b[0m\u001b[1;33m,\u001b[0m \u001b[0mattrs\u001b[0m\u001b[1;33m=\u001b[0m\u001b[1;33m{\u001b[0m \u001b[1;34m\"class\"\u001b[0m \u001b[1;33m:\u001b[0m \u001b[1;34m\"vcard-username\"\u001b[0m \u001b[1;33m}\u001b[0m\u001b[1;33m)\u001b[0m\u001b[1;33m\u001b[0m\u001b[1;33m\u001b[0m\u001b[0m\n\u001b[0;32m      5\u001b[0m \u001b[1;31m# find first span with this class\u001b[0m\u001b[1;33m\u001b[0m\u001b[1;33m\u001b[0m\u001b[1;33m\u001b[0m\u001b[0m\n",
      "\u001b[1;32m~\\anaconda3\\lib\\site-packages\\requests\\api.py\u001b[0m in \u001b[0;36mget\u001b[1;34m(url, params, **kwargs)\u001b[0m\n\u001b[0;32m     73\u001b[0m \u001b[1;33m\u001b[0m\u001b[0m\n\u001b[0;32m     74\u001b[0m     \u001b[0mkwargs\u001b[0m\u001b[1;33m.\u001b[0m\u001b[0msetdefault\u001b[0m\u001b[1;33m(\u001b[0m\u001b[1;34m'allow_redirects'\u001b[0m\u001b[1;33m,\u001b[0m \u001b[1;32mTrue\u001b[0m\u001b[1;33m)\u001b[0m\u001b[1;33m\u001b[0m\u001b[1;33m\u001b[0m\u001b[0m\n\u001b[1;32m---> 75\u001b[1;33m     \u001b[1;32mreturn\u001b[0m \u001b[0mrequest\u001b[0m\u001b[1;33m(\u001b[0m\u001b[1;34m'get'\u001b[0m\u001b[1;33m,\u001b[0m \u001b[0murl\u001b[0m\u001b[1;33m,\u001b[0m \u001b[0mparams\u001b[0m\u001b[1;33m=\u001b[0m\u001b[0mparams\u001b[0m\u001b[1;33m,\u001b[0m \u001b[1;33m**\u001b[0m\u001b[0mkwargs\u001b[0m\u001b[1;33m)\u001b[0m\u001b[1;33m\u001b[0m\u001b[1;33m\u001b[0m\u001b[0m\n\u001b[0m\u001b[0;32m     76\u001b[0m \u001b[1;33m\u001b[0m\u001b[0m\n\u001b[0;32m     77\u001b[0m \u001b[1;33m\u001b[0m\u001b[0m\n",
      "\u001b[1;32m~\\anaconda3\\lib\\site-packages\\requests\\api.py\u001b[0m in \u001b[0;36mrequest\u001b[1;34m(method, url, **kwargs)\u001b[0m\n\u001b[0;32m     58\u001b[0m     \u001b[1;31m# cases, and look like a memory leak in others.\u001b[0m\u001b[1;33m\u001b[0m\u001b[1;33m\u001b[0m\u001b[1;33m\u001b[0m\u001b[0m\n\u001b[0;32m     59\u001b[0m     \u001b[1;32mwith\u001b[0m \u001b[0msessions\u001b[0m\u001b[1;33m.\u001b[0m\u001b[0mSession\u001b[0m\u001b[1;33m(\u001b[0m\u001b[1;33m)\u001b[0m \u001b[1;32mas\u001b[0m \u001b[0msession\u001b[0m\u001b[1;33m:\u001b[0m\u001b[1;33m\u001b[0m\u001b[1;33m\u001b[0m\u001b[0m\n\u001b[1;32m---> 60\u001b[1;33m         \u001b[1;32mreturn\u001b[0m \u001b[0msession\u001b[0m\u001b[1;33m.\u001b[0m\u001b[0mrequest\u001b[0m\u001b[1;33m(\u001b[0m\u001b[0mmethod\u001b[0m\u001b[1;33m=\u001b[0m\u001b[0mmethod\u001b[0m\u001b[1;33m,\u001b[0m \u001b[0murl\u001b[0m\u001b[1;33m=\u001b[0m\u001b[0murl\u001b[0m\u001b[1;33m,\u001b[0m \u001b[1;33m**\u001b[0m\u001b[0mkwargs\u001b[0m\u001b[1;33m)\u001b[0m\u001b[1;33m\u001b[0m\u001b[1;33m\u001b[0m\u001b[0m\n\u001b[0m\u001b[0;32m     61\u001b[0m \u001b[1;33m\u001b[0m\u001b[0m\n\u001b[0;32m     62\u001b[0m \u001b[1;33m\u001b[0m\u001b[0m\n",
      "\u001b[1;32m~\\anaconda3\\lib\\site-packages\\requests\\sessions.py\u001b[0m in \u001b[0;36mrequest\u001b[1;34m(self, method, url, params, data, headers, cookies, files, auth, timeout, allow_redirects, proxies, hooks, stream, verify, cert, json)\u001b[0m\n\u001b[0;32m    531\u001b[0m         }\n\u001b[0;32m    532\u001b[0m         \u001b[0msend_kwargs\u001b[0m\u001b[1;33m.\u001b[0m\u001b[0mupdate\u001b[0m\u001b[1;33m(\u001b[0m\u001b[0msettings\u001b[0m\u001b[1;33m)\u001b[0m\u001b[1;33m\u001b[0m\u001b[1;33m\u001b[0m\u001b[0m\n\u001b[1;32m--> 533\u001b[1;33m         \u001b[0mresp\u001b[0m \u001b[1;33m=\u001b[0m \u001b[0mself\u001b[0m\u001b[1;33m.\u001b[0m\u001b[0msend\u001b[0m\u001b[1;33m(\u001b[0m\u001b[0mprep\u001b[0m\u001b[1;33m,\u001b[0m \u001b[1;33m**\u001b[0m\u001b[0msend_kwargs\u001b[0m\u001b[1;33m)\u001b[0m\u001b[1;33m\u001b[0m\u001b[1;33m\u001b[0m\u001b[0m\n\u001b[0m\u001b[0;32m    534\u001b[0m \u001b[1;33m\u001b[0m\u001b[0m\n\u001b[0;32m    535\u001b[0m         \u001b[1;32mreturn\u001b[0m \u001b[0mresp\u001b[0m\u001b[1;33m\u001b[0m\u001b[1;33m\u001b[0m\u001b[0m\n",
      "\u001b[1;32m~\\anaconda3\\lib\\site-packages\\requests\\sessions.py\u001b[0m in \u001b[0;36msend\u001b[1;34m(self, request, **kwargs)\u001b[0m\n\u001b[0;32m    644\u001b[0m \u001b[1;33m\u001b[0m\u001b[0m\n\u001b[0;32m    645\u001b[0m         \u001b[1;31m# Send the request\u001b[0m\u001b[1;33m\u001b[0m\u001b[1;33m\u001b[0m\u001b[1;33m\u001b[0m\u001b[0m\n\u001b[1;32m--> 646\u001b[1;33m         \u001b[0mr\u001b[0m \u001b[1;33m=\u001b[0m \u001b[0madapter\u001b[0m\u001b[1;33m.\u001b[0m\u001b[0msend\u001b[0m\u001b[1;33m(\u001b[0m\u001b[0mrequest\u001b[0m\u001b[1;33m,\u001b[0m \u001b[1;33m**\u001b[0m\u001b[0mkwargs\u001b[0m\u001b[1;33m)\u001b[0m\u001b[1;33m\u001b[0m\u001b[1;33m\u001b[0m\u001b[0m\n\u001b[0m\u001b[0;32m    647\u001b[0m \u001b[1;33m\u001b[0m\u001b[0m\n\u001b[0;32m    648\u001b[0m         \u001b[1;31m# Total elapsed time of the request (approximately)\u001b[0m\u001b[1;33m\u001b[0m\u001b[1;33m\u001b[0m\u001b[1;33m\u001b[0m\u001b[0m\n",
      "\u001b[1;32m~\\anaconda3\\lib\\site-packages\\requests\\adapters.py\u001b[0m in \u001b[0;36msend\u001b[1;34m(self, request, stream, timeout, verify, cert, proxies)\u001b[0m\n\u001b[0;32m    514\u001b[0m                 \u001b[1;32mraise\u001b[0m \u001b[0mSSLError\u001b[0m\u001b[1;33m(\u001b[0m\u001b[0me\u001b[0m\u001b[1;33m,\u001b[0m \u001b[0mrequest\u001b[0m\u001b[1;33m=\u001b[0m\u001b[0mrequest\u001b[0m\u001b[1;33m)\u001b[0m\u001b[1;33m\u001b[0m\u001b[1;33m\u001b[0m\u001b[0m\n\u001b[0;32m    515\u001b[0m \u001b[1;33m\u001b[0m\u001b[0m\n\u001b[1;32m--> 516\u001b[1;33m             \u001b[1;32mraise\u001b[0m \u001b[0mConnectionError\u001b[0m\u001b[1;33m(\u001b[0m\u001b[0me\u001b[0m\u001b[1;33m,\u001b[0m \u001b[0mrequest\u001b[0m\u001b[1;33m=\u001b[0m\u001b[0mrequest\u001b[0m\u001b[1;33m)\u001b[0m\u001b[1;33m\u001b[0m\u001b[1;33m\u001b[0m\u001b[0m\n\u001b[0m\u001b[0;32m    517\u001b[0m \u001b[1;33m\u001b[0m\u001b[0m\n\u001b[0;32m    518\u001b[0m         \u001b[1;32mexcept\u001b[0m \u001b[0mClosedPoolError\u001b[0m \u001b[1;32mas\u001b[0m \u001b[0me\u001b[0m\u001b[1;33m:\u001b[0m\u001b[1;33m\u001b[0m\u001b[1;33m\u001b[0m\u001b[0m\n",
      "\u001b[1;31mConnectionError\u001b[0m: HTTPSConnectionPool(host='github.com', port=443): Max retries exceeded with url: /Connor-SM (Caused by NewConnectionError('<urllib3.connection.VerifiedHTTPSConnection object at 0x000000DC7AEE3D48>: Failed to establish a new connection: [Errno 11001] getaddrinfo failed'))"
     ]
    }
   ],
   "source": [
    "# finding an element by specific attribute key-values\n",
    "page = requests.get(\"https://github.com/Connor-SM\")\n",
    "soup = BeautifulSoup(page.content, \"html.parser\")\n",
    "username = soup.find( \"span\", attrs={ \"class\" : \"vcard-username\" })\n",
    "# find first span with this class\n",
    "print(username) # will show that element has class of vcardusername among others\n",
    "print(username.get_text())"
   ]
  },
  {
   "cell_type": "markdown",
   "metadata": {},
   "source": [
    "**Note :** Finding elements by attributes also works with the find_all method. You can\n",
    "also include multiple key-value pairs to look for within the attrs argument.\n",
    "\n",
    "\n",
    "\n",
    "\n",
    "**DOM Traversal**   \n",
    "This section will cover how to extract information by traversing through the DOM\n",
    "hierarchy. The DOM, short for Document Object Model, is a concept in web design that\n",
    "describes the relationships and structure between elements on a browser. All elements\n",
    "on a web page belong to one of three relationships:   \n",
    "1. Parent-Child   \n",
    "2. Sibling   \n",
    "3. Grandparent-Grandchild   \n",
    "\n",
    "This concept is important to understand when you are web scraping because you\n",
    "may need to access the children of a specific element. The children are in reference to all\n",
    "elements within another element. Take the following HTML code, for instance:"
   ]
  },
  {
   "cell_type": "code",
   "execution_count": 33,
   "metadata": {},
   "outputs": [
    {
     "data": {
      "image/png": "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\n",
      "text/plain": [
       "<IPython.core.display.Image object>"
      ]
     },
     "execution_count": 33,
     "metadata": {},
     "output_type": "execute_result"
    }
   ],
   "source": [
    "Image(filename='images_projects/image_project_week9_HTMLcode.png')"
   ]
  },
  {
   "cell_type": "markdown",
   "metadata": {},
   "source": [
    "In this example, the <div> element is the parent of the h1, h3, and p elements. Those\n",
    "three elements are known as the children. If we wanted to extract all the text from within\n",
    "this <div> element, we could access the children elements.   \n",
    "**Note :** In the preceding example, the h1, h3, and p elements are all siblings. the\n",
    "body would be the parent of the div element and the grandparent of the h1, h3,\n",
    "and p elements.   \n",
    "\n",
    "**Accessing the Children Attribute**  \n",
    "Lucky for us, when Beautiful Soup converts the page content into an object, it keeps\n",
    "track of the children for all elements. This allows us to traverse through the DOM and\n",
    "parse data as we see fit."
   ]
  },
  {
   "cell_type": "code",
   "execution_count": 7,
   "metadata": {},
   "outputs": [
    {
     "name": "stdout",
     "output_type": "stream",
     "text": [
      "<list_iterator object at 0x000000DC74557D48>\n"
     ]
    }
   ],
   "source": [
    "# traversing through the DOM using Beautiful Soup – using the children attribute\n",
    "page = requests.get(\"http://www.arthurleej.com/e-love.html\")\n",
    "soup = BeautifulSoup(page.content, \"html.parser\")\n",
    "print(soup.children) # outputs an iterator object"
   ]
  },
  {
   "cell_type": "markdown",
   "metadata": {},
   "source": [
    "The children elements within the soup object are\n",
    "stored within an iterator. For the following exercise, let’s extract the title element\n",
    "from the web page.   \n",
    "**Understanding the Types of Children**   \n",
    "Before we begin, we first need to understand the types of children within the\n",
    "BeautifulSoup object."
   ]
  },
  {
   "cell_type": "code",
   "execution_count": 8,
   "metadata": {},
   "outputs": [
    {
     "name": "stdout",
     "output_type": "stream",
     "text": [
      "<class 'bs4.element.Doctype'>\n",
      "<class 'bs4.element.NavigableString'>\n",
      "<class 'bs4.element.Tag'>\n",
      "<class 'bs4.element.NavigableString'>\n"
     ]
    }
   ],
   "source": [
    "# understanding the children within the soup object\n",
    "for child in list( soup.children ):\n",
    "    print( type( child ) )"
   ]
  },
  {
   "cell_type": "markdown",
   "metadata": {},
   "source": [
    "As a result, we’ll get four children but only three\n",
    "different types:   \n",
    "**• <class ‘bs4.element.Doctype’>**   \n",
    "– A Doctype object is in reference to the Docstring that defines the\n",
    "HTML version used.   \n",
    "**• <class ‘bs4.element.NavigableString’>**   \n",
    "– A string corresponds to a bit of text within a tag. Beautiful Soup\n",
    "uses the NavigableString class to contain these bits of text. So far,\n",
    "we’ve used the get_text() method to extract text; however, you can\n",
    "use the following to extract data as well:   \n",
    "-->>> tag.string   \n",
    "Which results in NavigableString type.   \n",
    "**• <class ‘bs4.element.Tag’>**    \n",
    "– A Tag object corresponds to an XML or HTML tag in the original\n",
    "document. When we access the elements and their text, we’ll be\n",
    "accessing the original tags to do so.   \n",
    "If you were to output each of these objects, you’d find that all the code, aside from\n",
    "the Doctype, appear in the Tag object.\n",
    "\n",
    "\n",
    "**Accessing the Tag Object**   \n",
    "If we want to access the text within the title tag, we need to traverse into its parent first, which\n",
    "happens to be the head tag. Now that we know the elements that we’re looking for reside in\n",
    "the Tag object, we need to save that object to a variable and output the sections within it:"
   ]
  },
  {
   "cell_type": "code",
   "execution_count": 9,
   "metadata": {},
   "outputs": [
    {
     "name": "stdout",
     "output_type": "stream",
     "text": [
      "\n",
      "\n",
      " Start of new section\n",
      " \n",
      "\n",
      "\n",
      " Start of new section\n",
      "<head> <title>Essay on Love by Arthur Lee Jacobson</title> <meta content=\"Trees,gardening, wild and domestic plant life are the specialty of author Arthur Lee Jacobson.\" name=\"description\"/> <meta content=\"trees, gardening, wild plants, domestic plants, gardening author, gardening books, Arthur Lee Jacobson, A L J, A L Jacobson, Arthur Jacobson, arthur lee, plants, flowers, seattle, washington\" name=\"keywords\"/> <meta content=\"document\" name=\"resource-type\"/> <meta content=\"BBEdit 4.5\" name=\"generator\"/> <meta content=\"all\" name=\"robots\"/> <meta content=\"Gardening\" name=\"classification\"/> <meta content=\"global\" name=\"distribution\"/> <meta content=\"general\" name=\"rating\"/> <meta content=\"2001 Arthur Lee Jacobson\" name=\"copyright\"/> <meta content=\"eriktyme@eriktyme.com\" name=\"author\"/> <meta content=\"en-us\" name=\"language\"/> </head>\n",
      "\n",
      "\n",
      " Start of new section\n",
      " \n",
      "\n",
      "\n",
      " Start of new section\n",
      "<body alink=\"#33CC33\" background=\"images/background1a.jpg\" bgcolor=\"#FFFFCC\" link=\"#0000FF\" text=\"#000000\" vlink=\"#FF00FF\"> <!-- -- #include virtual=\"/includes/header.html\" -- --> <br/><center><table border=\"0\" cellpadding=\"1\" cellspacing=\"2\"> <tr> <td align=\"center\" valign=\"top\" width=\"480\"> <table border=\"0\" cellpadding=\"1\" cellspacing=\"2\"> <tr> <td align=\"center\" valign=\"top\" width=\"480\"><font size=\"5\"><b>Love</b></font></td> </tr> <tr> <td align=\"left\" valign=\"top\" width=\"480\"><font size=\"3\"><b>    Of the fourteen essays I'm writing, only this one treats an emotion. That love is the most important emotion is the deduction. I think other emotions may be as important, but are not so powerfully moving or interesting to most of us. Love is exciting. There is no need to justify choosing to write about it. Are not most songs love songs? Are not most novels stories featuring love?</b></font></td> </tr> <tr> <td align=\"left\" valign=\"top\" width=\"480\"><font size=\"3\"><b>    Love in its broad sense is the feeling of strong attraction, and often attachment and protection. It is felt towards other people, towards pets, towards inanimate objects, towards abstractions such as patriotism, religious matters, hobbies, and I suppose nearly everything. It is multifaceted, and includes ordinary self-love, chivalrous love, carnal or sexual love, friendly love, family love. It is an emotion that is closely related to certain others, such as hope. At its simplest level it is what we strongly like.</b></font></td> </tr> <tr> <td align=\"left\" valign=\"top\" width=\"480\"><font size=\"3\"><b>    I have a hunch that love, like the rose, owes much of its appeal to our mainstream Western culture -- and that in some other societies it is by no means such a big deal. Somehow, especially in recent centuries, the notion of romantic love has become elevated far more than it used to be. Why this has happened is for social historians to explain; I don't know. I will merely say that if one reads the ancient Greeks and Romans, then it is obvious that today love is relatively more significant in our culture. A plethora of differences exist between us and people 2,000 years ago. That doesn't invalidate my observation that we moderns rate love more importantly now than our ancestors used to.</b></font></td> </tr> <tr> <td align=\"left\" valign=\"top\" width=\"480\"><font size=\"3\"><b>    It is presumed that sexual attraction, being instinctive, is comparatively constant over the centuries and across cultures. But let's be clear: sexual attraction is only one manifestation of love. One can be sexually aroused and still feel no love, just as a couple can be married and possess no mutual sexual appetite or love. Some people find they can fulfill sexual needs one way, and they love something else, such as a hobby or their work.</b></font></td> </tr> <tr> <td align=\"left\" valign=\"top\" width=\"480\"><font size=\"3\"><b>    When sexual desire, or go ahead and call it sexual need, is very strong, it certainly gets called love. To be precise it may be best termed carnal love. Similarly, a glutton loves food, and an addict perversely loves whatever drug or activity he's hooked on. Sexual love, then, is not necessarily anything more than an equivalent of an animal being in heat. On the other hand, if two people share a wholehearted, broad-based love for each other, then their sexual relations may be more an expression of their affection than of their instinctive drive.</b></font></td> </tr> <tr> <td align=\"left\" valign=\"top\" width=\"480\"><font size=\"3\"><b>    Yes, love and sex are too much confused. It is frightful how many beastly rapes and molestations take place, which are sexual but devoid of love completely. Love can be found thriving far from sex, as in a mother's love for her child, or a religious order's mystical love of doing glory to God, or of the knight's chivalrous love towards his country and rulers. The soldier's courage to defend his family is a kind of love in action. The artist who starves in an attic, living a celibate existence to produce masterpieces, is illuminated by love. Childhood friends who go through life together know love, though not sex, as regards each other. Have I made my point obvious?</b></font></td> </tr> <tr> <td align=\"left\" valign=\"top\" width=\"480\"><font size=\"3\"><b>    It is, I'm sure. But I'm on a roll and don't want to stop yet. Love's antithesis is hate. Hate is often associated with harm or destruction, even death. But again, it is not <i>equal</i> to those. It is strongly held negative emotions, even as love is strongly held positive ones.</b><br/><br/></font></td> </tr> <tr> <td align=\"left\" valign=\"top\" width=\"480\"><font size=\"3\"><b>    The golden rule, \"Love thy neighbor as thyself,\" or \"do unto others as you would have them do unto you,\" helps us see that if we want people to enjoy peaceful, content existence, we must work together cooperatively, and not let our passions, of either love or hate, get us out of line.</b></font></td> </tr> <tr> <td align=\"left\" valign=\"top\" width=\"480\"><font size=\"3\"><b>    One thing I'm sure of, is the world would be a better place if all of us individuals had someone or something we loved. I feel sorry for people who are neutral about this, indifferent regarding that, and don't know what really turns them on. I almost wish there was a law against having no love in one's life. Well, that kind of thinking is too extreme. Is it possible, without love, to be healthy in a mental sense? To be balanced? Can an individual's self-esteem be proper without love? It is certainly possible for a person to be <i>temporarily</i> devoid of love. For example, pick up a random individual, transport him across the planet, and set him into a strange culture, where he knows no one, he knows not a word of the language. He will be in shock, and will love no one, and probably his only love then would be of longing for his familiar life. Temporarily, his shock, his sadness, and his bewilderment will be more powerful feelings than any love he feels.</b></font></td> </tr> <tr> <td align=\"left\" valign=\"top\" width=\"480\"><font size=\"3\"><b>    Since love can be felt in so many different ways, it is a good thing our culture allows people freedom to choose. All the more wondrous that some of us seem to love nothing! What explains this? Are children who were in dysfunctional, abusive situations forced to retreat as it were into a shell, to be calloused against freely opening themselves to the flow of their emotions? Are certain people born with chemical imbalances in their brains which make it impossible for them to feel love? Are some people so prone to liking numerous things that they tend to not strongly like (<i>i.e.,</i> love) any one thing in particular?</b></font></td> </tr> <tr> <td align=\"left\" valign=\"top\" width=\"480\"><font size=\"3\"><b>    To love is to express oneself. Usually one's love is obviously manifested. It may be that even as some of us are generally shy and inhibited, some of us are poorer at loving. Doubtless there are complex, peculiar combinations of factors operating in every individual case. And most of our general rules or commonplace assumptions are based on behavior prevalent in our <i>culture.</i></b></font></td> </tr> <tr> <td align=\"left\" valign=\"top\" width=\"480\"><font size=\"3\"><b>    The chief motivating factor in many of our lives is love. People go to extraordinary lengths and costs to find love, or to give it, to keep it, to hope for it. In some cultures, such as primitive stone-age ones, I'm sure that basic food gathering and survival work is more dominating than any interpretation of love other than love of continuing to <i>live.</i></b></font></td> </tr> <tr> <td align=\"left\" valign=\"top\" width=\"480\"><font size=\"3\"><b>    In my life, I prefer to give my time to being with people I love, rather than being paid to spend time working for people whom I don't love. Similarly, I would rather remain single and wait until I can marry a woman with whom I can share profound love, than cohabit with a woman about who I am indifferent. It is often said \"what really counts is that a person does what he or she loves.\" Yet how many of us <i>really</i> do? How many of us <i>would</i> keep doing our jobs if we didn't need the money? Few of us. Even if I was suddenly rich financially, I'd still do most of what I do now; I'd not fundamentally change.</b></font></td> </tr> <tr> <td align=\"left\" valign=\"top\" width=\"480\"><font size=\"3\"><b>    No, money won't alter me much. Love may. If I decide to marry a woman, and she is eager also, I would stop merely doing whatever I please, and start giving my attention equally to pleasing her. Ideally we'd work very well together. But times would occur when we'd disagree, so I'd yield whenever I possibly could, out of my love and respect, and concern for our marriage.</b></font></td> </tr> <tr> <td align=\"left\" valign=\"top\" width=\"480\"><font size=\"3\"><b>    The love that motivates people to give freely their very lives is greatly inspiring. If martyrs didn't have love propelling them, then they at any rate had <i>strong</i> emotions. Sometimes I dream about hypothetical situations that test my love. For example, if the woman I think the very world of, asked me to give up my Seattle existence, to live with her 1,000 miles away -- would I do it? Maybe. If I figured there was good odds of living happily ever after, I might. But such questions are answered not just by deliberation, they're affected by emotion. Love can blind us to logic, reason and common sense. I love so many things about my life in Seattle, and there are so many eligible women here  -- that the chance of me heading out of town, loveblind, is remote. But that I <i>think</i> about such things, shows I am moved mightily by love.</b></font></td> </tr> <tr> <td align=\"left\" valign=\"top\" width=\"480\"><font size=\"3\"><b>    I am so glad to love my work, to love my family and friends, to love my city, and to love nature. Yes, I want to also love a woman who loves me. That will come. So far it has alway been one-way rather than mutual. I'm particular, patient, and confident. It's sort of a \"patting oneself on the back\" to say it, but I wish more people would show restraint about forming intimate relationships of the sort that are called marriages. Too many young folks hurry into such arrangements, and all too soon failure comes about. People think it's easier than it really is. Loving is often easy, but the long-term nurturing and sustaining of the love is work. I develop this theme more in my essay FAMILY.</b></font></td> </tr> <tr> </tr></table> </td> <td align=\"center\" valign=\"top\" width=\"125\"><br/><br/><br/><!-- -- #include virtual=\"/includes/panel1.html\" -- --> </td> </tr> </table></center> <!-- -- #include virtual=\"/includes/footer.html\" -- --> </body>\n",
      "\n",
      "\n",
      " Start of new section\n",
      " \n"
     ]
    }
   ],
   "source": [
    "# accessing the .Tag object which holds the html – trying to access the title tag\n",
    "html = list( soup.children )[2]\n",
    "for section in html:\n",
    "    print(\"\\n\\n Start of new section\")\n",
    "    print(section)"
   ]
  },
  {
   "cell_type": "markdown",
   "metadata": {},
   "source": [
    "When you output each section within our HTML variable,\n",
    "you’ll realize that there’s an empty section at the first index, before the location of the\n",
    "head element. We output the print statement for each new section, in case an empty\n",
    "string occupies an index.   \n",
    "\n",
    "\n",
    "\n",
    "**Accessing the Head Element Tag**   \n",
    "Now that we know the head element is at index 1 of the HTML children, we can perform\n",
    "the same execution to access each child within the head:"
   ]
  },
  {
   "cell_type": "code",
   "execution_count": 10,
   "metadata": {},
   "outputs": [
    {
     "name": "stdout",
     "output_type": "stream",
     "text": [
      "\n",
      "\n",
      " New Tag\n",
      " \n",
      "\n",
      "\n",
      " New Tag\n",
      "<title>Essay on Love by Arthur Lee Jacobson</title>\n",
      "\n",
      "\n",
      " New Tag\n",
      " \n",
      "\n",
      "\n",
      " New Tag\n",
      "<meta content=\"Trees,gardening, wild and domestic plant life are the specialty of author Arthur Lee Jacobson.\" name=\"description\"/>\n",
      "\n",
      "\n",
      " New Tag\n",
      " \n",
      "\n",
      "\n",
      " New Tag\n",
      "<meta content=\"trees, gardening, wild plants, domestic plants, gardening author, gardening books, Arthur Lee Jacobson, A L J, A L Jacobson, Arthur Jacobson, arthur lee, plants, flowers, seattle, washington\" name=\"keywords\"/>\n",
      "\n",
      "\n",
      " New Tag\n",
      " \n",
      "\n",
      "\n",
      " New Tag\n",
      "<meta content=\"document\" name=\"resource-type\"/>\n",
      "\n",
      "\n",
      " New Tag\n",
      " \n",
      "\n",
      "\n",
      " New Tag\n",
      "<meta content=\"BBEdit 4.5\" name=\"generator\"/>\n",
      "\n",
      "\n",
      " New Tag\n",
      " \n",
      "\n",
      "\n",
      " New Tag\n",
      "<meta content=\"all\" name=\"robots\"/>\n",
      "\n",
      "\n",
      " New Tag\n",
      " \n",
      "\n",
      "\n",
      " New Tag\n",
      "<meta content=\"Gardening\" name=\"classification\"/>\n",
      "\n",
      "\n",
      " New Tag\n",
      " \n",
      "\n",
      "\n",
      " New Tag\n",
      "<meta content=\"global\" name=\"distribution\"/>\n",
      "\n",
      "\n",
      " New Tag\n",
      " \n",
      "\n",
      "\n",
      " New Tag\n",
      "<meta content=\"general\" name=\"rating\"/>\n",
      "\n",
      "\n",
      " New Tag\n",
      " \n",
      "\n",
      "\n",
      " New Tag\n",
      "<meta content=\"2001 Arthur Lee Jacobson\" name=\"copyright\"/>\n",
      "\n",
      "\n",
      " New Tag\n",
      " \n",
      "\n",
      "\n",
      " New Tag\n",
      "<meta content=\"eriktyme@eriktyme.com\" name=\"author\"/>\n",
      "\n",
      "\n",
      " New Tag\n",
      " \n",
      "\n",
      "\n",
      " New Tag\n",
      "<meta content=\"en-us\" name=\"language\"/>\n",
      "\n",
      "\n",
      " New Tag\n",
      " \n"
     ]
    }
   ],
   "source": [
    "# accessing the head element using the children attribute\n",
    "head = list( html.children )[1]\n",
    "for item in head:\n",
    "    print(\"\\n\\n New Tag\")\n",
    "    print(item)"
   ]
  },
  {
   "cell_type": "markdown",
   "metadata": {},
   "source": [
    "When you output each tag within the head, you’ll notice\n",
    "the title tag that we’ve been searching for resides at index 1.   \n",
    "**Note :** remember that each object stored in these variables is an iterator and can\n",
    "be type converted into lists.\n",
    "\n",
    "\n",
    "\n",
    "**Scraping the Title Text**   \n",
    "The final step is to extract the text from the title tag:"
   ]
  },
  {
   "cell_type": "code",
   "execution_count": 11,
   "metadata": {},
   "outputs": [
    {
     "name": "stdout",
     "output_type": "stream",
     "text": [
      "Essay on Love by Arthur Lee Jacobson\n",
      "<class 'bs4.element.NavigableString'>\n",
      "Essay on Love by Arthur Lee Jacobson\n"
     ]
    }
   ],
   "source": [
    "# scraping the title text\n",
    "title = list( head )[1]\n",
    "print(title.string) # .string is used to extract text as well\n",
    "print( type(title.string) ) # results in NavigableString\n",
    "print( title.get_text( ) )"
   ]
  },
  {
   "cell_type": "markdown",
   "metadata": {},
   "source": [
    "We’ve just traversed through the DOM in order to scrape\n",
    "the text from our title element.   \n",
    "**Note :** the ability to access an object’s children elements allows us to create\n",
    "modular or automated web scrapers that can perform a various number of tasks.\n",
    "as most sites follow a similar style on their web pages, creating a script that\n",
    "would extract information on a single page would allow us to do so on many\n",
    "other pages if we knew the proper pattern. For instance, the online statistical\n",
    "database for baseball called baseball-reference holds data for all baseball players\n",
    "throughout the history of the MlB. each player has a unique identifier on the web\n",
    "site’s url. If you wrote a parsing script that would extract information for one\n",
    "player, you would be able to write a loop to extract information from all players in\n",
    "the database."
   ]
  },
  {
   "cell_type": "markdown",
   "metadata": {},
   "source": [
    "### THURSDAY EXERCISES"
   ]
  },
  {
   "cell_type": "raw",
   "metadata": {},
   "source": [
    "1. Word Count: Write a program that counts how many words are in the following link: www.york.ac.uk/teaching/cws/wws/webpage1.html. use the requests module and Beautiful soup library to extract all text."
   ]
  },
  {
   "cell_type": "code",
   "execution_count": 12,
   "metadata": {},
   "outputs": [
    {
     "name": "stdout",
     "output_type": "stream",
     "text": [
      "634\n"
     ]
    }
   ],
   "source": [
    "from bs4 import BeautifulSoup\n",
    "import requests\n",
    "from bs4.element import Comment\n",
    "\n",
    "page = requests.get('https://www.york.ac.uk/teaching/cws/wws/webpage1.html')\n",
    "\n",
    "soup = BeautifulSoup(page.content, 'html.parser')\n",
    "\n",
    "\n",
    "texts = soup.findAll(text=True)\n",
    "\n",
    "count = 0\n",
    "\n",
    "for text in texts:\n",
    "    words = text.replace('\\n', '').replace('\\t', '').split(' ')\n",
    "            \n",
    "    for word in words:\n",
    "        if word not in ['', '.', '-']:\n",
    "            count += 1\n",
    "            \n",
    "print(count)"
   ]
  },
  {
   "cell_type": "raw",
   "metadata": {},
   "source": [
    "2. Question #2: using the following link, extract every stadium name out of the table: https://en.wikipedia.org/wiki/List_of_current_ National_Football_League_stadiums. there should be 32 total names."
   ]
  },
  {
   "cell_type": "code",
   "execution_count": 13,
   "metadata": {},
   "outputs": [
    {
     "name": "stdout",
     "output_type": "stream",
     "text": [
      "Estadio Azteca\n",
      "\n",
      "Tom Benson Hall of Fame Stadium\n",
      "\n",
      "Wembley Stadium\n",
      "\n",
      "Tottenham Hotspur Stadium\n",
      "\n",
      "4\n"
     ]
    }
   ],
   "source": [
    "from bs4 import BeautifulSoup\n",
    "import requests\n",
    "\n",
    "page = requests.get('https://en.wikipedia.org/wiki/List_of_current_National_Football_League_stadiums')\n",
    "\n",
    "soup = BeautifulSoup(page.content, 'html.parser')\n",
    "\n",
    "nfl_stadiums_table = soup.findAll('table')[1]\n",
    "\n",
    "tbody = list(nfl_stadiums_table.children)[1]\n",
    "\n",
    "stadiums = [] \n",
    "\n",
    "for i in range(1, len(list(tbody.children))):\n",
    "    row = list(tbody.children)[i]\n",
    "    \n",
    "    th = row.find('th')\n",
    "    \n",
    "    try:\n",
    "        stadium_name = th.get_text()\n",
    "        stadiums.append(stadium_name)\n",
    "    except:\n",
    "        pass\n",
    "    \n",
    "for stadium in stadiums:\n",
    "    print(stadium)\n",
    "    \n",
    "print(len(stadiums))  # should be 31, two teams share a field"
   ]
=======
   "execution_count": null,
   "id": "d0d20ca3",
   "metadata": {},
   "outputs": [],
   "source": []
>>>>>>> d4a4f8c0ad0e709acb1b1295c7a67a8548f3e146
  }
 ],
 "metadata": {
  "kernelspec": {
   "display_name": "Python 3",
   "language": "python",
   "name": "python3"
  },
  "language_info": {
   "codemirror_mode": {
    "name": "ipython",
    "version": 3
   },
   "file_extension": ".py",
   "mimetype": "text/x-python",
   "name": "python",
   "nbconvert_exporter": "python",
   "pygments_lexer": "ipython3",
   "version": "3.7.6"
  }
 },
 "nbformat": 4,
 "nbformat_minor": 5
}
