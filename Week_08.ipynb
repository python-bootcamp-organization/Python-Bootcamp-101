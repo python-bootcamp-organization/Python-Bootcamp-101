{
 "cells": [
  {
   "cell_type": "markdown",
   "metadata": {},
   "source": [
    "# Advanced Topics I: Efficiency"
   ]
  },
  {
   "cell_type": "markdown",
   "metadata": {},
   "source": [
    "# Monday: List Comprehension"
   ]
  },
  {
   "cell_type": "markdown",
   "metadata": {},
   "source": [
    "It doesn’t improve performance, but it’s cleaner and helps reduce the lines of code within our program. With comprehension we can reduce two or more lines into one. Plus, it’s generally quicker to write."
   ]
  },
  {
   "cell_type": "markdown",
   "metadata": {},
   "source": [
    "1) List Comprehension Syntax"
   ]
  },
  {
   "cell_type": "markdown",
   "metadata": {},
   "source": [
    "-----> *result* = [ *transform* *iteration* *filter* ]"
   ]
  },
  {
   "cell_type": "markdown",
   "metadata": {},
   "source": [
    "2) Generating a List of Numbers"
   ]
  },
  {
   "cell_type": "code",
   "execution_count": 6,
   "metadata": {},
   "outputs": [
    {
     "data": {
      "text/plain": [
       "[0, 10, 20, 30, 40, 50, 60, 70, 80, 90]"
      ]
     },
     "execution_count": 6,
     "metadata": {},
     "output_type": "execute_result"
    }
   ],
   "source": [
    "# creat a list of ten numbers using list comprehension\n",
    "nums = [x for x in range(0,100,10)]\n",
    "nums"
   ]
  },
  {
   "cell_type": "markdown",
   "metadata": {},
   "source": [
    "3) If Statements"
   ]
  },
  {
   "cell_type": "code",
   "execution_count": 8,
   "metadata": {},
   "outputs": [
    {
     "data": {
      "text/plain": [
       "[0, 2, 4, 6, 8]"
      ]
     },
     "execution_count": 8,
     "metadata": {},
     "output_type": "execute_result"
    }
   ],
   "source": [
    "# using if statements within list comprehension\n",
    "nums = [x for x in range(10) if x % 2 == 0]\n",
    "nums"
   ]
  },
  {
   "cell_type": "markdown",
   "metadata": {},
   "source": [
    "Note : This time we were able to reduce four lines of code down to one. This can often improve readability of your code."
   ]
  },
  {
   "cell_type": "code",
   "execution_count": 9,
   "metadata": {},
   "outputs": [
    {
     "data": {
      "text/plain": [
       "['Even', 'Odd', 'Even', 'Odd', 'Even', 'Odd', 'Even', 'Odd', 'Even', 'Odd']"
      ]
     },
     "execution_count": 9,
     "metadata": {},
     "output_type": "execute_result"
    }
   ],
   "source": [
    "# using if/else statements within list comprehension\n",
    "nums = [\"Even\" if x % 2 == 0 else \"Odd\" for x in range(10)]\n",
    "nums"
   ]
  },
  {
   "cell_type": "markdown",
   "metadata": {},
   "source": [
    "Note : We’ve reduced the lines of code from six down to one. Comprehensions are great for quick generation of data; however, it becomes more difficult when the conditions are larger. Comprehensions don’t allow for the use of elif statements, only if/else statements."
   ]
  },
  {
   "cell_type": "markdown",
   "metadata": {},
   "source": [
    "4) List Comprehension with Variables"
   ]
  },
  {
   "cell_type": "markdown",
   "metadata": {},
   "source": [
    "Note : Comprehension is great for generating data from other lists as well. "
   ]
  },
  {
   "cell_type": "code",
   "execution_count": 10,
   "metadata": {},
   "outputs": [
    {
     "data": {
      "text/plain": [
       "[4, 16, 36, 64]"
      ]
     },
     "execution_count": 10,
     "metadata": {},
     "output_type": "execute_result"
    }
   ],
   "source": [
    "# creating a list of squared numbers from another list of numbers using list comprehension\n",
    "nums = [2,4,6,8]\n",
    "squared_nums = [num**2 for num in nums]\n",
    "squared_nums"
   ]
  },
  {
   "cell_type": "markdown",
   "metadata": {},
   "source": [
    "Note : In this example, we were able to reduce the lines needed from three to one"
   ]
  },
  {
   "cell_type": "markdown",
   "metadata": {},
   "source": [
    "5) Dictionary Comprehension"
   ]
  },
  {
   "cell_type": "markdown",
   "metadata": {},
   "source": [
    "Note : Not only can you use comprehension on lists but also Python dictionaries as well."
   ]
  },
  {
   "cell_type": "code",
   "execution_count": 12,
   "metadata": {},
   "outputs": [
    {
     "data": {
      "text/plain": [
       "{0: 0, 2: 4, 4: 16, 6: 36, 8: 64}"
      ]
     },
     "execution_count": 12,
     "metadata": {},
     "output_type": "execute_result"
    }
   ],
   "source": [
    "# creating a dictionary of even numbers and square values using comprehension\n",
    "numbers = [x for x in range(10)]\n",
    "squares = {num : num**2 for num in numbers if num % 2 == 0}\n",
    "squares"
   ]
  },
  {
   "cell_type": "markdown",
   "metadata": {},
   "source": [
    "# MONDAY EXERCISES"
   ]
  },
  {
   "cell_type": "raw",
   "metadata": {},
   "source": [
    "1. Degree Conversion: Using list comprehension, convert the following list to\n",
    "Fahrenheit. Currently, the degrees are in Celsius temperatures. the conversion\n",
    "formula is “(9/5) * C + 32”. your output should be [ 53.6, 69.8, 59, 89.6 ].\n",
    ">>> degrees = [ 12, 21, 15, 32 ]"
   ]
  },
  {
   "cell_type": "code",
   "execution_count": 13,
   "metadata": {},
   "outputs": [
    {
     "data": {
      "text/plain": [
       "[53.6, 69.80000000000001, 59.0, 89.6]"
      ]
     },
     "execution_count": 13,
     "metadata": {},
     "output_type": "execute_result"
    }
   ],
   "source": [
    "#Solution\n",
    "degrees = [12, 21, 15, 32]\n",
    "degree_conversion = [(9/5)*x+32 for x in degrees]\n",
    "degree_conversion"
   ]
  },
  {
   "cell_type": "raw",
   "metadata": {},
   "source": [
    "2. User Input: ask the user to input a single integer up to and including 100.\n",
    "Generate a list of numbers that are exactly divisible by that number up to and\n",
    "including 100 using list comprehension. For example, if the number 25 was\n",
    "input, then the output should be [ 25, 50, 75, 100 ]."
   ]
  },
  {
   "cell_type": "code",
   "execution_count": 15,
   "metadata": {},
   "outputs": [
    {
     "name": "stdout",
     "output_type": "stream",
     "text": [
      "Input a single integer up to and including 100 : 25\n"
     ]
    },
    {
     "data": {
      "text/plain": [
       "[25, 50, 75, 100]"
      ]
     },
     "execution_count": 15,
     "metadata": {},
     "output_type": "execute_result"
    }
   ],
   "source": [
    "# Solution\n",
    "number = int(input(\"Input a single integer up to and including 100 : \"))\n",
    "list_numbers = [x for x in range(101)]\n",
    "output = [x for x in list_numbers if x % number == 0 and x != 0]\n",
    "output"
   ]
  },
  {
   "cell_type": "markdown",
   "metadata": {},
   "source": [
    "# Tuesday: Lambda Functions"
   ]
  },
  {
   "cell_type": "markdown",
   "metadata": {},
   "source": [
    "Note : Lambda functions, otherwise known as anonymous functions, are one-line functions within Python. Like list comprehension, lambda functions allow us to reduce the lines of code we need to write within our program. It doesn’t work for complicated functions but helps to improve readability of smaller functions.   \n",
    "---> lambda arguments : expression"
   ]
  },
  {
   "cell_type": "markdown",
   "metadata": {},
   "source": [
    "1) Using a Lambda"
   ]
  },
  {
   "cell_type": "code",
   "execution_count": null,
   "metadata": {},
   "outputs": [],
   "source": [
    "# using a lambda to square a number\n",
    "(lambda x:x**2)(4)\n",
    "# equivalant to\n",
    "#>>> def square(x):\n",
    "#>>> return x**2\n",
    "#>>> square(4)"
   ]
  },
  {
   "cell_type": "markdown",
   "metadata": {},
   "source": [
    "2) Passing Multiple Arguments"
   ]
  },
  {
   "cell_type": "code",
   "execution_count": 2,
   "metadata": {},
   "outputs": [
    {
     "data": {
      "text/plain": [
       "50"
      ]
     },
     "execution_count": 2,
     "metadata": {},
     "output_type": "execute_result"
    }
   ],
   "source": [
    "#passing muliple argumants to lambda\n",
    "(lambda x,y: x*y)(10,5)"
   ]
  },
  {
   "cell_type": "markdown",
   "metadata": {},
   "source": [
    "3) Saving Lambda Functions"
   ]
  },
  {
   "cell_type": "markdown",
   "metadata": {},
   "source": [
    "Note : Lambdas get there name anonymous function because they don’t have a name to\n",
    "reference or call upon. Once a lambda function is used, it can’t be used again unless it\n",
    "is saved into a variable."
   ]
  },
  {
   "cell_type": "code",
   "execution_count": 12,
   "metadata": {},
   "outputs": [
    {
     "name": "stdout",
     "output_type": "stream",
     "text": [
      "<function <lambda> at 0x0000003BA77483A8>\n",
      "50\n"
     ]
    }
   ],
   "source": [
    "#saving lambda fonction into a variable\n",
    "square = lambda x,y : x*y\n",
    "print(square)\n",
    "result = square(10,5)\n",
    "print(result)"
   ]
  },
  {
   "cell_type": "markdown",
   "metadata": {},
   "source": [
    "Note : When functions are stored inside of variables, the variable\n",
    "name acts as the function call."
   ]
  },
  {
   "cell_type": "code",
   "execution_count": 17,
   "metadata": {},
   "outputs": [
    {
     "ename": "SyntaxError",
     "evalue": "invalid syntax (<ipython-input-17-ef7296eb5256>, line 2)",
     "output_type": "error",
     "traceback": [
      "\u001b[1;36m  File \u001b[1;32m\"<ipython-input-17-ef7296eb5256>\"\u001b[1;36m, line \u001b[1;32m2\u001b[0m\n\u001b[1;33m    greater = lambda x,y: x if x>y\u001b[0m\n\u001b[1;37m                                  ^\u001b[0m\n\u001b[1;31mSyntaxError\u001b[0m\u001b[1;31m:\u001b[0m invalid syntax\n"
     ]
    }
   ],
   "source": [
    "# using if/else statements within a lambda to return the greater number\n",
    "greater = lambda x,y: x if x>y\n",
    "result = greater(10,5)\n",
    "print(result)"
   ]
  },
  {
   "cell_type": "markdown",
   "metadata": {},
   "source": [
    "Note : Once you begin adding conditional statements into a lambda function, they act the same\n",
    "way that ternary operators do. The only difference is that you must provide both the if\n",
    "and else statements. You can’t use just an if statement; it will render a syntax error, as it\n",
    "always needs an expression to return . "
   ]
  },
  {
   "cell_type": "code",
   "execution_count": 16,
   "metadata": {},
   "outputs": [
    {
     "name": "stdout",
     "output_type": "stream",
     "text": [
      "10\n"
     ]
    }
   ],
   "source": [
    "greater = lambda x,y: x if x>y else y\n",
    "result = greater(10,5)\n",
    "print(result)"
   ]
  },
  {
   "cell_type": "markdown",
   "metadata": {},
   "source": [
    "Note : When conditional statements are used, it’s easy to see the power of lambda\n",
    "functions. In this case we were able to turn five lines of code into one."
   ]
  },
  {
   "cell_type": "markdown",
   "metadata": {},
   "source": [
    "4) Returning a Lambda"
   ]
  },
  {
   "cell_type": "markdown",
   "metadata": {},
   "source": [
    "Where lambda functions shine is in their ability to make other functions more modular."
   ]
  },
  {
   "cell_type": "code",
   "execution_count": 20,
   "metadata": {},
   "outputs": [
    {
     "name": "stdout",
     "output_type": "stream",
     "text": [
      "10\n",
      "15\n"
     ]
    }
   ],
   "source": [
    "#reurning a lambda fonction from another fonction\n",
    "def my_func(n):\n",
    "    return lambda x:x*n\n",
    "doubler = my_func(2) # return equivalent of lambda x:x*2\n",
    "print(doubler(5))\n",
    "tripler = my_func(3)\n",
    "print(tripler(5))"
   ]
  },
  {
   "cell_type": "markdown",
   "metadata": {},
   "source": [
    "Note : We’re able to modify the result of my_func because of the returned\n",
    "lambda function."
   ]
  },
  {
   "cell_type": "markdown",
   "metadata": {},
   "source": [
    "# TUESDAY EXERCISES"
   ]
  },
  {
   "cell_type": "raw",
   "metadata": {},
   "source": [
    "1. Fill in the Blanks: Fill in the blanks for the following code so that it takes in a parameter of “x” and returns “true” if it is greater than 50; otherwise, it should return “False”:\n",
    "\n",
    ">>> ____ x _ True if x _ 50 ____ False"
   ]
  },
  {
   "cell_type": "code",
   "execution_count": 22,
   "metadata": {},
   "outputs": [
    {
     "data": {
      "text/plain": [
       "False"
      ]
     },
     "execution_count": 22,
     "metadata": {},
     "output_type": "execute_result"
    }
   ],
   "source": [
    "(lambda x: True if x>50 else False)(40)"
   ]
  },
  {
   "cell_type": "raw",
   "metadata": {},
   "source": [
    "2. Degree Conversion: Write a lambda function that takes in a degree value in\n",
    "Celsius and returns the degree converted into Fahrenheit."
   ]
  },
  {
   "cell_type": "code",
   "execution_count": 24,
   "metadata": {},
   "outputs": [
    {
     "data": {
      "text/plain": [
       "53.6"
      ]
     },
     "execution_count": 24,
     "metadata": {},
     "output_type": "execute_result"
    }
   ],
   "source": [
    "degree_conv = lambda degree : (9/5) * degree + 32\n",
    "degree_conv(12)"
   ]
  },
  {
   "cell_type": "markdown",
   "metadata": {},
   "source": [
    "Note : today we were able to understand the differences between normal functions and anonymous functions, otherwise known as lambda functions. they’re useful for readability and being able to condense your code. one of their most powerful features is being able to give functions more capabilities by being returned from them."
   ]
  },
  {
   "cell_type": "markdown",
   "metadata": {},
   "source": [
    "# Wednesday: Map, Filter, and Reduce"
   ]
  },
  {
   "cell_type": "markdown",
   "metadata": {},
   "source": [
    "Note : When working with data, you’ll generally need to be able to modify, filter, or calculate an expression from the data. That’s where these important built-in functions come into play. The **map** function is used to iterate over a data collection and modify it. The **filter** function is used to iterate over a data collection, and you guessed it… filter out data that doesn’t meet a condition. Lastly, the **reduce** function takes a data collection and condenses it down to a single result, like the sum function for lists."
   ]
  },
  {
   "cell_type": "markdown",
   "metadata": {},
   "source": [
    "1) Map Without Lambdas"
   ]
  },
  {
   "cell_type": "markdown",
   "metadata": {},
   "source": [
    "Note : The **map** function is used when you need to alter all items within an iterable data\n",
    "collection. It takes in two arguments, the function to be applied on each element and\n",
    "the iterable data. When using map, it returns a map object, which is an iterator. Don’t\n",
    "worry about what these are for now; just know that we can type convert them into a data\n",
    "type that we can work with, like a list."
   ]
  },
  {
   "cell_type": "code",
   "execution_count": 26,
   "metadata": {},
   "outputs": [
    {
     "name": "stdout",
     "output_type": "stream",
     "text": [
      "<map object at 0x0000003BA66D6448>\n",
      "[54.5, 56.480000000000004, 59.0, 48.56]\n"
     ]
    }
   ],
   "source": [
    "# using the map fuction without lambda\n",
    "def convertDeg(C):\n",
    "    return (9/5) * C + 32\n",
    "temps = [12.5, 13.6, 15, 9.2]\n",
    "converted_temps = map(convertDeg, temps) # returns map object\n",
    "print(converted_temps)\n",
    "\n",
    "converted_temps = list(converted_temps) # type convert map object into list of converted temps\n",
    "print(converted_temps)"
   ]
  },
  {
   "cell_type": "markdown",
   "metadata": {},
   "source": [
    "Note : the map function returns a map\n",
    "object"
   ]
  },
  {
   "cell_type": "markdown",
   "metadata": {},
   "source": [
    "2) Map with Lambdas"
   ]
  },
  {
   "cell_type": "code",
   "execution_count": 27,
   "metadata": {},
   "outputs": [
    {
     "name": "stdout",
     "output_type": "stream",
     "text": [
      "[54.5, 56.480000000000004, 59.0, 48.56]\n"
     ]
    }
   ],
   "source": [
    "# using a map fuction with lambda\n",
    "temps = [12.5, 13.6, 15, 9.2]\n",
    "converted_temps = list(map(lambda C : (9/5) * C + 32, temps))\n",
    "print(converted_temps)"
   ]
  },
  {
   "cell_type": "markdown",
   "metadata": {},
   "source": [
    "--------> The same process that we’re performing can be found in the lines of\n",
    "code in the following:"
   ]
  },
  {
   "cell_type": "code",
   "execution_count": 29,
   "metadata": {},
   "outputs": [
    {
     "name": "stdout",
     "output_type": "stream",
     "text": [
      "[54.5, 56.480000000000004, 59.0, 48.56]\n"
     ]
    }
   ],
   "source": [
    "def convertDeg(degrees):\n",
    "    results = []\n",
    "    for degree in degrees:\n",
    "        converted = (9/5) * degree + 32\n",
    "        results.append(converted)\n",
    "    return results\n",
    "\n",
    "temps = [12.5, 13.6, 15, 9.2]\n",
    "converted_temps = convertDeg(temps)\n",
    "print(converted_temps)"
   ]
  },
  {
   "cell_type": "markdown",
   "metadata": {},
   "source": [
    "Note : As you can see, the use of **lambda** functions and **map** help to reduce the lines of code\n",
    "used when we need to alter our data."
   ]
  },
  {
   "cell_type": "markdown",
   "metadata": {},
   "source": [
    "3) Filter Without Lambdas"
   ]
  },
  {
   "cell_type": "markdown",
   "metadata": {},
   "source": [
    "Note : The filter function is useful for taking a collection of data and removing any information\n",
    "that you don’t need."
   ]
  },
  {
   "cell_type": "code",
   "execution_count": 1,
   "metadata": {},
   "outputs": [
    {
     "name": "stdout",
     "output_type": "stream",
     "text": [
      "<filter object at 0x0000005B62B34348>\n",
      "[13.6, 15]\n"
     ]
    }
   ],
   "source": [
    "# using the filter fuction without lambda fuctions, filter out temps below 55F\n",
    "def filterTemps(C):\n",
    "    converted = (9/5) * C + 32\n",
    "    return True if converted > 55 else False\n",
    "temps = [12.5, 13.6, 15, 9.2]\n",
    "filtred_temps = filter(filterTemps, temps)\n",
    "print(filtred_temps)\n",
    "filtred_temps = list(filtred_temps)\n",
    "print(filtred_temps)"
   ]
  },
  {
   "cell_type": "markdown",
   "metadata": {},
   "source": [
    "4) Filter with Lambdas"
   ]
  },
  {
   "cell_type": "code",
   "execution_count": 7,
   "metadata": {},
   "outputs": [
    {
     "name": "stdout",
     "output_type": "stream",
     "text": [
      "[13.6, 15]\n"
     ]
    }
   ],
   "source": [
    "# using the filter fuction with lambda fuction, filter out temps below 55F\n",
    "temps = [12.5, 13.6, 15, 9.2]\n",
    "filtred_temps = list(filter(lambda C: True if (9/5) * C + 32 > 55 else False, temps))\n",
    "print(filtred_temps)"
   ]
  },
  {
   "cell_type": "markdown",
   "metadata": {},
   "source": [
    "5) The Problem with Reduce"
   ]
  },
  {
   "cell_type": "code",
   "execution_count": 13,
   "metadata": {},
   "outputs": [
    {
     "name": "stdout",
     "output_type": "stream",
     "text": [
      "24\n"
     ]
    }
   ],
   "source": [
    "# for informational purposes this is how you use the reduce function.\n",
    "from functools import reduce\n",
    "nums = [1, 2, 3, 4]\n",
    "result = reduce(lambda a,b : a*b, nums)\n",
    "print(result)"
   ]
  },
  {
   "cell_type": "markdown",
   "metadata": {},
   "source": [
    "# WEDNESDAY EXERCISES"
   ]
  },
  {
   "cell_type": "raw",
   "metadata": {},
   "source": [
    "1. Mapping Names: Use a lambda and map function to map over the list of\n",
    "names in the following to produce the following result “[ “Ryan”, “Paul”,\n",
    "“Kevin Connors” ].\n",
    ">>> names = [ \" ryan\", \"PAUL\", \"kevin connors \" ]"
   ]
  },
  {
   "cell_type": "code",
   "execution_count": 14,
   "metadata": {},
   "outputs": [
    {
     "name": "stdout",
     "output_type": "stream",
     "text": [
      "['Ryan', 'Paul', 'Kevin Connors']\n"
     ]
    }
   ],
   "source": [
    "names = [\" ryan\", \"PAUL\", \"kevin connors \"]\n",
    "result = list(map(lambda x: x.strip().title(), names))\n",
    "print(result)"
   ]
  },
  {
   "cell_type": "raw",
   "metadata": {},
   "source": [
    "2. Filter Names: Using a lambda and filter function, filter out all the names that\n",
    "start with the letter “a.” Make it case insensitive, so it filters out the name\n",
    "whether it’s uppercase or not. the output of the following list should be\n",
    "[ “Frank”, “Ripal” ].\n",
    ">>> names = [ \"Amanda\", \"Frank\", \"abby\", \"Ripal\", \"Adam\" ]"
   ]
  },
  {
   "cell_type": "code",
   "execution_count": 18,
   "metadata": {},
   "outputs": [
    {
     "name": "stdout",
     "output_type": "stream",
     "text": [
      "['Frank', 'Ripal']\n"
     ]
    }
   ],
   "source": [
    "names = [\"Amanda\", \"Frank\", \"abby\", \"Ripal\", \"Adam\"]\n",
    "result = list(filter(lambda x: True if x.lower()[0] != \"a\" else False, names))\n",
    "print(result)"
   ]
  },
  {
   "cell_type": "markdown",
   "metadata": {},
   "source": [
    "# Thursday: Recursive Functions and Memoization"
   ]
  },
  {
   "cell_type": "markdown",
   "metadata": {},
   "source": [
    "**Recursion** is a concept in programming where a function calls itself one or more times within its block. These types of functions can often run into issues with speed, however, due to the function constantly calling itself.   \n",
    "**Memoization** helps this process by storing values that were already calculated to be used later."
   ]
  },
  {
   "cell_type": "markdown",
   "metadata": {},
   "source": [
    "----> QST:  So why use them?   \n",
    "     In certain instances,\n",
    "recursive functions are easier to understand rather than programming a loop. They’re\n",
    "used often in searching and sorting algorithms because of the repetitive tasks that occur."
   ]
  },
  {
   "cell_type": "markdown",
   "metadata": {},
   "source": [
    "1) Writing a Factorial Function"
   ]
  },
  {
   "cell_type": "code",
   "execution_count": 1,
   "metadata": {},
   "outputs": [
    {
     "name": "stdout",
     "output_type": "stream",
     "text": [
      "24\n"
     ]
    }
   ],
   "source": [
    "# writing a factorial using recrsive fuctions\n",
    "\n",
    "def factorial(n):\n",
    "    # set your base case!\n",
    "    if n <= 1:\n",
    "        return 1\n",
    "    else:\n",
    "        return factorial(n-1) * n\n",
    "\n",
    "print(factorial(4)) # the result of 4 * 3 * 2 * 1"
   ]
  },
  {
   "cell_type": "markdown",
   "metadata": {},
   "source": [
    "2) The Fibonacci Sequence"
   ]
  },
  {
   "cell_type": "markdown",
   "metadata": {},
   "source": [
    "The Fibonacci sequence is one of the most famous formulas in mathematics. It’s also\n",
    "one of the most well-known recursive functions in programming. Each number in the\n",
    "sequence is the sum of the previous two numbers, such that fib(5) = fib(4) + fib(3).\n",
    "The base case for the Fibonacci sequence is 0 and 1 because the result of fib(2) is\n",
    "“fib(2) = fib(1) + fib(0)”"
   ]
  },
  {
   "cell_type": "code",
   "execution_count": 2,
   "metadata": {},
   "outputs": [
    {
     "name": "stdout",
     "output_type": "stream",
     "text": [
      "5\n"
     ]
    }
   ],
   "source": [
    "# writing the recursive fibonacci sequence\n",
    "def fib(n):\n",
    "    if n <= 1:\n",
    "        return n\n",
    "    else:\n",
    "        return fib(n-1) + fib(n-2)\n",
    "\n",
    "print(fib(5)) # results in 5"
   ]
  },
  {
   "cell_type": "markdown",
   "metadata": {},
   "source": [
    "As the number passed in grows, so to does the structure and number of recursive calls. It’s exponential, which can slow down the program dramatically. Even trying to execute fib(40) can take a couple minutes, and fib(100) will generally break because of maximum recursion depth issues. Which leads us to our next topic on how to solve this issue… **memoization**."
   ]
  },
  {
   "cell_type": "markdown",
   "metadata": {},
   "source": [
    "3) Understanding Memoization\n",
    "\n",
    "When you go to a web page for the first time, your browser takes a little while to load the\n",
    "images and files required by the page. The second time you go to the exact same page, it\n",
    "usually loads much faster. This is because your browser is using a technique known as\n",
    "“caching.” When you loaded the page the first time, it saved the images and files locally.\n",
    "The second time you accessed the web page, instead of re-downloading all the images and\n",
    "files, it simply loaded them from the cache. This improves our experiences on the Web.   \n",
    "In computing, memoization is an optimization technique used primarily to speed\n",
    "up computer programs by storing the results of previously called functions and returning\n",
    "the saved result when trying to calculate the same sequence. This is simply known as\n",
    "“caching,” and the preceding paragraph is a real-life example of how memoization can\n",
    "improve performance. Let’s look at some examples of how memoization can improve\n",
    "our recursive functions."
   ]
  },
  {
   "cell_type": "markdown",
   "metadata": {},
   "source": [
    "4) Using Memoization\n",
    "\n",
    "Note : In order to apply memoization to the Fibonacci sequence, we must understand what\n",
    "the best method of caching values would be. In Python, **dictionaries** give us the ability\n",
    "to store values based on a given key. They are also based on **constant time in terms of\n",
    "Big O Notation**. "
   ]
  },
  {
   "cell_type": "code",
   "execution_count": 6,
   "metadata": {},
   "outputs": [
    {
     "name": "stdout",
     "output_type": "stream",
     "text": [
      "12586269025\n"
     ]
    }
   ],
   "source": [
    "# using memoization with the fibonacci sequence\n",
    "cache = {} # used to cache value to be used later\n",
    "def fib(n):\n",
    "    if n in cache:\n",
    "        return cache[n] #return value stored in dictionary\n",
    "    result = 0\n",
    "    # bse case\n",
    "    if n <= 1:\n",
    "        return n\n",
    "    else:\n",
    "        result = fib(n-1) + fib(n-2)\n",
    "    cache[n] = result # sve result into dictionary with n as the key\n",
    "    return result\n",
    "\n",
    "print(fib(50)) # calculates almost instantly"
   ]
  },
  {
   "cell_type": "markdown",
   "metadata": {},
   "source": [
    "Notice this time it was able to calculate fib(50) almost\n",
    "instantly. If we ran this without caching values, it could have taken hours or days to\n",
    "execute the same calculation. This is the beauty of memoization at work.\n",
    "\n",
    "Note : Memoization is not perfect; there is a limit to how much you can store in a\n",
    "single cache."
   ]
  },
  {
   "cell_type": "markdown",
   "metadata": {},
   "source": [
    "5) Using @lru_cache\n",
    "\n",
    "Now that we know how to create a caching system ourselves, let’s use Python’s built-in\n",
    "method for memoization. It’s known as **“lru_cache”** or **Least Recently Used Cache**. It\n",
    "performs the same way our memoization technique did earlier; however, it’ll do it in less\n",
    "lines of code because we apply it as a decorator"
   ]
  },
  {
   "cell_type": "code",
   "execution_count": 8,
   "metadata": {},
   "outputs": [
    {
     "data": {
      "text/plain": [
       "12586269025"
      ]
     },
     "execution_count": 8,
     "metadata": {},
     "output_type": "execute_result"
    }
   ],
   "source": [
    "# using @lru_cach, Python's default moization/caching technique\n",
    "from functools import lru_cache\n",
    "@lru_cache() # python's built-in memoization/caching system\n",
    "def fib(n):\n",
    "    if n <= 1:\n",
    "        return n\n",
    "    else:\n",
    "        return fib(n-1) + fib(n-2)\n",
    "\n",
    "fib(50) # calculates almost instantly"
   ]
  },
  {
   "cell_type": "markdown",
   "metadata": {},
   "source": [
    "# THURSDAY EXERCISES"
   ]
  },
  {
   "cell_type": "raw",
   "metadata": {},
   "source": [
    "1. Factorial Caching: apply either the lru_cache built-in decorator to the factorial function that we created previously, or set up your own caching system."
   ]
  },
  {
   "cell_type": "code",
   "execution_count": 12,
   "metadata": {},
   "outputs": [
    {
     "data": {
      "text/plain": [
       "815915283247897734345611269596115894272000000000"
      ]
     },
     "execution_count": 12,
     "metadata": {},
     "output_type": "execute_result"
    }
   ],
   "source": [
    "# first method by using the lru_cache built-in decorator\n",
    "from functools import lru_cache\n",
    "\n",
    "@lru_cache()\n",
    "def factorial(n):\n",
    "    if n <= 1:\n",
    "        return 1\n",
    "    else:\n",
    "        return factorial(n-1) * n\n",
    "\n",
    "factorial(40)"
   ]
  },
  {
   "cell_type": "code",
   "execution_count": 14,
   "metadata": {},
   "outputs": [
    {
     "data": {
      "text/plain": [
       "815915283247897734345611269596115894272000000000"
      ]
     },
     "execution_count": 14,
     "metadata": {},
     "output_type": "execute_result"
    }
   ],
   "source": [
    "# second method by using my caching system (dictionaries)\n",
    "cache = {}\n",
    "def fact(n):\n",
    "    if n in cache:\n",
    "        return cache[n]\n",
    "    result = 0\n",
    "    if n <= 1:\n",
    "        return 1\n",
    "    else:\n",
    "        result = fact(n-1) * n\n",
    "    cache[n] = result\n",
    "    return result\n",
    "\n",
    "fact(40)    "
   ]
  },
  {
   "cell_type": "raw",
   "metadata": {},
   "source": [
    "2. Searching Data: Create a function that takes in two arguments, a list of data and an item to search for. search through the list of data passed in and return true if the item to search for appears, otherwise, return False. If one of the items is another list, create a recursive call so that you don’t need to create another loop. Use the example call in the following as a reference on what data to expect:\n",
    ">>> searchList( [ 2, 3, [ 18, 22 ], 6 ], 22 )"
   ]
  },
  {
   "cell_type": "code",
   "execution_count": 134,
   "metadata": {},
   "outputs": [
    {
     "data": {
      "text/plain": [
       "True"
      ]
     },
     "execution_count": 134,
     "metadata": {},
     "output_type": "execute_result"
    }
   ],
   "source": [
    "#first method\n",
    "def searchList(List, item):\n",
    "    result = False\n",
    "    for i in List:\n",
    "        if item == i:\n",
    "            return True\n",
    "        elif type(i) == list:\n",
    "            result = searchList(i, item)\n",
    "    return result\n",
    "\n",
    "\n",
    "searchList([ 2, 3, [ 18, 22 ], 6 ], 6)"
   ]
  },
  {
   "cell_type": "code",
   "execution_count": 133,
   "metadata": {},
   "outputs": [
    {
     "data": {
      "text/plain": [
       "True"
      ]
     },
     "execution_count": 133,
     "metadata": {},
     "output_type": "execute_result"
    }
   ],
   "source": [
    "# second method by using the methode isinstance\n",
    "def searchList(aList, num):\n",
    "    result = False\n",
    "    \n",
    "    for item in aList:\n",
    "        if item == num:\n",
    "            return True\n",
    "        elif isinstance(item, list):\n",
    "            result = searchList(item, num)\n",
    "    return result\n",
    "\n",
    "\n",
    "searchList([ 2, 3, [ 18, 22 ], 6 ], 22)"
   ]
  }
 ],
 "metadata": {
  "kernelspec": {
   "display_name": "Python 3",
   "language": "python",
   "name": "python3"
  },
  "language_info": {
   "codemirror_mode": {
    "name": "ipython",
    "version": 3
   },
   "file_extension": ".py",
   "mimetype": "text/x-python",
   "name": "python",
   "nbconvert_exporter": "python",
   "pygments_lexer": "ipython3",
   "version": "3.7.6"
  }
 },
 "nbformat": 4,
 "nbformat_minor": 4
}
