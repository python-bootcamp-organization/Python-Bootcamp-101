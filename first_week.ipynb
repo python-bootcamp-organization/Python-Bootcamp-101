{
 "cells": [
  {
   "cell_type": "markdown",
   "id": "dd20d868",
   "metadata": {},
   "source": [
    "# Tuesday: Variables"
   ]
  },
  {
   "cell_type": "code",
   "execution_count": 5,
   "id": "877fc22e",
   "metadata": {},
   "outputs": [
    {
     "name": "stdout",
     "output_type": "stream",
     "text": [
      "2\n",
      "<class 'int'>\n",
      "1.2\n",
      "<class 'float'>\n",
      "(1+5j)\n",
      "<class 'complex'>\n"
     ]
    }
   ],
   "source": [
    "## data types in Python\n",
    "#Numeric Types: int, float, complex\n",
    "print(2)\n",
    "print(complex(1, 5))\n",
    "print(type(complex(1, 5))) # complex"
   ]
  },
  {
   "cell_type": "code",
   "execution_count": 9,
   "id": "5b2c4446",
   "metadata": {},
   "outputs": [
    {
     "name": "stdout",
     "output_type": "stream",
     "text": [
      "Hello everybody\n",
      "<class 'str'>\n"
     ]
    }
   ],
   "source": [
    "## data types in Python\n",
    "# Text Types(String)\n",
    "print('Hello everybody')\n",
    "print(type('Hello everybody')) #str"
   ]
  },
  {
   "cell_type": "code",
   "execution_count": 1,
   "id": "7f3c56d6",
   "metadata": {},
   "outputs": [
    {
     "name": "stdout",
     "output_type": "stream",
     "text": [
      "{'name': 'Nat', 'age': 25}\n",
      "<class 'dict'>\n"
     ]
    }
   ],
   "source": [
    "## data types in Python\n",
    "# Mapping Type(Dictionry)\n",
    "print({'name': 'Nat', 'age': 25})\n",
    "print(type({'name': 'Mustapha', 'age': 25})) #dict"
   ]
  },
  {
   "cell_type": "code",
   "execution_count": 2,
   "id": "b19bcda8",
   "metadata": {},
   "outputs": [
    {
     "name": "stdout",
     "output_type": "stream",
     "text": [
      "{'David', 'Jade', 'Alex'}\n",
      "<class 'set'>\n",
      "frozenset({'David', 'Jade', 'Alex'})\n",
      "<class 'frozenset'>\n"
     ]
    }
   ],
   "source": [
    "## data types in Python\n",
    "# Set Types: set, frozenset\n",
    "print({'Jade', 'David', 'Alex'})\n",
    "print(type({'Jade', 'David', 'Alex'})) #set\n",
    "print(frozenset({'Jade', 'David', 'Alex'})) \n",
    "print(type(frozenset({'Jade', 'David', 'Alex'}))) # forzenset"
   ]
  },
  {
   "cell_type": "code",
   "execution_count": 12,
   "id": "a4017733",
   "metadata": {},
   "outputs": [
    {
     "name": "stdout",
     "output_type": "stream",
     "text": [
      "Mo\n",
      "<class 'str'>\n",
      "Mo alex\n"
     ]
    }
   ],
   "source": [
    "\"\"\"\"Variables taken values and store it in memory location, in other words, variables is save data in memory location .\"\"\"\n",
    "#Declare OR initialize variables \"Mo\" is str data types \n",
    "name = \"Mo\" #storing data values called for in this example Mo into variable called name\n",
    "print(name)\n",
    "print(type(name))\n",
    "name_02 = \"alex\"\n",
    "print(name, name_02) # soring multiple variables "
   ]
  },
  {
   "cell_type": "code",
   "execution_count": 13,
   "id": "3d379808",
   "metadata": {},
   "outputs": [
    {
     "name": "stdout",
     "output_type": "stream",
     "text": [
      "10\n",
      "<class 'int'>\n",
      "2.2\n",
      "<class 'float'>\n",
      "(1+2j)\n",
      "<class 'complex'>\n",
      "brahim 3\n"
     ]
    }
   ],
   "source": [
    "#Storing : int, float and complex\n",
    "int_num = 10\n",
    "print(int_num)\n",
    "print(type(int_num))\n",
    "float_num = 2.2\n",
    "print(float_num)\n",
    "print(type(float_num))\n",
    "complex_num = 1+2j\n",
    "print(complex_num)\n",
    "print(type(complex_num))\n",
    "name = 'brahim'\n",
    "num = 3 \n",
    "print(name, num) # storing str and int "
   ]
  },
  {
   "cell_type": "code",
   "execution_count": 17,
   "id": "a5309da5",
   "metadata": {},
   "outputs": [
    {
     "name": "stdout",
     "output_type": "stream",
     "text": [
      "True\n",
      "<class 'bool'>\n",
      "False\n",
      "<class 'bool'>\n"
     ]
    }
   ],
   "source": [
    "# Storing Boolean variables\n",
    "true = True\n",
    "print(true)\n",
    "print(type(true))\n",
    "false = False\n",
    "print(false)\n",
    "print(type(false))"
   ]
  },
  {
   "cell_type": "code",
   "execution_count": 19,
   "id": "4b5c565f",
   "metadata": {},
   "outputs": [
    {
     "name": "stdout",
     "output_type": "stream",
     "text": [
      "4 4 1.0 1 (2+4j) 4 4.2 -0.20000000000000018 4.4 0.9090909090909091\n"
     ]
    }
   ],
   "source": [
    "#arithmetic operation\n",
    "num1 = 2\n",
    "num2 = 2\n",
    "num3 = 2.2\n",
    "num4 = 1+2j\n",
    "res = num1 + num2\n",
    "res1 = num1 * num2\n",
    "res2 = num1 / num2\n",
    "res3 = num1 // num2\n",
    "res4 = num2* num4\n",
    "res5 = num1**num2\n",
    "res6 = num1 + num3\n",
    "res7 = num1 - num3\n",
    "res8 = num1 * num3\n",
    "res9 = num1 / num3\n",
    "print(res, res1, res2, res3, res4, res5, res6, res7, res8, res9)\n"
   ]
  },
  {
   "cell_type": "code",
   "execution_count": 21,
   "id": "7c7d7413",
   "metadata": {
    "scrolled": true
   },
   "outputs": [
    {
     "name": "stdout",
     "output_type": "stream",
     "text": [
      "fridman\n",
      "Mo\n"
     ]
    }
   ],
   "source": [
    "#Python is language that makes it easy for us to change the values\n",
    "name  = 'fridman'\n",
    "print(name)\n",
    "name = 'Mo'\n",
    "print(name)"
   ]
  },
  {
   "cell_type": "markdown",
   "id": "83e5b62d",
   "metadata": {},
   "source": [
    "# Tuesday: EXERCISES"
   ]
  },
  {
   "cell_type": "code",
   "execution_count": 1,
   "id": "914c8fc2",
   "metadata": {},
   "outputs": [
    {
     "name": "stdout",
     "output_type": "stream",
     "text": [
      "30\n"
     ]
    }
   ],
   "source": [
    "#Exercises number one\n",
    "\"\"\"Variable Output: Store the value 3 in a variable called “x” and the value 10 in\n",
    "a variable called “y”. Save the result of x * y into a separate variable called\n",
    "“result”. Finally, output the information so it shows like the following:\"\"\"\n",
    "x, y = 3, 10\n",
    "print(x*y)"
   ]
  },
  {
   "cell_type": "code",
   "execution_count": 2,
   "id": "0f2036bc",
   "metadata": {},
   "outputs": [
    {
     "name": "stdout",
     "output_type": "stream",
     "text": [
      "3354.0764\n"
     ]
    }
   ],
   "source": [
    "#Exercises number two\n",
    "\"\"\"Area Calculation: Calculate the area of a 245.54” x 13.66” rectangle. Print out\n",
    "the result. HINT: Area is width multiplied by height.\"\"\"\n",
    "width  = 245.54\n",
    "height = 13.66\n",
    "rectangle_Area_Calculation = width * height\n",
    "print(rectangle_Area_Calculation)\n"
   ]
  },
  {
   "cell_type": "markdown",
   "id": "adbef8be",
   "metadata": {},
   "source": [
    "# Wednesday: Working with Strings Part I"
   ]
  },
  {
   "cell_type": "markdown",
   "id": "39b5724c",
   "metadata": {},
   "source": [
    "1) String Concatenation"
   ]
  },
  {
   "cell_type": "code",
   "execution_count": 1,
   "id": "7f4f69c8",
   "metadata": {},
   "outputs": [
    {
     "name": "stdout",
     "output_type": "stream",
     "text": [
      "John Smith\n"
     ]
    }
   ],
   "source": [
    "# using the addition operator without variables\n",
    "name = \"John\" + \" \" + \"Smith\"\n",
    "print(name)"
   ]
  },
  {
   "cell_type": "code",
   "execution_count": 2,
   "id": "17eb8126",
   "metadata": {},
   "outputs": [
    {
     "name": "stdout",
     "output_type": "stream",
     "text": [
      "John Smith\n"
     ]
    }
   ],
   "source": [
    "# using the addition operator with variables\n",
    "first_name = \"John\" #we store the first name called \"John\" into the variable \"first_name\".\n",
    "last_name = \"Smith\"\n",
    "full_name = first_name + \" \" + last_name\n",
    "print(full_name)"
   ]
  },
  {
   "cell_type": "markdown",
   "id": "b64f5922",
   "metadata": {},
   "source": [
    "2) Formatting Strings"
   ]
  },
  {
   "cell_type": "code",
   "execution_count": 3,
   "id": "d42aa48a",
   "metadata": {},
   "outputs": [
    {
     "name": "stdout",
     "output_type": "stream",
     "text": [
      "Hello John\n",
      "Hellow John, you are 28 years old!\n"
     ]
    }
   ],
   "source": [
    "#injecting variables using the format methode\n",
    "name = \"John\"\n",
    "print(\"Hello {}\".format(name))\n",
    "print(\"Hellow {}, you are {} years old!\".format(name, 28))"
   ]
  },
  {
   "cell_type": "markdown",
   "id": "daee0d6f",
   "metadata": {},
   "source": [
    "3) f Strings (New in Python 3.6)   \n",
    "---> This methode (f Strings) is an other way to inject variables a string."
   ]
  },
  {
   "cell_type": "code",
   "execution_count": 4,
   "id": "d1e87dcc",
   "metadata": {},
   "outputs": [
    {
     "name": "stdout",
     "output_type": "stream",
     "text": [
      "Hello John\n"
     ]
    }
   ],
   "source": [
    "#using the new f string\n",
    "name = \"John\"\n",
    "print(f\"Hello {name}\")"
   ]
  },
  {
   "cell_type": "markdown",
   "id": "76b45c40",
   "metadata": {},
   "source": [
    "4) Formatting in Python 2    \n",
    "Note : Python 2 doesn't include the .format() methode, so in this case, we use the operation % followed by s or d.   \n",
    "%s : for text type   \n",
    "%d : for Numeric type"
   ]
  },
  {
   "cell_type": "code",
   "execution_count": 9,
   "id": "a03f4b05",
   "metadata": {},
   "outputs": [
    {
     "name": "stdout",
     "output_type": "stream",
     "text": [
      "Hello, John\n"
     ]
    }
   ],
   "source": [
    "#one major difference between versions 2 &3\n",
    "name = \"John\"\n",
    "print(\"Hello, %s\" %name)"
   ]
  },
  {
   "cell_type": "code",
   "execution_count": 11,
   "id": "8a226acc",
   "metadata": {},
   "outputs": [
    {
     "name": "stdout",
     "output_type": "stream",
     "text": [
      "Hello, john Smith\n"
     ]
    }
   ],
   "source": [
    "#python 2 multiple variable formatting\n",
    "first_name  =\"john\"\n",
    "last_name = \"Smith\"\n",
    "print(\"Hello, %s %s\" %(first_name, last_name)) # surround the variables in parenthesis"
   ]
  },
  {
   "cell_type": "markdown",
   "id": "6dd8df58",
   "metadata": {},
   "source": [
    "4) String Index  \n",
    "Question: How are the strings stored?   \n",
    "When a computer saves a string into memory, each character within the string is assigned what we call an “index.” An index is essentially a location in memory.   \n",
    "Note : Indexing in most languages, including python, starts at 0 not 1."
   ]
  },
  {
   "cell_type": "code",
   "execution_count": 12,
   "id": "20a9c7ae",
   "metadata": {},
   "outputs": [
    {
     "name": "stdout",
     "output_type": "stream",
     "text": [
      "H\n",
      "e\n",
      "o\n"
     ]
    }
   ],
   "source": [
    "# using indexes to print each element\n",
    "word = \"Hello\"\n",
    "print( word[ 0 ] ) # will output 'H'\n",
    "print( word[ 1 ] ) # will output 'e'\n",
    "print( word[ -1 ] ) # will output 'o'"
   ]
  },
  {
   "cell_type": "markdown",
   "id": "27eeda16",
   "metadata": {},
   "source": [
    "Note : Index -1 gives us the last character"
   ]
  },
  {
   "cell_type": "markdown",
   "id": "09f79059",
   "metadata": {},
   "source": [
    "5) String Slicing   \n",
    "Slicing is essentially when you only want a piece of the variable.   \n",
    "Note : Slicing is used mostly with Python lists and strings."
   ]
  },
  {
   "cell_type": "code",
   "execution_count": 14,
   "id": "1426a58e",
   "metadata": {},
   "outputs": [
    {
     "name": "stdout",
     "output_type": "stream",
     "text": [
      "He\n"
     ]
    }
   ],
   "source": [
    "#Extract only \"He\" from the word \"Hello\"\n",
    "print( word[ 0 : 2 ] )"
   ]
  },
  {
   "cell_type": "markdown",
   "id": "8463d876",
   "metadata": {},
   "source": [
    "The general rule: variable_name[ start : stop : step ]   \n",
    "Note : In this example \"word[ 0 : 2 ]\", we have start = 0, stop = 2, and step = 1"
   ]
  },
  {
   "cell_type": "code",
   "execution_count": 15,
   "id": "35cd2685",
   "metadata": {},
   "outputs": [
    {
     "name": "stdout",
     "output_type": "stream",
     "text": [
      "Hlo\n"
     ]
    }
   ],
   "source": [
    "#Extract only \"Hlo\" from the word \"Hello\"\n",
    "print( word[ 0 : 5 : 2 ] )"
   ]
  },
  {
   "cell_type": "markdown",
   "id": "e5f7f7b7",
   "metadata": {},
   "source": [
    "6) WEDNESDAY EXERCISES"
   ]
  },
  {
   "cell_type": "markdown",
   "id": "b1d48f39",
   "metadata": {},
   "source": [
    "Q1) Variable Injection: Create a print statement that injects an integer,\n",
    "float, boolean, and string all into one line. The output should look like\n",
    "“23 4.5 False John”."
   ]
  },
  {
   "cell_type": "code",
   "execution_count": 16,
   "id": "013aabb1",
   "metadata": {},
   "outputs": [
    {
     "name": "stdout",
     "output_type": "stream",
     "text": [
      "23 4.5 False John\n"
     ]
    }
   ],
   "source": [
    "name = \"John\"\n",
    "print(\"{} {} {} {}\".format(23, 4.5, False, name))"
   ]
  },
  {
   "cell_type": "markdown",
   "id": "0226229f",
   "metadata": {},
   "source": [
    "Q2) Fill in the Blanks: Using the format method, fill in the following\n",
    "blanks by assigning your name and favorite activities into variables:     \n",
    "\"{ }'s favorite sports is { }.\"   \n",
    "\"{ } is working on { } programming!\""
   ]
  },
  {
   "cell_type": "code",
   "execution_count": 1,
   "id": "346889c2",
   "metadata": {},
   "outputs": [
    {
     "name": "stdout",
     "output_type": "stream",
     "text": [
      "Mustafa's favorite sports is football.\n",
      "Mustafa is working on python programming!\n"
     ]
    }
   ],
   "source": [
    "name = \"Mustafa\"\n",
    "sport = \"football\"\n",
    "work = \"python\"\n",
    "print(\"{}'s favorite sports is {}.\".format(name, sport))\n",
    "print(\"{} is working on {} programming!\".format(name, work))"
   ]
  },
  {
   "cell_type": "markdown",
   "id": "6e714113",
   "metadata": {},
   "source": [
    "# Thursday: String Manipulation Part II"
   ]
  },
  {
   "cell_type": "markdown",
   "id": "6e49cadc",
   "metadata": {},
   "source": [
    "1- .title(): uses to captizalied Strings"
   ]
  },
  {
   "cell_type": "markdown",
   "id": "3319483f",
   "metadata": {},
   "source": [
    "#Using the title method to capitalize a str\n",
    "name= \"john smith\"\n",
    "print(name.title())"
   ]
  },
  {
   "cell_type": "markdown",
   "id": "5a31be39",
   "metadata": {},
   "source": [
    "2- .lower(), .upper()"
   ]
  },
  {
   "cell_type": "code",
   "execution_count": 6,
   "id": "56c7c011",
   "metadata": {},
   "outputs": [
    {
     "name": "stdout",
     "output_type": "stream",
     "text": [
      "JOHN SMITH\n",
      "john smith\n"
     ]
    }
   ],
   "source": [
    "name= \"john smith\"\n",
    "print(name.upper())\n",
    "print(name.lower())"
   ]
  },
  {
   "cell_type": "markdown",
   "id": "ba53fa04",
   "metadata": {},
   "source": [
    "3- .replace()"
   ]
  },
  {
   "cell_type": "code",
   "execution_count": 8,
   "id": "b3913353",
   "metadata": {},
   "outputs": [
    {
     "name": "stdout",
     "output_type": "stream",
     "text": [
      "Hello there.\n"
     ]
    }
   ],
   "source": [
    "#This method replacing some symbol in a statement with another symbol(in this case we replacing, \"!\" by \".\")\n",
    "words = \"Hello there!\"\n",
    "print(words.replace(\"!\", \".\"))"
   ]
  },
  {
   "cell_type": "markdown",
   "id": "6c56d084",
   "metadata": {},
   "source": [
    "4- .find(): for  searching about string "
   ]
  },
  {
   "cell_type": "code",
   "execution_count": 15,
   "id": "f546601f",
   "metadata": {},
   "outputs": [
    {
     "name": "stdout",
     "output_type": "stream",
     "text": [
      "0\n",
      "5\n",
      "10\n",
      "15\n",
      "8\n",
      "-1\n"
     ]
    }
   ],
   "source": [
    "# finding the word or char....\n",
    "s = \"Look over that way\"\n",
    "print( s.find(\"Look\"))\n",
    "print( s.find(\"over\"))\n",
    "print(s.find(\"that\"))\n",
    "print( s.find(\"way\"))\n",
    "print( s.find(\"r\"))\n",
    "print( s.find(\"Sam\")) #return -1 "
   ]
  },
  {
   "cell_type": "markdown",
   "id": "105098ec",
   "metadata": {},
   "source": [
    "5- .strip(): uses to remove the blanck space"
   ]
  },
  {
   "cell_type": "code",
   "execution_count": 41,
   "id": "2d935e7c",
   "metadata": {},
   "outputs": [
    {
     "name": "stdout",
     "output_type": "stream",
     "text": [
      "john smith hoffmann\n",
      "john smith hoffma\n",
      "john smith hoffm\n"
     ]
    }
   ],
   "source": [
    "# removing white space with strip\n",
    "name = \" john smith hoffmann \"\n",
    "print( name.strip( ) )\n",
    "print(name.strip(' n '))\n",
    "print(name.strip(' an '))"
   ]
  },
  {
   "cell_type": "markdown",
   "id": "a3cb9335",
   "metadata": {},
   "source": [
    "6-  .lstrip(),  .rstrip()"
   ]
  },
  {
   "cell_type": "code",
   "execution_count": 30,
   "id": "87a19589",
   "metadata": {},
   "outputs": [
    {
     "name": "stdout",
     "output_type": "stream",
     "text": [
      "john  \n",
      "  john\n"
     ]
    }
   ],
   "source": [
    "name = \"  john  \"\n",
    "print(name.lstrip())\n",
    "print(name.rstrip())"
   ]
  },
  {
   "cell_type": "markdown",
   "id": "1d09db46",
   "metadata": {},
   "source": [
    "7- .split( ): uses thos method to spliting a string to  list of words"
   ]
  },
  {
   "cell_type": "code",
   "execution_count": 44,
   "id": "095ac266",
   "metadata": {},
   "outputs": [
    {
     "name": "stdout",
     "output_type": "stream",
     "text": [
      "['Python', 'is', 'a', 'high', 'level', 'language']\n"
     ]
    }
   ],
   "source": [
    "# String to a list of words\n",
    "words= \"Python is a high level language\"\n",
    "print( words.split(\" \") )"
   ]
  },
  {
   "cell_type": "markdown",
   "id": "9a07003e",
   "metadata": {},
   "source": [
    "# THURSDAY EXERCISES"
   ]
  },
  {
   "cell_type": "markdown",
   "id": "82836884",
   "metadata": {},
   "source": [
    "Exercises number one: Uppercasing: Try manipulating the string “uppercase” so it prints out as all\n",
    "uppercase letters. You’ll need to look up a new method."
   ]
  },
  {
   "cell_type": "code",
   "execution_count": 46,
   "id": "671113ed",
   "metadata": {},
   "outputs": [
    {
     "name": "stdout",
     "output_type": "stream",
     "text": [
      "UPPERCASE\n"
     ]
    }
   ],
   "source": [
    "string = \"uppercase\"\n",
    "print(string.upper())"
   ]
  },
  {
   "cell_type": "markdown",
   "id": "b75b6dae",
   "metadata": {},
   "source": [
    "Exercises number two: Strip Symbols: Strip all the dollar signs from the left side of this string “$$John\n",
    "Smith”. Try it with .lstrip( ) and .strip( ). To"
   ]
  },
  {
   "cell_type": "code",
   "execution_count": 54,
   "id": "e4346d1b",
   "metadata": {},
   "outputs": [
    {
     "name": "stdout",
     "output_type": "stream",
     "text": [
      "John Smith\n",
      "John Smith\n"
     ]
    }
   ],
   "source": [
    "name = \"$$John Smith\"\n",
    "print(name.strip('$'))\n",
    "print(name.lstrip('$'))"
   ]
  },
  {
   "cell_type": "code",
   "execution_count": null,
   "id": "9db692f8",
   "metadata": {},
   "outputs": [],
   "source": []
  },
  {
   "cell_type": "code",
   "execution_count": null,
   "id": "14ce6eee",
   "metadata": {},
   "outputs": [],
   "source": []
  }
 ],
 "metadata": {
  "kernelspec": {
   "display_name": "Python 3",
   "language": "python",
   "name": "python3"
  },
  "language_info": {
   "codemirror_mode": {
    "name": "ipython",
    "version": 3
   },
   "file_extension": ".py",
   "mimetype": "text/x-python",
   "name": "python",
   "nbconvert_exporter": "python",
   "pygments_lexer": "ipython3",
   "version": "3.9.5"
  }
 },
 "nbformat": 4,
 "nbformat_minor": 5
}
