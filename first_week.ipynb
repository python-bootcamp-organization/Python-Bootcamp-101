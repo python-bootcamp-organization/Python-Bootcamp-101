{
 "cells": [
  {
   "cell_type": "markdown",
   "id": "dd20d868",
   "metadata": {},
   "source": [
    "# Tuesday: Variables"
   ]
  },
  {
   "cell_type": "code",
   "execution_count": 5,
   "id": "877fc22e",
   "metadata": {},
   "outputs": [
    {
     "name": "stdout",
     "output_type": "stream",
     "text": [
      "2\n",
      "<class 'int'>\n",
      "1.2\n",
      "<class 'float'>\n",
      "(1+5j)\n",
      "<class 'complex'>\n"
     ]
    }
   ],
   "source": [
    "## data types in Python\n",
    "#Numeric Types: int, float, complex\n",
    "print(2)\n",
    "print(complex(1, 5))\n",
    "print(type(complex(1, 5))) # complex"
   ]
  },
  {
   "cell_type": "code",
   "execution_count": 9,
   "id": "5b2c4446",
   "metadata": {},
   "outputs": [
    {
     "name": "stdout",
     "output_type": "stream",
     "text": [
      "Hello everybody\n",
      "<class 'str'>\n"
     ]
    }
   ],
   "source": [
    "## data types in Python\n",
    "# Text Types(String)\n",
    "print('Hello everybody')\n",
    "print(type('Hello everybody')) #str"
   ]
  },
  {
   "cell_type": "code",
   "execution_count": 1,
   "id": "7f3c56d6",
   "metadata": {},
   "outputs": [
    {
     "name": "stdout",
     "output_type": "stream",
     "text": [
      "{'name': 'Nat', 'age': 25}\n",
      "<class 'dict'>\n"
     ]
    }
   ],
   "source": [
    "## data types in Python\n",
    "# Mapping Type(Dictionry)\n",
    "print({'name': 'Nat', 'age': 25})\n",
    "print(type({'name': 'Mustapha', 'age': 25})) #dict"
   ]
  },
  {
   "cell_type": "code",
   "execution_count": 2,
   "id": "b19bcda8",
   "metadata": {},
   "outputs": [
    {
     "name": "stdout",
     "output_type": "stream",
     "text": [
      "{'David', 'Jade', 'Alex'}\n",
      "<class 'set'>\n",
      "frozenset({'David', 'Jade', 'Alex'})\n",
      "<class 'frozenset'>\n"
     ]
    }
   ],
   "source": [
    "## data types in Python\n",
    "# Set Types: set, frozenset\n",
    "print({'Jade', 'David', 'Alex'})\n",
    "print(type({'Jade', 'David', 'Alex'})) #set\n",
    "print(frozenset({'Jade', 'David', 'Alex'})) \n",
    "print(type(frozenset({'Jade', 'David', 'Alex'}))) # forzenset"
   ]
  },
  {
   "cell_type": "code",
   "execution_count": 12,
   "id": "a4017733",
   "metadata": {},
   "outputs": [
    {
     "name": "stdout",
     "output_type": "stream",
     "text": [
      "Mo\n",
      "<class 'str'>\n",
      "Mo alex\n"
     ]
    }
   ],
   "source": [
    "\"\"\"\"Variables taken values and store it in memory location, in other words, variables is save data in memory location .\"\"\"\n",
    "#Declare OR initialize variables \"Mo\" is str data types \n",
    "name = \"Mo\" #storing data values called for in this example Mo into variable called name\n",
    "print(name)\n",
    "print(type(name))\n",
    "name_02 = \"alex\"\n",
    "print(name, name_02) # soring multiple variables "
   ]
  },
  {
   "cell_type": "code",
   "execution_count": 13,
   "id": "3d379808",
   "metadata": {},
   "outputs": [
    {
     "name": "stdout",
     "output_type": "stream",
     "text": [
      "10\n",
      "<class 'int'>\n",
      "2.2\n",
      "<class 'float'>\n",
      "(1+2j)\n",
      "<class 'complex'>\n",
      "brahim 3\n"
     ]
    }
   ],
   "source": [
    "#Storing : int, float and complex\n",
    "int_num = 10\n",
    "print(int_num)\n",
    "print(type(int_num))\n",
    "float_num = 2.2\n",
    "print(float_num)\n",
    "print(type(float_num))\n",
    "complex_num = 1+2j\n",
    "print(complex_num)\n",
    "print(type(complex_num))\n",
    "name = 'brahim'\n",
    "num = 3 \n",
    "print(name, num) # storing str and int "
   ]
  },
  {
   "cell_type": "code",
   "execution_count": 17,
   "id": "a5309da5",
   "metadata": {},
   "outputs": [
    {
     "name": "stdout",
     "output_type": "stream",
     "text": [
      "True\n",
      "<class 'bool'>\n",
      "False\n",
      "<class 'bool'>\n"
     ]
    }
   ],
   "source": [
    "# Storing Boolean variables\n",
    "true = True\n",
    "print(true)\n",
    "print(type(true))\n",
    "false = False\n",
    "print(false)\n",
    "print(type(false))"
   ]
  },
  {
   "cell_type": "code",
   "execution_count": 19,
   "id": "4b5c565f",
   "metadata": {},
   "outputs": [
    {
     "name": "stdout",
     "output_type": "stream",
     "text": [
      "4 4 1.0 1 (2+4j) 4 4.2 -0.20000000000000018 4.4 0.9090909090909091\n"
     ]
    }
   ],
   "source": [
    "#arithmetic operation\n",
    "num1 = 2\n",
    "num2 = 2\n",
    "num3 = 2.2\n",
    "num4 = 1+2j\n",
    "res = num1 + num2\n",
    "res1 = num1 * num2\n",
    "res2 = num1 / num2\n",
    "res3 = num1 // num2\n",
    "res4 = num2* num4\n",
    "res5 = num1**num2\n",
    "res6 = num1 + num3\n",
    "res7 = num1 - num3\n",
    "res8 = num1 * num3\n",
    "res9 = num1 / num3\n",
    "print(res, res1, res2, res3, res4, res5, res6, res7, res8, res9)\n"
   ]
  },
  {
   "cell_type": "code",
   "execution_count": 21,
   "id": "7c7d7413",
   "metadata": {},
   "outputs": [
    {
     "name": "stdout",
     "output_type": "stream",
     "text": [
      "fridman\n",
      "Mo\n"
     ]
    }
   ],
   "source": [
    "#Python is language that makes it easy for us to change the values\n",
    "name  = 'fridman'\n",
    "print(name)\n",
    "name = 'Mo'\n",
    "print(name)"
   ]
  },
  {
   "cell_type": "code",
   "execution_count": 23,
   "id": "3bbe6627",
   "metadata": {},
   "outputs": [
    {
     "name": "stdout",
     "output_type": "stream",
     "text": [
      "13\n",
      "3354.0764\n"
     ]
    }
   ],
   "source": [
    "# Exercie \n",
    "x= 3 \n",
    "y = 10\n",
    "res = x+y\n",
    "print(res)\n",
    "# Exercie 2\n",
    "width = 245.54\n",
    "height = 13.66\n",
    "calcualte_area_of_rectangle = width * height\n",
    "print(calcualte_area_of_rectangle)"
   ]
  },
  {
   "cell_type": "markdown",
   "id": "adbef8be",
   "metadata": {},
   "source": [
    "# Wednesday: Working with Strings Part I"
   ]
  },
  {
   "cell_type": "markdown",
   "id": "39b5724c",
   "metadata": {},
   "source": [
    "1) String Concatenation"
   ]
  },
  {
   "cell_type": "code",
   "execution_count": 1,
   "id": "7f4f69c8",
   "metadata": {},
   "outputs": [
    {
     "name": "stdout",
     "output_type": "stream",
     "text": [
      "John Smith\n"
     ]
    }
   ],
   "source": [
    "# using the addition operator without variables\n",
    "name = \"John\" + \" \" + \"Smith\"\n",
    "print(name)"
   ]
  },
  {
   "cell_type": "code",
   "execution_count": 2,
   "id": "17eb8126",
   "metadata": {},
   "outputs": [
    {
     "name": "stdout",
     "output_type": "stream",
     "text": [
      "John Smith\n"
     ]
    }
   ],
   "source": [
    "# using the addition operator with variables\n",
    "first_name = \"John\" #we store the first name called \"John\" into the variable \"first_name\".\n",
    "last_name = \"Smith\"\n",
    "full_name = first_name + \" \" + last_name\n",
    "print(full_name)"
   ]
  },
  {
   "cell_type": "markdown",
   "id": "b64f5922",
   "metadata": {},
   "source": [
    "2) Formatting Strings"
   ]
  },
  {
   "cell_type": "code",
   "execution_count": 3,
   "id": "d42aa48a",
   "metadata": {},
   "outputs": [
    {
     "name": "stdout",
     "output_type": "stream",
     "text": [
      "Hello John\n",
      "Hellow John, you are 28 years old!\n"
     ]
    }
   ],
   "source": [
    "#injecting variables using the format methode\n",
    "name = \"John\"\n",
    "print(\"Hello {}\".format(name))\n",
    "print(\"Hellow {}, you are {} years old!\".format(name, 28))"
   ]
  },
  {
   "cell_type": "markdown",
   "id": "daee0d6f",
   "metadata": {},
   "source": [
    "3) f Strings (New in Python 3.6)   \n",
    "---> This methode (f Strings) is an other way to inject variables a string."
   ]
  },
  {
   "cell_type": "code",
   "execution_count": 4,
   "id": "d1e87dcc",
   "metadata": {},
   "outputs": [
    {
     "name": "stdout",
     "output_type": "stream",
     "text": [
      "Hello John\n"
     ]
    }
   ],
   "source": [
    "#using the new f string\n",
    "name = \"John\"\n",
    "print(f\"Hello {name}\")"
   ]
  },
  {
   "cell_type": "markdown",
   "id": "76b45c40",
   "metadata": {},
   "source": [
    "4) Formatting in Python 2    \n",
    "Note : Python 2 doesn't include the .format() methode, so in this case, we use the operation % followed by s or d.   \n",
    "%s : for text type   \n",
    "%d : for Numeric type"
   ]
  },
  {
   "cell_type": "code",
   "execution_count": 9,
   "id": "a03f4b05",
   "metadata": {},
   "outputs": [
    {
     "name": "stdout",
     "output_type": "stream",
     "text": [
      "Hello, John\n"
     ]
    }
   ],
   "source": [
    "#one major difference between versions 2 &3\n",
    "name = \"John\"\n",
    "print(\"Hello, %s\" %name)"
   ]
  },
  {
   "cell_type": "code",
   "execution_count": 11,
   "id": "8a226acc",
   "metadata": {},
   "outputs": [
    {
     "name": "stdout",
     "output_type": "stream",
     "text": [
      "Hello, john Smith\n"
     ]
    }
   ],
   "source": [
    "#python 2 multiple variable formatting\n",
    "first_name  =\"john\"\n",
    "last_name = \"Smith\"\n",
    "print(\"Hello, %s %s\" %(first_name, last_name)) # surround the variables in parenthesis"
   ]
  },
  {
   "cell_type": "markdown",
   "id": "6dd8df58",
   "metadata": {},
   "source": [
    "4) String Index  \n",
    "Question: How are the strings stored?   \n",
    "When a computer saves a string into memory, each character within the string is assigned what we call an “index.” An index is essentially a location in memory.   \n",
    "Note : Indexing in most languages, including python, starts at 0 not 1."
   ]
  },
  {
   "cell_type": "code",
   "execution_count": 12,
   "id": "20a9c7ae",
   "metadata": {},
   "outputs": [
    {
     "name": "stdout",
     "output_type": "stream",
     "text": [
      "H\n",
      "e\n",
      "o\n"
     ]
    }
   ],
   "source": [
    "# using indexes to print each element\n",
    "word = \"Hello\"\n",
    "print( word[ 0 ] ) # will output 'H'\n",
    "print( word[ 1 ] ) # will output 'e'\n",
    "print( word[ -1 ] ) # will output 'o'"
   ]
  },
  {
   "cell_type": "markdown",
   "id": "27eeda16",
   "metadata": {},
   "source": [
    "Note : Index -1 gives us the last character"
   ]
  },
  {
   "cell_type": "markdown",
   "id": "09f79059",
   "metadata": {},
   "source": [
    "5) String Slicing   \n",
    "Slicing is essentially when you only want a piece of the variable.   \n",
    "Note : Slicing is used mostly with Python lists and strings."
   ]
  },
  {
   "cell_type": "code",
   "execution_count": 14,
   "id": "1426a58e",
   "metadata": {},
   "outputs": [
    {
     "name": "stdout",
     "output_type": "stream",
     "text": [
      "He\n"
     ]
    }
   ],
   "source": [
    "#Extract only \"He\" from the word \"Hello\"\n",
    "print( word[ 0 : 2 ] )"
   ]
  },
  {
   "cell_type": "markdown",
   "id": "8463d876",
   "metadata": {},
   "source": [
    "The general rule: variable_name[ start : stop : step ]   \n",
    "Note : In this example \"word[ 0 : 2 ]\", we have start = 0, stop = 2, and step = 1"
   ]
  },
  {
   "cell_type": "code",
   "execution_count": 15,
   "id": "35cd2685",
   "metadata": {},
   "outputs": [
    {
     "name": "stdout",
     "output_type": "stream",
     "text": [
      "Hlo\n"
     ]
    }
   ],
   "source": [
    "#Extract only \"Hlo\" from the word \"Hello\"\n",
    "print( word[ 0 : 5 : 2 ] )"
   ]
  },
  {
   "cell_type": "markdown",
   "id": "e5f7f7b7",
   "metadata": {},
   "source": [
    "6) WEDNESDAY EXERCISES"
   ]
  },
  {
   "cell_type": "markdown",
   "id": "b1d48f39",
   "metadata": {},
   "source": [
    "Q1) Variable Injection: Create a print statement that injects an integer,\n",
    "float, boolean, and string all into one line. The output should look like\n",
    "“23 4.5 False John”."
   ]
  },
  {
   "cell_type": "code",
   "execution_count": 16,
   "id": "013aabb1",
   "metadata": {},
   "outputs": [
    {
     "name": "stdout",
     "output_type": "stream",
     "text": [
      "23 4.5 False John\n"
     ]
    }
   ],
   "source": [
    "name = \"John\"\n",
    "print(\"{} {} {} {}\".format(23, 4.5, False, name))"
   ]
  },
  {
   "cell_type": "markdown",
   "id": "0226229f",
   "metadata": {},
   "source": [
    "Q2) Fill in the Blanks: Using the format method, fill in the following\n",
    "blanks by assigning your name and favorite activities into variables:     \n",
    "\"{ }'s favorite sports is { }.\"   \n",
    "\"{ } is working on { } programming!\""
   ]
  },
  {
   "cell_type": "code",
   "execution_count": 1,
   "id": "346889c2",
   "metadata": {},
   "outputs": [
    {
     "name": "stdout",
     "output_type": "stream",
     "text": [
      "Mustafa's favorite sports is football.\n",
      "Mustafa is working on python programming!\n"
     ]
    }
   ],
   "source": [
    "name = \"Mustafa\"\n",
    "sport = \"football\"\n",
    "work = \"python\"\n",
    "print(\"{}'s favorite sports is {}.\".format(name, sport))\n",
    "print(\"{} is working on {} programming!\".format(name, work))"
   ]
  },
  {
   "cell_type": "code",
   "execution_count": null,
   "id": "96e8eea7",
   "metadata": {},
   "outputs": [],
   "source": []
  }
 ],
 "metadata": {
  "kernelspec": {
   "display_name": "Python 3",
   "language": "python",
   "name": "python3"
  },
  "language_info": {
   "codemirror_mode": {
    "name": "ipython",
    "version": 3
   },
   "file_extension": ".py",
   "mimetype": "text/x-python",
   "name": "python",
   "nbconvert_exporter": "python",
   "pygments_lexer": "ipython3",
   "version": "3.9.5"
  }
 },
 "nbformat": 4,
 "nbformat_minor": 5
}
