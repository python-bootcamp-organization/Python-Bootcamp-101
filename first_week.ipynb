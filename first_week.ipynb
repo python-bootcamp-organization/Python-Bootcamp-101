{
 "cells": [
  {
   "cell_type": "code",
   "execution_count": 5,
   "id": "101f2c6c",
   "metadata": {},
   "outputs": [
    {
     "name": "stdout",
     "output_type": "stream",
     "text": [
      "2\n",
      "<class 'int'>\n",
      "1.2\n",
      "<class 'float'>\n",
      "(1+5j)\n",
      "<class 'complex'>\n"
     ]
    }
   ],
   "source": [
    "## data types in Python\n",
    "#Numeric Types: int, float, complex\n",
    "print(2)\n",
    "print(complex(1, 5))\n",
    "print(type(complex(1, 5))) # complex"
   ]
  },
  {
   "cell_type": "code",
   "execution_count": 9,
   "id": "16621fe9",
   "metadata": {},
   "outputs": [
    {
     "name": "stdout",
     "output_type": "stream",
     "text": [
      "Hello everybody\n",
      "<class 'str'>\n"
     ]
    }
   ],
   "source": [
    "## data types in Python\n",
    "# Text Types(String)\n",
    "print('Hello everybody')\n",
    "print(type('Hello everybody')) #str"
   ]
  },
  {
   "cell_type": "code",
   "execution_count": 1,
   "id": "578a3c03",
   "metadata": {},
   "outputs": [
    {
     "name": "stdout",
     "output_type": "stream",
     "text": [
      "{'name': 'Nat', 'age': 25}\n",
      "<class 'dict'>\n"
     ]
    }
   ],
   "source": [
    "## data types in Python\n",
    "# Mapping Type(Dictionry)\n",
    "print({'name': 'Nat', 'age': 25})\n",
    "print(type({'name': 'Mustapha', 'age': 25})) #dict"
   ]
  },
  {
   "cell_type": "code",
   "execution_count": 2,
   "id": "a6d5a693",
   "metadata": {},
   "outputs": [
    {
     "name": "stdout",
     "output_type": "stream",
     "text": [
      "{'David', 'Jade', 'Alex'}\n",
      "<class 'set'>\n",
      "frozenset({'David', 'Jade', 'Alex'})\n",
      "<class 'frozenset'>\n"
     ]
    }
   ],
   "source": [
    "## data types in Python\n",
    "# Set Types: set, frozenset\n",
    "print({'Jade', 'David', 'Alex'})\n",
    "print(type({'Jade', 'David', 'Alex'})) #set\n",
    "print(frozenset({'Jade', 'David', 'Alex'})) \n",
    "print(type(frozenset({'Jade', 'David', 'Alex'}))) # forzenset"
   ]
  },
  {
   "cell_type": "code",
   "execution_count": 12,
   "id": "b118f087",
   "metadata": {},
   "outputs": [
    {
     "name": "stdout",
     "output_type": "stream",
     "text": [
      "Mo\n",
      "<class 'str'>\n",
      "Mo alex\n"
     ]
    }
   ],
   "source": [
    "\"\"\"\"Variables taken values and store it in memory location, in other words, variables is save data in memory location .\"\"\"\n",
    "#Declare OR initialize variables \"Mo\" is str data types \n",
    "name = \"Mo\" #storing data values called for in this example Mo into variable called name\n",
    "print(name)\n",
    "print(type(name))\n",
    "name_02 = \"alex\"\n",
    "print(name, name_02) # soring multiple variables "
   ]
  },
  {
   "cell_type": "code",
   "execution_count": 13,
   "id": "5f2f4862",
   "metadata": {},
   "outputs": [
    {
     "name": "stdout",
     "output_type": "stream",
     "text": [
      "10\n",
      "<class 'int'>\n",
      "2.2\n",
      "<class 'float'>\n",
      "(1+2j)\n",
      "<class 'complex'>\n",
      "brahim 3\n"
     ]
    }
   ],
   "source": [
    "#Storing : int, float and complex\n",
    "int_num = 10\n",
    "print(int_num)\n",
    "print(type(int_num))\n",
    "float_num = 2.2\n",
    "print(float_num)\n",
    "print(type(float_num))\n",
    "complex_num = 1+2j\n",
    "print(complex_num)\n",
    "print(type(complex_num))\n",
    "name = 'brahim'\n",
    "num = 3 \n",
    "print(name, num) # storing str and int "
   ]
  },
  {
   "cell_type": "code",
   "execution_count": 17,
   "id": "fcad9065",
   "metadata": {},
   "outputs": [
    {
     "name": "stdout",
     "output_type": "stream",
     "text": [
      "True\n",
      "<class 'bool'>\n",
      "False\n",
      "<class 'bool'>\n"
     ]
    }
   ],
   "source": [
    "# Storing Boolean variables\n",
    "true = True\n",
    "print(true)\n",
    "print(type(true))\n",
    "false = False\n",
    "print(false)\n",
    "print(type(false))"
   ]
  },
  {
   "cell_type": "code",
   "execution_count": 19,
   "id": "7655a7e2",
   "metadata": {},
   "outputs": [
    {
     "name": "stdout",
     "output_type": "stream",
     "text": [
      "4 4 1.0 1 (2+4j) 4 4.2 -0.20000000000000018 4.4 0.9090909090909091\n"
     ]
    }
   ],
   "source": [
    "#arithmetic operation\n",
    "num1 = 2\n",
    "num2 = 2\n",
    "num3 = 2.2\n",
    "num4 = 1+2j\n",
    "res = num1 + num2\n",
    "res1 = num1 * num2\n",
    "res2 = num1 / num2\n",
    "res3 = num1 // num2\n",
    "res4 = num2* num4\n",
    "res5 = num1**num2\n",
    "res6 = num1 + num3\n",
    "res7 = num1 - num3\n",
    "res8 = num1 * num3\n",
    "res9 = num1 / num3\n",
    "print(res, res1, res2, res3, res4, res5, res6, res7, res8, res9)\n"
   ]
  },
  {
   "cell_type": "code",
   "execution_count": 21,
   "id": "9e4f7745",
   "metadata": {},
   "outputs": [
    {
     "name": "stdout",
     "output_type": "stream",
     "text": [
      "fridman\n",
      "Mo\n"
     ]
    }
   ],
   "source": [
    "#Python is language that makes it easy for us to change the values\n",
    "name  = 'fridman'\n",
    "print(name)\n",
    "name = 'Mo'\n",
    "print(name)"
   ]
  },
  {
   "cell_type": "code",
   "execution_count": 23,
   "id": "9e06eb56",
   "metadata": {},
   "outputs": [
    {
     "name": "stdout",
     "output_type": "stream",
     "text": [
      "13\n",
      "3354.0764\n"
     ]
    }
   ],
   "source": [
    "# Exercie \n",
    "x= 3 \n",
    "y = 10\n",
    "res = x+y\n",
    "print(res)\n",
    "# Exercie 2\n",
    "width = 245.54\n",
    "height = 13.66\n",
    "calcualte_area_of_rectangle = width * height\n",
    "print(calcualte_area_of_rectangle)"
   ]
  },
  {
   "cell_type": "code",
   "execution_count": null,
   "id": "f676289e",
   "metadata": {},
   "outputs": [],
   "source": []
  }
 ],
 "metadata": {
  "kernelspec": {
   "display_name": "Python 3",
   "language": "python",
   "name": "python3"
  },
  "language_info": {
   "codemirror_mode": {
    "name": "ipython",
    "version": 3
   },
   "file_extension": ".py",
   "mimetype": "text/x-python",
   "name": "python",
   "nbconvert_exporter": "python",
   "pygments_lexer": "ipython3",
   "version": "3.9.5"
  }
 },
 "nbformat": 4,
 "nbformat_minor": 5
}
