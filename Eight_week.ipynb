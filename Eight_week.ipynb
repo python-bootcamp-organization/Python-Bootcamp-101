{
 "cells": [
  {
   "cell_type": "markdown",
   "metadata": {},
   "source": [
    "# Advanced Topics II: Complexity "
   ]
  },
  {
   "cell_type": "markdown",
   "metadata": {},
   "source": [
    "**Monday: Generators and Iterators**\n",
    "\n",
    "In previous sections of this book, you may have seen the words generators or iterators\n",
    "mentioned. Without knowing, you’ve been using them the entire time.\n",
    "\n",
    "**Iterators vs. Iterables**\n",
    "\n",
    "An **iterator** is an object that contains items which can be iterated upon, meaning\n",
    "you can traverse through all values. An **iterable** is a collection like lists, dictionaries,\n",
    "tuples, and sets. The major difference is that iterables are not iterators; rather they are\n",
    "containers for data. In Python, iterator objects implement the magic methods iter and\n",
    "next that allow you to traverse through its values."
   ]
  },
  {
   "cell_type": "code",
   "execution_count": 1,
   "metadata": {},
   "outputs": [
    {
     "name": "stdout",
     "output_type": "stream",
     "text": [
      "baseball\n",
      "soccer\n",
      "football\n",
      "hockey\n",
      "basketball\n"
     ]
    },
    {
     "ename": "StopIteration",
     "evalue": "",
     "output_type": "error",
     "traceback": [
      "\u001b[1;31m---------------------------------------------------------------------------\u001b[0m",
      "\u001b[1;31mStopIteration\u001b[0m                             Traceback (most recent call last)",
      "\u001b[1;32m<ipython-input-1-5b94292530c2>\u001b[0m in \u001b[0;36m<module>\u001b[1;34m\u001b[0m\n\u001b[0;32m      6\u001b[0m \u001b[1;32mfor\u001b[0m \u001b[0mitem\u001b[0m \u001b[1;32min\u001b[0m \u001b[0mmy_iter\u001b[0m\u001b[1;33m:\u001b[0m\u001b[1;33m\u001b[0m\u001b[1;33m\u001b[0m\u001b[0m\n\u001b[0;32m      7\u001b[0m     \u001b[0mprint\u001b[0m\u001b[1;33m(\u001b[0m\u001b[0mitem\u001b[0m\u001b[1;33m)\u001b[0m\u001b[1;33m\u001b[0m\u001b[1;33m\u001b[0m\u001b[0m\n\u001b[1;32m----> 8\u001b[1;33m \u001b[0mprint\u001b[0m\u001b[1;33m(\u001b[0m\u001b[0mnext\u001b[0m\u001b[1;33m(\u001b[0m\u001b[0mmy_iter\u001b[0m\u001b[1;33m)\u001b[0m\u001b[1;33m)\u001b[0m\u001b[1;33m\u001b[0m\u001b[1;33m\u001b[0m\u001b[0m\n\u001b[0m",
      "\u001b[1;31mStopIteration\u001b[0m: "
     ]
    }
   ],
   "source": [
    "# creating a basic iterator from an iterable\n",
    "sports = [ \"baseball\", \"soccer\", \"football\", \"hockey\", \"basketball\" ]\n",
    "my_iter = iter(sports)\n",
    "print(next(my_iter)) # outputs firs item\n",
    "print(next(my_iter)) # outputs second item\n",
    "for item in my_iter: # this is ine 10\n",
    "    print(item)\n",
    "print(next(my_iter))"
   ]
  },
  {
   "cell_type": "markdown",
   "metadata": {},
   "source": [
    "**Note :** Iterators will always remember the last item that they\n",
    "returned, which is why we get an error on line 13. Using the next() method, we’re able\n",
    "to output the next item within the iterator. Once all the items within the iterator have\n",
    "been used, however, we can no longer traverse through the iterator, as there are no\n",
    "more items left. Iterators are great for looping as well, and like lists and dictionaries,\n",
    "we can simply use the in keyword (see line 10). You can still loop over the list like we\n",
    "normally do, and it will always begin from index 0, but once our iterator is out of items,\n",
    "we can no longer use it.\n",
    "\n",
    "**Creating Our Own Iterator**\n",
    "\n",
    "To create an iterator, we’ll need\n",
    "to implement the magic methods __iter__() and __next__():"
   ]
  },
  {
   "cell_type": "code",
   "execution_count": 1,
   "metadata": {},
   "outputs": [
    {
     "name": "stdout",
     "output_type": "stream",
     "text": [
      "a\n",
      "b\n",
      "c\n",
      "d\n",
      "e\n",
      "f\n",
      "g\n",
      "h\n",
      "i\n",
      "j\n",
      "k\n",
      "l\n",
      "m\n",
      "n\n",
      "o\n",
      "p\n",
      "q\n",
      "r\n",
      "s\n",
      "t\n",
      "u\n",
      "v\n",
      "w\n",
      "x\n",
      "y\n",
      "z\n"
     ]
    }
   ],
   "source": [
    "# creating our own iterator\n",
    "class Alphabet():\n",
    "    def __iter__(self):\n",
    "        self.letters = \"abcdefghijklmnopqrstuvwxyz\"\n",
    "        self.index = 0\n",
    "        return self\n",
    "    def __next__(self):\n",
    "        if self.index <= 25:\n",
    "            char = self.letters[self.index]\n",
    "            self.index += 1\n",
    "            return char\n",
    "        else:\n",
    "            raise StopIteration\n",
    "for char in Alphabet():\n",
    "    print(char)"
   ]
  },
  {
   "cell_type": "markdown",
   "metadata": {},
   "source": [
    "**Note :** Iterators are useful when you’re in need of traversing through Python collections\n",
    "in a specific way.\n",
    "\n",
    "**What Are Generators?**\n",
    "\n",
    "Generators are functions that yield back information to produce a sequence of results rather than a single value. They’re a way to simplify the creation of an iterator. Normally, when a function has completed its task and returned information, the variables declared inside of the function will be deleted. With generators, however, they use the “yield” keyword to send information back to the location it was called without terminating the function. Generators don’t always have to yield back integers though you can yield any information you’d like.   \n",
    "**Note :** Generators are simplified iterators.\n",
    "\n",
    "**Creating a Range Generator**\n",
    "\n",
    "lthough the range function is not a generator, we can make our own version that’s\n",
    "created from a generator using the yield keyword."
   ]
  },
  {
   "cell_type": "code",
   "execution_count": 3,
   "metadata": {},
   "outputs": [
    {
     "name": "stdout",
     "output_type": "stream",
     "text": [
      "Geerator Start Value: 0\n",
      "For Loop X Value: 0\n",
      "Geerator Start Value: 1\n",
      "For Loop X Value: 1\n",
      "Geerator Start Value: 2\n",
      "For Loop X Value: 2\n",
      "Geerator Start Value: 3\n",
      "For Loop X Value: 3\n",
      "Geerator Start Value: 4\n",
      "For Loop X Value: 4\n"
     ]
    }
   ],
   "source": [
    "# creating our own range generator with start, stop, and step parameters\n",
    "def myRange(stop, start = 0, step = 1):\n",
    "    while start < stop:\n",
    "        print(\"Geerator Start Value: {}\".format(start))\n",
    "        yield start\n",
    "        start += step # increment start, otherwise infinite loop\n",
    "for x in myRange(5):\n",
    "    print(\"For Loop X Value: {}\".format(x))"
   ]
  },
  {
   "cell_type": "markdown",
   "metadata": {},
   "source": [
    "### MONDAY EXERCISES"
   ]
  },
  {
   "cell_type": "raw",
   "metadata": {},
   "source": [
    "1. Reverse Iteration: Create an iterator that takes in a list, and when iterated over, it returns the information in a reverse order. Hint: When accepting arguments into an iterator, you need to use the init method, as well as iter and next. the following call should result in “5, 4, 3, 2, 1”.\n",
    ">>> for i in RevIter( [ 1, 2, 3, 4, 5 ] ):"
   ]
  },
  {
   "cell_type": "code",
   "execution_count": 16,
   "metadata": {},
   "outputs": [
    {
     "name": "stdout",
     "output_type": "stream",
     "text": [
      "5\n",
      "4\n",
      "3\n",
      "2\n",
      "1\n"
     ]
    }
   ],
   "source": [
    "liste = [ 1, 2, 3, 4, 5 ]\n",
    "class RevIter():\n",
    "    def __init__(self, liste):\n",
    "        self.liste = liste\n",
    "        self.index = -1\n",
    "    def __iter__(self):\n",
    "        return self\n",
    "    def __next__(self):\n",
    "        if self.index >= -len(liste):\n",
    "            item = self.liste[self.index]\n",
    "            self.index -= 1\n",
    "            return item\n",
    "        else:\n",
    "            raise StopIteration\n",
    "\n",
    "for item in RevIter(liste):\n",
    "    print(item)"
   ]
  },
  {
   "cell_type": "raw",
   "metadata": {},
   "source": [
    "2. Squares: Create a generator that acts like the range function, except it yields a squared number every time. the result of the following call should be “0, 1, 4, 9, 16”.\n",
    ">>> for i in range(4):"
   ]
  },
  {
   "cell_type": "code",
   "execution_count": 18,
   "metadata": {},
   "outputs": [
    {
     "name": "stdout",
     "output_type": "stream",
     "text": [
      "0\n",
      "1\n",
      "4\n",
      "9\n",
      "16\n"
     ]
    }
   ],
   "source": [
    "def squared(num):\n",
    "    for i in range(num+1):\n",
    "        yield i**2\n",
    "for i in squared(4):\n",
    "    print(i)"
   ]
  }
 ],
 "metadata": {
  "kernelspec": {
   "display_name": "Python 3",
   "language": "python",
   "name": "python3"
  },
  "language_info": {
   "codemirror_mode": {
    "name": "ipython",
    "version": 3
   },
   "file_extension": ".py",
   "mimetype": "text/x-python",
   "name": "python",
   "nbconvert_exporter": "python",
   "pygments_lexer": "ipython3",
   "version": "3.7.6"
  }
 },
 "nbformat": 4,
 "nbformat_minor": 4
}
