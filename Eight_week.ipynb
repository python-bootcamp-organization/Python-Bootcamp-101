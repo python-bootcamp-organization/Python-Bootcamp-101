{
 "cells": [
  {
   "cell_type": "markdown",
   "metadata": {},
   "source": [
    "# Advanced Topics II: Complexity "
   ]
  },
  {
   "cell_type": "markdown",
   "metadata": {},
   "source": [
    "**Monday: Generators and Iterators**\n",
    "\n",
    "In previous sections of this book, you may have seen the words generators or iterators\n",
    "mentioned. Without knowing, you’ve been using them the entire time.\n",
    "\n",
    "**Iterators vs. Iterables**\n",
    "\n",
    "An **iterator** is an object that contains items which can be iterated upon, meaning\n",
    "you can traverse through all values. An **iterable** is a collection like lists, dictionaries,\n",
    "tuples, and sets. The major difference is that iterables are not iterators; rather they are\n",
    "containers for data. In Python, iterator objects implement the magic methods iter and\n",
    "next that allow you to traverse through its values."
   ]
  },
  {
   "cell_type": "code",
   "execution_count": 1,
   "metadata": {},
   "outputs": [
    {
     "name": "stdout",
     "output_type": "stream",
     "text": [
      "baseball\n",
      "soccer\n",
      "football\n",
      "hockey\n",
      "basketball\n"
     ]
    },
    {
     "ename": "StopIteration",
     "evalue": "",
     "output_type": "error",
     "traceback": [
      "\u001b[1;31m---------------------------------------------------------------------------\u001b[0m",
      "\u001b[1;31mStopIteration\u001b[0m                             Traceback (most recent call last)",
      "\u001b[1;32m<ipython-input-1-5b94292530c2>\u001b[0m in \u001b[0;36m<module>\u001b[1;34m\u001b[0m\n\u001b[0;32m      6\u001b[0m \u001b[1;32mfor\u001b[0m \u001b[0mitem\u001b[0m \u001b[1;32min\u001b[0m \u001b[0mmy_iter\u001b[0m\u001b[1;33m:\u001b[0m\u001b[1;33m\u001b[0m\u001b[1;33m\u001b[0m\u001b[0m\n\u001b[0;32m      7\u001b[0m     \u001b[0mprint\u001b[0m\u001b[1;33m(\u001b[0m\u001b[0mitem\u001b[0m\u001b[1;33m)\u001b[0m\u001b[1;33m\u001b[0m\u001b[1;33m\u001b[0m\u001b[0m\n\u001b[1;32m----> 8\u001b[1;33m \u001b[0mprint\u001b[0m\u001b[1;33m(\u001b[0m\u001b[0mnext\u001b[0m\u001b[1;33m(\u001b[0m\u001b[0mmy_iter\u001b[0m\u001b[1;33m)\u001b[0m\u001b[1;33m)\u001b[0m\u001b[1;33m\u001b[0m\u001b[1;33m\u001b[0m\u001b[0m\n\u001b[0m",
      "\u001b[1;31mStopIteration\u001b[0m: "
     ]
    }
   ],
   "source": [
    "# creating a basic iterator from an iterable\n",
    "sports = [ \"baseball\", \"soccer\", \"football\", \"hockey\", \"basketball\" ]\n",
    "my_iter = iter(sports)\n",
    "print(next(my_iter)) # outputs firs item\n",
    "print(next(my_iter)) # outputs second item\n",
    "for item in my_iter: # this is ine 10\n",
    "    print(item)\n",
    "print(next(my_iter))"
   ]
  },
  {
   "cell_type": "markdown",
   "metadata": {},
   "source": [
    "**Note :** Iterators will always remember the last item that they\n",
    "returned, which is why we get an error on line 13. Using the next() method, we’re able\n",
    "to output the next item within the iterator. Once all the items within the iterator have\n",
    "been used, however, we can no longer traverse through the iterator, as there are no\n",
    "more items left. Iterators are great for looping as well, and like lists and dictionaries,\n",
    "we can simply use the in keyword (see line 10). You can still loop over the list like we\n",
    "normally do, and it will always begin from index 0, but once our iterator is out of items,\n",
    "we can no longer use it.\n",
    "\n",
    "**Creating Our Own Iterator**\n",
    "\n",
    "To create an iterator, we’ll need\n",
    "to implement the magic methods __iter__() and __next__():"
   ]
  },
  {
   "cell_type": "code",
   "execution_count": 1,
   "metadata": {},
   "outputs": [
    {
     "name": "stdout",
     "output_type": "stream",
     "text": [
      "a\n",
      "b\n",
      "c\n",
      "d\n",
      "e\n",
      "f\n",
      "g\n",
      "h\n",
      "i\n",
      "j\n",
      "k\n",
      "l\n",
      "m\n",
      "n\n",
      "o\n",
      "p\n",
      "q\n",
      "r\n",
      "s\n",
      "t\n",
      "u\n",
      "v\n",
      "w\n",
      "x\n",
      "y\n",
      "z\n"
     ]
    }
   ],
   "source": [
    "# creating our own iterator\n",
    "class Alphabet():\n",
    "    def __iter__(self):\n",
    "        self.letters = \"abcdefghijklmnopqrstuvwxyz\"\n",
    "        self.index = 0\n",
    "        return self\n",
    "    def __next__(self):\n",
    "        if self.index <= 25:\n",
    "            char = self.letters[self.index]\n",
    "            self.index += 1\n",
    "            return char\n",
    "        else:\n",
    "            raise StopIteration\n",
    "for char in Alphabet():\n",
    "    print(char)"
   ]
  },
  {
   "cell_type": "markdown",
   "metadata": {},
   "source": [
    "**Note :** Iterators are useful when you’re in need of traversing through Python collections\n",
    "in a specific way.\n",
    "\n",
    "**What Are Generators?**\n",
    "\n",
    "Generators are functions that yield back information to produce a sequence of results rather than a single value. They’re a way to simplify the creation of an iterator. Normally, when a function has completed its task and returned information, the variables declared inside of the function will be deleted. With generators, however, they use the “yield” keyword to send information back to the location it was called without terminating the function. Generators don’t always have to yield back integers though you can yield any information you’d like.   \n",
    "**Note :** Generators are simplified iterators.\n",
    "\n",
    "**Creating a Range Generator**\n",
    "\n",
    "lthough the range function is not a generator, we can make our own version that’s\n",
    "created from a generator using the yield keyword."
   ]
  },
  {
   "cell_type": "code",
   "execution_count": 3,
   "metadata": {},
   "outputs": [
    {
     "name": "stdout",
     "output_type": "stream",
     "text": [
      "Geerator Start Value: 0\n",
      "For Loop X Value: 0\n",
      "Geerator Start Value: 1\n",
      "For Loop X Value: 1\n",
      "Geerator Start Value: 2\n",
      "For Loop X Value: 2\n",
      "Geerator Start Value: 3\n",
      "For Loop X Value: 3\n",
      "Geerator Start Value: 4\n",
      "For Loop X Value: 4\n"
     ]
    }
   ],
   "source": [
    "# creating our own range generator with start, stop, and step parameters\n",
    "def myRange(stop, start = 0, step = 1):\n",
    "    while start < stop:\n",
    "        print(\"Geerator Start Value: {}\".format(start))\n",
    "        yield start\n",
    "        start += step # increment start, otherwise infinite loop\n",
    "for x in myRange(5):\n",
    "    print(\"For Loop X Value: {}\".format(x))"
   ]
  },
  {
   "cell_type": "markdown",
   "metadata": {},
   "source": [
    "### MONDAY EXERCISES"
   ]
  },
  {
   "cell_type": "raw",
   "metadata": {},
   "source": [
    "1. Reverse Iteration: Create an iterator that takes in a list, and when iterated over, it returns the information in a reverse order. Hint: When accepting arguments into an iterator, you need to use the init method, as well as iter and next. the following call should result in “5, 4, 3, 2, 1”.\n",
    ">>> for i in RevIter( [ 1, 2, 3, 4, 5 ] ):"
   ]
  },
  {
   "cell_type": "code",
   "execution_count": 16,
   "metadata": {},
   "outputs": [
    {
     "name": "stdout",
     "output_type": "stream",
     "text": [
      "5\n",
      "4\n",
      "3\n",
      "2\n",
      "1\n"
     ]
    }
   ],
   "source": [
    "liste = [ 1, 2, 3, 4, 5 ]\n",
    "class RevIter():\n",
    "    def __init__(self, liste):\n",
    "        self.liste = liste\n",
    "        self.index = -1\n",
    "    def __iter__(self):\n",
    "        return self\n",
    "    def __next__(self):\n",
    "        if self.index >= -len(liste):\n",
    "            item = self.liste[self.index]\n",
    "            self.index -= 1\n",
    "            return item\n",
    "        else:\n",
    "            raise StopIteration\n",
    "\n",
    "for item in RevIter(liste):\n",
    "    print(item)"
   ]
  },
  {
   "cell_type": "raw",
   "metadata": {},
   "source": [
    "2. Squares: Create a generator that acts like the range function, except it yields a squared number every time. the result of the following call should be “0, 1, 4, 9, 16”.\n",
    ">>> for i in range(4):"
   ]
  },
  {
   "cell_type": "code",
   "execution_count": 1,
   "metadata": {},
   "outputs": [
    {
     "name": "stdout",
     "output_type": "stream",
     "text": [
      "0\n",
      "1\n",
      "4\n",
      "9\n",
      "16\n"
     ]
    }
   ],
   "source": [
    "def squared(num):\n",
    "    for i in range(num+1):\n",
    "        yield i**2\n",
    "for i in squared(4):\n",
    "    print(i)"
   ]
  },
  {
   "cell_type": "markdown",
   "metadata": {},
   "source": [
    "# Tuesday: Decorators"
   ]
  },
  {
   "cell_type": "markdown",
   "metadata": {},
   "source": [
    "**What Are Decorators?**\n",
    "**Decorators**, also known as wrappers, are functions that give other functions extra\n",
    "capabilities without explicitly modifying them. They are denoted by the “@” symbol\n",
    "in front of the function name, which is written above a function declaration like the\n",
    "following:\n",
    "<p><b>\n",
    ">>> @decorator  <br>\n",
    ">>> def normalFunc( ): <br>\n",
    "    </b></p>\n",
    "\n",
    "Decorators are useful when you want to perform some functionality before or\n",
    "after a function executes. For example, let’s imagine you wanted to restrict access to\n",
    "a function based on a user being logged in. Rather than writing the same conditional\n",
    "statement for every function you create, you could put the code into a decorator\n",
    "and apply the decorator onto all functions. Now, whenever a function is called, the\n",
    "conditional statement will still run, but you were able to save yourself several lines.\n",
    "This is a real-life example for the Flask framework, which restricts access to certain\n",
    "pages based on user authentication using decorators. We’ll see a minimal example of\n",
    "this later today."
   ]
  },
  {
   "cell_type": "markdown",
   "metadata": {},
   "source": [
    "**Higher-Order Functions**\n",
    "\n",
    "A higher-order function is a function that operates on other functions, either by taking\n",
    "a function as its argument or by returning a function. We saw this done in last week’s\n",
    "lesson with lambdas, map, filter, and reduce. Decorators are higher-order functions\n",
    "because they take in a function and return a function."
   ]
  },
  {
   "cell_type": "markdown",
   "metadata": {},
   "source": [
    "**Creating and Applying a Decorator**\n",
    "\n",
    "We’ll need to declare a function that takes in another function as an argument in order\n",
    "to create a decorator. Inside of this decorator, we can then define another function to be\n",
    "returned that will run the function that was passed in as an argument. Let’s see how this\n",
    "is written:"
   ]
  },
  {
   "cell_type": "code",
   "execution_count": 3,
   "metadata": {},
   "outputs": [
    {
     "name": "stdout",
     "output_type": "stream",
     "text": [
      "=======\n",
      "John!\n",
      "======\n"
     ]
    }
   ],
   "source": [
    "#creating and applying our own decorator using the @ symbol\n",
    "def dectator(func):\n",
    "    def wrap():\n",
    "        print(\"=======\")\n",
    "        func()\n",
    "        print(\"======\")\n",
    "    return wrap\n",
    "@dectator\n",
    "def printName():\n",
    "    print(\"John!\")\n",
    "printName( )"
   ]
  },
  {
   "cell_type": "markdown",
   "metadata": {},
   "source": [
    "**Decorators with Parameters**:\n",
    "Although decorators simply add extra capabilities to functions, they can also have\n",
    "arguments like any other function. Let’s take the following example where we want to\n",
    "run a function x times:"
   ]
  },
  {
   "cell_type": "code",
   "execution_count": 13,
   "metadata": {},
   "outputs": [
    {
     "name": "stdout",
     "output_type": "stream",
     "text": [
      "Hello!\n",
      "Hello!\n",
      "Hello!\n",
      "Hello!\n"
     ]
    }
   ],
   "source": [
    "# creating a decorator that takes in parameters\n",
    "def run_times(num):\n",
    "    def wrap(func):\n",
    "        for i in range(num):\n",
    "            func()\n",
    "    return wrap\n",
    "\n",
    "@run_times(4)\n",
    "def sayHello():\n",
    "    print(\"Hello!\")"
   ]
  },
  {
   "cell_type": "markdown",
   "metadata": {},
   "source": [
    "**Note** When passing an argument into a decorator, the function is automatically\n",
    "run, so we do not need to call sayHello in this instance."
   ]
  },
  {
   "cell_type": "markdown",
   "metadata": {},
   "source": [
    "**Functions with Decorators and Parameters**\n",
    "\n",
    "When you need a function to accept arguments, while also having a decorator attached\n",
    "to it, the wrap function must take in the same exact arguments as the original function.\n",
    "Let’s try it:"
   ]
  },
  {
   "cell_type": "code",
   "execution_count": 14,
   "metadata": {},
   "outputs": [
    {
     "name": "stdout",
     "output_type": "stream",
     "text": [
      "Happy birthday Paul, you are now 43.\n"
     ]
    }
   ],
   "source": [
    "#creating a dectator for a function that accepts parameters\n",
    "def birthday(func):\n",
    "    def wrap(name, age):\n",
    "        func(name, age + 1)\n",
    "    return wrap\n",
    "#birthday\n",
    "def celebrate(name, age):\n",
    "    print( f\"Happy birthday {name}, you are now {age }.\")\n",
    "celebrate(\"Paul\", 43)"
   ]
  },
  {
   "cell_type": "markdown",
   "metadata": {},
   "source": [
    "**Restricting Function Access**\n",
    "You’re probably wondering how decorators can serve a purpose, since the last few cells\n",
    "seem meaningless. For each one of them, we could have simply added those lines within\n",
    "the original function. That was just for syntax understanding though. Decorators are\n",
    "used a lot with frameworks and help to add functionality to many functions that you’ll\n",
    "write within them. One example is being able to restrict access of a page or function\n",
    "based on user login credentials. Let’s create a decorator that will help to restrict access if\n",
    "the password doesn’t match"
   ]
  },
  {
   "cell_type": "code",
   "execution_count": 28,
   "metadata": {},
   "outputs": [
    {
     "name": "stdout",
     "output_type": "stream",
     "text": [
      "What is the password?ilywpf\n",
      "Access granted, welcome Jess\n"
     ]
    }
   ],
   "source": [
    "# real world sim, restricting function access\n",
    "def login_required(func):\n",
    "    def wrap(user):\n",
    "        password = input(\"What is the password?\")\n",
    "        if password == user[\"password\"]:\n",
    "            func(user)\n",
    "        else:\n",
    "            print(\"Access Denied\")\n",
    "    return wrap\n",
    "@login_required\n",
    "def restrictedFunc(user):\n",
    "    print(\"Access granted, welcome {}\".format(user[\"name\"]))\n",
    "user = { \"name\" : \"Jess\", \"password\" : \"ilywpf\" }\n",
    "restrictedFunc(user)"
   ]
  },
  {
   "cell_type": "markdown",
   "metadata": {},
   "source": [
    "# TUESDAY EXERCISES"
   ]
  },
  {
   "cell_type": "markdown",
   "metadata": {},
   "source": [
    "**1. User Input:** Create a decorator that will ask the user for a number, and run\n",
    "the function it is attached to only if the number is less than 100. The function\n",
    "should simply output “Less than 100”. Use the function declaration in the\n",
    "following:\n",
    "\n",
    "\n",
    "<p>\n",
    ">>> @decorator <br>\n",
    ">>> def numbers(): <br>\n",
    ">>>&nbsp;&nbsp;&nbsp;&nbsp;&nbsp;&nbsp;print(\"Less than 100\")\n",
    "</p>"
   ]
  },
  {
   "cell_type": "code",
   "execution_count": 40,
   "metadata": {},
   "outputs": [
    {
     "name": "stdout",
     "output_type": "stream",
     "text": [
      "Please enter a number: 165\n",
      "Great !\n"
     ]
    }
   ],
   "source": [
    "def decorator(func):\n",
    "    def number():\n",
    "        num = int(input(\"Please enter a number: \"))\n",
    "        if num < 100:\n",
    "            func()\n",
    "        else:\n",
    "            print(\"Great !\")\n",
    "    return number\n",
    "\n",
    "@decorator\n",
    "def numbers():\n",
    "    print(\"Less than 100\")\n",
    "numbers()"
   ]
  },
  {
   "cell_type": "markdown",
   "metadata": {},
   "source": [
    "**Creating a Route:** Create a decorator that takes in a string as an argument with\n",
    "a wrap function that takes in func. Have the wrap function print out the string,\n",
    "and run the function passed in. The function passed in doesn’t need to do\n",
    "anything. In Flask, you can create a page by using decorators that accept a URL\n",
    "string. Use the function declaration in the following to start:\n",
    "<p>>>> @route(\"/index\") <br>\n",
    ">>> def index( ): <br>\n",
    ">>> print(\"This is how web pages are made in Flask\") <br>\n",
    "</p>"
   ]
  },
  {
   "cell_type": "code",
   "execution_count": 42,
   "metadata": {},
   "outputs": [
    {
     "name": "stdout",
     "output_type": "stream",
     "text": [
      "/index\n",
      "This is how web pages are made in Flask\n"
     ]
    }
   ],
   "source": [
    "def route(*a):\n",
    "    def wrap(func):\n",
    "        print(*a)\n",
    "        func()\n",
    "    return wrap\n",
    "        \n",
    "@route(\"/index\")\n",
    "def index():\n",
    "    print(\"This is how web pages are made in Flask\")"
   ]
  },
  {
   "cell_type": "markdown",
   "metadata": {},
   "source": [
    "**Today was an important lesson in preparation for other technologies that use\n",
    "Python, such as frameworks. Decorators help to improve function execution and\n",
    "can be attached to any function necessary. This helps to reduce code and give\n",
    "improved functionality.**"
   ]
  },
  {
   "cell_type": "markdown",
   "metadata": {},
   "source": [
    "# Wednesday: Modules"
   ]
  },
  {
   "cell_type": "markdown",
   "metadata": {},
   "source": [
    "**Importing a Module**\n",
    "\n",
    "For the next few examples, we’ll be working with the math module, which is one of\n",
    "Python’s built-in modules. This specific module has functions and variables to help us\n",
    "with any problem related to math, whether it’s rounding, calculating pi, or many other\n",
    "math-related tasks. For this first cell, we’re going to import the entire math module and\n",
    "its contents"
   ]
  },
  {
   "cell_type": "code",
   "execution_count": 44,
   "metadata": {},
   "outputs": [
    {
     "name": "stdout",
     "output_type": "stream",
     "text": [
      "2\n",
      "3\n",
      "3.141592653589793\n"
     ]
    }
   ],
   "source": [
    "# import the entire math module\n",
    "import math \n",
    "print(math.floor(2.5)) # rounds down\n",
    "print(math.ceil(2.5))  # rounds up\n",
    "print(math.pi)"
   ]
  },
  {
   "cell_type": "markdown",
   "metadata": {},
   "source": [
    "**Importing Only Variables and Functions**"
   ]
  },
  {
   "cell_type": "code",
   "execution_count": 48,
   "metadata": {},
   "outputs": [
    {
     "name": "stdout",
     "output_type": "stream",
     "text": [
      "2\n",
      "3.141592653589793\n"
     ]
    }
   ],
   "source": [
    "# importing only variables and functions rather than an entire module, better efficiency\n",
    "\n",
    "from math import floor, pi\n",
    "print(floor(2.5))\n",
    "#print(ceil(2.5))         #will cause error because we only imported floor and pi, not ceil and not all of math\n",
    "print(pi)"
   ]
  },
  {
   "cell_type": "markdown",
   "metadata": {},
   "source": [
    "**Note** You can import classes from modules the same way as earlier; simply use\n",
    "the name of the class."
   ]
  },
  {
   "cell_type": "markdown",
   "metadata": {},
   "source": [
    "**Using an Alias**"
   ]
  },
  {
   "cell_type": "code",
   "execution_count": 49,
   "metadata": {},
   "outputs": [
    {
     "name": "stdout",
     "output_type": "stream",
     "text": [
      "2\n"
     ]
    }
   ],
   "source": [
    "# using the 'as' keyword to create an alias for imports\n",
    "from math import floor as f\n",
    "print( f(2.5) )"
   ]
  },
  {
   "cell_type": "markdown",
   "metadata": {},
   "source": [
    "**Creating Our Own Module**\n",
    "\n",
    "Now that we know how to import and call a module, let’s create our own. Go ahead\n",
    "and open any text editor you have on your computer like Notepad or TextEdit. Write the\n",
    "following code in cell in the file, and save it within the same folder that your “Week_09” file is\n",
    "located, with the name “test.py”. If the two files aren’t in the same directory, it produces\n",
    "an error: \n"
   ]
  },
  {
   "cell_type": "code",
   "execution_count": 50,
   "metadata": {},
   "outputs": [
    {
     "data": {
      "image/png": "[encoded data removed]",
      "text/plain": [
       "<IPython.core.display.Image object>"
      ]
     },
     "execution_count": 50,
     "metadata": {},
     "output_type": "execute_result"
    }
   ],
   "source": [
    "from IPython.display import Image\n",
    "Image(filename='images_projects/test.png')"
   ]
  },
  {
   "cell_type": "markdown",
   "metadata": {},
   "source": [
    "**Using Our Module in Jupyter Notebook**\n",
    "\n",
    "In any other circumstance, you’d import the variables and function we wrote in test.py\n",
    "with the import and from keywords. Jupyter Notebook, however, works a little differently\n",
    "when using modules that you’ve created. We’ll use the “run” command in order to load\n",
    "in the entire module that we’ve created. After we run the file, we can use the variables\n",
    "and functions that we wrote within the module. Let’s check out how to do so:"
   ]
  },
  {
   "cell_type": "code",
   "execution_count": 52,
   "metadata": {},
   "outputs": [
    {
     "name": "stdout",
     "output_type": "stream",
     "text": [
      "5 10\n",
      "John Smith is 37 years old.\n"
     ]
    }
   ],
   "source": [
    "# using the run command with Jupyter Notebook to access our own modules\n",
    "%run test.py\n",
    "print(length, width)\n",
    "printInfo(\"John Smith\", 37) # able to call from the module because we ran the file in Jupyter above\n"
   ]
  },
  {
   "cell_type": "markdown",
   "metadata": {},
   "source": [
    "**WEDNESDAY EXERCISES**\n",
    "1. Time Module: Import the time module and call the sleep function. Make the\n",
    "cell sleep for 5 seconds, and then print “Time module imported”. Although\n",
    "we haven’t covered this module, this exercise will provide good practice\n",
    "for you to try and work with a module on your own. Feel free to use Google,\n",
    "Quora, etc."
   ]
  },
  {
   "cell_type": "code",
   "execution_count": 59,
   "metadata": {},
   "outputs": [
    {
     "name": "stdout",
     "output_type": "stream",
     "text": [
      "Time module imported\n"
     ]
    }
   ],
   "source": [
    "import time \n",
    "word = 5\n",
    "time.sleep(word)\n",
    "print(\"Time module imported\")"
   ]
  },
  {
   "cell_type": "markdown",
   "metadata": {},
   "source": [
    "**2. Calculating Area:**\n",
    "\n",
    "Create a module named “calculation.py” that has a single\n",
    "function within it. That function should take in two parameters and return the\n",
    "product of them. We can imagine that we’re trying to calculate the area of\n",
    "a rectangle and it needs to take in the length and width properties. Run the\n",
    "module within Jupyter Notebook, and use the following function call within\n",
    "the cell"
   ]
  },
  {
   "cell_type": "code",
   "execution_count": 63,
   "metadata": {},
   "outputs": [
    {
     "data": {
      "text/plain": [
       "450"
      ]
     },
     "execution_count": 63,
     "metadata": {},
     "output_type": "execute_result"
    }
   ],
   "source": [
    "%run calculation.py\n",
    "\n",
    "calcArea(15, 30)"
   ]
  },
  {
   "cell_type": "code",
   "execution_count": null,
   "metadata": {},
   "outputs": [],
   "source": []
  }
 ],
 "metadata": {
  "kernelspec": {
   "display_name": "Python 3",
   "language": "python",
   "name": "python3"
  },
  "language_info": {
   "codemirror_mode": {
    "name": "ipython",
    "version": 3
   },
   "file_extension": ".py",
   "mimetype": "text/x-python",
   "name": "python",
   "nbconvert_exporter": "python",
   "pygments_lexer": "ipython3",
   "version": "3.9.5"
  }
 },
 "nbformat": 4,
 "nbformat_minor": 4
}
