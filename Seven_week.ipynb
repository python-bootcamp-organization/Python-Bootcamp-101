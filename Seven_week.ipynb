{
 "cells": [
  {
   "cell_type": "markdown",
   "metadata": {},
   "source": [
    "# Advanced Topics I: Efficiency"
   ]
  },
  {
   "cell_type": "markdown",
   "metadata": {},
   "source": [
    "# Monday: List Comprehension"
   ]
  },
  {
   "cell_type": "markdown",
   "metadata": {},
   "source": [
    "It doesn’t improve performance, but it’s cleaner and helps reduce the lines of code within our program. With comprehension we can reduce two or more lines into one. Plus, it’s generally quicker to write.\n",
    "\n",
    "**List Comprehension Syntax**\n",
    "\n",
    "-----> *result* = [ *transform* *iteration* *filter* ]\n",
    "\n",
    "**Generating a List of Numbers**"
   ]
  },
  {
   "cell_type": "code",
   "execution_count": 1,
   "metadata": {},
   "outputs": [
    {
     "data": {
      "text/plain": [
       "[0, 10, 20, 30, 40, 50, 60, 70, 80, 90]"
      ]
     },
     "execution_count": 1,
     "metadata": {},
     "output_type": "execute_result"
    }
   ],
   "source": [
    "# creat a list of ten numbers using list comprehension\n",
    "nums = [x for x in range(0,100,10)]\n",
    "nums"
   ]
  },
  {
   "cell_type": "markdown",
   "metadata": {},
   "source": [
    "**If Statements**"
   ]
  },
  {
   "cell_type": "code",
   "execution_count": 3,
   "metadata": {},
   "outputs": [
    {
     "data": {
      "text/plain": [
       "[0, 2, 4, 6, 8]"
      ]
     },
     "execution_count": 3,
     "metadata": {},
     "output_type": "execute_result"
    }
   ],
   "source": [
    "# using if statements within list comprehension\n",
    "nums = [x for x in range(10) if x % 2 == 0]\n",
    "nums"
   ]
  },
  {
   "cell_type": "markdown",
   "metadata": {},
   "source": [
    "**Note :** This time we were able to reduce four lines of code down to one. This can often improve readability of your code."
   ]
  },
  {
   "cell_type": "code",
   "execution_count": 4,
   "metadata": {},
   "outputs": [
    {
     "data": {
      "text/plain": [
       "['Even', 'Odd', 'Even', 'Odd', 'Even', 'Odd', 'Even', 'Odd', 'Even', 'Odd']"
      ]
     },
     "execution_count": 4,
     "metadata": {},
     "output_type": "execute_result"
    }
   ],
   "source": [
    "# using if/else statements within list comprehension\n",
    "nums = [\"Even\" if x % 2 == 0 else \"Odd\" for x in range(10)]\n",
    "nums"
   ]
  },
  {
   "cell_type": "markdown",
   "metadata": {},
   "source": [
    "**Note :** We’ve reduced the lines of code from six down to one. Comprehensions are great for quick generation of data; however, it becomes more difficult when the conditions are larger. Comprehensions don’t allow for the use of elif statements, only if/else statements.\n",
    "\n",
    "**List Comprehension with Variables**\n",
    "\n",
    "**Note :** Comprehension is great for generating data from other lists as well. "
   ]
  },
  {
   "cell_type": "code",
   "execution_count": 5,
   "metadata": {},
   "outputs": [
    {
     "data": {
      "text/plain": [
       "[4, 16, 36, 64]"
      ]
     },
     "execution_count": 5,
     "metadata": {},
     "output_type": "execute_result"
    }
   ],
   "source": [
    "# creating a list of squared numbers from another list of numbers using list comprehension\n",
    "nums = [2,4,6,8]\n",
    "squared_nums = [num**2 for num in nums]\n",
    "squared_nums"
   ]
  },
  {
   "cell_type": "markdown",
   "metadata": {},
   "source": [
    "**Note :** In this example, we were able to reduce the lines needed from three to one\n",
    "    \n",
    "**Dictionary Comprehension**\n",
    "\n",
    "**Note :** Not only can you use comprehension on lists but also Python dictionaries as well."
   ]
  },
  {
   "cell_type": "code",
   "execution_count": 7,
   "metadata": {},
   "outputs": [
    {
     "data": {
      "text/plain": [
       "{0: 0, 2: 4, 4: 16, 6: 36, 8: 64}"
      ]
     },
     "execution_count": 7,
     "metadata": {},
     "output_type": "execute_result"
    }
   ],
   "source": [
    "# creating a dictionary of even numbers and square values using comprehension\n",
    "numbers = [x for x in range(10)]\n",
    "squares = {num : num**2 for num in numbers if num % 2 == 0}\n",
    "squares"
   ]
  },
  {
   "cell_type": "markdown",
   "metadata": {},
   "source": [
    "### MONDAY EXERCISES"
   ]
  },
  {
   "cell_type": "raw",
   "metadata": {},
   "source": [
    "1. Degree Conversion: Using list comprehension, convert the following list to\n",
    "Fahrenheit. Currently, the degrees are in Celsius temperatures. the conversion\n",
    "formula is “(9/5) * C + 32”. your output should be [ 53.6, 69.8, 59, 89.6 ].\n",
    ">>> degrees = [ 12, 21, 15, 32 ]"
   ]
  },
  {
   "cell_type": "code",
   "execution_count": 8,
   "metadata": {},
   "outputs": [
    {
     "data": {
      "text/plain": [
       "[53.6, 69.80000000000001, 59.0, 89.6]"
      ]
     },
     "execution_count": 8,
     "metadata": {},
     "output_type": "execute_result"
    }
   ],
   "source": [
    "#Solution\n",
    "degrees = [12, 21, 15, 32]\n",
    "degree_conversion = [(9/5)*x+32 for x in degrees]\n",
    "degree_conversion"
   ]
  },
  {
   "cell_type": "raw",
   "metadata": {},
   "source": [
    "2. User Input: ask the user to input a single integer up to and including 100.\n",
    "Generate a list of numbers that are exactly divisible by that number up to and\n",
    "including 100 using list comprehension. For example, if the number 25 was\n",
    "input, then the output should be [ 25, 50, 75, 100 ]."
   ]
  },
  {
   "cell_type": "code",
   "execution_count": 9,
   "metadata": {},
   "outputs": [
    {
     "name": "stdout",
     "output_type": "stream",
     "text": [
      "Input a single integer up to and including 100 : 25\n"
     ]
    },
    {
     "data": {
      "text/plain": [
       "[25, 50, 75, 100]"
      ]
     },
     "execution_count": 9,
     "metadata": {},
     "output_type": "execute_result"
    }
   ],
   "source": [
    "# Solution\n",
    "number = int(input(\"Input a single integer up to and including 100 : \"))\n",
    "list_numbers = [x for x in range(101)]\n",
    "output = [x for x in list_numbers if x % number == 0 and x != 0]\n",
    "output"
   ]
  },
  {
   "cell_type": "markdown",
   "metadata": {},
   "source": [
    "# Tuesday: Lambda Functions"
   ]
  },
  {
   "cell_type": "markdown",
   "metadata": {},
   "source": [
    "**Note :** Lambda functions, otherwise known as anonymous functions, are one-line functions within Python. Like list comprehension, lambda functions allow us to reduce the lines of code we need to write within our program. It doesn’t work for complicated functions but helps to improve readability of smaller functions.   \n",
    "---> lambda arguments : expression\n",
    "\n",
    "**Using a Lambda**"
   ]
  },
  {
   "cell_type": "code",
   "execution_count": 10,
   "metadata": {},
   "outputs": [
    {
     "data": {
      "text/plain": [
       "16"
      ]
     },
     "execution_count": 10,
     "metadata": {},
     "output_type": "execute_result"
    }
   ],
   "source": [
    "# using a lambda to square a number\n",
    "(lambda x:x**2)(4)\n",
    "# equivalant to\n",
    "#>>> def square(x):\n",
    "#>>> return x**2\n",
    "#>>> square(4)"
   ]
  },
  {
   "cell_type": "markdown",
   "metadata": {},
   "source": [
    "**Passing Multiple Arguments**"
   ]
  },
  {
   "cell_type": "code",
   "execution_count": 12,
   "metadata": {},
   "outputs": [
    {
     "data": {
      "text/plain": [
       "50"
      ]
     },
     "execution_count": 12,
     "metadata": {},
     "output_type": "execute_result"
    }
   ],
   "source": [
    "#passing muliple argumants to lambda\n",
    "(lambda x,y: x*y)(10,5)"
   ]
  },
  {
   "cell_type": "markdown",
   "metadata": {},
   "source": [
    "**Saving Lambda Functions**\n",
    "\n",
    "**Note :** Lambdas get there name anonymous function because they don’t have a name to reference or call upon. Once a lambda function is used, it can’t be used again unless it is saved into a variable."
   ]
  },
  {
   "cell_type": "code",
   "execution_count": 13,
   "metadata": {},
   "outputs": [
    {
     "name": "stdout",
     "output_type": "stream",
     "text": [
      "<function <lambda> at 0x000000C19F10F048>\n",
      "50\n"
     ]
    }
   ],
   "source": [
    "#saving lambda fonction into a variable\n",
    "square = lambda x,y : x*y\n",
    "print(square)\n",
    "result = square(10,5)\n",
    "print(result)"
   ]
  },
  {
   "cell_type": "markdown",
   "metadata": {},
   "source": [
    "**Note :** When functions are stored inside of variables, the variable name acts as the function call."
   ]
  },
  {
   "cell_type": "code",
   "execution_count": 14,
   "metadata": {},
   "outputs": [
    {
     "ename": "SyntaxError",
     "evalue": "invalid syntax (<ipython-input-14-ef7296eb5256>, line 2)",
     "output_type": "error",
     "traceback": [
      "\u001b[1;36m  File \u001b[1;32m\"<ipython-input-14-ef7296eb5256>\"\u001b[1;36m, line \u001b[1;32m2\u001b[0m\n\u001b[1;33m    greater = lambda x,y: x if x>y\u001b[0m\n\u001b[1;37m                                  ^\u001b[0m\n\u001b[1;31mSyntaxError\u001b[0m\u001b[1;31m:\u001b[0m invalid syntax\n"
     ]
    }
   ],
   "source": [
    "# using if/else statements within a lambda to return the greater number\n",
    "greater = lambda x,y: x if x>y\n",
    "result = greater(10,5)\n",
    "print(result)"
   ]
  },
  {
   "cell_type": "markdown",
   "metadata": {},
   "source": [
    "**Note :** Once you begin adding conditional statements into a lambda function, they act the same\n",
    "way that ternary operators do. The only difference is that you must provide both the if\n",
    "and else statements. You can’t use just an if statement; it will render a syntax error, as it\n",
    "always needs an expression to return . "
   ]
  },
  {
   "cell_type": "code",
   "execution_count": 15,
   "metadata": {},
   "outputs": [
    {
     "name": "stdout",
     "output_type": "stream",
     "text": [
      "10\n"
     ]
    }
   ],
   "source": [
    "greater = lambda x,y: x if x>y else y\n",
    "result = greater(10,5)\n",
    "print(result)"
   ]
  },
  {
   "cell_type": "markdown",
   "metadata": {},
   "source": [
    "**Note :** When conditional statements are used, it’s easy to see the power of lambda functions. In this case we were able to turn five lines of code into one.\n",
    "\n",
    "**Returning a Lambda**\n",
    "\n",
    "Where lambda functions shine is in their ability to make other functions more modular."
   ]
  },
  {
   "cell_type": "code",
   "execution_count": 16,
   "metadata": {},
   "outputs": [
    {
     "name": "stdout",
     "output_type": "stream",
     "text": [
      "10\n",
      "15\n"
     ]
    }
   ],
   "source": [
    "#reurning a lambda fonction from another fonction\n",
    "def my_func(n):\n",
    "    return lambda x:x*n\n",
    "doubler = my_func(2) # return equivalent of lambda x:x*2\n",
    "print(doubler(5))\n",
    "tripler = my_func(3)\n",
    "print(tripler(5))"
   ]
  },
  {
   "cell_type": "markdown",
   "metadata": {},
   "source": [
    "**Note :** We’re able to modify the result of my_func because of the returned lambda function."
   ]
  },
  {
   "cell_type": "markdown",
   "metadata": {},
   "source": [
    "### TUESDAY EXERCISES"
   ]
  },
  {
   "cell_type": "raw",
   "metadata": {},
   "source": [
    "1. Fill in the Blanks: Fill in the blanks for the following code so that it takes in a parameter of “x” and returns “true” if it is greater than 50; otherwise, it should return “False”:\n",
    "\n",
    ">>> ____ x _ True if x _ 50 ____ False"
   ]
  },
  {
   "cell_type": "code",
   "execution_count": 17,
   "metadata": {},
   "outputs": [
    {
     "data": {
      "text/plain": [
       "False"
      ]
     },
     "execution_count": 17,
     "metadata": {},
     "output_type": "execute_result"
    }
   ],
   "source": [
    "(lambda x: True if x>50 else False)(40)"
   ]
  },
  {
   "cell_type": "raw",
   "metadata": {},
   "source": [
    "2. Degree Conversion: Write a lambda function that takes in a degree value in\n",
    "Celsius and returns the degree converted into Fahrenheit."
   ]
  },
  {
   "cell_type": "code",
   "execution_count": 18,
   "metadata": {},
   "outputs": [
    {
     "data": {
      "text/plain": [
       "53.6"
      ]
     },
     "execution_count": 18,
     "metadata": {},
     "output_type": "execute_result"
    }
   ],
   "source": [
    "degree_conv = lambda degree : (9/5) * degree + 32\n",
    "degree_conv(12)"
   ]
  },
  {
   "cell_type": "markdown",
   "metadata": {},
   "source": [
    "**Note :** today we were able to understand the differences between normal functions and anonymous functions, otherwise known as lambda functions. they’re useful for readability and being able to condense your code. one of their most powerful features is being able to give functions more capabilities by being returned from them."
   ]
  },
  {
   "cell_type": "markdown",
   "metadata": {},
   "source": [
    "# Wednesday: Map, Filter, and Reduce"
   ]
  },
  {
   "cell_type": "markdown",
   "metadata": {},
   "source": [
    "**Map Without Lambdas**:The **map** function is used when you need to alter all items within an iterable data\n",
    "collection. It takes in two arguments, the function to be applied on each element and\n",
    "the iterable data. When using map, it returns a **map object** , which is an **iterator**. Don’t\n",
    "worry about what these are for now; just know that we can type convert them into a data\n",
    "type that we can work with, like a list. Let’s try taking in a list of Celsius temperatures and\n",
    "convert all of them to Fahrenheit:"
   ]
  },
  {
   "cell_type": "code",
   "execution_count": 4,
   "metadata": {},
   "outputs": [
    {
     "name": "stdout",
     "output_type": "stream",
     "text": [
      "<map object at 0x000001B542C02A60>\n",
      "[54.5, 56.480000000000004, 59.0, 48.56]\n"
     ]
    }
   ],
   "source": [
    "# using the map function without lambdas\n",
    "def convertDeg(C):\n",
    "    return (9/5) * C + 32\n",
    "temps = [12.5, 13.6, 15, 9.2]\n",
    "convert_temps = map(convertDeg, temps)         # returns map object\n",
    "print(convert_temps)\n",
    "convert_temps = list(convert_temps)        # type convert map object\n",
    "print(convert_temps)"
   ]
  },
  {
   "cell_type": "markdown",
   "metadata": {},
   "source": [
    "**Map with Lambdas**: Now that we’ve seen how to use map with a normally defined function, let’s try it with\n",
    "a lambda function this time. As map requires a function as the first parameter, we can\n",
    "simply program a lambda in place of the name of a defined function. We can also type\n",
    "convert it on the same line"
   ]
  },
  {
   "cell_type": "code",
   "execution_count": 6,
   "metadata": {},
   "outputs": [
    {
     "name": "stdout",
     "output_type": "stream",
     "text": [
      "[54.5, 56.480000000000004, 59.0, 48.56]\n"
     ]
    }
   ],
   "source": [
    "# using a map function with lambdas\n",
    "temps = [12.5, 13.6, 15, 9.2]\n",
    "converted_temps = list(map(lambda C: (9/5) * C + 32, temps))   # type convert the map object right away\n",
    "print(converted_temps)"
   ]
  },
  {
   "cell_type": "markdown",
   "metadata": {},
   "source": [
    "Go ahead and run the cell. We’ll get the same output as we did before but in far less\n",
    "lines of code. This is the beauty of combining these two concepts. The lambda function\n",
    "takes in each item as the map function iterates over the temps list and returns the\n",
    "converted value. The same process that we’re performing can be found in the lines of\n",
    "code in the following image "
   ]
  },
  {
   "cell_type": "code",
   "execution_count": 7,
   "metadata": {},
   "outputs": [
    {
     "data": {
      "image/png": "[encoded data removed]",
      "text/plain": [
       "<IPython.core.display.Image object>"
      ]
     },
     "execution_count": 7,
     "metadata": {},
     "output_type": "execute_result"
    }
   ],
   "source": [
    "from IPython.display import Image\n",
    "Image(filename='images_projects/image_seven.png')"
   ]
  },
  {
   "cell_type": "markdown",
   "metadata": {},
   "source": [
    "**Filter Without Lambdas**: The **filter** function is useful for taking a collection of data and removing any information\n",
    "that you don’t need. Like the map function, it takes in a function and an iterable data\n",
    "type and returns a filter object. This object can be converted into a working list like we\n",
    "did with our map object. Let’s use the same data and filter out any degrees that aren’t\n",
    "above 55 degrees Fahrenheit:"
   ]
  },
  {
   "cell_type": "code",
   "execution_count": 13,
   "metadata": {},
   "outputs": [
    {
     "name": "stdout",
     "output_type": "stream",
     "text": [
      "<filter object at 0x000001B542CDA6D0>\n",
      "[13.6, 15]\n"
     ]
    }
   ],
   "source": [
    "#Using the filter function without lambda fuctions  filter out temps below 55F\n",
    "def filterTemps(C):\n",
    "    converted = (9/5) * C + 32\n",
    "    return True if converted > 55 else False            # use ternary operator\n",
    "temps = [ 12.5, 13.6, 15, 9.2 ]\n",
    "filtered_temps = filter(filterTemps,temps)# returns filter object\n",
    "print(filtered_temps)\n",
    "filtered_temps = list(filtered_temps) # convert filter object to list of filtered data\n",
    "print(filtered_temps)"
   ]
  },
  {
   "cell_type": "markdown",
   "metadata": {},
   "source": [
    "**Filter with Lambdas**:\n",
    "Let’s perform the same steps as earlier, except this time we’ll use a lambda function"
   ]
  },
  {
   "cell_type": "code",
   "execution_count": 16,
   "metadata": {},
   "outputs": [
    {
     "name": "stdout",
     "output_type": "stream",
     "text": [
      "[13.6, 15]\n"
     ]
    }
   ],
   "source": [
    "# using the filter function with lambda functions, filter out temps below 55F\n",
    "temps = [ 12.5, 13.6, 15, 9.2 ]\n",
    "filtered_temps = list( filter( lambda C : True if (9/5) * C + 32 > 55 else False, temps) )    # type convert the filter\n",
    "print(filtered_temps)\n"
   ]
  },
  {
   "cell_type": "markdown",
   "metadata": {},
   "source": [
    "Go ahead and run the cell. We’ll get the same output as we did earlier, except this\n",
    "time we were able to reduce the number of lines used with our lambda function. The\n",
    "same process that we’re performing can be found in the lines of code in the following image:"
   ]
  },
  {
   "cell_type": "code",
   "execution_count": 17,
   "metadata": {},
   "outputs": [
    {
     "data": {
      "image/png": "[encoded data removed]",
      "text/plain": [
       "<IPython.core.display.Image object>"
      ]
     },
     "execution_count": 17,
     "metadata": {},
     "output_type": "execute_result"
    }
   ],
   "source": [
    "Image(filename='images_projects/lambdaFilter.png')"
   ]
  },
  {
   "cell_type": "markdown",
   "metadata": {},
   "source": [
    "**The Problem with Reduce**\n",
    "Although I’m going to show you how to use the reduce function, you should understand\n",
    "that there’s a better method than using the actual function. Per the creator of Python\n",
    "himself:\n",
    "\n",
    "   So now reduce( ). This is actually the one I've always hated most, because,\n",
    "   apart from a few examples involving + or ∗, almost every time I see a\n",
    "   reduce( ) call with a non-trivial function argument, I need to grab pen and\n",
    "   paper to diagram what's actually being fed into that function before I\n",
    "   understand what the reduce( ) is supposed to do. So in my mind, the applicability\n",
    "   of reduce( ) is pretty much limited to associative operators, and in\n",
    "   all other cases it's better to write out the accumulation loop explicitly.\n",
    "   \n",
    "In his own words, he’s saying that reduce only serves a couple purposes, but other\n",
    "than that, it’s useless, so it makes more sense to use a simple for loop. Let’s look at both\n",
    "examples."
   ]
  },
  {
   "cell_type": "markdown",
   "metadata": {},
   "source": [
    "**Note**: Reduce was a built-in function in Python 2, since then it has been moved\n",
    "into the functools library"
   ]
  },
  {
   "cell_type": "markdown",
   "metadata": {},
   "source": [
    "**Using Reduce**\n",
    "\n",
    "The reduce function accepts two arguments, the function to perform the execution and\n",
    "the data collection to iterate over. Unlike filter and map, however, reduce iterates two\n",
    "items at a time instead of one. The result of reduce is to always return a single result. In\n",
    "the following example, we want to multiply all the numbers with each other. Let’s use\n",
    "reduce to execute this example"
   ]
  },
  {
   "cell_type": "code",
   "execution_count": 19,
   "metadata": {},
   "outputs": [
    {
     "name": "stdout",
     "output_type": "stream",
     "text": [
      "24\n"
     ]
    }
   ],
   "source": [
    "#for informational purpose this is how youe use the reduce function\n",
    "from functools import reduce\n",
    "nums = [1, 2, 3, 4]\n",
    "result = reduce(lambda a,b: a*b, nums)      # result is 24\n",
    "print(result)"
   ]
  },
  {
   "cell_type": "markdown",
   "metadata": {},
   "source": [
    "Go ahead and run the cell. The output will be 24. As the reduce function takes in two\n",
    "arguments, it condenses the nums list down to a single returned value. In the following,\n",
    "you’ll see the suggested way of executing the same procedure"
   ]
  },
  {
   "cell_type": "code",
   "execution_count": 20,
   "metadata": {},
   "outputs": [
    {
     "data": {
      "image/png": "[encoded data removed]",
      "text/plain": [
       "<IPython.core.display.Image object>"
      ]
     },
     "execution_count": 20,
     "metadata": {},
     "output_type": "execute_result"
    }
   ],
   "source": [
    "Image(filename='images_projects/reduce_image.png')"
   ]
  },
  {
   "cell_type": "markdown",
   "metadata": {},
   "source": [
    "# WEDNESDAY EXERCISES"
   ]
  },
  {
   "cell_type": "markdown",
   "metadata": {},
   "source": [
    "**1. Mapping Names**: Use a lambda and map function to map over the list of\n",
    "names in the following to produce the following result **“[ “Ryan”, “Paul”,\n",
    "“Kevin Connors” ]**.\n",
    "\n",
    "\n",
    "names = [ \" ryan\", \"PAUL\", \"kevin connors \" ]"
   ]
  },
  {
   "cell_type": "code",
   "execution_count": 22,
   "metadata": {},
   "outputs": [
    {
     "name": "stdout",
     "output_type": "stream",
     "text": [
      "['Ryan', 'Paul', 'Kevin Connors']\n"
     ]
    }
   ],
   "source": [
    "names = [\"ryan\",\"PAUL\", \"kevin connors\"]\n",
    "names = list(map(lambda x: x.title().strip(),names))\n",
    "print(names)"
   ]
  },
  {
   "cell_type": "markdown",
   "metadata": {},
   "source": [
    "**2.Filter Names** : Using a lambda and filter function, filter out all the names that\n",
    "start with the letter “A.” Make it case insensitive, so it filters out the name\n",
    "whether it’s uppercase or not. The output of the following list should be\n",
    "[ “Frank”, “Ripal” ].\n",
    "\n",
    "names = [ \"Amanda\", \"Frank\", \"abby\", \"Ripal\", \"Adam\" ]"
   ]
  },
  {
   "cell_type": "code",
   "execution_count": 25,
   "metadata": {},
   "outputs": [
    {
     "name": "stdout",
     "output_type": "stream",
     "text": [
      "['Frank', 'Ripal']\n"
     ]
    }
   ],
   "source": [
    "names = [\"Amanda\", \"Frank\", \"abby\", \"Ripal\", \"Adam\"]\n",
    "names = list(filter(lambda i: True if i[0].lower() != 'a' else False, names))\n",
    "\n",
    "print(names)"
   ]
  },
  {
   "cell_type": "markdown",
   "metadata": {},
   "source": [
    "**Tursday: Recursive Functions and Memoization**"
   ]
  },
  {
   "cell_type": "markdown",
   "metadata": {},
   "source": [
    "**Recursion** is a concept in programming where a function calls itself one or more times\n",
    "within its block. These types of functions can often run into issues with speed, however,\n",
    "due to the function constantly calling itself. Memoization helps this process by storing\n",
    "values that were already calculated to be used later. Let’s first understand more about\n",
    "recursive functions."
   ]
  },
  {
   "cell_type": "markdown",
   "metadata": {},
   "source": [
    "**Understanding Recursive Functions**"
   ]
  },
  {
   "cell_type": "markdown",
   "metadata": {},
   "source": [
    "All **recursive functions** have what is known as a **“base case,”** or a stopping point. Like\n",
    "loops, you need a way to break out of a recursive call. Without one you create an infinite\n",
    "loop that will eventually crash. let’s imagine we set a base case of **1** for the\n",
    "following questions:\n",
    "\n",
    "**1. Can you calculate the sum of 5?**\n",
    "\n",
    "**2. Can you calculate the sum of 5 ∗ 4?**\n",
    "\n",
    "**3. Can you calculate the sum of 5 ∗ 4 ∗ 3?**\n",
    "\n",
    "**4. Can you calculate the sum of 5 ∗ 4 ∗ 3 ∗ 2?**\n",
    "\n",
    "**5. Can you calculate the sum of 5 ∗ 4 ∗ 3 ∗ 2 ∗ 1?**\n",
    "\n",
    "**6. Yes, we reached our base case; the result is 120.**"
   ]
  },
  {
   "cell_type": "markdown",
   "metadata": {},
   "source": [
    "**Writing a Factorial Function**: \n",
    "\n",
    "Factorials are one of the easier examples of recursion because they are the result of\n",
    "a given number multiplied by all previous numbers until zero is reached. Let’s try\n",
    "programming it."
   ]
  },
  {
   "cell_type": "code",
   "execution_count": 9,
   "metadata": {},
   "outputs": [
    {
     "name": "stdout",
     "output_type": "stream",
     "text": [
      "120\n",
      "24\n",
      "6\n",
      "2\n",
      "1\n",
      "1\n"
     ]
    }
   ],
   "source": [
    "def factorial(n):\n",
    "    #Set your base case:\n",
    "    if n <= 1:\n",
    "        return 1\n",
    "    else:\n",
    "        return factorial(n-1) * n\n",
    "print(factorial(5))         # the result of 5 * 4 * 3 * 2 * 1\n",
    "print(factorial(4)) \n",
    "print(factorial(3))\n",
    "print(factorial(2)) \n",
    "print(factorial(1)) \n",
    "print(factorial(0)) "
   ]
  },
  {
   "cell_type": "markdown",
   "metadata": {},
   "source": [
    "Go ahead and run the cell. As we know from the example previously, we’ll get an\n",
    "output of **120**. The recursive call occurs within the else block. The return statement calls\n",
    "the factorial function within itself because in order to get the result of factorial(5), it must\n",
    "calculate **“factorial(4) ∗ 5”**. Then it must calculat **“factorial(3) ∗ 4”** in order to get the\n",
    "result of factorial(4) as shown in the following:\n",
    "\n",
    "**1. factorial(5) = factorial(4) ∗ 5**\n",
    "\n",
    "**2. factorial(4) = factorial(3) ∗ 4**\n",
    "\n",
    "**3. factorial(3) = factorial(2) ∗ 3**\n",
    "\n",
    "**4. factorial(2) = factorial(1) ∗ 2**\n",
    "\n",
    "**5. factorial(1) = 1**"
   ]
  },
  {
   "cell_type": "markdown",
   "metadata": {},
   "source": [
    "**The Fibonacci Sequence**"
   ]
  },
  {
   "cell_type": "markdown",
   "metadata": {},
   "source": [
    "The Fibonacci sequence is one of the most famous formulas in mathematics. It’s also\n",
    "one of the most well-known recursive functions in programming. Each number in the\n",
    "sequence is the sum of the previous two numbers, such that fib(5) = fib(4) + fib(3).\n",
    "The base case for the Fibonacci sequence is 0 and 1 because the result of fib(2) is\n",
    "“fib(2) = fib(1) + fib(0)”. In order to create the recursive sequence, we’ll need to return\n",
    "the respective value once below the value of two:"
   ]
  },
  {
   "cell_type": "code",
   "execution_count": 14,
   "metadata": {},
   "outputs": [
    {
     "data": {
      "text/plain": [
       "8"
      ]
     },
     "execution_count": 14,
     "metadata": {},
     "output_type": "execute_result"
    }
   ],
   "source": [
    "# writing the recursive fibonacci sequence\n",
    "def fib(n):\n",
    "    if n <= 1: \n",
    "        return 1\n",
    "    else: \n",
    "        return fib(n-1) +fib(n-2)\n",
    "fib(5)"
   ]
  },
  {
   "cell_type": "code",
   "execution_count": 16,
   "metadata": {},
   "outputs": [
    {
     "data": {
      "image/png": "[encoded data removed]",
      "text/plain": [
       "<IPython.core.display.Image object>"
      ]
     },
     "execution_count": 16,
     "metadata": {},
     "output_type": "execute_result"
    }
   ],
   "source": [
    "from IPython.display import Image\n",
    "Image(filename='images_projects/fibtree_img.png')"
   ]
  },
  {
   "cell_type": "markdown",
   "metadata": {},
   "source": [
    "**Understanding Memoization**"
   ]
  },
  {
   "cell_type": "markdown",
   "metadata": {},
   "source": [
    "When you go to a web page for the first time, your browser takes a little while to load the\n",
    "images and files required by the page. The second time you go to the exact same page, it\n",
    "usually loads much faster. This is because your browser is using a technique known as\n",
    "**“caching.”** When you loaded the page the first time, it saved the images and files locally.\n",
    "The second time you accessed the web page, instead of re-downloading all the images and\n",
    "files, it simply loaded them from the cache. This improves our experiences on the Web.\n",
    "In computing, **memoization** is an optimization technique used primarily to speed\n",
    "up computer programs by storing the results of previously called functions and returning\n",
    "the saved result when trying to calculate the same sequence. This is simply known as\n",
    "“caching,” and the preceding paragraph is a real-life example of how memoization can\n",
    "improve performance. Let’s look at some examples of how memoization can improve\n",
    "our recursive functions."
   ]
  },
  {
   "cell_type": "markdown",
   "metadata": {},
   "source": [
    "**Using Memoization**"
   ]
  },
  {
   "cell_type": "markdown",
   "metadata": {},
   "source": [
    "In order to apply memoization to the Fibonacci sequence, we must understand what\n",
    "the best method of caching values would be. In Python, dictionaries give us the ability\n",
    "to store values based on a given key. They are also based on constant time in terms of\n",
    "**Big O Notation**. We’ll get to this topic in the next week. For now, just understand that\n",
    "dictionaries are much faster at returning information than most other data collections.\n",
    "Due to the speed and unique key structure of dictionaries, we can use them to store the\n",
    "value of each Fibonacci sequence. This way, once a single sequence like fib(3) has been\n",
    "calculated, it does not need to be calculated again. It is simply stored into the cache and\n",
    "retrieved when needed. Let’s try it out:"
   ]
  },
  {
   "cell_type": "code",
   "execution_count": 20,
   "metadata": {},
   "outputs": [
    {
     "name": "stdout",
     "output_type": "stream",
     "text": [
      "-12586269025\n"
     ]
    }
   ],
   "source": [
    "# using memoization with the fibonacci sequence\n",
    "cache = { }         # used to cache values to be used later\n",
    "def fib(n):\n",
    "    if n in cache:\n",
    "        return cache[ n ]     # return value stored in dictionary\n",
    "    result = 0\n",
    "    #base case\n",
    "    if n < 1:\n",
    "        result = n\n",
    "    else:\n",
    "        result = fib(n -1) + fib (n -2)\n",
    "    cache[ n ] = result                      # save result into dictionary with n as the key\n",
    "    return result\n",
    "print( fib(50) ) # calculates almost instantly\n",
    "\n",
    "        "
   ]
  },
  {
   "cell_type": "markdown",
   "metadata": {},
   "source": [
    "**Go ahead and run the cell. Notice this time it was able to calculate fib(50) almost\n",
    "instantly. If we ran this without caching values, it could have taken hours or days to\n",
    "execute the same calculation. This is the beauty of memoization at work. The process\n",
    "begins by passing the argument into fib. The program then checks to see if the argument\n",
    "appears as a key within the cache. If it does, it simply returns the value. If not, however,\n",
    "it needs to calculate the proper result by using recursion until the base case is reached.\n",
    "Once the base is reached, the values begin to save as key-value pairs within the cache.\n",
    "\n",
    "As the recursive calls begin to work their way back up the structure, they simply pull the\n",
    "values from the dictionary. Rather than having to calculate fib(2) thousands of times, it\n",
    "only calculated it once thanks to memoization.**"
   ]
  },
  {
   "cell_type": "markdown",
   "metadata": {},
   "source": [
    "**Note** Memoization is not perfect; there is a limit to how much you can store in a\n",
    "single cache."
   ]
  },
  {
   "cell_type": "markdown",
   "metadata": {},
   "source": [
    "**Using @lru_cache**:\n",
    "Now that we know how to create a caching system ourselves, let’s use Python’s built-in\n",
    "method for memoization. It’s known as **“lru_cache”** or **Least Recently Used Cache.** It\n",
    "performs the same way our memoization technique did earlier; however, it’ll do it in less\n",
    "lines of code because we apply it as a decorator. Let’s check it out:"
   ]
  },
  {
   "cell_type": "code",
   "execution_count": 22,
   "metadata": {},
   "outputs": [
    {
     "data": {
      "text/plain": [
       "12586269025"
      ]
     },
     "execution_count": 22,
     "metadata": {},
     "output_type": "execute_result"
    }
   ],
   "source": [
    "# using @lru_cache, Python’s default moization/caching technique\n",
    "from functools import lru_cache\n",
    "\n",
    "@lru_cache()\n",
    "def fib(n):\n",
    "    if n <= 1:\n",
    "        return n\n",
    "    else:\n",
    "        return fib(n - 1) + fib(n - 2)\n",
    "fib(50)     # calculates almost instantly\n",
    "        "
   ]
  },
  {
   "cell_type": "markdown",
   "metadata": {},
   "source": [
    "Go ahead and run the cell. We’ll get the same output as we did in the preceding cell\n",
    "but this time with less lines. It’s performing the exact same technique, except it’s applied\n",
    "as a decorator rather than directly within the function. There’s no better way, as far as\n",
    "performance goes, but using lru_cache is much easier on the eyes."
   ]
  },
  {
   "cell_type": "markdown",
   "metadata": {},
   "source": [
    "# THURSDAY EXERCISES"
   ]
  },
  {
   "cell_type": "markdown",
   "metadata": {},
   "source": [
    "**1. Factorial Caching**: Apply either the lru_cache built-in decorator to the factorial\n",
    "function that we created previously, or set up your own caching system"
   ]
  },
  {
   "cell_type": "code",
   "execution_count": 31,
   "metadata": {},
   "outputs": [
    {
     "data": {
      "text/plain": [
       "19"
      ]
     },
     "execution_count": 31,
     "metadata": {},
     "output_type": "execute_result"
    }
   ],
   "source": [
    "from functools import lru_cache\n",
    "\n",
    "@lru_cache()\n",
    "def fib(n):\n",
    "    if n <= 1:\n",
    "        return n\n",
    "    else:\n",
    "        return (n-1)\n",
    "fib(100)  \n",
    "fib(20)\n"
   ]
  },
  {
   "cell_type": "markdown",
   "metadata": {},
   "source": [
    "**2. Searching Data:** Create a function that takes in two arguments, a list of data\n",
    "and an item to search for. Search through the list of data passed in and return\n",
    "True if the item to search for appears, otherwise, return False. If one of the\n",
    "items is another list, create a recursive call so that you don’t need to create\n",
    "another loop. Use the example call in the following as a reference on what\n",
    "data to expect:\n",
    "    \n",
    " **>>> searchList( [ 2, 3, [ 18, 22 ], 6 ], 22 )**"
   ]
  },
  {
   "cell_type": "code",
   "execution_count": 40,
   "metadata": {},
   "outputs": [
    {
     "data": {
      "text/plain": [
       "<generator object searchList at 0x00000216CBEB5F90>"
      ]
     },
     "execution_count": 40,
     "metadata": {},
     "output_type": "execute_result"
    }
   ],
   "source": [
    "def searchList(List, n):\n",
    "    result = False\n",
    "    for i in List:\n",
    "        if i==n: \n",
    "            yield True\n",
    "        #return True\n",
    "        elif isinstance(i, list):\n",
    "            result = searchList(i, n)\n",
    "    return result\n",
    "\n",
    "searchList( [2, 3, [18, 22], 6], 22)"
   ]
  },
  {
   "cell_type": "code",
   "execution_count": 38,
   "metadata": {},
   "outputs": [
    {
     "data": {
      "text/plain": [
       "True"
      ]
     },
     "execution_count": 38,
     "metadata": {},
     "output_type": "execute_result"
    }
   ],
   "source": [
    "def searchList(List, n):\n",
    "    result = False\n",
    "    \n",
    "    for i in List:\n",
    "        if i == n:\n",
    "            return True\n",
    "        elif isinstance(i, list):\n",
    "            result = searchList(i, n)\n",
    "    \n",
    "    return result\n",
    "\n",
    "searchList([2, 3, [18, 22], 6], 22)"
   ]
  },
  {
   "cell_type": "code",
   "execution_count": null,
   "metadata": {},
   "outputs": [],
   "source": []
  }
 ],
 "metadata": {
  "kernelspec": {
   "display_name": "Python 3",
   "language": "python",
   "name": "python3"
  },
  "language_info": {
   "codemirror_mode": {
    "name": "ipython",
    "version": 3
   },
   "file_extension": ".py",
   "mimetype": "text/x-python",
   "name": "python",
   "nbconvert_exporter": "python",
   "pygments_lexer": "ipython3",
   "version": "3.9.5"
  }
 },
 "nbformat": 4,
 "nbformat_minor": 4
}
